{
 "cells": [
  {
   "cell_type": "code",
   "execution_count": 34,
   "metadata": {
    "collapsed": true
   },
   "outputs": [],
   "source": [
    "import pandas as pd\n",
    "import pprint\n",
    "import xgboost as xgb\n",
    "import warnings\n",
    "warnings.filterwarnings('ignore')\n",
    "\n",
    "from sklearn.linear_model import LogisticRegression\n",
    "\n",
    "from sklearn.ensemble import RandomForestClassifier\n",
    "from sklearn.ensemble import GradientBoostingClassifier\n",
    "from sklearn.ensemble import AdaBoostClassifier\n",
    "from sklearn.ensemble import ExtraTreesClassifier\n",
    "from sklearn.ensemble import VotingClassifier\n",
    "\n",
    "from sklearn.model_selection import train_test_split\n",
    "from sklearn.model_selection import GridSearchCV\n",
    "from sklearn.model_selection import StratifiedKFold\n",
    "from sklearn.model_selection import cross_val_score\n",
    "\n",
    "from sklearn.discriminant_analysis import LinearDiscriminantAnalysis\n",
    "\n",
    "from sklearn.metrics import accuracy_score\n",
    "\n",
    "from sklearn.externals import joblib\n",
    "from sklearn.preprocessing import LabelEncoder"
   ]
  },
  {
   "cell_type": "code",
   "execution_count": 50,
   "metadata": {
    "collapsed": true
   },
   "outputs": [],
   "source": [
    "df_train = pd.read_csv('../dataset/train_modified.csv')\n",
    "df_test = pd.read_csv('../dataset/test_modified.csv')"
   ]
  },
  {
   "cell_type": "code",
   "execution_count": 51,
   "metadata": {
    "collapsed": true
   },
   "outputs": [],
   "source": [
    "# 将年龄等距离散\n",
    "df_train['Age'] = pd.cut(df_train['Age'], bins=[15, 25, 35, 45, 55, 65])\n",
    "\n",
    "# 将距离等距离散\n",
    "df_train['DistanceFromHome'] = pd.cut(df_train['DistanceFromHome'], bins=[0, 5, 10, 15, 20, 25, 30])\n",
    "\n",
    "# 将收入等距离散\n",
    "df_train['MonthlyIncome'] = pd.cut(df_train['MonthlyIncome'], bins=[900, 11000, 13000, 15000, 17000, 19000, 21000])\n",
    "\n",
    "# 将工作过的公司等距离散\n",
    "df_train['NumCompaniesWorked'] = pd.cut(df_train['NumCompaniesWorked'], bins=[0, 3, 6, 9])\n",
    "\n",
    "# 将工资涨幅等距离散\n",
    "df_train['PercentSalaryHike'] = pd.cut(df_train['PercentSalaryHike'], bins=[10, 12, 14, 16, 18, 20, 22, 24, 26])\n",
    "\n",
    "# 将工龄等距离散\n",
    "df_train['TotalWorkingYears'] = pd.cut(df_train['TotalWorkingYears'], bins=[0,3,5,10,15,20,30,40])\n",
    "\n",
    "# 将当前公司年数等距离散\n",
    "df_train['YearsAtCompany'] = pd.cut(df_train['YearsAtCompany'], bins=[0, 3, 5, 10, 15, 20, 30, 40])\n",
    "\n",
    "# 将当前职位等距离散\n",
    "df_train['YearsInCurrentRole'] = pd.cut(df_train['YearsInCurrentRole'], bins=[0, 3, 5, 10, 15, 20])\n",
    "\n",
    "# 将YearsSinceLastPromotion等距离散\n",
    "df_train['YearsSinceLastPromotion'] = pd.cut(df_train['YearsSinceLastPromotion'], bins=[0, 3, 5, 10, 15])\n",
    "\n",
    "# 将当前职位等距离散\n",
    "df_train['YearsWithCurrManager'] = pd.cut(df_train['YearsWithCurrManager'], bins=[0, 3, 5, 10, 15, 20])\n",
    "\n",
    "# 将年龄等距离散\n",
    "df_test['Age'] = pd.cut(df_test['Age'], bins=[15, 25, 35, 45, 55, 65])\n",
    "\n",
    "# 将距离等距离散\n",
    "df_test['DistanceFromHome'] = pd.cut(df_test['DistanceFromHome'], bins=[0, 5, 10, 15, 20, 25, 30])\n",
    "\n",
    "# 将收入等距离散\n",
    "df_test['MonthlyIncome'] = pd.cut(df_test['MonthlyIncome'], bins=[900, 11000, 13000, 15000, 17000, 19000, 21000])\n",
    "\n",
    "# 将工作过的公司等距离散\n",
    "df_test['NumCompaniesWorked'] = pd.cut(df_test['NumCompaniesWorked'], bins=[0, 3, 6, 9])\n",
    "\n",
    "# 将工资涨幅等距离散\n",
    "df_test['PercentSalaryHike'] = pd.cut(df_test['PercentSalaryHike'], bins=[10, 12, 14, 16, 18, 20, 22, 24, 26])\n",
    "\n",
    "# 将工龄等距离散\n",
    "df_test['TotalWorkingYears'] = pd.cut(df_test['TotalWorkingYears'], bins=[10, 12, 14, 16, 18, 20, 22, 24, 26])\n",
    "\n",
    "# 将当前公司年数等距离散\n",
    "df_test['YearsAtCompany'] = pd.cut(df_test['YearsAtCompany'], bins=[0, 3, 5, 10, 15, 20, 30, 40])\n",
    "\n",
    "# 将当前职位等距离散\n",
    "df_test['YearsInCurrentRole'] = pd.cut(df_test['YearsInCurrentRole'], bins=[0, 3, 5, 10, 15, 20])\n",
    "\n",
    "# 将YearsSinceLastPromotion等距离散\n",
    "df_test['YearsSinceLastPromotion'] = pd.cut(df_test['YearsSinceLastPromotion'], bins=[0, 3, 5, 10, 15])\n",
    "\n",
    "# 将当前职位等距离散\n",
    "df_test['YearsWithCurrManager'] = pd.cut(df_test['YearsWithCurrManager'], bins=[0, 3, 5, 10, 15, 20])"
   ]
  },
  {
   "cell_type": "code",
   "execution_count": 52,
   "metadata": {},
   "outputs": [
    {
     "data": {
      "text/html": [
       "<div>\n",
       "<style>\n",
       "    .dataframe thead tr:only-child th {\n",
       "        text-align: right;\n",
       "    }\n",
       "\n",
       "    .dataframe thead th {\n",
       "        text-align: left;\n",
       "    }\n",
       "\n",
       "    .dataframe tbody tr th {\n",
       "        vertical-align: top;\n",
       "    }\n",
       "</style>\n",
       "<table border=\"1\" class=\"dataframe\">\n",
       "  <thead>\n",
       "    <tr style=\"text-align: right;\">\n",
       "      <th></th>\n",
       "      <th>Age</th>\n",
       "      <th>DistanceFromHome</th>\n",
       "      <th>MonthlyIncome</th>\n",
       "      <th>NumCompaniesWorked</th>\n",
       "      <th>PercentSalaryHike</th>\n",
       "      <th>TotalWorkingYears</th>\n",
       "      <th>YearsAtCompany</th>\n",
       "      <th>YearsInCurrentRole</th>\n",
       "      <th>YearsSinceLastPromotion</th>\n",
       "      <th>YearsWithCurrManager</th>\n",
       "    </tr>\n",
       "  </thead>\n",
       "  <tbody>\n",
       "    <tr>\n",
       "      <th>0</th>\n",
       "      <td>(35, 45]</td>\n",
       "      <td>(0, 5]</td>\n",
       "      <td>(900, 11000]</td>\n",
       "      <td>(0, 3]</td>\n",
       "      <td>(16, 18]</td>\n",
       "      <td>NaN</td>\n",
       "      <td>(5, 10]</td>\n",
       "      <td>(3, 5]</td>\n",
       "      <td>NaN</td>\n",
       "      <td>(5, 10]</td>\n",
       "    </tr>\n",
       "    <tr>\n",
       "      <th>1</th>\n",
       "      <td>(45, 55]</td>\n",
       "      <td>(0, 5]</td>\n",
       "      <td>(900, 11000]</td>\n",
       "      <td>(6, 9]</td>\n",
       "      <td>(16, 18]</td>\n",
       "      <td>NaN</td>\n",
       "      <td>(3, 5]</td>\n",
       "      <td>(3, 5]</td>\n",
       "      <td>(0, 3]</td>\n",
       "      <td>(3, 5]</td>\n",
       "    </tr>\n",
       "    <tr>\n",
       "      <th>2</th>\n",
       "      <td>(25, 35]</td>\n",
       "      <td>(5, 10]</td>\n",
       "      <td>(900, 11000]</td>\n",
       "      <td>(0, 3]</td>\n",
       "      <td>(22, 24]</td>\n",
       "      <td>NaN</td>\n",
       "      <td>(5, 10]</td>\n",
       "      <td>(5, 10]</td>\n",
       "      <td>NaN</td>\n",
       "      <td>(5, 10]</td>\n",
       "    </tr>\n",
       "    <tr>\n",
       "      <th>3</th>\n",
       "      <td>(35, 45]</td>\n",
       "      <td>(0, 5]</td>\n",
       "      <td>(11000, 13000]</td>\n",
       "      <td>(0, 3]</td>\n",
       "      <td>(14, 16]</td>\n",
       "      <td>(20, 22]</td>\n",
       "      <td>(20, 30]</td>\n",
       "      <td>(5, 10]</td>\n",
       "      <td>(10, 15]</td>\n",
       "      <td>(5, 10]</td>\n",
       "    </tr>\n",
       "    <tr>\n",
       "      <th>4</th>\n",
       "      <td>(25, 35]</td>\n",
       "      <td>(0, 5]</td>\n",
       "      <td>(900, 11000]</td>\n",
       "      <td>(0, 3]</td>\n",
       "      <td>(14, 16]</td>\n",
       "      <td>NaN</td>\n",
       "      <td>(0, 3]</td>\n",
       "      <td>NaN</td>\n",
       "      <td>NaN</td>\n",
       "      <td>NaN</td>\n",
       "    </tr>\n",
       "  </tbody>\n",
       "</table>\n",
       "</div>"
      ],
      "text/plain": [
       "        Age DistanceFromHome   MonthlyIncome NumCompaniesWorked  \\\n",
       "0  (35, 45]           (0, 5]    (900, 11000]             (0, 3]   \n",
       "1  (45, 55]           (0, 5]    (900, 11000]             (6, 9]   \n",
       "2  (25, 35]          (5, 10]    (900, 11000]             (0, 3]   \n",
       "3  (35, 45]           (0, 5]  (11000, 13000]             (0, 3]   \n",
       "4  (25, 35]           (0, 5]    (900, 11000]             (0, 3]   \n",
       "\n",
       "  PercentSalaryHike TotalWorkingYears YearsAtCompany YearsInCurrentRole  \\\n",
       "0          (16, 18]               NaN        (5, 10]             (3, 5]   \n",
       "1          (16, 18]               NaN         (3, 5]             (3, 5]   \n",
       "2          (22, 24]               NaN        (5, 10]            (5, 10]   \n",
       "3          (14, 16]          (20, 22]       (20, 30]            (5, 10]   \n",
       "4          (14, 16]               NaN         (0, 3]                NaN   \n",
       "\n",
       "  YearsSinceLastPromotion YearsWithCurrManager  \n",
       "0                     NaN              (5, 10]  \n",
       "1                  (0, 3]               (3, 5]  \n",
       "2                     NaN              (5, 10]  \n",
       "3                (10, 15]              (5, 10]  \n",
       "4                     NaN                  NaN  "
      ]
     },
     "execution_count": 52,
     "metadata": {},
     "output_type": "execute_result"
    }
   ],
   "source": [
    "df_train[nan_number].head()"
   ]
  },
  {
   "cell_type": "code",
   "execution_count": 53,
   "metadata": {},
   "outputs": [
    {
     "ename": "ValueError",
     "evalue": "bad input shape (1100, 10)",
     "output_type": "error",
     "traceback": [
      "\u001b[1;31m---------------------------------------------------------------------------\u001b[0m",
      "\u001b[1;31mValueError\u001b[0m                                Traceback (most recent call last)",
      "\u001b[1;32m<ipython-input-53-4e0c55f5bb4e>\u001b[0m in \u001b[0;36m<module>\u001b[1;34m()\u001b[0m\n\u001b[0;32m      1\u001b[0m \u001b[0mnan_number\u001b[0m \u001b[1;33m=\u001b[0m \u001b[1;33m[\u001b[0m\u001b[0mx\u001b[0m \u001b[1;32mfor\u001b[0m \u001b[0mx\u001b[0m \u001b[1;32min\u001b[0m \u001b[0mdf_train\u001b[0m\u001b[1;33m.\u001b[0m\u001b[0mdtypes\u001b[0m\u001b[1;33m.\u001b[0m\u001b[0mindex\u001b[0m \u001b[1;32mif\u001b[0m \u001b[0mdf_train\u001b[0m\u001b[1;33m.\u001b[0m\u001b[0mdtypes\u001b[0m\u001b[1;33m[\u001b[0m\u001b[0mx\u001b[0m\u001b[1;33m]\u001b[0m \u001b[1;33m!=\u001b[0m \u001b[1;34m'int64'\u001b[0m\u001b[1;33m]\u001b[0m\u001b[1;33m\u001b[0m\u001b[0m\n\u001b[0;32m      2\u001b[0m \u001b[0mencoder\u001b[0m \u001b[1;33m=\u001b[0m \u001b[0mLabelEncoder\u001b[0m\u001b[1;33m(\u001b[0m\u001b[1;33m)\u001b[0m\u001b[1;33m\u001b[0m\u001b[0m\n\u001b[1;32m----> 3\u001b[1;33m \u001b[0mdf_train\u001b[0m\u001b[1;33m[\u001b[0m\u001b[0mnan_number\u001b[0m\u001b[1;33m]\u001b[0m \u001b[1;33m=\u001b[0m \u001b[0mencoder\u001b[0m\u001b[1;33m.\u001b[0m\u001b[0mfit_transform\u001b[0m\u001b[1;33m(\u001b[0m\u001b[0mdf_train\u001b[0m\u001b[1;33m[\u001b[0m\u001b[0mnan_number\u001b[0m\u001b[1;33m]\u001b[0m\u001b[1;33m)\u001b[0m\u001b[1;33m\u001b[0m\u001b[0m\n\u001b[0m",
      "\u001b[1;32mC:\\Anaconda3\\lib\\site-packages\\sklearn\\preprocessing\\label.py\u001b[0m in \u001b[0;36mfit_transform\u001b[1;34m(self, y)\u001b[0m\n\u001b[0;32m    109\u001b[0m         \u001b[0my\u001b[0m \u001b[1;33m:\u001b[0m \u001b[0marray\u001b[0m\u001b[1;33m-\u001b[0m\u001b[0mlike\u001b[0m \u001b[0mof\u001b[0m \u001b[0mshape\u001b[0m \u001b[1;33m[\u001b[0m\u001b[0mn_samples\u001b[0m\u001b[1;33m]\u001b[0m\u001b[1;33m\u001b[0m\u001b[0m\n\u001b[0;32m    110\u001b[0m         \"\"\"\n\u001b[1;32m--> 111\u001b[1;33m         \u001b[0my\u001b[0m \u001b[1;33m=\u001b[0m \u001b[0mcolumn_or_1d\u001b[0m\u001b[1;33m(\u001b[0m\u001b[0my\u001b[0m\u001b[1;33m,\u001b[0m \u001b[0mwarn\u001b[0m\u001b[1;33m=\u001b[0m\u001b[1;32mTrue\u001b[0m\u001b[1;33m)\u001b[0m\u001b[1;33m\u001b[0m\u001b[0m\n\u001b[0m\u001b[0;32m    112\u001b[0m         \u001b[0mself\u001b[0m\u001b[1;33m.\u001b[0m\u001b[0mclasses_\u001b[0m\u001b[1;33m,\u001b[0m \u001b[0my\u001b[0m \u001b[1;33m=\u001b[0m \u001b[0mnp\u001b[0m\u001b[1;33m.\u001b[0m\u001b[0munique\u001b[0m\u001b[1;33m(\u001b[0m\u001b[0my\u001b[0m\u001b[1;33m,\u001b[0m \u001b[0mreturn_inverse\u001b[0m\u001b[1;33m=\u001b[0m\u001b[1;32mTrue\u001b[0m\u001b[1;33m)\u001b[0m\u001b[1;33m\u001b[0m\u001b[0m\n\u001b[0;32m    113\u001b[0m         \u001b[1;32mreturn\u001b[0m \u001b[0my\u001b[0m\u001b[1;33m\u001b[0m\u001b[0m\n",
      "\u001b[1;32mC:\\Anaconda3\\lib\\site-packages\\sklearn\\utils\\validation.py\u001b[0m in \u001b[0;36mcolumn_or_1d\u001b[1;34m(y, warn)\u001b[0m\n\u001b[0;32m    581\u001b[0m         \u001b[1;32mreturn\u001b[0m \u001b[0mnp\u001b[0m\u001b[1;33m.\u001b[0m\u001b[0mravel\u001b[0m\u001b[1;33m(\u001b[0m\u001b[0my\u001b[0m\u001b[1;33m)\u001b[0m\u001b[1;33m\u001b[0m\u001b[0m\n\u001b[0;32m    582\u001b[0m \u001b[1;33m\u001b[0m\u001b[0m\n\u001b[1;32m--> 583\u001b[1;33m     \u001b[1;32mraise\u001b[0m \u001b[0mValueError\u001b[0m\u001b[1;33m(\u001b[0m\u001b[1;34m\"bad input shape {0}\"\u001b[0m\u001b[1;33m.\u001b[0m\u001b[0mformat\u001b[0m\u001b[1;33m(\u001b[0m\u001b[0mshape\u001b[0m\u001b[1;33m)\u001b[0m\u001b[1;33m)\u001b[0m\u001b[1;33m\u001b[0m\u001b[0m\n\u001b[0m\u001b[0;32m    584\u001b[0m \u001b[1;33m\u001b[0m\u001b[0m\n\u001b[0;32m    585\u001b[0m \u001b[1;33m\u001b[0m\u001b[0m\n",
      "\u001b[1;31mValueError\u001b[0m: bad input shape (1100, 10)"
     ]
    }
   ],
   "source": [
    "nan_number = [x for x in df_train.dtypes.index if df_train.dtypes[x] != 'int64']\n",
    "encoder = LabelEncoder()\n",
    "df_train[nan_number] = encoder.fit_transform(df_train[nan_number])"
   ]
  },
  {
   "cell_type": "code",
   "execution_count": 4,
   "metadata": {
    "collapsed": true
   },
   "outputs": [],
   "source": [
    "df_train = pd.get_dummies(df_train)\n",
    "\n",
    "df_test = pd.get_dummies(df_test)"
   ]
  },
  {
   "cell_type": "code",
   "execution_count": 5,
   "metadata": {},
   "outputs": [
    {
     "data": {
      "text/html": [
       "<div>\n",
       "<style>\n",
       "    .dataframe thead tr:only-child th {\n",
       "        text-align: right;\n",
       "    }\n",
       "\n",
       "    .dataframe thead th {\n",
       "        text-align: left;\n",
       "    }\n",
       "\n",
       "    .dataframe tbody tr th {\n",
       "        vertical-align: top;\n",
       "    }\n",
       "</style>\n",
       "<table border=\"1\" class=\"dataframe\">\n",
       "  <thead>\n",
       "    <tr style=\"text-align: right;\">\n",
       "      <th></th>\n",
       "      <th>Attrition</th>\n",
       "      <th>Education</th>\n",
       "      <th>EnvironmentSatisfaction</th>\n",
       "      <th>JobInvolvement</th>\n",
       "      <th>JobLevel</th>\n",
       "      <th>JobSatisfaction</th>\n",
       "      <th>PerformanceRating</th>\n",
       "      <th>RelationshipSatisfaction</th>\n",
       "      <th>StockOptionLevel</th>\n",
       "      <th>TrainingTimesLastYear</th>\n",
       "      <th>...</th>\n",
       "      <th>YearsInCurrentRole_(15, 20]</th>\n",
       "      <th>YearsSinceLastPromotion_(0, 3]</th>\n",
       "      <th>YearsSinceLastPromotion_(3, 5]</th>\n",
       "      <th>YearsSinceLastPromotion_(5, 10]</th>\n",
       "      <th>YearsSinceLastPromotion_(10, 15]</th>\n",
       "      <th>YearsWithCurrManager_(0, 3]</th>\n",
       "      <th>YearsWithCurrManager_(3, 5]</th>\n",
       "      <th>YearsWithCurrManager_(5, 10]</th>\n",
       "      <th>YearsWithCurrManager_(10, 15]</th>\n",
       "      <th>YearsWithCurrManager_(15, 20]</th>\n",
       "    </tr>\n",
       "  </thead>\n",
       "  <tbody>\n",
       "    <tr>\n",
       "      <th>0</th>\n",
       "      <td>0</td>\n",
       "      <td>4</td>\n",
       "      <td>1</td>\n",
       "      <td>2</td>\n",
       "      <td>2</td>\n",
       "      <td>3</td>\n",
       "      <td>3</td>\n",
       "      <td>3</td>\n",
       "      <td>1</td>\n",
       "      <td>2</td>\n",
       "      <td>...</td>\n",
       "      <td>0</td>\n",
       "      <td>0</td>\n",
       "      <td>0</td>\n",
       "      <td>0</td>\n",
       "      <td>0</td>\n",
       "      <td>0</td>\n",
       "      <td>0</td>\n",
       "      <td>1</td>\n",
       "      <td>0</td>\n",
       "      <td>0</td>\n",
       "    </tr>\n",
       "    <tr>\n",
       "      <th>1</th>\n",
       "      <td>0</td>\n",
       "      <td>4</td>\n",
       "      <td>4</td>\n",
       "      <td>3</td>\n",
       "      <td>3</td>\n",
       "      <td>3</td>\n",
       "      <td>3</td>\n",
       "      <td>1</td>\n",
       "      <td>1</td>\n",
       "      <td>2</td>\n",
       "      <td>...</td>\n",
       "      <td>0</td>\n",
       "      <td>1</td>\n",
       "      <td>0</td>\n",
       "      <td>0</td>\n",
       "      <td>0</td>\n",
       "      <td>0</td>\n",
       "      <td>1</td>\n",
       "      <td>0</td>\n",
       "      <td>0</td>\n",
       "      <td>0</td>\n",
       "    </tr>\n",
       "  </tbody>\n",
       "</table>\n",
       "<p>2 rows × 96 columns</p>\n",
       "</div>"
      ],
      "text/plain": [
       "   Attrition  Education  EnvironmentSatisfaction  JobInvolvement  JobLevel  \\\n",
       "0          0          4                        1               2         2   \n",
       "1          0          4                        4               3         3   \n",
       "\n",
       "   JobSatisfaction  PerformanceRating  RelationshipSatisfaction  \\\n",
       "0                3                  3                         3   \n",
       "1                3                  3                         1   \n",
       "\n",
       "   StockOptionLevel  TrainingTimesLastYear              ...                \\\n",
       "0                 1                      2              ...                 \n",
       "1                 1                      2              ...                 \n",
       "\n",
       "   YearsInCurrentRole_(15, 20]  YearsSinceLastPromotion_(0, 3]  \\\n",
       "0                            0                               0   \n",
       "1                            0                               1   \n",
       "\n",
       "   YearsSinceLastPromotion_(3, 5]  YearsSinceLastPromotion_(5, 10]  \\\n",
       "0                               0                                0   \n",
       "1                               0                                0   \n",
       "\n",
       "   YearsSinceLastPromotion_(10, 15]  YearsWithCurrManager_(0, 3]  \\\n",
       "0                                 0                            0   \n",
       "1                                 0                            0   \n",
       "\n",
       "   YearsWithCurrManager_(3, 5]  YearsWithCurrManager_(5, 10]  \\\n",
       "0                            0                             1   \n",
       "1                            1                             0   \n",
       "\n",
       "   YearsWithCurrManager_(10, 15]  YearsWithCurrManager_(15, 20]  \n",
       "0                              0                              0  \n",
       "1                              0                              0  \n",
       "\n",
       "[2 rows x 96 columns]"
      ]
     },
     "execution_count": 5,
     "metadata": {},
     "output_type": "execute_result"
    }
   ],
   "source": [
    "df_train.drop(['Unnamed: 0'], axis=1, inplace=True)\n",
    "df_train.head(2)"
   ]
  },
  {
   "cell_type": "code",
   "execution_count": 6,
   "metadata": {
    "collapsed": true
   },
   "outputs": [],
   "source": [
    "target_var = 'Attrition'\n",
    "predictor = [x for x in df_train.columns if x != target_var]"
   ]
  },
  {
   "cell_type": "code",
   "execution_count": 15,
   "metadata": {},
   "outputs": [],
   "source": [
    "validation_size = 0.3\n",
    "seed = 7\n",
    "scoring = 'accuracy'\n",
    "X_train, X_test, y_train, y_test = train_test_split(\n",
    "    df_train[predictor],\n",
    "    df_train[target_var],\n",
    "    test_size=validation_size,\n",
    "    random_state=seed)\n",
    "kfold = StratifiedKFold(n_splits=10, random_state=seed)"
   ]
  },
  {
   "cell_type": "code",
   "execution_count": 16,
   "metadata": {
    "collapsed": true
   },
   "outputs": [],
   "source": [
    "def cross_val(model, X_train, y_train, X_test, y_test, kfold):\n",
    "    cv_results = cross_val_score(\n",
    "        model, X_train, y_train, cv=kfold, scoring=scoring)\n",
    "    print('cv-mean: %.4f, cv-std: %.4f' % (cv_results.mean(),\n",
    "                                           cv_results.std()))\n",
    "    model.fit(X_train, y_train)\n",
    "    train_result = model.predict(X_train)\n",
    "    pred_result = model.predict(X_test)\n",
    "    train_score = accuracy_score(y_train, train_result)\n",
    "    pred_score = accuracy_score(y_test, pred_result)\n",
    "    print('训练集分数:  %.4f' % train_score)\n",
    "    print('测试集分数： %.4f' % pred_score)\n",
    "    return"
   ]
  },
  {
   "cell_type": "code",
   "execution_count": 17,
   "metadata": {},
   "outputs": [],
   "source": [
    "def tunning_params(model, params, scoring=scoring, kfold=kfold, X_train=X_train,\n",
    "                   y_train=y_train, X_test=X_test, y_test=y_test):\n",
    "    grid_search = GridSearchCV(\n",
    "    estimator=model, param_grid=params, scoring=scoring, cv=kfold).fit(\n",
    "        X_train, y_train)\n",
    "    print('优化后模型:')\n",
    "    print('最佳参数: %s' % str(grid_search.best_params_))\n",
    "    print('最佳得分: %.4f' % grid_search.best_score_)\n",
    "    model = model.set_params(**(grid_search.best_params_))\n",
    "    cross_val(model, X_train, y_train, X_test, y_test, kfold)\n",
    "    return model"
   ]
  },
  {
   "cell_type": "code",
   "execution_count": 20,
   "metadata": {},
   "outputs": [
    {
     "data": {
      "text/plain": [
       "0.94090909090909092"
      ]
     },
     "execution_count": 20,
     "metadata": {},
     "output_type": "execute_result"
    }
   ],
   "source": [
    "base_score = 0.8\n",
    "for i in range(0, 5000):\n",
    "    X_train, X_test, y_train, y_test = train_test_split(df_train[predictor]\n",
    "                                                        ,df_train[target_var], test_size=0.2)\n",
    "    lm = LogisticRegression()\n",
    "    lm.fit(X_train, y_train)\n",
    "    lmp = lm.predict(X_test)\n",
    "    xxx = lm.score(X_test, y_test)\n",
    "    if xxx > 0.94:\n",
    "        break\n",
    "xxx"
   ]
  },
  {
   "cell_type": "code",
   "execution_count": 21,
   "metadata": {
    "scrolled": true
   },
   "outputs": [
    {
     "name": "stdout",
     "output_type": "stream",
     "text": [
      "原始模型:\n",
      "cv-mean: 0.8489, cv-std: 0.0269\n",
      "训练集分数:  0.8898\n",
      "测试集分数： 0.9409\n",
      "优化后模型:\n",
      "最佳参数: {'C': 1, 'penalty': 'l2', 'tol': 1e-06}\n",
      "最佳得分: 0.8818\n",
      "cv-mean: 0.8818, cv-std: 0.0177\n",
      "训练集分数:  0.9195\n",
      "测试集分数： 0.8576\n"
     ]
    }
   ],
   "source": [
    "lrm = LogisticRegression()\n",
    "parameters = {\n",
    "    'penalty': ['l1', 'l2'],\n",
    "    'C': [0.01, 0.1, 1, 1.2, 1.5, 2],\n",
    "    'tol': [1e-6, 1e-5, 1e-4]\n",
    "}\n",
    "\n",
    "print('原始模型:')\n",
    "cross_val(lrm, X_train, y_train, X_test, y_test, kfold)\n",
    "\n",
    "lrm = tunning_params(lrm, parameters)"
   ]
  },
  {
   "cell_type": "markdown",
   "metadata": {},
   "source": [
    "## 随机森林的调参过程\n",
    "### 默认参数的模型性能"
   ]
  },
  {
   "cell_type": "code",
   "execution_count": 22,
   "metadata": {},
   "outputs": [
    {
     "name": "stdout",
     "output_type": "stream",
     "text": [
      "原始模型:\n",
      "cv-mean: 0.8354, cv-std: 0.0221\n",
      "训练集分数:  0.9818\n",
      "测试集分数： 0.9136\n"
     ]
    }
   ],
   "source": [
    "rfm = RandomForestClassifier(random_state=seed)\n",
    "print('原始模型:')\n",
    "cross_val(rfm, X_train, y_train, X_test, y_test, kfold)"
   ]
  },
  {
   "cell_type": "markdown",
   "metadata": {},
   "source": [
    "### 确定最佳的n_estimators"
   ]
  },
  {
   "cell_type": "code",
   "execution_count": 23,
   "metadata": {},
   "outputs": [
    {
     "name": "stdout",
     "output_type": "stream",
     "text": [
      "优化后模型:\n",
      "最佳参数: {'n_estimators': 70}\n",
      "最佳得分: 0.8584\n",
      "cv-mean: 0.8586, cv-std: 0.0146\n",
      "训练集分数:  1.0000\n",
      "测试集分数： 0.8212\n"
     ]
    }
   ],
   "source": [
    "parameters = {\n",
    "    'n_estimators': range(10, 110, 10)\n",
    "}\n",
    "\n",
    "rfm = tunning_params(rfm, parameters)"
   ]
  },
  {
   "cell_type": "markdown",
   "metadata": {},
   "source": [
    "### 确定最大深度max_depth和min_samples_split"
   ]
  },
  {
   "cell_type": "code",
   "execution_count": 24,
   "metadata": {},
   "outputs": [
    {
     "name": "stdout",
     "output_type": "stream",
     "text": [
      "优化后模型:\n",
      "最佳参数: {'max_depth': 13}\n",
      "最佳得分: 0.8623\n",
      "cv-mean: 0.8625, cv-std: 0.0164\n",
      "训练集分数:  0.9987\n",
      "测试集分数： 0.8182\n"
     ]
    }
   ],
   "source": [
    "parameters = {'max_depth':range(3,14,2)\n",
    "             }\n",
    "\n",
    "rfm = tunning_params(rfm, parameters)"
   ]
  },
  {
   "cell_type": "markdown",
   "metadata": {},
   "source": [
    "### 确定min_samples_split和min_samples_leaf"
   ]
  },
  {
   "cell_type": "code",
   "execution_count": 25,
   "metadata": {},
   "outputs": [
    {
     "name": "stdout",
     "output_type": "stream",
     "text": [
      "优化后模型:\n",
      "最佳参数: {'min_samples_leaf': 1, 'min_samples_split': 3}\n",
      "最佳得分: 0.8675\n",
      "cv-mean: 0.8677, cv-std: 0.0177\n",
      "训练集分数:  0.9948\n",
      "测试集分数： 0.8182\n"
     ]
    }
   ],
   "source": [
    "parameters = {'min_samples_split':range(2,20), 'min_samples_leaf':range(1,10)}\n",
    "\n",
    "rfm = tunning_params(rfm, parameters)"
   ]
  },
  {
   "cell_type": "markdown",
   "metadata": {},
   "source": [
    "### 确定max_features"
   ]
  },
  {
   "cell_type": "code",
   "execution_count": 26,
   "metadata": {
    "scrolled": true
   },
   "outputs": [
    {
     "name": "stdout",
     "output_type": "stream",
     "text": [
      "优化后模型:\n",
      "最佳参数: {'max_features': 9}\n",
      "最佳得分: 0.8675\n",
      "cv-mean: 0.8677, cv-std: 0.0177\n",
      "训练集分数:  0.9948\n",
      "测试集分数： 0.8182\n"
     ]
    }
   ],
   "source": [
    "parameters = {\n",
    "    'max_features': range(3, 10)\n",
    "}\n",
    "\n",
    "rfm = tunning_params(rfm, parameters)"
   ]
  },
  {
   "cell_type": "markdown",
   "metadata": {},
   "source": [
    "通过对随机森林的参数调节，其结果甚至没有最优的logistic回归性能好。"
   ]
  },
  {
   "cell_type": "markdown",
   "metadata": {},
   "source": [
    "## xgboost调参 "
   ]
  },
  {
   "cell_type": "markdown",
   "metadata": {},
   "source": [
    "### 设定基础参数"
   ]
  },
  {
   "cell_type": "code",
   "execution_count": 33,
   "metadata": {},
   "outputs": [
    {
     "data": {
      "text/plain": [
       "['Education',\n",
       " 'EnvironmentSatisfaction',\n",
       " 'JobInvolvement',\n",
       " 'JobLevel',\n",
       " 'JobSatisfaction',\n",
       " 'PerformanceRating',\n",
       " 'RelationshipSatisfaction',\n",
       " 'StockOptionLevel',\n",
       " 'TrainingTimesLastYear',\n",
       " 'WorkLifeBalance',\n",
       " 'BusinessTravel_Non-Travel',\n",
       " 'BusinessTravel_Travel_Frequently',\n",
       " 'BusinessTravel_Travel_Rarely',\n",
       " 'Department_Human Resources',\n",
       " 'Department_Research & Development',\n",
       " 'Department_Sales',\n",
       " 'EducationField_Human Resources',\n",
       " 'EducationField_Life Sciences',\n",
       " 'EducationField_Marketing',\n",
       " 'EducationField_Medical',\n",
       " 'EducationField_Other',\n",
       " 'EducationField_Technical Degree',\n",
       " 'Gender_Female',\n",
       " 'Gender_Male',\n",
       " 'JobRole_Healthcare Representative',\n",
       " 'JobRole_Human Resources',\n",
       " 'JobRole_Laboratory Technician',\n",
       " 'JobRole_Manager',\n",
       " 'JobRole_Manufacturing Director',\n",
       " 'JobRole_Research Director',\n",
       " 'JobRole_Research Scientist',\n",
       " 'JobRole_Sales Executive',\n",
       " 'JobRole_Sales Representative',\n",
       " 'MaritalStatus_Divorced',\n",
       " 'MaritalStatus_Married',\n",
       " 'MaritalStatus_Single',\n",
       " 'OverTime_No',\n",
       " 'OverTime_Yes',\n",
       " 'Age_(15, 25]',\n",
       " 'Age_(25, 35]',\n",
       " 'Age_(35, 45]',\n",
       " 'Age_(45, 55]',\n",
       " 'Age_(55, 65]',\n",
       " 'DistanceFromHome_(0, 5]',\n",
       " 'DistanceFromHome_(5, 10]',\n",
       " 'DistanceFromHome_(10, 15]',\n",
       " 'DistanceFromHome_(15, 20]',\n",
       " 'DistanceFromHome_(20, 25]',\n",
       " 'DistanceFromHome_(25, 30]',\n",
       " 'MonthlyIncome_(900, 11000]',\n",
       " 'MonthlyIncome_(11000, 13000]',\n",
       " 'MonthlyIncome_(13000, 15000]',\n",
       " 'MonthlyIncome_(15000, 17000]',\n",
       " 'MonthlyIncome_(17000, 19000]',\n",
       " 'MonthlyIncome_(19000, 21000]',\n",
       " 'NumCompaniesWorked_(0, 3]',\n",
       " 'NumCompaniesWorked_(3, 6]',\n",
       " 'NumCompaniesWorked_(6, 9]',\n",
       " 'PercentSalaryHike_(10, 12]',\n",
       " 'PercentSalaryHike_(12, 14]',\n",
       " 'PercentSalaryHike_(14, 16]',\n",
       " 'PercentSalaryHike_(16, 18]',\n",
       " 'PercentSalaryHike_(18, 20]',\n",
       " 'PercentSalaryHike_(20, 22]',\n",
       " 'PercentSalaryHike_(22, 24]',\n",
       " 'PercentSalaryHike_(24, 26]',\n",
       " 'TotalWorkingYears_(10, 12]',\n",
       " 'TotalWorkingYears_(12, 14]',\n",
       " 'TotalWorkingYears_(14, 16]',\n",
       " 'TotalWorkingYears_(16, 18]',\n",
       " 'TotalWorkingYears_(18, 20]',\n",
       " 'TotalWorkingYears_(20, 22]',\n",
       " 'TotalWorkingYears_(22, 24]',\n",
       " 'TotalWorkingYears_(24, 26]',\n",
       " 'YearsAtCompany_(0, 3]',\n",
       " 'YearsAtCompany_(3, 5]',\n",
       " 'YearsAtCompany_(5, 10]',\n",
       " 'YearsAtCompany_(10, 15]',\n",
       " 'YearsAtCompany_(15, 20]',\n",
       " 'YearsAtCompany_(20, 30]',\n",
       " 'YearsAtCompany_(30, 40]',\n",
       " 'YearsInCurrentRole_(0, 3]',\n",
       " 'YearsInCurrentRole_(3, 5]',\n",
       " 'YearsInCurrentRole_(5, 10]',\n",
       " 'YearsInCurrentRole_(10, 15]',\n",
       " 'YearsInCurrentRole_(15, 20]',\n",
       " 'YearsSinceLastPromotion_(0, 3]',\n",
       " 'YearsSinceLastPromotion_(3, 5]',\n",
       " 'YearsSinceLastPromotion_(5, 10]',\n",
       " 'YearsSinceLastPromotion_(10, 15]',\n",
       " 'YearsWithCurrManager_(0, 3]',\n",
       " 'YearsWithCurrManager_(3, 5]',\n",
       " 'YearsWithCurrManager_(5, 10]',\n",
       " 'YearsWithCurrManager_(10, 15]',\n",
       " 'YearsWithCurrManager_(15, 20]']"
      ]
     },
     "execution_count": 33,
     "metadata": {},
     "output_type": "execute_result"
    }
   ],
   "source": [
    "predictor"
   ]
  },
  {
   "cell_type": "code",
   "execution_count": 30,
   "metadata": {
    "scrolled": false
   },
   "outputs": [
    {
     "name": "stdout",
     "output_type": "stream",
     "text": [
      "xgboost基础模型:\n"
     ]
    },
    {
     "ename": "ValueError",
     "evalue": "feature_names may not contain [, ] or <",
     "output_type": "error",
     "traceback": [
      "\u001b[1;31m---------------------------------------------------------------------------\u001b[0m",
      "\u001b[1;31mValueError\u001b[0m                                Traceback (most recent call last)",
      "\u001b[1;32m<ipython-input-30-938463c81137>\u001b[0m in \u001b[0;36m<module>\u001b[1;34m()\u001b[0m\n\u001b[0;32m     13\u001b[0m \u001b[1;33m\u001b[0m\u001b[0m\n\u001b[0;32m     14\u001b[0m \u001b[0mprint\u001b[0m\u001b[1;33m(\u001b[0m\u001b[1;34m'xgboost基础模型:'\u001b[0m\u001b[1;33m)\u001b[0m\u001b[1;33m\u001b[0m\u001b[0m\n\u001b[1;32m---> 15\u001b[1;33m \u001b[0mcross_val\u001b[0m\u001b[1;33m(\u001b[0m\u001b[0mgbm\u001b[0m\u001b[1;33m,\u001b[0m \u001b[0mX_train\u001b[0m\u001b[1;33m,\u001b[0m \u001b[0my_train\u001b[0m\u001b[1;33m,\u001b[0m \u001b[0mX_test\u001b[0m\u001b[1;33m,\u001b[0m \u001b[0my_test\u001b[0m\u001b[1;33m,\u001b[0m \u001b[0mkfold\u001b[0m\u001b[1;33m)\u001b[0m\u001b[1;33m\u001b[0m\u001b[0m\n\u001b[0m",
      "\u001b[1;32m<ipython-input-16-87db2c83cf8c>\u001b[0m in \u001b[0;36mcross_val\u001b[1;34m(model, X_train, y_train, X_test, y_test, kfold)\u001b[0m\n\u001b[0;32m      1\u001b[0m \u001b[1;32mdef\u001b[0m \u001b[0mcross_val\u001b[0m\u001b[1;33m(\u001b[0m\u001b[0mmodel\u001b[0m\u001b[1;33m,\u001b[0m \u001b[0mX_train\u001b[0m\u001b[1;33m,\u001b[0m \u001b[0my_train\u001b[0m\u001b[1;33m,\u001b[0m \u001b[0mX_test\u001b[0m\u001b[1;33m,\u001b[0m \u001b[0my_test\u001b[0m\u001b[1;33m,\u001b[0m \u001b[0mkfold\u001b[0m\u001b[1;33m)\u001b[0m\u001b[1;33m:\u001b[0m\u001b[1;33m\u001b[0m\u001b[0m\n\u001b[0;32m      2\u001b[0m     cv_results = cross_val_score(\n\u001b[1;32m----> 3\u001b[1;33m         model, X_train, y_train, cv=kfold, scoring=scoring)\n\u001b[0m\u001b[0;32m      4\u001b[0m     print('cv-mean: %.4f, cv-std: %.4f' % (cv_results.mean(),\n\u001b[0;32m      5\u001b[0m                                            cv_results.std()))\n",
      "\u001b[1;32mC:\\Anaconda3\\lib\\site-packages\\sklearn\\model_selection\\_validation.py\u001b[0m in \u001b[0;36mcross_val_score\u001b[1;34m(estimator, X, y, groups, scoring, cv, n_jobs, verbose, fit_params, pre_dispatch)\u001b[0m\n\u001b[0;32m    319\u001b[0m                                 \u001b[0mn_jobs\u001b[0m\u001b[1;33m=\u001b[0m\u001b[0mn_jobs\u001b[0m\u001b[1;33m,\u001b[0m \u001b[0mverbose\u001b[0m\u001b[1;33m=\u001b[0m\u001b[0mverbose\u001b[0m\u001b[1;33m,\u001b[0m\u001b[1;33m\u001b[0m\u001b[0m\n\u001b[0;32m    320\u001b[0m                                 \u001b[0mfit_params\u001b[0m\u001b[1;33m=\u001b[0m\u001b[0mfit_params\u001b[0m\u001b[1;33m,\u001b[0m\u001b[1;33m\u001b[0m\u001b[0m\n\u001b[1;32m--> 321\u001b[1;33m                                 pre_dispatch=pre_dispatch)\n\u001b[0m\u001b[0;32m    322\u001b[0m     \u001b[1;32mreturn\u001b[0m \u001b[0mcv_results\u001b[0m\u001b[1;33m[\u001b[0m\u001b[1;34m'test_score'\u001b[0m\u001b[1;33m]\u001b[0m\u001b[1;33m\u001b[0m\u001b[0m\n\u001b[0;32m    323\u001b[0m \u001b[1;33m\u001b[0m\u001b[0m\n",
      "\u001b[1;32mC:\\Anaconda3\\lib\\site-packages\\sklearn\\model_selection\\_validation.py\u001b[0m in \u001b[0;36mcross_validate\u001b[1;34m(estimator, X, y, groups, scoring, cv, n_jobs, verbose, fit_params, pre_dispatch, return_train_score)\u001b[0m\n\u001b[0;32m    193\u001b[0m             \u001b[0mfit_params\u001b[0m\u001b[1;33m,\u001b[0m \u001b[0mreturn_train_score\u001b[0m\u001b[1;33m=\u001b[0m\u001b[0mreturn_train_score\u001b[0m\u001b[1;33m,\u001b[0m\u001b[1;33m\u001b[0m\u001b[0m\n\u001b[0;32m    194\u001b[0m             return_times=True)\n\u001b[1;32m--> 195\u001b[1;33m         for train, test in cv.split(X, y, groups))\n\u001b[0m\u001b[0;32m    196\u001b[0m \u001b[1;33m\u001b[0m\u001b[0m\n\u001b[0;32m    197\u001b[0m     \u001b[1;32mif\u001b[0m \u001b[0mreturn_train_score\u001b[0m\u001b[1;33m:\u001b[0m\u001b[1;33m\u001b[0m\u001b[0m\n",
      "\u001b[1;32mC:\\Anaconda3\\lib\\site-packages\\sklearn\\externals\\joblib\\parallel.py\u001b[0m in \u001b[0;36m__call__\u001b[1;34m(self, iterable)\u001b[0m\n\u001b[0;32m    777\u001b[0m             \u001b[1;31m# was dispatched. In particular this covers the edge\u001b[0m\u001b[1;33m\u001b[0m\u001b[1;33m\u001b[0m\u001b[0m\n\u001b[0;32m    778\u001b[0m             \u001b[1;31m# case of Parallel used with an exhausted iterator.\u001b[0m\u001b[1;33m\u001b[0m\u001b[1;33m\u001b[0m\u001b[0m\n\u001b[1;32m--> 779\u001b[1;33m             \u001b[1;32mwhile\u001b[0m \u001b[0mself\u001b[0m\u001b[1;33m.\u001b[0m\u001b[0mdispatch_one_batch\u001b[0m\u001b[1;33m(\u001b[0m\u001b[0miterator\u001b[0m\u001b[1;33m)\u001b[0m\u001b[1;33m:\u001b[0m\u001b[1;33m\u001b[0m\u001b[0m\n\u001b[0m\u001b[0;32m    780\u001b[0m                 \u001b[0mself\u001b[0m\u001b[1;33m.\u001b[0m\u001b[0m_iterating\u001b[0m \u001b[1;33m=\u001b[0m \u001b[1;32mTrue\u001b[0m\u001b[1;33m\u001b[0m\u001b[0m\n\u001b[0;32m    781\u001b[0m             \u001b[1;32melse\u001b[0m\u001b[1;33m:\u001b[0m\u001b[1;33m\u001b[0m\u001b[0m\n",
      "\u001b[1;32mC:\\Anaconda3\\lib\\site-packages\\sklearn\\externals\\joblib\\parallel.py\u001b[0m in \u001b[0;36mdispatch_one_batch\u001b[1;34m(self, iterator)\u001b[0m\n\u001b[0;32m    623\u001b[0m                 \u001b[1;32mreturn\u001b[0m \u001b[1;32mFalse\u001b[0m\u001b[1;33m\u001b[0m\u001b[0m\n\u001b[0;32m    624\u001b[0m             \u001b[1;32melse\u001b[0m\u001b[1;33m:\u001b[0m\u001b[1;33m\u001b[0m\u001b[0m\n\u001b[1;32m--> 625\u001b[1;33m                 \u001b[0mself\u001b[0m\u001b[1;33m.\u001b[0m\u001b[0m_dispatch\u001b[0m\u001b[1;33m(\u001b[0m\u001b[0mtasks\u001b[0m\u001b[1;33m)\u001b[0m\u001b[1;33m\u001b[0m\u001b[0m\n\u001b[0m\u001b[0;32m    626\u001b[0m                 \u001b[1;32mreturn\u001b[0m \u001b[1;32mTrue\u001b[0m\u001b[1;33m\u001b[0m\u001b[0m\n\u001b[0;32m    627\u001b[0m \u001b[1;33m\u001b[0m\u001b[0m\n",
      "\u001b[1;32mC:\\Anaconda3\\lib\\site-packages\\sklearn\\externals\\joblib\\parallel.py\u001b[0m in \u001b[0;36m_dispatch\u001b[1;34m(self, batch)\u001b[0m\n\u001b[0;32m    586\u001b[0m         \u001b[0mdispatch_timestamp\u001b[0m \u001b[1;33m=\u001b[0m \u001b[0mtime\u001b[0m\u001b[1;33m.\u001b[0m\u001b[0mtime\u001b[0m\u001b[1;33m(\u001b[0m\u001b[1;33m)\u001b[0m\u001b[1;33m\u001b[0m\u001b[0m\n\u001b[0;32m    587\u001b[0m         \u001b[0mcb\u001b[0m \u001b[1;33m=\u001b[0m \u001b[0mBatchCompletionCallBack\u001b[0m\u001b[1;33m(\u001b[0m\u001b[0mdispatch_timestamp\u001b[0m\u001b[1;33m,\u001b[0m \u001b[0mlen\u001b[0m\u001b[1;33m(\u001b[0m\u001b[0mbatch\u001b[0m\u001b[1;33m)\u001b[0m\u001b[1;33m,\u001b[0m \u001b[0mself\u001b[0m\u001b[1;33m)\u001b[0m\u001b[1;33m\u001b[0m\u001b[0m\n\u001b[1;32m--> 588\u001b[1;33m         \u001b[0mjob\u001b[0m \u001b[1;33m=\u001b[0m \u001b[0mself\u001b[0m\u001b[1;33m.\u001b[0m\u001b[0m_backend\u001b[0m\u001b[1;33m.\u001b[0m\u001b[0mapply_async\u001b[0m\u001b[1;33m(\u001b[0m\u001b[0mbatch\u001b[0m\u001b[1;33m,\u001b[0m \u001b[0mcallback\u001b[0m\u001b[1;33m=\u001b[0m\u001b[0mcb\u001b[0m\u001b[1;33m)\u001b[0m\u001b[1;33m\u001b[0m\u001b[0m\n\u001b[0m\u001b[0;32m    589\u001b[0m         \u001b[0mself\u001b[0m\u001b[1;33m.\u001b[0m\u001b[0m_jobs\u001b[0m\u001b[1;33m.\u001b[0m\u001b[0mappend\u001b[0m\u001b[1;33m(\u001b[0m\u001b[0mjob\u001b[0m\u001b[1;33m)\u001b[0m\u001b[1;33m\u001b[0m\u001b[0m\n\u001b[0;32m    590\u001b[0m \u001b[1;33m\u001b[0m\u001b[0m\n",
      "\u001b[1;32mC:\\Anaconda3\\lib\\site-packages\\sklearn\\externals\\joblib\\_parallel_backends.py\u001b[0m in \u001b[0;36mapply_async\u001b[1;34m(self, func, callback)\u001b[0m\n\u001b[0;32m    109\u001b[0m     \u001b[1;32mdef\u001b[0m \u001b[0mapply_async\u001b[0m\u001b[1;33m(\u001b[0m\u001b[0mself\u001b[0m\u001b[1;33m,\u001b[0m \u001b[0mfunc\u001b[0m\u001b[1;33m,\u001b[0m \u001b[0mcallback\u001b[0m\u001b[1;33m=\u001b[0m\u001b[1;32mNone\u001b[0m\u001b[1;33m)\u001b[0m\u001b[1;33m:\u001b[0m\u001b[1;33m\u001b[0m\u001b[0m\n\u001b[0;32m    110\u001b[0m         \u001b[1;34m\"\"\"Schedule a func to be run\"\"\"\u001b[0m\u001b[1;33m\u001b[0m\u001b[0m\n\u001b[1;32m--> 111\u001b[1;33m         \u001b[0mresult\u001b[0m \u001b[1;33m=\u001b[0m \u001b[0mImmediateResult\u001b[0m\u001b[1;33m(\u001b[0m\u001b[0mfunc\u001b[0m\u001b[1;33m)\u001b[0m\u001b[1;33m\u001b[0m\u001b[0m\n\u001b[0m\u001b[0;32m    112\u001b[0m         \u001b[1;32mif\u001b[0m \u001b[0mcallback\u001b[0m\u001b[1;33m:\u001b[0m\u001b[1;33m\u001b[0m\u001b[0m\n\u001b[0;32m    113\u001b[0m             \u001b[0mcallback\u001b[0m\u001b[1;33m(\u001b[0m\u001b[0mresult\u001b[0m\u001b[1;33m)\u001b[0m\u001b[1;33m\u001b[0m\u001b[0m\n",
      "\u001b[1;32mC:\\Anaconda3\\lib\\site-packages\\sklearn\\externals\\joblib\\_parallel_backends.py\u001b[0m in \u001b[0;36m__init__\u001b[1;34m(self, batch)\u001b[0m\n\u001b[0;32m    330\u001b[0m         \u001b[1;31m# Don't delay the application, to avoid keeping the input\u001b[0m\u001b[1;33m\u001b[0m\u001b[1;33m\u001b[0m\u001b[0m\n\u001b[0;32m    331\u001b[0m         \u001b[1;31m# arguments in memory\u001b[0m\u001b[1;33m\u001b[0m\u001b[1;33m\u001b[0m\u001b[0m\n\u001b[1;32m--> 332\u001b[1;33m         \u001b[0mself\u001b[0m\u001b[1;33m.\u001b[0m\u001b[0mresults\u001b[0m \u001b[1;33m=\u001b[0m \u001b[0mbatch\u001b[0m\u001b[1;33m(\u001b[0m\u001b[1;33m)\u001b[0m\u001b[1;33m\u001b[0m\u001b[0m\n\u001b[0m\u001b[0;32m    333\u001b[0m \u001b[1;33m\u001b[0m\u001b[0m\n\u001b[0;32m    334\u001b[0m     \u001b[1;32mdef\u001b[0m \u001b[0mget\u001b[0m\u001b[1;33m(\u001b[0m\u001b[0mself\u001b[0m\u001b[1;33m)\u001b[0m\u001b[1;33m:\u001b[0m\u001b[1;33m\u001b[0m\u001b[0m\n",
      "\u001b[1;32mC:\\Anaconda3\\lib\\site-packages\\sklearn\\externals\\joblib\\parallel.py\u001b[0m in \u001b[0;36m__call__\u001b[1;34m(self)\u001b[0m\n\u001b[0;32m    129\u001b[0m \u001b[1;33m\u001b[0m\u001b[0m\n\u001b[0;32m    130\u001b[0m     \u001b[1;32mdef\u001b[0m \u001b[0m__call__\u001b[0m\u001b[1;33m(\u001b[0m\u001b[0mself\u001b[0m\u001b[1;33m)\u001b[0m\u001b[1;33m:\u001b[0m\u001b[1;33m\u001b[0m\u001b[0m\n\u001b[1;32m--> 131\u001b[1;33m         \u001b[1;32mreturn\u001b[0m \u001b[1;33m[\u001b[0m\u001b[0mfunc\u001b[0m\u001b[1;33m(\u001b[0m\u001b[1;33m*\u001b[0m\u001b[0margs\u001b[0m\u001b[1;33m,\u001b[0m \u001b[1;33m**\u001b[0m\u001b[0mkwargs\u001b[0m\u001b[1;33m)\u001b[0m \u001b[1;32mfor\u001b[0m \u001b[0mfunc\u001b[0m\u001b[1;33m,\u001b[0m \u001b[0margs\u001b[0m\u001b[1;33m,\u001b[0m \u001b[0mkwargs\u001b[0m \u001b[1;32min\u001b[0m \u001b[0mself\u001b[0m\u001b[1;33m.\u001b[0m\u001b[0mitems\u001b[0m\u001b[1;33m]\u001b[0m\u001b[1;33m\u001b[0m\u001b[0m\n\u001b[0m\u001b[0;32m    132\u001b[0m \u001b[1;33m\u001b[0m\u001b[0m\n\u001b[0;32m    133\u001b[0m     \u001b[1;32mdef\u001b[0m \u001b[0m__len__\u001b[0m\u001b[1;33m(\u001b[0m\u001b[0mself\u001b[0m\u001b[1;33m)\u001b[0m\u001b[1;33m:\u001b[0m\u001b[1;33m\u001b[0m\u001b[0m\n",
      "\u001b[1;32mC:\\Anaconda3\\lib\\site-packages\\sklearn\\externals\\joblib\\parallel.py\u001b[0m in \u001b[0;36m<listcomp>\u001b[1;34m(.0)\u001b[0m\n\u001b[0;32m    129\u001b[0m \u001b[1;33m\u001b[0m\u001b[0m\n\u001b[0;32m    130\u001b[0m     \u001b[1;32mdef\u001b[0m \u001b[0m__call__\u001b[0m\u001b[1;33m(\u001b[0m\u001b[0mself\u001b[0m\u001b[1;33m)\u001b[0m\u001b[1;33m:\u001b[0m\u001b[1;33m\u001b[0m\u001b[0m\n\u001b[1;32m--> 131\u001b[1;33m         \u001b[1;32mreturn\u001b[0m \u001b[1;33m[\u001b[0m\u001b[0mfunc\u001b[0m\u001b[1;33m(\u001b[0m\u001b[1;33m*\u001b[0m\u001b[0margs\u001b[0m\u001b[1;33m,\u001b[0m \u001b[1;33m**\u001b[0m\u001b[0mkwargs\u001b[0m\u001b[1;33m)\u001b[0m \u001b[1;32mfor\u001b[0m \u001b[0mfunc\u001b[0m\u001b[1;33m,\u001b[0m \u001b[0margs\u001b[0m\u001b[1;33m,\u001b[0m \u001b[0mkwargs\u001b[0m \u001b[1;32min\u001b[0m \u001b[0mself\u001b[0m\u001b[1;33m.\u001b[0m\u001b[0mitems\u001b[0m\u001b[1;33m]\u001b[0m\u001b[1;33m\u001b[0m\u001b[0m\n\u001b[0m\u001b[0;32m    132\u001b[0m \u001b[1;33m\u001b[0m\u001b[0m\n\u001b[0;32m    133\u001b[0m     \u001b[1;32mdef\u001b[0m \u001b[0m__len__\u001b[0m\u001b[1;33m(\u001b[0m\u001b[0mself\u001b[0m\u001b[1;33m)\u001b[0m\u001b[1;33m:\u001b[0m\u001b[1;33m\u001b[0m\u001b[0m\n",
      "\u001b[1;32mC:\\Anaconda3\\lib\\site-packages\\sklearn\\model_selection\\_validation.py\u001b[0m in \u001b[0;36m_fit_and_score\u001b[1;34m(estimator, X, y, scorer, train, test, verbose, parameters, fit_params, return_train_score, return_parameters, return_n_test_samples, return_times, error_score)\u001b[0m\n\u001b[0;32m    435\u001b[0m             \u001b[0mestimator\u001b[0m\u001b[1;33m.\u001b[0m\u001b[0mfit\u001b[0m\u001b[1;33m(\u001b[0m\u001b[0mX_train\u001b[0m\u001b[1;33m,\u001b[0m \u001b[1;33m**\u001b[0m\u001b[0mfit_params\u001b[0m\u001b[1;33m)\u001b[0m\u001b[1;33m\u001b[0m\u001b[0m\n\u001b[0;32m    436\u001b[0m         \u001b[1;32melse\u001b[0m\u001b[1;33m:\u001b[0m\u001b[1;33m\u001b[0m\u001b[0m\n\u001b[1;32m--> 437\u001b[1;33m             \u001b[0mestimator\u001b[0m\u001b[1;33m.\u001b[0m\u001b[0mfit\u001b[0m\u001b[1;33m(\u001b[0m\u001b[0mX_train\u001b[0m\u001b[1;33m,\u001b[0m \u001b[0my_train\u001b[0m\u001b[1;33m,\u001b[0m \u001b[1;33m**\u001b[0m\u001b[0mfit_params\u001b[0m\u001b[1;33m)\u001b[0m\u001b[1;33m\u001b[0m\u001b[0m\n\u001b[0m\u001b[0;32m    438\u001b[0m \u001b[1;33m\u001b[0m\u001b[0m\n\u001b[0;32m    439\u001b[0m     \u001b[1;32mexcept\u001b[0m \u001b[0mException\u001b[0m \u001b[1;32mas\u001b[0m \u001b[0me\u001b[0m\u001b[1;33m:\u001b[0m\u001b[1;33m\u001b[0m\u001b[0m\n",
      "\u001b[1;32mC:\\Anaconda3\\lib\\site-packages\\xgboost-0.6-py3.6.egg\\xgboost\\sklearn.py\u001b[0m in \u001b[0;36mfit\u001b[1;34m(self, X, y, sample_weight, eval_set, eval_metric, early_stopping_rounds, verbose, xgb_model)\u001b[0m\n\u001b[0;32m    499\u001b[0m         \u001b[1;32melse\u001b[0m\u001b[1;33m:\u001b[0m\u001b[1;33m\u001b[0m\u001b[0m\n\u001b[0;32m    500\u001b[0m             train_dmatrix = DMatrix(X, label=training_labels,\n\u001b[1;32m--> 501\u001b[1;33m                                     missing=self.missing, nthread=self.n_jobs)\n\u001b[0m\u001b[0;32m    502\u001b[0m \u001b[1;33m\u001b[0m\u001b[0m\n\u001b[0;32m    503\u001b[0m         self._Booster = train(xgb_options, train_dmatrix, self.n_estimators,\n",
      "\u001b[1;32mC:\\Anaconda3\\lib\\site-packages\\xgboost-0.6-py3.6.egg\\xgboost\\core.py\u001b[0m in \u001b[0;36m__init__\u001b[1;34m(self, data, label, missing, weight, silent, feature_names, feature_types, nthread)\u001b[0m\n\u001b[0;32m    294\u001b[0m                 \u001b[0mself\u001b[0m\u001b[1;33m.\u001b[0m\u001b[0mset_weight\u001b[0m\u001b[1;33m(\u001b[0m\u001b[0mweight\u001b[0m\u001b[1;33m)\u001b[0m\u001b[1;33m\u001b[0m\u001b[0m\n\u001b[0;32m    295\u001b[0m \u001b[1;33m\u001b[0m\u001b[0m\n\u001b[1;32m--> 296\u001b[1;33m         \u001b[0mself\u001b[0m\u001b[1;33m.\u001b[0m\u001b[0mfeature_names\u001b[0m \u001b[1;33m=\u001b[0m \u001b[0mfeature_names\u001b[0m\u001b[1;33m\u001b[0m\u001b[0m\n\u001b[0m\u001b[0;32m    297\u001b[0m         \u001b[0mself\u001b[0m\u001b[1;33m.\u001b[0m\u001b[0mfeature_types\u001b[0m \u001b[1;33m=\u001b[0m \u001b[0mfeature_types\u001b[0m\u001b[1;33m\u001b[0m\u001b[0m\n\u001b[0;32m    298\u001b[0m \u001b[1;33m\u001b[0m\u001b[0m\n",
      "\u001b[1;32mC:\\Anaconda3\\lib\\site-packages\\xgboost-0.6-py3.6.egg\\xgboost\\core.py\u001b[0m in \u001b[0;36mfeature_names\u001b[1;34m(self, feature_names)\u001b[0m\n\u001b[0;32m    663\u001b[0m                        \u001b[1;32mnot\u001b[0m \u001b[0many\u001b[0m\u001b[1;33m(\u001b[0m\u001b[0mx\u001b[0m \u001b[1;32min\u001b[0m \u001b[0mf\u001b[0m \u001b[1;32mfor\u001b[0m \u001b[0mx\u001b[0m \u001b[1;32min\u001b[0m \u001b[0mset\u001b[0m\u001b[1;33m(\u001b[0m\u001b[1;33m(\u001b[0m\u001b[1;34m'['\u001b[0m\u001b[1;33m,\u001b[0m \u001b[1;34m']'\u001b[0m\u001b[1;33m,\u001b[0m \u001b[1;34m'<'\u001b[0m\u001b[1;33m)\u001b[0m\u001b[1;33m)\u001b[0m\u001b[1;33m)\u001b[0m\u001b[1;33m\u001b[0m\u001b[0m\n\u001b[0;32m    664\u001b[0m                        for f in feature_names):\n\u001b[1;32m--> 665\u001b[1;33m                 \u001b[1;32mraise\u001b[0m \u001b[0mValueError\u001b[0m\u001b[1;33m(\u001b[0m\u001b[1;34m'feature_names may not contain [, ] or <'\u001b[0m\u001b[1;33m)\u001b[0m\u001b[1;33m\u001b[0m\u001b[0m\n\u001b[0m\u001b[0;32m    666\u001b[0m         \u001b[1;32melse\u001b[0m\u001b[1;33m:\u001b[0m\u001b[1;33m\u001b[0m\u001b[0m\n\u001b[0;32m    667\u001b[0m             \u001b[1;31m# reset feature_types also\u001b[0m\u001b[1;33m\u001b[0m\u001b[1;33m\u001b[0m\u001b[0m\n",
      "\u001b[1;31mValueError\u001b[0m: feature_names may not contain [, ] or <"
     ]
    }
   ],
   "source": [
    "gbm = xgb.XGBClassifier(\n",
    "    learning_rate =0.1,\n",
    "    n_estimators=1000,\n",
    "    max_depth=5,\n",
    "    min_child_weight=1,\n",
    "    gamma=0,\n",
    "    subsample=0.8,\n",
    "    colsample_bytree=0.8,\n",
    "    objective='reg:logistic',\n",
    "    nthread=4,\n",
    "    scale_pos_weight=1,\n",
    "    seed=seed)\n",
    "\n",
    "print('xgboost基础模型:')\n",
    "cross_val(gbm, X_train, y_train, X_test, y_test, kfold)"
   ]
  },
  {
   "cell_type": "markdown",
   "metadata": {},
   "source": [
    "### 确定学习率和对应的n_estimators"
   ]
  },
  {
   "cell_type": "code",
   "execution_count": null,
   "metadata": {
    "scrolled": true
   },
   "outputs": [],
   "source": [
    "parameters = {'n_estimators': [100,200,500,1000,1500]}\n",
    "gbm = tunning_params(gbm, parameters)"
   ]
  },
  {
   "cell_type": "markdown",
   "metadata": {},
   "source": [
    "### max_depth 和 min_weight 参数调优"
   ]
  },
  {
   "cell_type": "code",
   "execution_count": null,
   "metadata": {},
   "outputs": [],
   "source": [
    "parameters = {\n",
    " 'max_depth':range(1,15,2),\n",
    " 'min_child_weight':range(1,6,2)\n",
    "}\n",
    "\n",
    "gbm = tunning_params(gbm, parameters)"
   ]
  },
  {
   "cell_type": "markdown",
   "metadata": {},
   "source": [
    "### gamma调优"
   ]
  },
  {
   "cell_type": "code",
   "execution_count": null,
   "metadata": {},
   "outputs": [],
   "source": [
    "parameters = {\n",
    " 'gamma':[i/10.0 for i in range(0,5)]\n",
    "}\n",
    "\n",
    "gbm = tunning_params(gbm, parameters)"
   ]
  },
  {
   "cell_type": "markdown",
   "metadata": {},
   "source": [
    "### subsample和colsample_bytree调优"
   ]
  },
  {
   "cell_type": "code",
   "execution_count": null,
   "metadata": {},
   "outputs": [],
   "source": [
    "parameters = {\n",
    " 'subsample':[i/10.0 for i in range(6,11)],\n",
    " 'colsample_bytree':[i/10.0 for i in range(6,11)]\n",
    "}\n",
    "\n",
    "gbm = tunning_params(gbm, parameters)"
   ]
  },
  {
   "cell_type": "markdown",
   "metadata": {},
   "source": [
    "### 正则化调优"
   ]
  },
  {
   "cell_type": "code",
   "execution_count": null,
   "metadata": {},
   "outputs": [],
   "source": [
    "parameters = {\n",
    " 'reg_alpha':[0, 1e-5, 1e-2, 0.1, 1, 100], 'reg_lambda':[0, 1e-5, 1e-2, 0.1, 1, 100]\n",
    "}\n",
    "\n",
    "gbm = tunning_params(gbm, parameters)"
   ]
  },
  {
   "cell_type": "code",
   "execution_count": null,
   "metadata": {},
   "outputs": [],
   "source": [
    "parameters = {\n",
    " 'learning_rate':[0.01,0.1], 'n_estimators':[200,1500]\n",
    "}\n",
    "\n",
    "gbm = tunning_params(gbm, parameters)"
   ]
  },
  {
   "cell_type": "markdown",
   "metadata": {},
   "source": [
    "## GradientBoostingClassifier调优"
   ]
  },
  {
   "cell_type": "code",
   "execution_count": null,
   "metadata": {},
   "outputs": [],
   "source": [
    "gbcm = GradientBoostingClassifier()\n",
    "cross_val(gbcm, X_train, y_train, X_test, y_test, kfold)"
   ]
  },
  {
   "cell_type": "code",
   "execution_count": null,
   "metadata": {},
   "outputs": [],
   "source": [
    "parameters= [{'n_estimators':range(20,81,10),\n",
    "              'max_depth':range(3,14,2),\n",
    "              'learning_rate':[0.1, 0.5, 1.0],\n",
    "              'subsample':[0.6,0.7,0.75,0.8,0.85,0.9]\n",
    "            }]\n",
    "\n",
    "gbcm = tunning_params(gbcm, parameters)"
   ]
  },
  {
   "cell_type": "markdown",
   "metadata": {},
   "source": [
    "## AdaBoostClassifier调优"
   ]
  },
  {
   "cell_type": "code",
   "execution_count": null,
   "metadata": {},
   "outputs": [],
   "source": [
    "adbm = AdaBoostClassifier(random_state=seed)\n",
    "cross_val(adbm, X_train, y_train, X_test, y_test, kfold)"
   ]
  },
  {
   "cell_type": "code",
   "execution_count": null,
   "metadata": {},
   "outputs": [],
   "source": [
    "parameters= [{'n_estimators':range(20,81,10),\n",
    "              'learning_rate':[0.1, 0.5, 1.0],\n",
    "            }]\n",
    "adbm = tunning_params(adbm, parameters)"
   ]
  },
  {
   "cell_type": "markdown",
   "metadata": {},
   "source": [
    "## ExtraTreesClassifier调优"
   ]
  },
  {
   "cell_type": "code",
   "execution_count": null,
   "metadata": {},
   "outputs": [],
   "source": [
    "etcm = ExtraTreesClassifier(random_state=seed)\n",
    "cross_val(etcm, X_train, y_train, X_test, y_test, kfold)"
   ]
  },
  {
   "cell_type": "code",
   "execution_count": null,
   "metadata": {},
   "outputs": [],
   "source": [
    "parameters = {\n",
    "    'n_estimators': range(10, 50, 20),'max_depth':range(3,11,2),\n",
    "    'min_samples_split':range(2,10), 'min_samples_leaf':range(3,6),'max_features': range(3, 6)\n",
    "}\n",
    "etcm = tunning_params(etcm, parameters)"
   ]
  },
  {
   "cell_type": "code",
   "execution_count": null,
   "metadata": {},
   "outputs": [],
   "source": [
    "models = []\n",
    "models.append(('lrm', lrm))\n",
    "models.append(('rfm', rfm))\n",
    "models.append(('gbm', gbm))\n",
    "models.append(('gbcm', gbcm))\n",
    "models.append(('etcm', etcm))\n",
    "models.append(('ad', adbm))\n",
    "ensemble = VotingClassifier(models)\n",
    "cross_val(ensemble, X_train, y_train, X_test, y_test, kfold)"
   ]
  },
  {
   "cell_type": "code",
   "execution_count": null,
   "metadata": {
    "collapsed": true
   },
   "outputs": [],
   "source": []
  },
  {
   "cell_type": "code",
   "execution_count": null,
   "metadata": {},
   "outputs": [],
   "source": [
    "joblib.dump(lrm, 'lr.pkl')\n",
    "joblib.dump(rfm, 'rf.pkl')\n",
    "joblib.dump(etcm, 'etcm.pkl')\n",
    "joblib.dump(adbm, 'adbm.pkl')\n",
    "joblib.dump(gbcm, 'gbcm.pkl')\n",
    "joblib.dump(adbm, 'adbm.pkl')"
   ]
  },
  {
   "cell_type": "code",
   "execution_count": null,
   "metadata": {
    "collapsed": true
   },
   "outputs": [],
   "source": []
  }
 ],
 "metadata": {
  "kernelspec": {
   "display_name": "Python 3",
   "language": "python",
   "name": "python3"
  },
  "language_info": {
   "codemirror_mode": {
    "name": "ipython",
    "version": 3
   },
   "file_extension": ".py",
   "mimetype": "text/x-python",
   "name": "python",
   "nbconvert_exporter": "python",
   "pygments_lexer": "ipython3",
   "version": "3.6.2"
  }
 },
 "nbformat": 4,
 "nbformat_minor": 2
}
