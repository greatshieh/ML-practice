{
 "cells": [
  {
   "cell_type": "code",
   "execution_count": 4,
   "metadata": {
    "collapsed": true
   },
   "outputs": [],
   "source": [
    "import pandas as pd\n",
    "import pprint\n",
    "import xgboost as xgb\n",
    "import warnings\n",
    "warnings.filterwarnings('ignore')\n",
    "\n",
    "from sklearn.linear_model import LogisticRegression\n",
    "\n",
    "from sklearn.ensemble import RandomForestClassifier\n",
    "from sklearn.ensemble import GradientBoostingClassifier\n",
    "from sklearn.ensemble import AdaBoostClassifier\n",
    "\n",
    "from sklearn.model_selection import train_test_split\n",
    "from sklearn.model_selection import GridSearchCV\n",
    "from sklearn.model_selection import KFold\n",
    "from sklearn.model_selection import cross_val_score\n",
    "\n",
    "from sklearn.discriminant_analysis import LinearDiscriminantAnalysis\n",
    "\n",
    "from sklearn.metrics import accuracy_score"
   ]
  },
  {
   "cell_type": "code",
   "execution_count": 5,
   "metadata": {},
   "outputs": [],
   "source": [
    "df_train = pd.read_csv('../dataset/pfm_train.csv')\n",
    "df_test = pd.read_csv('../dataset/pfm_test.csv')\n",
    "\n",
    "df_train.drop(\n",
    "    ['Over18', 'StandardHours', 'EmployeeNumber'], axis=1, inplace=True)\n",
    "df_test.drop(\n",
    "    ['Over18', 'StandardHours', 'EmployeeNumber'], axis=1, inplace=True)\n",
    "\n",
    "# 预测变量\n",
    "target_var = 'Attrition'\n",
    "\n",
    "# 字符型\n",
    "character_var = [\n",
    "    x for x in df_train.dtypes.index if df_train.dtypes[x] == 'object'\n",
    "]\n",
    "numeric_var = [\n",
    "    x for x in df_train.dtypes.index\n",
    "    if x != target_var and x not in character_var\n",
    "]\n",
    "\n",
    "df_train = pd.get_dummies(df_train)\n",
    "df_test = pd.get_dummies(df_test)\n",
    "\n",
    "predictor = [x for x in df_train.columns if x != target_var]"
   ]
  },
  {
   "cell_type": "code",
   "execution_count": 6,
   "metadata": {
    "collapsed": true
   },
   "outputs": [],
   "source": [
    "validation_size = 0.3\n",
    "seed = 7\n",
    "scoring = 'accuracy'\n",
    "X_train, X_test, y_train, y_test = train_test_split(\n",
    "    df_train[predictor],\n",
    "    df_train[target_var],\n",
    "    test_size=validation_size,\n",
    "    random_state=seed)\n",
    "kfold = KFold(n_splits=10, random_state=seed)"
   ]
  },
  {
   "cell_type": "code",
   "execution_count": 7,
   "metadata": {
    "collapsed": true
   },
   "outputs": [],
   "source": [
    "def cross_val(model, X_train, y_train, X_test, y_test, kfold):\n",
    "    cv_results = cross_val_score(\n",
    "        model, X_train, y_train, cv=kfold, scoring=scoring)\n",
    "    print('cv-mean: %.4f, cv-std: %.4f' % (cv_results.mean(),\n",
    "                                           cv_results.std()))\n",
    "    model.fit(X_train, y_train)\n",
    "    pred_result = model.predict(X_test)\n",
    "    pred_score = accuracy_score(y_test, pred_result)\n",
    "    print('测试集分数： %.4f' % pred_score)\n",
    "    return"
   ]
  },
  {
   "cell_type": "code",
   "execution_count": 8,
   "metadata": {},
   "outputs": [
    {
     "name": "stdout",
     "output_type": "stream",
     "text": [
      "原始模型:\n",
      "cv-mean: 0.8805, cv-std: 0.0380\n",
      "测试集分数： 0.8394\n",
      "优化模型:\n",
      "最佳参数: {'C': 1, 'penalty': 'l1', 'random_state': 2, 'tol': 0.0001}\n",
      "最佳得分: 0.8831\n",
      "cv-mean: 0.8831, cv-std: 0.0423\n",
      "测试集分数： 0.8485\n"
     ]
    }
   ],
   "source": [
    "model = LogisticRegression()\n",
    "parameters = {\n",
    "    'penalty': ['l1', 'l2'],\n",
    "    'C': [0.01, 0.1, 1],\n",
    "    'tol': [1e-6, 1e-5, 1e-4],\n",
    "    'random_state': [1, 2, 3, 4, 5]\n",
    "}\n",
    "\n",
    "print('原始模型:')\n",
    "cross_val(model, X_train, y_train, X_test, y_test, kfold)\n",
    "\n",
    "grid_search = GridSearchCV(\n",
    "    estimator=model, param_grid=parameters, scoring=scoring, cv=kfold).fit(\n",
    "        X_train, y_train)\n",
    "print('优化模型:')\n",
    "print('最佳参数: %s' % str(grid_search.best_params_))\n",
    "print('最佳得分: %.4f' % grid_search.best_score_)\n",
    "cross_val(grid_search.best_estimator_, X_train, y_train, X_test, y_test, kfold)"
   ]
  },
  {
   "cell_type": "markdown",
   "metadata": {},
   "source": [
    "## 随机森林的调参过程\n",
    "### 默认参数的模型性能"
   ]
  },
  {
   "cell_type": "code",
   "execution_count": 19,
   "metadata": {},
   "outputs": [
    {
     "name": "stdout",
     "output_type": "stream",
     "text": [
      "原始模型:\n",
      "cv-mean: 0.8558, cv-std: 0.0421\n",
      "测试集分数： 0.8303\n"
     ]
    }
   ],
   "source": [
    "model = RandomForestClassifier(random_state=seed)\n",
    "print('原始模型:')\n",
    "cross_val(model, X_train, y_train, X_test, y_test, kfold)"
   ]
  },
  {
   "cell_type": "markdown",
   "metadata": {},
   "source": [
    "### 确定最佳的n_estimators"
   ]
  },
  {
   "cell_type": "code",
   "execution_count": 20,
   "metadata": {},
   "outputs": [
    {
     "name": "stdout",
     "output_type": "stream",
     "text": [
      "[mean: 0.85584, std: 0.04206, params: {'n_estimators': 10}, mean: 0.86234, std: 0.04690, params: {'n_estimators': 20}, mean: 0.86623, std: 0.04791, params: {'n_estimators': 30}, mean: 0.86494, std: 0.04506, params: {'n_estimators': 40}, mean: 0.86364, std: 0.04763, params: {'n_estimators': 50}, mean: 0.86753, std: 0.04782, params: {'n_estimators': 60}, mean: 0.86753, std: 0.04675, params: {'n_estimators': 70}, mean: 0.86623, std: 0.04861, params: {'n_estimators': 80}, mean: 0.86623, std: 0.04575, params: {'n_estimators': 90}, mean: 0.86494, std: 0.04761, params: {'n_estimators': 100}]\n",
      "优化模型:\n",
      "最佳参数: {'n_estimators': 60}\n",
      "最佳得分: 0.8675\n",
      "cv-mean: 0.8675, cv-std: 0.0478\n",
      "测试集分数： 0.8455\n"
     ]
    }
   ],
   "source": [
    "parameters = {\n",
    "    'n_estimators': range(10, 110, 10)\n",
    "}\n",
    "\n",
    "grid_search = GridSearchCV(\n",
    "    estimator=model, param_grid=parameters, scoring=scoring, cv=kfold).fit(\n",
    "        X_train, y_train)\n",
    "print(grid_search.grid_scores_)\n",
    "print('优化模型:')\n",
    "print('最佳参数: %s' % str(grid_search.best_params_))\n",
    "print('最佳得分: %.4f' % grid_search.best_score_)\n",
    "cross_val(grid_search.best_estimator_, X_train, y_train, X_test, y_test, kfold)"
   ]
  },
  {
   "cell_type": "markdown",
   "metadata": {},
   "source": [
    "### 确定最大深度max_depth和min_samples_split"
   ]
  },
  {
   "cell_type": "code",
   "execution_count": null,
   "metadata": {},
   "outputs": [],
   "source": [
    "# 确定最佳的max_depth\n",
    "parameters = {'max_depth':range(3,14,2), 'min_samples_split':range(50,201,20)}\n",
    "\n",
    "grid_search = GridSearchCV(\n",
    "    estimator=RandomForestClassifier(random_state=seed, n_estimators=60),\n",
    "    param_grid=parameters,\n",
    "    scoring=scoring, cv=kfold).fit(X_train, y_train)\n",
    "print('优化模型:')\n",
    "print('最佳参数: %s' % str(grid_search.best_params_))\n",
    "print('最佳得分: %.4f' % grid_search.best_score_)\n",
    "cross_val(grid_search.best_estimator_, X_train, y_train, X_test, y_test, kfold)"
   ]
  },
  {
   "cell_type": "code",
   "execution_count": 16,
   "metadata": {},
   "outputs": [
    {
     "name": "stdout",
     "output_type": "stream",
     "text": [
      "优化模型:\n",
      "最佳参数: {'min_samples_leaf': 5}\n",
      "最佳得分: 0.8701\n",
      "cv-mean: 0.8701, cv-std: 0.0431\n",
      "测试集分数： 0.8303\n"
     ]
    }
   ],
   "source": [
    "# 确定最佳的max_depth\n",
    "model = RandomForestClassifier(random_state=seed, max_features='sqrt', max_depth=7)\n",
    "parameters = {\n",
    "    'min_samples_leaf': range(1, 11, 2)\n",
    "}\n",
    "\n",
    "grid_search = GridSearchCV(\n",
    "    estimator=model, param_grid=parameters, scoring=scoring, cv=kfold).fit(\n",
    "        X_train, y_train)\n",
    "print('优化模型:')\n",
    "print('最佳参数: %s' % str(grid_search.best_params_))\n",
    "print('最佳得分: %.4f' % grid_search.best_score_)\n",
    "cross_val(grid_search.best_estimator_, X_train, y_train, X_test, y_test, kfold)"
   ]
  },
  {
   "cell_type": "code",
   "execution_count": 17,
   "metadata": {
    "scrolled": true
   },
   "outputs": [
    {
     "name": "stdout",
     "output_type": "stream",
     "text": [
      "优化模型:\n",
      "最佳参数: {'n_estimators': 10}\n",
      "最佳得分: 0.8701\n",
      "cv-mean: 0.8701, cv-std: 0.0431\n",
      "测试集分数： 0.8303\n"
     ]
    }
   ],
   "source": [
    "model = RandomForestClassifier(random_state=seed,\n",
    "                               max_features='sqrt',\n",
    "                               max_depth=7,\n",
    "                               min_samples_leaf=5)\n",
    "parameters = {\n",
    "    'n_estimators': [10, 100, 500, 1000, 1500]\n",
    "}\n",
    "\n",
    "grid_search = GridSearchCV(\n",
    "    estimator=model, param_grid=parameters, scoring=scoring, cv=kfold).fit(\n",
    "        X_train, y_train)\n",
    "print('优化模型:')\n",
    "print('最佳参数: %s' % str(grid_search.best_params_))\n",
    "print('最佳得分: %.4f' % grid_search.best_score_)\n",
    "cross_val(grid_search.best_estimator_, X_train, y_train, X_test, y_test, kfold)"
   ]
  },
  {
   "cell_type": "code",
   "execution_count": 18,
   "metadata": {},
   "outputs": [
    {
     "name": "stdout",
     "output_type": "stream",
     "text": [
      "xgboost模型:\n",
      "cv-mean: 0.8883, cv-std: 0.0368\n",
      "测试集分数： 0.8242\n"
     ]
    }
   ],
   "source": [
    "gbm = xgb.XGBClassifier(\n",
    "    min_child_weight=5,\n",
    "    max_depth=3,\n",
    "    objective='reg:logistic',\n",
    "    gamma=0.2,\n",
    "    reg_alpha=1e-5,\n",
    "    reg_lambda=1.0,\n",
    "    learning_rate=0.05,\n",
    "    colsample_bytree=1.0,\n",
    "    colsample_bylevel=1.0,\n",
    "    seed=seed,\n",
    "    n_estimators=500,\n",
    "    subsample=1,\n",
    "    verbose=True)\n",
    "\n",
    "print('xgboost模型:')\n",
    "cross_val(gbm, X_train, y_train, X_test, y_test, kfold)"
   ]
  }
 ],
 "metadata": {
  "kernelspec": {
   "display_name": "Python 3",
   "language": "python",
   "name": "python3"
  },
  "language_info": {
   "codemirror_mode": {
    "name": "ipython",
    "version": 3
   },
   "file_extension": ".py",
   "mimetype": "text/x-python",
   "name": "python",
   "nbconvert_exporter": "python",
   "pygments_lexer": "ipython3",
   "version": "3.6.2"
  }
 },
 "nbformat": 4,
 "nbformat_minor": 2
}
