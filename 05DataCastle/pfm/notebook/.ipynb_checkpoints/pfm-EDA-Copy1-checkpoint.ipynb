{
 "cells": [
  {
   "cell_type": "markdown",
   "metadata": {},
   "source": [
    "# 员工离职预测之特征工程"
   ]
  },
  {
   "cell_type": "code",
   "execution_count": 7,
   "metadata": {
    "collapsed": true
   },
   "outputs": [],
   "source": [
    "# 目标变量\n",
    "target_var = 'Attrition'\n",
    "\n",
    "# 连续变量\n",
    "num_col = ['Age', 'MonthlyIncome', 'TotalWorkingYears','PercentSalaryHike',\n",
    "           'YearsAtCompany', 'YearsInCurrentRole', 'YearsSinceLastPromotion',\n",
    "           'YearsWithCurrManager', 'NumCompaniesWorked']\n",
    "# 有序变量\n",
    "ord_col = ['DistanceFromHome', 'Education', 'EnvironmentSatisfaction', 'JobInvolvement',\n",
    "           'JobLevel', 'JobSatisfaction', 'PerformanceRating', 'RelationshipSatisfaction',\n",
    "           'StockOptionLevel', 'WorkLifeBalance', 'TrainingTimesLastYear']\n",
    "\n",
    "# 分类变量\n",
    "cat_col = ['BusinessTravel', 'Department', 'EducationField', 'Gender', 'JobRole',\n",
    "           'MaritalStatus', 'OverTime']"
   ]
  },
  {
   "cell_type": "code",
   "execution_count": 130,
   "metadata": {},
   "outputs": [],
   "source": [
    "#pandas, numpy, matplotlib, seaborn\n",
    "import pandas as pd\n",
    "import numpy as np\n",
    "import seaborn as sns\n",
    "sns.set_style('whitegrid')\n",
    "import warnings\n",
    "warnings.filterwarnings('ignore')\n",
    "\n",
    "from matplotlib import pyplot as plt\n",
    "plt.style.use('ggplot')\n",
    "import numpy as np\n",
    "%matplotlib inline\n",
    "\n",
    "from sklearn.feature_selection import chi2\n",
    "from sklearn.feature_selection import f_classif\n",
    "from sklearn.feature_selection import mutual_info_classif\n",
    "\n",
    "from sklearn.preprocessing import MinMaxScaler\n",
    "from sklearn.preprocessing import StandardScaler\n",
    "from sklearn.preprocessing import OneHotEncoder\n",
    "from sklearn.preprocessing import LabelEncoder\n",
    "\n",
    "from sklearn.model_selection import learning_curve\n",
    "from sklearn.model_selection import StratifiedKFold\n",
    "from sklearn.model_selection import cross_val_score\n",
    "from sklearn.model_selection import train_test_split\n",
    "from sklearn.model_selection import GridSearchCV\n",
    "from sklearn.metrics import accuracy_score\n",
    "from sklearn.metrics import roc_curve\n",
    "from sklearn.metrics import roc_auc_score\n",
    "\n",
    "from sklearn.linear_model import LogisticRegression\n",
    "from sklearn.ensemble import GradientBoostingClassifier\n",
    "from sklearn.ensemble import RandomForestClassifier\n",
    "from sklearn.ensemble import RandomTreesEmbedding\n",
    "\n",
    "from sklearn.pipeline import make_pipeline\n",
    "from scipy import stats\n",
    "import sys\n",
    "sys.path.append('../code')\n",
    "import chimerge"
   ]
  },
  {
   "cell_type": "code",
   "execution_count": 9,
   "metadata": {},
   "outputs": [],
   "source": [
    "df_train = pd.read_csv('../dataset/pfm_train.csv')\n",
    "df_test = pd.read_csv('../dataset/pfm_test.csv')"
   ]
  },
  {
   "cell_type": "markdown",
   "metadata": {},
   "source": [
    "## 分类变量数值化\n",
    "因为sklearn要求所有输入的变量都是数值型，所以需要先将字符型的分类变量进行数值化"
   ]
  },
  {
   "cell_type": "code",
   "execution_count": 13,
   "metadata": {},
   "outputs": [],
   "source": [
    "label_enc = LabelEncoder()\n",
    "for col in cat_col:\n",
    "    df_train[col] = label_enc.fit_transform(df_train[col])"
   ]
  },
  {
   "cell_type": "markdown",
   "metadata": {},
   "source": [
    "## 特征选择\n",
    "<img src='FS1.png' />"
   ]
  },
  {
   "cell_type": "markdown",
   "metadata": {},
   "source": [
    "### 利用卡方检验过滤非连续变量"
   ]
  },
  {
   "cell_type": "code",
   "execution_count": 117,
   "metadata": {
    "collapsed": true
   },
   "outputs": [
    {
     "data": {
      "text/html": [
       "<div>\n",
       "<style>\n",
       "    .dataframe thead tr:only-child th {\n",
       "        text-align: right;\n",
       "    }\n",
       "\n",
       "    .dataframe thead th {\n",
       "        text-align: left;\n",
       "    }\n",
       "\n",
       "    .dataframe tbody tr th {\n",
       "        vertical-align: top;\n",
       "    }\n",
       "</style>\n",
       "<table border=\"1\" class=\"dataframe\">\n",
       "  <thead>\n",
       "    <tr style=\"text-align: right;\">\n",
       "      <th></th>\n",
       "      <th>pvalue</th>\n",
       "    </tr>\n",
       "  </thead>\n",
       "  <tbody>\n",
       "    <tr>\n",
       "      <th>OverTime</th>\n",
       "      <td>1.839919e-18</td>\n",
       "    </tr>\n",
       "    <tr>\n",
       "      <th>StockOptionLevel</th>\n",
       "      <td>2.299846e-12</td>\n",
       "    </tr>\n",
       "    <tr>\n",
       "      <th>JobLevel</th>\n",
       "      <td>3.785046e-10</td>\n",
       "    </tr>\n",
       "    <tr>\n",
       "      <th>JobRole</th>\n",
       "      <td>8.239099e-10</td>\n",
       "    </tr>\n",
       "    <tr>\n",
       "      <th>MaritalStatus</th>\n",
       "      <td>2.963580e-09</td>\n",
       "    </tr>\n",
       "    <tr>\n",
       "      <th>JobInvolvement</th>\n",
       "      <td>1.050064e-05</td>\n",
       "    </tr>\n",
       "    <tr>\n",
       "      <th>JobSatisfaction</th>\n",
       "      <td>4.375365e-04</td>\n",
       "    </tr>\n",
       "    <tr>\n",
       "      <th>EnvironmentSatisfaction</th>\n",
       "      <td>2.107876e-03</td>\n",
       "    </tr>\n",
       "    <tr>\n",
       "      <th>BusinessTravel</th>\n",
       "      <td>4.086993e-03</td>\n",
       "    </tr>\n",
       "    <tr>\n",
       "      <th>EducationField</th>\n",
       "      <td>2.396130e-02</td>\n",
       "    </tr>\n",
       "    <tr>\n",
       "      <th>Department</th>\n",
       "      <td>2.527176e-02</td>\n",
       "    </tr>\n",
       "    <tr>\n",
       "      <th>WorkLifeBalance</th>\n",
       "      <td>3.466896e-02</td>\n",
       "    </tr>\n",
       "    <tr>\n",
       "      <th>DistanceFromHome</th>\n",
       "      <td>1.155587e-01</td>\n",
       "    </tr>\n",
       "    <tr>\n",
       "      <th>PerformanceRating</th>\n",
       "      <td>1.506839e-01</td>\n",
       "    </tr>\n",
       "    <tr>\n",
       "      <th>Education</th>\n",
       "      <td>1.910212e-01</td>\n",
       "    </tr>\n",
       "    <tr>\n",
       "      <th>TrainingTimesLastYear</th>\n",
       "      <td>2.435010e-01</td>\n",
       "    </tr>\n",
       "    <tr>\n",
       "      <th>RelationshipSatisfaction</th>\n",
       "      <td>2.580105e-01</td>\n",
       "    </tr>\n",
       "    <tr>\n",
       "      <th>Gender</th>\n",
       "      <td>6.367980e-01</td>\n",
       "    </tr>\n",
       "  </tbody>\n",
       "</table>\n",
       "</div>"
      ],
      "text/plain": [
       "                                pvalue\n",
       "OverTime                  1.839919e-18\n",
       "StockOptionLevel          2.299846e-12\n",
       "JobLevel                  3.785046e-10\n",
       "JobRole                   8.239099e-10\n",
       "MaritalStatus             2.963580e-09\n",
       "JobInvolvement            1.050064e-05\n",
       "JobSatisfaction           4.375365e-04\n",
       "EnvironmentSatisfaction   2.107876e-03\n",
       "BusinessTravel            4.086993e-03\n",
       "EducationField            2.396130e-02\n",
       "Department                2.527176e-02\n",
       "WorkLifeBalance           3.466896e-02\n",
       "DistanceFromHome          1.155587e-01\n",
       "PerformanceRating         1.506839e-01\n",
       "Education                 1.910212e-01\n",
       "TrainingTimesLastYear     2.435010e-01\n",
       "RelationshipSatisfaction  2.580105e-01\n",
       "Gender                    6.367980e-01"
      ]
     },
     "execution_count": 117,
     "metadata": {},
     "output_type": "execute_result"
    }
   ],
   "source": [
    "chi2_result = pd.DataFrame({'pvalue':np.zeros(len(ord_col+cat_col))}, index=ord_col+cat_col)\n",
    "for col in ord_col+cat_col:\n",
    "    freq = df_train.pivot_table(index=col, columns='Attrition', values='sum', aggfunc=sum)\n",
    "    _, p, _, _ = stats.chi2_contingency(freq.values)\n",
    "    chi2_result.loc[col, 'pvalue'] = p\n",
    "chi2_result.sort_values(by='pvalue')"
   ]
  },
  {
   "cell_type": "markdown",
   "metadata": {},
   "source": [
    "零假设H0: 特征与目标变量独立。显著性水平α=0.05，如果p < alpha，拒绝H0，说明特征变量与目标变量不独立。在chi2_result中过滤p值大于0.05的特征变量。"
   ]
  },
  {
   "cell_type": "code",
   "execution_count": 113,
   "metadata": {},
   "outputs": [
    {
     "name": "stdout",
     "output_type": "stream",
     "text": [
      "提取变量:['EnvironmentSatisfaction', 'JobInvolvement', 'JobLevel', 'JobSatisfaction', 'StockOptionLevel', 'WorkLifeBalance', 'BusinessTravel', 'Department', 'EducationField', 'JobRole', 'MaritalStatus', 'OverTime']\n",
      "与目标独立的变量有：['DistanceFromHome', 'Education', 'PerformanceRating', 'RelationshipSatisfaction', 'TrainingTimesLastYear', 'Gender']\n"
     ]
    }
   ],
   "source": [
    "used_cat_col = chi2_result[chi2_result['pvalue']<=0.05].index.tolist()\n",
    "print('提取变量:'+str(used_cat_col))\n",
    "\n",
    "unused_col = [x for x in ord_col+cat_col if x not in used_cat_col]\n",
    "print('与目标独立的变量有：'+str(unused_col))"
   ]
  },
  {
   "cell_type": "markdown",
   "metadata": {},
   "source": [
    "通过对分类变量和有序变量进行卡方检验，删除了**'DistanceFromHome', 'Education', 'PerformanceRating', 'RelationshipSatisfaction', 'TrainingTimesLastYear', 'Gender'**6个变量。<br>\n",
    "从前面的数据探索也可以看出，从这几个变量与目标变量的关系来看，确实没有明显的特征。但是在OverTime上，加班的离职率明显是高于不加班的离职率。"
   ]
  },
  {
   "cell_type": "markdown",
   "metadata": {},
   "source": [
    "### 用sklearn包的feature_selection过滤变量"
   ]
  },
  {
   "cell_type": "code",
   "execution_count": 206,
   "metadata": {},
   "outputs": [],
   "source": [
    "# 卡方检验\n",
    "_, pvalue = chi2(df_train[num_col+ord_col+cat_col], df_train[target_var])\n",
    "chi2_test = pd.Series(pvalue, index=num_col+ord_col+cat_col)\n",
    "\n",
    "# ANVOA（f_classif)\n",
    "_, pvalue = f_classif(df_train[num_col+ord_col+cat_col], df_train[target_var])\n",
    "f_test = pd.Series(pvalue, index=num_col+ord_col+cat_col)\n",
    "\n",
    "# 互信息\n",
    "mi = mutual_info_classif(df_train[num_col+ord_col+cat_col], df_train[target_var])\n",
    "mi_test = pd.Series({'mi':mi}, index=num_col+ord_col+cat_col)"
   ]
  },
  {
   "cell_type": "markdown",
   "metadata": {},
   "source": [
    "#### 数据处理和预测\n",
    "数据处理部分，为非连续变量创建虚拟变量"
   ]
  },
  {
   "cell_type": "code",
   "execution_count": 212,
   "metadata": {},
   "outputs": [],
   "source": [
    "def data_processing(result_df=chi2_test, df=df_train, num_transform='sqrt', model=LogisticRegression()):\n",
    "    selected_col = result_df[result_df<=0.05].index.tolist()\n",
    "\n",
    "    new_num_col = [x for x in selected_col if x in num_col]\n",
    "    new_cat_col = [x for x in selected_col if x in cat_col]\n",
    "    new_ord_col = [x for x in selected_col if x in ord_col]\n",
    "    \n",
    "    sample_data = df[new_ord_col+new_cat_col+new_num_col].copy()\n",
    "\n",
    "    # 为分类变量和有序变量创建虚拟变量\n",
    "    for col in new_ord_col+new_cat_col:\n",
    "        dummy = pd.get_dummies(sample_data[col], prefix=col)\n",
    "        #onehot_col.extend(dummy.columns.tolist())\n",
    "        sample_data = pd.concat([sample_data, dummy], axis=1)\n",
    "        sample_data.drop([col], axis=1, inplace=True)\n",
    "        \n",
    "    # 连续变量开平方转换\n",
    "    if num_transform == 'sqrt':\n",
    "        sample_data[new_num_col] = np.sqrt(sample_data[new_num_col])\n",
    "    elif num_transform == 'log':\n",
    "        sample_data[new_num_col] = np.sqrt(sample_data[new_num_col])\n",
    "    else:\n",
    "        pass\n",
    "    #std_scaler = StandardScaler()\n",
    "    #for col in new_num_col:\n",
    "    # 分割训练集，测试集，70%作为训练集，30%作为测试集\n",
    "    #test_size = 0.3\n",
    "    seed = 45\n",
    "    scoring = 'accuracy'\n",
    "    #X_train, X_test, y_train, y_test = train_test_split(\n",
    "    #    sample_data,\n",
    "    #    df_train[target_var],\n",
    "    #    test_size=test_size,\n",
    "    #    random_state=seed)\n",
    "    kfold = StratifiedKFold(n_splits=10, random_state=seed)\n",
    "    \n",
    "    lr_model = LogisticRegression(random_state=seed)\n",
    "    #lr_model.fit(X_train, y_train)\n",
    "    #y_pred = lr_model.predict(X_test)\n",
    "    #score = lr_model.score(X_test, y_test)\n",
    "    #print('准确度是: {:0.4f}'.format(score))\n",
    "\n",
    "    return"
   ]
  },
  {
   "cell_type": "code",
   "execution_count": 217,
   "metadata": {},
   "outputs": [
    {
     "ename": "SyntaxError",
     "evalue": "invalid syntax (<ipython-input-217-b08dfd8ce2c9>, line 4)",
     "output_type": "error",
     "traceback": [
      "\u001b[1;36m  File \u001b[1;32m\"<ipython-input-217-b08dfd8ce2c9>\"\u001b[1;36m, line \u001b[1;32m4\u001b[0m\n\u001b[1;33m    for z in [LogisticRegression(), RandomForestClassifier(), GradientBoostingClassifier()]\u001b[0m\n\u001b[1;37m                                                                                           ^\u001b[0m\n\u001b[1;31mSyntaxError\u001b[0m\u001b[1;31m:\u001b[0m invalid syntax\n"
     ]
    }
   ],
   "source": [
    "models = []\n",
    "for x in [chi2_test, f_test]:\n",
    "    for y in ['log', 'sqrt', None]:\n",
    "        for z in [LogisticRegression(), RandomForestClassifier(), GradientBoostingClassifier()]:\n",
    "            models.append((x, y, z))"
   ]
  },
  {
   "cell_type": "code",
   "execution_count": 216,
   "metadata": {},
   "outputs": [
    {
     "name": "stdout",
     "output_type": "stream",
     "text": [
      "准确度是: 0.8667\n",
      "准确度是: 0.8667\n",
      "准确度是: 0.8667\n",
      "准确度是: 0.8758\n",
      "准确度是: 0.8758\n",
      "准确度是: 0.8788\n"
     ]
    }
   ],
   "source": [
    "for x, y in models:\n",
    "    data_processing(x, df_train, y)"
   ]
  },
  {
   "cell_type": "markdown",
   "metadata": {},
   "source": [
    "### 划分数据集\n",
    "将数据集划分为测试集和验证集"
   ]
  },
  {
   "cell_type": "code",
   "execution_count": 164,
   "metadata": {
    "collapsed": true
   },
   "outputs": [],
   "source": []
  },
  {
   "cell_type": "code",
   "execution_count": 165,
   "metadata": {},
   "outputs": [
    {
     "name": "stdout",
     "output_type": "stream",
     "text": [
      "准确度是: 0.8758\n"
     ]
    }
   ],
   "source": []
  },
  {
   "cell_type": "code",
   "execution_count": 166,
   "metadata": {},
   "outputs": [
    {
     "name": "stdout",
     "output_type": "stream",
     "text": [
      "准确度是: 0.8758\n"
     ]
    },
    {
     "data": {
      "text/plain": [
       "<matplotlib.axes._subplots.AxesSubplot at 0x1d34794c5f8>"
      ]
     },
     "execution_count": 166,
     "metadata": {},
     "output_type": "execute_result"
    },
    {
     "data": {
      "image/png": "[encoded data removed]",
      "text/plain": [
       "<matplotlib.figure.Figure at 0x1d34794c828>"
      ]
     },
     "metadata": {},
     "output_type": "display_data"
    }
   ],
   "source": [
    "from sklearn.metrics import confusion_matrix\n",
    "lr_model = LogisticRegression(random_state=seed)\n",
    "lr_model.fit(X_train, y_train)\n",
    "y_pred = lr_model.predict(X_test)\n",
    "score = lr_model.score(X_test, y_test)\n",
    "print('准确度是: {:0.4f}'.format(score))\n",
    "cm = confusion_matrix(y_true=y_test, y_pred=y_pred)\n",
    "sns.heatmap(cm, annot=True, fmt='.2f', )"
   ]
  },
  {
   "cell_type": "code",
   "execution_count": 27,
   "metadata": {},
   "outputs": [
    {
     "name": "stdout",
     "output_type": "stream",
     "text": [
      "准确度是: 0.8515\n"
     ]
    },
    {
     "data": {
      "text/plain": [
       "<matplotlib.axes._subplots.AxesSubplot at 0x160e13e3d30>"
      ]
     },
     "execution_count": 27,
     "metadata": {},
     "output_type": "execute_result"
    },
    {
     "data": {
      "image/png": "[encoded data removed]",
      "text/plain": [
       "<matplotlib.figure.Figure at 0x160e0fa1e80>"
      ]
     },
     "metadata": {},
     "output_type": "display_data"
    }
   ],
   "source": [
    "rf_model = RandomForestClassifier()\n",
    "rf_model.fit(X_train, y_train)\n",
    "y_pred = rf_model.predict(X_test)\n",
    "score = rf_model.score(X_test, y_test)\n",
    "print('准确度是: {:0.4f}'.format(score))\n",
    "cm = confusion_matrix(y_true=y_test, y_pred=y_pred)\n",
    "sns.heatmap(cm, annot=True, fmt='.2f', )"
   ]
  },
  {
   "cell_type": "code",
   "execution_count": 28,
   "metadata": {},
   "outputs": [
    {
     "name": "stdout",
     "output_type": "stream",
     "text": [
      "准确度是: 0.8636\n"
     ]
    },
    {
     "data": {
      "text/plain": [
       "<matplotlib.axes._subplots.AxesSubplot at 0x160e14e8e80>"
      ]
     },
     "execution_count": 28,
     "metadata": {},
     "output_type": "execute_result"
    },
    {
     "data": {
      "image/png": "[encoded data removed]",
      "text/plain": [
       "<matplotlib.figure.Figure at 0x160e142fc18>"
      ]
     },
     "metadata": {},
     "output_type": "display_data"
    }
   ],
   "source": [
    "from sklearn.ensemble import AdaBoostClassifier\n",
    "ada_model = AdaBoostClassifier()\n",
    "ada_model.fit(X_train, y_train)\n",
    "y_pred = ada_model.predict(X_test)\n",
    "score = ada_model.score(X_test, y_test)\n",
    "print('准确度是: {:0.4f}'.format(score))\n",
    "cm = confusion_matrix(y_true=y_test, y_pred=y_pred)\n",
    "sns.heatmap(cm, annot=True, fmt='.2f', )"
   ]
  },
  {
   "cell_type": "code",
   "execution_count": 29,
   "metadata": {},
   "outputs": [
    {
     "data": {
      "text/plain": [
       "<matplotlib.legend.Legend at 0x160e1659198>"
      ]
     },
     "execution_count": 29,
     "metadata": {},
     "output_type": "execute_result"
    },
    {
     "data": {
      "image/png": "[encoded data removed]",
      "text/plain": [
       "<matplotlib.figure.Figure at 0x160e0f5a588>"
      ]
     },
     "metadata": {},
     "output_type": "display_data"
    }
   ],
   "source": [
    "from sklearn.metrics import roc_auc_score\n",
    "lr_roc_auc = roc_auc_score(y_test, lr_model.predict(X_test))\n",
    "lr_fpr, lr_tpr, thresholds = roc_curve(y_test, lr_model.predict_proba(X_test)[:,1])\n",
    "\n",
    "rf_roc_auc = roc_auc_score(y_test, rf_model.predict(X_test))\n",
    "rf_fpr, rf_tpr, thresholds = roc_curve(y_test, rf_model.predict_proba(X_test)[:,1])\n",
    "\n",
    "ada_roc_auc = roc_auc_score(y_test, ada_model.predict(X_test))\n",
    "ada_fpr, ada_tpr, thresholds = roc_curve(y_test, ada_model.predict_proba(X_test)[:,1])\n",
    "\n",
    "plt.plot(lr_fpr, lr_tpr, label='LR(area={0:.4f})'.format(lr_roc_auc))\n",
    "plt.plot(rf_fpr, rf_tpr, label='RF(area={0:.4f})'.format(rf_roc_auc))\n",
    "plt.plot(ada_fpr, ada_tpr, label='ADA(area={0:.4f})'.format(ada_roc_auc))\n",
    "plt.legend(loc='best')"
   ]
  },
  {
   "cell_type": "code",
   "execution_count": null,
   "metadata": {
    "collapsed": true
   },
   "outputs": [],
   "source": [
    "test_pred = lr_model.predict(df_test[used_col]).astype(int)\n",
    "submit = pd.DataFrame({'result': test_pred})\n",
    "submit.to_csv('result.csv', index=False)\n",
    "# 提交得分是0.88"
   ]
  },
  {
   "cell_type": "markdown",
   "metadata": {},
   "source": [
    "## 系数和误分类分析 "
   ]
  },
  {
   "cell_type": "code",
   "execution_count": 26,
   "metadata": {
    "scrolled": false
   },
   "outputs": [
    {
     "data": {
      "image/png": "[encoded data removed]",
      "text/plain": [
       "<matplotlib.figure.Figure at 0x215bb0a0320>"
      ]
     },
     "metadata": {},
     "output_type": "display_data"
    }
   ],
   "source": [
    "coef_data = pd.DataFrame({'coef': lr_model.coef_[0,:]}, index=used_col).sort_values(by='coef')\n",
    "_ = coef_data.plot(kind='barh', figsize=(10, 10), fontsize=12)"
   ]
  },
  {
   "cell_type": "code",
   "execution_count": null,
   "metadata": {
    "collapsed": true
   },
   "outputs": [],
   "source": [
    "# 提取误分类样本\n",
    "bad_cases_bool = (y_test != y_pred)\n",
    "bad_cases = X_test.loc[bad_cases_bool, num_col+cat_col+ord_col+scaled_col]\n",
    "bad_cases = pd.concat([bad_cases, y_test[bad_cases_bool]], axis=1)\n",
    "bad_cases.to_csv('bad_cases.csv')\n",
    "_ = sns.pairplot(data=bad_cases[num_col+[target_var]], hue=target_var)"
   ]
  },
  {
   "cell_type": "code",
   "execution_count": null,
   "metadata": {
    "collapsed": true
   },
   "outputs": [],
   "source": [
    "for col in num_col:\n",
    "    fig = plt.figure(figsize=(10,10))\n",
    "    sns.distplot(a=bad_cases.loc[bad_cases[target_var]==1, col], kde=False, rug=False, label='Attrition')\n",
    "    sns.distplot(a=bad_cases.loc[bad_cases[target_var]==0, col], kde=False, rug=False, label='NO Attrition')\n",
    "    plt.legend(loc='best')"
   ]
  },
  {
   "cell_type": "code",
   "execution_count": null,
   "metadata": {
    "collapsed": true
   },
   "outputs": [],
   "source": [
    "bad_cases.loc[bad_cases['Attrition']==1, num_col].describe()"
   ]
  },
  {
   "cell_type": "code",
   "execution_count": null,
   "metadata": {
    "collapsed": true
   },
   "outputs": [],
   "source": [
    "bad_cases.loc[bad_cases['Attrition']==0, num_col].describe()"
   ]
  },
  {
   "cell_type": "markdown",
   "metadata": {},
   "source": [
    "从误分类样本上看，很多离职员工被预测为未离职，并且这些员工大多数分布在低值范围。"
   ]
  },
  {
   "cell_type": "markdown",
   "metadata": {},
   "source": [
    "## 特征工程"
   ]
  },
  {
   "cell_type": "code",
   "execution_count": null,
   "metadata": {
    "collapsed": true
   },
   "outputs": [],
   "source": [
    "def find_param(estimator, param_grid, scoring, cv, X_train, X_test, y_train, y_test):\n",
    "    cv_results = cross_val_score(estimator, X_train, y_train, cv=cv, scoring=scoring)\n",
    "    msg = \"原始模型交叉验证分数: %f (%f)\" % (cv_results.mean(), cv_results.std())\n",
    "    print(msg)\n",
    "    grid_search = GridSearchCV(estimator=estimator, param_grid=param_grid, scoring=scoring, cv=cv).fit(X_train, y_train)\n",
    "    print(\"优化模型交叉验证分数: %f\" % (grid_search.best_score_))\n",
    "    pred_result = grid_search.best_estimator_.predict(X_test)\n",
    "    pred_score = accuracy_score(y_test, pred_result)\n",
    "    print('优化模型测试集分数： %.4f' % pred_score)\n",
    "    print(grid_search.best_params_)\n",
    "    \n",
    "    return grid_search.best_estimator_"
   ]
  },
  {
   "cell_type": "code",
   "execution_count": 131,
   "metadata": {
    "collapsed": true
   },
   "outputs": [],
   "source": [
    "def roc_comp(used_col):\n",
    "    n_estimator = 10\n",
    "\n",
    "    # Unsupervised transformation based on totally random trees\n",
    "    rt = RandomTreesEmbedding(max_depth=3, n_estimators=n_estimator, random_state=seed)\n",
    "    \n",
    "    rt_lm = LogisticRegression(random_state=45)\n",
    "    pipeline = make_pipeline(rt, rt_lm)\n",
    "    pipeline.fit(X_train, y_train)\n",
    "    y_pred_rt = pipeline.predict_proba(X_test)[:, 1]\n",
    "    fpr_rt_lm, tpr_rt_lm, _ = roc_curve(y_test, y_pred_rt)\n",
    "    \n",
    "    # Supervised transformation based on random forests\n",
    "    rf = RandomForestClassifier(max_depth=3, n_estimators=n_estimator, random_state=seed)\n",
    "    rf_enc = OneHotEncoder()\n",
    "    rf_lm = LogisticRegression(random_state=seed)\n",
    "    rf.fit(X_train, y_train)\n",
    "    rf_enc.fit(rf.apply(X_train))\n",
    "    rf_lm.fit(rf_enc.transform(rf.apply(X_train)), y_train)\n",
    "    \n",
    "    y_pred_rf_lm = rf_lm.predict_proba(rf_enc.transform(rf.apply(X_test)))[:, 1]\n",
    "    fpr_rf_lm, tpr_rf_lm, _ = roc_curve(y_test, y_pred_rf_lm)\n",
    "    \n",
    "    grd = GradientBoostingClassifier(n_estimators=n_estimator, random_state=seed)\n",
    "    grd_enc = OneHotEncoder()\n",
    "    grd_lm = LogisticRegression(random_state=seed)\n",
    "    grd.fit(X_train, y_train)\n",
    "    grd_enc.fit(grd.apply(X_train)[:, :, 0])\n",
    "    grd_lm.fit(grd_enc.transform(grd.apply(X_train)[:, :, 0]), y_train)\n",
    "    \n",
    "    y_pred_grd_lm = grd_lm.predict_proba(\n",
    "        grd_enc.transform(grd.apply(X_test)[:, :, 0]))[:, 1]\n",
    "    fpr_grd_lm, tpr_grd_lm, _ = roc_curve(y_test, y_pred_grd_lm)\n",
    "    \n",
    "    \n",
    "    # The gradient boosted model by itself\n",
    "    y_pred_grd = grd.predict_proba(X_test)[:, 1]\n",
    "    fpr_grd, tpr_grd, _ = roc_curve(y_test, y_pred_grd)\n",
    "    \n",
    "    \n",
    "    # The random forest model by itself\n",
    "    y_pred_rf = rf.predict_proba(X_test)[:, 1]\n",
    "    fpr_rf, tpr_rf, _ = roc_curve(y_test, y_pred_rf)\n",
    "    \n",
    "    plt.figure(figsize=(10, 10))\n",
    "    plt.plot([0, 1], [0, 1], 'k--')\n",
    "    plt.plot(fpr_rt_lm, tpr_rt_lm, label='RT + LR')\n",
    "    plt.plot(fpr_rf, tpr_rf, label='RF')\n",
    "    plt.plot(fpr_rf_lm, tpr_rf_lm, label='RF + LR')\n",
    "    plt.plot(fpr_grd, tpr_grd, label='GBT')\n",
    "    plt.plot(fpr_grd_lm, tpr_grd_lm, label='GBT + LR')\n",
    "    plt.xlabel('False positive rate')\n",
    "    plt.ylabel('True positive rate')\n",
    "    plt.title('ROC curve')\n",
    "    plt.legend(loc='best')"
   ]
  },
  {
   "cell_type": "code",
   "execution_count": 132,
   "metadata": {},
   "outputs": [
    {
     "data": {
      "image/png": "[encoded data removed]",
      "text/plain": [
       "<matplotlib.figure.Figure at 0x215be258400>"
      ]
     },
     "metadata": {},
     "output_type": "display_data"
    }
   ],
   "source": [
    "roc_comp(selected_col)"
   ]
  },
  {
   "cell_type": "markdown",
   "metadata": {
    "collapsed": true
   },
   "source": [
    "## 参考资料\n",
    "- [A Complete Tutorial to Learn Data Science with Python from Scratch](https://www.analyticsvidhya.com/blog/2016/01/complete-tutorial-learn-data-science-python-scratch-2/)\n",
    "- [Introduction to Feature Selection methods with an example (or how to select the right variables?)](https://www.analyticsvidhya.com/blog/2016/12/introduction-to-feature-selection-methods-with-an-example-or-how-to-select-the-right-variables/)"
   ]
  }
 ],
 "metadata": {
  "kernelspec": {
   "display_name": "Python 3",
   "language": "python",
   "name": "python3"
  },
  "language_info": {
   "codemirror_mode": {
    "name": "ipython",
    "version": 3
   },
   "file_extension": ".py",
   "mimetype": "text/x-python",
   "name": "python",
   "nbconvert_exporter": "python",
   "pygments_lexer": "ipython3",
   "version": "3.6.2"
  }
 },
 "nbformat": 4,
 "nbformat_minor": 2
}
