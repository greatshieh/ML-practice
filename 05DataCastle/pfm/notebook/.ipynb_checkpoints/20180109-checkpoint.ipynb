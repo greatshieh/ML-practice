{
 "cells": [
  {
   "cell_type": "markdown",
   "metadata": {},
   "source": [
    "# sklearn应用之员工离职预测"
   ]
  },
  {
   "cell_type": "code",
   "execution_count": 14,
   "metadata": {
    "collapsed": true
   },
   "outputs": [],
   "source": [
    "#pandas, numpy, matplotlib, seaborn\n",
    "import pandas as pd\n",
    "import numpy as np\n",
    "\n",
    "import warnings\n",
    "warnings.filterwarnings('ignore')\n",
    "\n",
    "from matplotlib import pyplot as plt\n",
    "plt.style.use('ggplot')\n",
    "%matplotlib inline\n",
    "import seaborn as sns\n",
    "sns.set_style('whitegrid')\n",
    "\n",
    "from scipy.stats import ttest_ind # T检验\n",
    "from statsmodels.stats.weightstats import ztest # Z检验\n",
    "from scipy.stats import chi2_contingency # 卡方检验\n",
    "from scipy.stats import f_oneway # ANOVA(方差分析)\n",
    "from math import fabs\n",
    "\n",
    "from sklearn.preprocessing import LabelEncoder\n",
    "from sklearn.preprocessing import Binarizer\n",
    "from sklearn.linear_model import LogisticRegression\n",
    "from sklearn.metrics import accuracy_score\n",
    "from sklearn.metrics import confusion_matrix\n",
    "from sklearn.metrics import classification_report\n",
    "from sklearn.metrics import roc_auc_score\n",
    "from sklearn.metrics import roc_curve\n",
    "from sklearn.metrics import auc\n",
    "from sklearn.feature_selection import RFE\n",
    "from sklearn.model_selection import GridSearchCV\n",
    "from sklearn.model_selection import train_test_split\n",
    "from sklearn.model_selection import StratifiedKFold\n",
    "from sklearn.model_selection import cross_validate\n",
    "\n",
    "from sklearn.linear_model import LogisticRegression\n",
    "from sklearn.svm import LinearSVC\n",
    "from sklearn.linear_model import SGDClassifier\n",
    "\n",
    "from sklearn.ensemble import RandomForestClassifier\n",
    "from sklearn.ensemble import AdaBoostClassifier\n",
    "from sklearn.ensemble import ExtraTreesClassifier\n",
    "from sklearn.ensemble import GradientBoostingClassifier"
   ]
  },
  {
   "cell_type": "code",
   "execution_count": 2,
   "metadata": {
    "collapsed": true
   },
   "outputs": [],
   "source": [
    "df_train = pd.read_csv('../dataset/pfm_train.csv')\n",
    "# df_test = pd.read_csv('../dataset/pfm_test.csv')"
   ]
  },
  {
   "cell_type": "code",
   "execution_count": 3,
   "metadata": {
    "collapsed": true
   },
   "outputs": [],
   "source": [
    "remove_list = []\n",
    "for col in df_train.columns:\n",
    "    n = len(df_train[col].unique())\n",
    "    if n < 2:\n",
    "        remove_list.append(col)\n",
    "    elif n == len(df_train):\n",
    "        remove_list.append(col)\n",
    "        \n",
    "df_train.drop(remove_list, axis=1, inplace=True)\n",
    "\n",
    "# 目标变量\n",
    "target_var = 'Attrition'\n",
    "\n",
    "# 分类变量\n",
    "cat_col = [x for x in df_train.columns if df_train[x].dtype==object and x != target_var]\n",
    "\n",
    "# 数值变量\n",
    "num_col = [x for x in df_train.columns if x not in cat_col and len(df_train[x].unique())>=10]\n",
    "\n",
    "# 有序变量\n",
    "ord_col = [x for x in df_train.columns if x not in cat_col+num_col and x != target_var]"
   ]
  },
  {
   "cell_type": "code",
   "execution_count": 4,
   "metadata": {
    "collapsed": true
   },
   "outputs": [],
   "source": [
    "# 计算Z检验和T检验的p值\n",
    "def calc_p_value(data, feature_name, target='Attrition'):\n",
    "    s = []\n",
    "    unique_value = data[target].unique()\n",
    "    for i in range(len(unique_value)):\n",
    "        s.append(data.loc[data[target]==unique_value[i], feature_name])\n",
    "    arg = s\n",
    "    if len(unique_value) <= 2:\n",
    "        if len(s[0])>30 and len(s[1])>30:\n",
    "            z, p = ztest(*arg)\n",
    "        else:\n",
    "            t, p = ttest_ind(*arg)\n",
    "    else:\n",
    "        f, p = f_oneway(*arg)\n",
    "    return p\n",
    "stats_result = pd.DataFrame(columns=['pvalue', 'P<0.05', 'col'])\n",
    "for col in num_col+ord_col:\n",
    "    p = calc_p_value(df_train, col, 'Attrition')\n",
    "    stats_result.loc[len(stats_result)] = [p, p<0.05, col]"
   ]
  },
  {
   "cell_type": "code",
   "execution_count": 5,
   "metadata": {
    "collapsed": true
   },
   "outputs": [],
   "source": [
    "def get_chi2_value(data, feature_name, target='Attrition'):\n",
    "    crosstable = pd.crosstab(data[feature_name], data[target])\n",
    "    chi2, p, dof, expected = chi2_contingency(crosstable)\n",
    "    return p\n",
    "chi2_result = pd.DataFrame(columns=['pvalue', 'P<0.05', 'col'])\n",
    "for col in cat_col:\n",
    "    crosstable = pd.crosstab(df_train[col], df_train['Attrition'])\n",
    "    chi2, p, dof, expected = chi2_contingency(crosstable)\n",
    "    chi2_result.loc[len(chi2_result)] = [p, p<0.05, col]"
   ]
  },
  {
   "cell_type": "code",
   "execution_count": 6,
   "metadata": {},
   "outputs": [
    {
     "data": {
      "text/html": [
       "<div>\n",
       "<style>\n",
       "    .dataframe thead tr:only-child th {\n",
       "        text-align: right;\n",
       "    }\n",
       "\n",
       "    .dataframe thead th {\n",
       "        text-align: left;\n",
       "    }\n",
       "\n",
       "    .dataframe tbody tr th {\n",
       "        vertical-align: top;\n",
       "    }\n",
       "</style>\n",
       "<table border=\"1\" class=\"dataframe\">\n",
       "  <thead>\n",
       "    <tr style=\"text-align: right;\">\n",
       "      <th></th>\n",
       "      <th>pvalue</th>\n",
       "      <th>P&lt;0.05</th>\n",
       "      <th>col</th>\n",
       "    </tr>\n",
       "  </thead>\n",
       "  <tbody>\n",
       "    <tr>\n",
       "      <th>6</th>\n",
       "      <td>1.839919e-18</td>\n",
       "      <td>True</td>\n",
       "      <td>OverTime</td>\n",
       "    </tr>\n",
       "    <tr>\n",
       "      <th>5</th>\n",
       "      <td>2.298482e-10</td>\n",
       "      <td>True</td>\n",
       "      <td>TotalWorkingYears</td>\n",
       "    </tr>\n",
       "    <tr>\n",
       "      <th>4</th>\n",
       "      <td>8.239099e-10</td>\n",
       "      <td>True</td>\n",
       "      <td>JobRole</td>\n",
       "    </tr>\n",
       "    <tr>\n",
       "      <th>5</th>\n",
       "      <td>2.963580e-09</td>\n",
       "      <td>True</td>\n",
       "      <td>MaritalStatus</td>\n",
       "    </tr>\n",
       "    <tr>\n",
       "      <th>0</th>\n",
       "      <td>3.561980e-09</td>\n",
       "      <td>True</td>\n",
       "      <td>Age</td>\n",
       "    </tr>\n",
       "    <tr>\n",
       "      <th>13</th>\n",
       "      <td>1.395662e-08</td>\n",
       "      <td>True</td>\n",
       "      <td>JobLevel</td>\n",
       "    </tr>\n",
       "    <tr>\n",
       "      <th>7</th>\n",
       "      <td>4.339536e-08</td>\n",
       "      <td>True</td>\n",
       "      <td>YearsInCurrentRole</td>\n",
       "    </tr>\n",
       "    <tr>\n",
       "      <th>9</th>\n",
       "      <td>1.030321e-07</td>\n",
       "      <td>True</td>\n",
       "      <td>YearsWithCurrManager</td>\n",
       "    </tr>\n",
       "    <tr>\n",
       "      <th>2</th>\n",
       "      <td>1.819964e-07</td>\n",
       "      <td>True</td>\n",
       "      <td>MonthlyIncome</td>\n",
       "    </tr>\n",
       "    <tr>\n",
       "      <th>6</th>\n",
       "      <td>1.498008e-06</td>\n",
       "      <td>True</td>\n",
       "      <td>YearsAtCompany</td>\n",
       "    </tr>\n",
       "    <tr>\n",
       "      <th>17</th>\n",
       "      <td>3.587718e-06</td>\n",
       "      <td>True</td>\n",
       "      <td>StockOptionLevel</td>\n",
       "    </tr>\n",
       "    <tr>\n",
       "      <th>14</th>\n",
       "      <td>2.740404e-05</td>\n",
       "      <td>True</td>\n",
       "      <td>JobSatisfaction</td>\n",
       "    </tr>\n",
       "    <tr>\n",
       "      <th>12</th>\n",
       "      <td>4.176465e-05</td>\n",
       "      <td>True</td>\n",
       "      <td>JobInvolvement</td>\n",
       "    </tr>\n",
       "    <tr>\n",
       "      <th>11</th>\n",
       "      <td>1.239872e-03</td>\n",
       "      <td>True</td>\n",
       "      <td>EnvironmentSatisfaction</td>\n",
       "    </tr>\n",
       "    <tr>\n",
       "      <th>1</th>\n",
       "      <td>3.217122e-03</td>\n",
       "      <td>True</td>\n",
       "      <td>DistanceFromHome</td>\n",
       "    </tr>\n",
       "    <tr>\n",
       "      <th>0</th>\n",
       "      <td>4.086993e-03</td>\n",
       "      <td>True</td>\n",
       "      <td>BusinessTravel</td>\n",
       "    </tr>\n",
       "    <tr>\n",
       "      <th>8</th>\n",
       "      <td>1.712527e-02</td>\n",
       "      <td>True</td>\n",
       "      <td>YearsSinceLastPromotion</td>\n",
       "    </tr>\n",
       "    <tr>\n",
       "      <th>2</th>\n",
       "      <td>2.396130e-02</td>\n",
       "      <td>True</td>\n",
       "      <td>EducationField</td>\n",
       "    </tr>\n",
       "    <tr>\n",
       "      <th>1</th>\n",
       "      <td>2.527176e-02</td>\n",
       "      <td>True</td>\n",
       "      <td>Department</td>\n",
       "    </tr>\n",
       "    <tr>\n",
       "      <th>16</th>\n",
       "      <td>8.596891e-02</td>\n",
       "      <td>False</td>\n",
       "      <td>RelationshipSatisfaction</td>\n",
       "    </tr>\n",
       "    <tr>\n",
       "      <th>19</th>\n",
       "      <td>1.054982e-01</td>\n",
       "      <td>False</td>\n",
       "      <td>WorkLifeBalance</td>\n",
       "    </tr>\n",
       "    <tr>\n",
       "      <th>15</th>\n",
       "      <td>1.208536e-01</td>\n",
       "      <td>False</td>\n",
       "      <td>PerformanceRating</td>\n",
       "    </tr>\n",
       "    <tr>\n",
       "      <th>10</th>\n",
       "      <td>1.230019e-01</td>\n",
       "      <td>False</td>\n",
       "      <td>Education</td>\n",
       "    </tr>\n",
       "    <tr>\n",
       "      <th>18</th>\n",
       "      <td>1.500623e-01</td>\n",
       "      <td>False</td>\n",
       "      <td>TrainingTimesLastYear</td>\n",
       "    </tr>\n",
       "    <tr>\n",
       "      <th>4</th>\n",
       "      <td>3.778556e-01</td>\n",
       "      <td>False</td>\n",
       "      <td>PercentSalaryHike</td>\n",
       "    </tr>\n",
       "    <tr>\n",
       "      <th>3</th>\n",
       "      <td>3.908154e-01</td>\n",
       "      <td>False</td>\n",
       "      <td>NumCompaniesWorked</td>\n",
       "    </tr>\n",
       "    <tr>\n",
       "      <th>3</th>\n",
       "      <td>6.367980e-01</td>\n",
       "      <td>False</td>\n",
       "      <td>Gender</td>\n",
       "    </tr>\n",
       "  </tbody>\n",
       "</table>\n",
       "</div>"
      ],
      "text/plain": [
       "          pvalue P<0.05                       col\n",
       "6   1.839919e-18   True                  OverTime\n",
       "5   2.298482e-10   True         TotalWorkingYears\n",
       "4   8.239099e-10   True                   JobRole\n",
       "5   2.963580e-09   True             MaritalStatus\n",
       "0   3.561980e-09   True                       Age\n",
       "13  1.395662e-08   True                  JobLevel\n",
       "7   4.339536e-08   True        YearsInCurrentRole\n",
       "9   1.030321e-07   True      YearsWithCurrManager\n",
       "2   1.819964e-07   True             MonthlyIncome\n",
       "6   1.498008e-06   True            YearsAtCompany\n",
       "17  3.587718e-06   True          StockOptionLevel\n",
       "14  2.740404e-05   True           JobSatisfaction\n",
       "12  4.176465e-05   True            JobInvolvement\n",
       "11  1.239872e-03   True   EnvironmentSatisfaction\n",
       "1   3.217122e-03   True          DistanceFromHome\n",
       "0   4.086993e-03   True            BusinessTravel\n",
       "8   1.712527e-02   True   YearsSinceLastPromotion\n",
       "2   2.396130e-02   True            EducationField\n",
       "1   2.527176e-02   True                Department\n",
       "16  8.596891e-02  False  RelationshipSatisfaction\n",
       "19  1.054982e-01  False           WorkLifeBalance\n",
       "15  1.208536e-01  False         PerformanceRating\n",
       "10  1.230019e-01  False                 Education\n",
       "18  1.500623e-01  False     TrainingTimesLastYear\n",
       "4   3.778556e-01  False         PercentSalaryHike\n",
       "3   3.908154e-01  False        NumCompaniesWorked\n",
       "3   6.367980e-01  False                    Gender"
      ]
     },
     "execution_count": 6,
     "metadata": {},
     "output_type": "execute_result"
    }
   ],
   "source": [
    "feature_vs_target = pd.concat([stats_result, chi2_result], axis=0)\n",
    "feature_vs_target.sort_values(by='pvalue')"
   ]
  },
  {
   "cell_type": "markdown",
   "metadata": {},
   "source": [
    "**DistanceFromHome, PerformanceRating, Education, TrainingTimesLastYear, RelationshipSatisfaction, PercentSalaryHike, NumCompaniesWorked, Gender**与员工离职统计不显著，没有明显的关系。<br>\n",
    "其他变量与员工离职统计显著，有明确的关系。"
   ]
  },
  {
   "cell_type": "markdown",
   "metadata": {},
   "source": [
    "## 特征工程"
   ]
  },
  {
   "cell_type": "code",
   "execution_count": 7,
   "metadata": {
    "collapsed": true
   },
   "outputs": [],
   "source": [
    "y = df_train['Attrition'].copy()\n",
    "X = df_train[[x for x in df_train.columns if x != target_var]].copy()\n",
    "X = pd.get_dummies(X, columns=[x for x in df_train.columns if df_train[x].dtype==object])"
   ]
  },
  {
   "cell_type": "markdown",
   "metadata": {},
   "source": [
    "## 划分数据集"
   ]
  },
  {
   "cell_type": "code",
   "execution_count": 13,
   "metadata": {},
   "outputs": [
    {
     "name": "stdout",
     "output_type": "stream",
     "text": [
      "训练集'0'的个数为：644\n",
      "训练集'1'的个数为：126\n",
      "验证集'0'的个数为：278\n",
      "验证集'1'的个数为：52\n"
     ]
    }
   ],
   "source": [
    "X_train, X_test, y_train, y_test = train_test_split(X, y, test_size=0.3, random_state=45)\n",
    "print('训练集\\'0\\'的个数为：{}'.format(np.bincount(y_train)[0]))\n",
    "print('训练集\\'1\\'的个数为：{}'.format(np.bincount(y_train)[1]))\n",
    "print('验证集\\'0\\'的个数为：{}'.format(np.bincount(y_test)[0]))\n",
    "print('验证集\\'1\\'的个数为：{}'.format(np.bincount(y_test)[1]))"
   ]
  },
  {
   "cell_type": "markdown",
   "metadata": {},
   "source": [
    "## 建立模型\n",
    "### 建立朴素分类器\n",
    "因为在数据集中，Attrition=0的比例大于Attrition=1的比例，所以在朴素分类器中，将所有的结果预测为0。"
   ]
  },
  {
   "cell_type": "code",
   "execution_count": 9,
   "metadata": {},
   "outputs": [
    {
     "name": "stdout",
     "output_type": "stream",
     "text": [
      "0.8424\n"
     ]
    }
   ],
   "source": [
    "y_pred = np.zeros((len(X_test)))\n",
    "score = accuracy_score(y_test, y_pred)\n",
    "print(score.round(4))"
   ]
  },
  {
   "cell_type": "markdown",
   "metadata": {},
   "source": [
    "## 建立分类器评估函数"
   ]
  },
  {
   "cell_type": "code",
   "execution_count": 10,
   "metadata": {
    "collapsed": true
   },
   "outputs": [],
   "source": [
    "# 分类器评估函数\n",
    "kfold = StratifiedKFold(n_splits=10, random_state=45)\n",
    "def display_result(estimator, X_train, X_test, y_train, y_test, cv):\n",
    "    print('\\n===================== {} 测试结果 ====================='.format(estimator.__class__.__name__))\n",
    "    # 交叉验证\n",
    "    cv_result = cross_validate(estimator=estimator, cv=cv, X=X_train,y=y_train)\n",
    "    print('\\n交叉验证结果')\n",
    "    print('训练集： {:.4f}(+/-{:.4f})'.format(cv_result['train_score'].mean(), cv_result['train_score'].std()))\n",
    "    print('验证集： {:.4f}(+/-{:.4f})'.format(cv_result['test_score'].mean(), cv_result['test_score'].std()))\n",
    "    \n",
    "    estimator.fit(X_train, y_train)\n",
    "    train_pred = estimator.predict(X_train)\n",
    "    train_score = accuracy_score(y_true=y_train, y_pred=train_pred)\n",
    "    print('\\n训练集得分: {:.4f}'.format(train_score))\n",
    "    \n",
    "    test_pred = estimator.predict(X_test)\n",
    "    test_score = accuracy_score(y_true=y_test, y_pred=test_pred)\n",
    "    print('测试集得分: {:.4f}'.format(test_score))\n",
    "    \n",
    "    print('\\n验证报告')\n",
    "    print(classification_report(y_pred=test_pred, y_true=y_test, labels=[1, 0]))\n",
    "    \n",
    "    fig, (ax1, ax2) = plt.subplots(nrows=1, ncols=2, figsize=(13,5))\n",
    "    # 绘制混合矩阵\n",
    "    conf_mat = confusion_matrix(y_pred=test_pred, y_true=y_test)\n",
    "    sns.heatmap(conf_mat, annot=True, ax=ax1, annot_kws={'fontsize':15}, fmt='d', cmap=plt.cm.Blues)\n",
    "    \n",
    "    # 绘制ROC曲线\n",
    "    if hasattr(estimator, 'decision_function'):\n",
    "        y_score = estimator.decision_function(X_test)\n",
    "    else:\n",
    "        y_score = estimator.predict_proba(X_test)[:, 1]\n",
    "    fpr, tpr, _ = roc_curve(y_true=y_test, y_score=y_score)\n",
    "    roc_score = roc_auc_score(y_test, y_score)\n",
    "    ax2.plot(fpr, tpr)\n",
    "    ax2.plot([0,1], [0,1], 'b--')\n",
    "    ax2.set_title('{}, AUC={:.4f}'.format(estimator.__class__.__name__, roc_score))\n",
    "    \n",
    "    return estimator"
   ]
  },
  {
   "cell_type": "markdown",
   "metadata": {},
   "source": [
    "### Logistic回归分类器"
   ]
  },
  {
   "cell_type": "code",
   "execution_count": 15,
   "metadata": {},
   "outputs": [
    {
     "name": "stdout",
     "output_type": "stream",
     "text": [
      "\n",
      "交叉验证结果\n",
      "训练集： 0.8924(+/-0.0054)\n",
      "验证集： 0.8806(+/-0.0176)\n",
      "\n",
      "训练集得分: 0.8974\n",
      "测试集得分: 0.8818\n",
      "\n",
      "验证报告\n",
      "             precision    recall  f1-score   support\n",
      "\n",
      "          1       0.74      0.38      0.51        52\n",
      "          0       0.89      0.97      0.93       278\n",
      "\n",
      "avg / total       0.87      0.88      0.87       330\n",
      "\n"
     ]
    },
    {
     "data": {
      "text/plain": [
       "LogisticRegression(C=1.0, class_weight=None, dual=False, fit_intercept=True,\n",
       "          intercept_scaling=1, max_iter=100, multi_class='ovr', n_jobs=1,\n",
       "          penalty='l2', random_state=45, solver='liblinear', tol=0.0001,\n",
       "          verbose=0, warm_start=False)"
      ]
     },
     "execution_count": 15,
     "metadata": {},
     "output_type": "execute_result"
    },
    {
     "data": {
      "image/png": "[encoded data removed]",
      "text/plain": [
       "<matplotlib.figure.Figure at 0x1760e152128>"
      ]
     },
     "metadata": {},
     "output_type": "display_data"
    }
   ],
   "source": [
    "from sklearn.linear_model import LogisticRegression\n",
    "lr = LogisticRegression(random_state=45)\n",
    "display_result(lr, X_train, X_test, y_train, y_test, kfold)"
   ]
  },
  {
   "cell_type": "markdown",
   "metadata": {},
   "source": [
    "87.88%的准确率，结果似乎还可以，但是在朴素分类器中，准确率都有84%，Logistic回归的结果只是比猜测好一点。<br>\n",
    "同时，在分类结果上，‘1’的精度远没有‘0’的精度高，说明很多‘1’被判断为‘0’，而‘0’基本分类正确。判断原因可能是因为数据不平衡造成。<br>\n",
    "### 随机森林分类器"
   ]
  },
  {
   "cell_type": "code",
   "execution_count": 16,
   "metadata": {},
   "outputs": [
    {
     "name": "stdout",
     "output_type": "stream",
     "text": [
      "\n",
      "交叉验证结果\n",
      "训练集： 0.9817(+/-0.0037)\n",
      "验证集： 0.8363(+/-0.0197)\n",
      "\n",
      "训练集得分: 0.9779\n",
      "测试集得分: 0.8455\n",
      "\n",
      "验证报告\n",
      "             precision    recall  f1-score   support\n",
      "\n",
      "          1       0.54      0.13      0.22        52\n",
      "          0       0.86      0.98      0.91       278\n",
      "\n",
      "avg / total       0.81      0.85      0.80       330\n",
      "\n"
     ]
    },
    {
     "data": {
      "text/plain": [
       "RandomForestClassifier(bootstrap=True, class_weight=None, criterion='gini',\n",
       "            max_depth=None, max_features='auto', max_leaf_nodes=None,\n",
       "            min_impurity_decrease=0.0, min_impurity_split=None,\n",
       "            min_samples_leaf=1, min_samples_split=2,\n",
       "            min_weight_fraction_leaf=0.0, n_estimators=10, n_jobs=1,\n",
       "            oob_score=False, random_state=45, verbose=0, warm_start=False)"
      ]
     },
     "execution_count": 16,
     "metadata": {},
     "output_type": "execute_result"
    },
    {
     "data": {
      "image/png": "[encoded data removed]",
      "text/plain": [
       "<matplotlib.figure.Figure at 0x1760e2564e0>"
      ]
     },
     "metadata": {},
     "output_type": "display_data"
    }
   ],
   "source": [
    "rf = RandomForestClassifier(random_state=45)\n",
    "display_result(rf, X_train, X_test, y_train, y_test, kfold)"
   ]
  },
  {
   "cell_type": "code",
   "execution_count": null,
   "metadata": {
    "collapsed": true
   },
   "outputs": [],
   "source": [
    "from sklearn.linear_model import LogisticRegression\n",
    "from sklearn.svm import LinearSVC\n",
    "from sklearn.linear_model import SGDClassifier\n",
    "\n",
    "from sklearn.ensemble import RandomForestClassifier\n",
    "from sklearn.ensemble import AdaBoostClassifier\n",
    "from sklearn.ensemble import ExtraTreesClassifier\n",
    "from sklearn.ensemble import GradientBoostingClassifier"
   ]
  },
  {
   "cell_type": "code",
   "execution_count": 177,
   "metadata": {},
   "outputs": [
    {
     "data": {
      "text/plain": [
       "{0: 0.59352517985611508, 1: 3.1730769230769229}"
      ]
     },
     "execution_count": 177,
     "metadata": {},
     "output_type": "execute_result"
    }
   ],
   "source": [
    "from sklearn.utils.class_weight import compute_class_weight\n",
    "weight = compute_class_weight('balanced', classes=[0,1],y=y_test)\n",
    "class_weight = {0:weight[0], 1:weight[1]}\n",
    "class_weight"
   ]
  },
  {
   "cell_type": "code",
   "execution_count": 192,
   "metadata": {},
   "outputs": [
    {
     "name": "stdout",
     "output_type": "stream",
     "text": [
      "\n",
      "交叉验证结果\n",
      "训练集： 0.7776(+/-0.0136)\n",
      "验证集： 0.7443(+/-0.0388)\n",
      "\n",
      "训练集得分: 0.7714\n",
      "测试集得分: 0.7515\n",
      "\n",
      "验证报告\n",
      "             precision    recall  f1-score   support\n",
      "\n",
      "          1       0.36      0.71      0.47        52\n",
      "          0       0.93      0.76      0.84       278\n",
      "\n",
      "avg / total       0.84      0.75      0.78       330\n",
      "\n"
     ]
    },
    {
     "data": {
      "text/plain": [
       "LogisticRegression(C=1.0, class_weight='balanced', dual=False,\n",
       "          fit_intercept=True, intercept_scaling=1, max_iter=100,\n",
       "          multi_class='ovr', n_jobs=1, penalty='l2', random_state=45,\n",
       "          solver='liblinear', tol=0.0001, verbose=0, warm_start=False)"
      ]
     },
     "execution_count": 192,
     "metadata": {},
     "output_type": "execute_result"
    },
    {
     "data": {
      "image/png": "[encoded data removed]",
      "text/plain": [
       "<matplotlib.figure.Figure at 0x206d0b52588>"
      ]
     },
     "metadata": {},
     "output_type": "display_data"
    }
   ],
   "source": [
    "from sklearn.linear_model import LogisticRegression\n",
    "lr = LogisticRegression(random_state=45, class_weight='balanced')\n",
    "display_result(lr, X_train, X_test, y_train, y_test, kfold)"
   ]
  },
  {
   "cell_type": "code",
   "execution_count": 55,
   "metadata": {},
   "outputs": [
    {
     "data": {
      "text/plain": [
       "array(['NumCompaniesWorked', 'PercentSalaryHike', 'Education',\n",
       "       'PerformanceRating', 'RelationshipSatisfaction',\n",
       "       'TrainingTimesLastYear', 'WorkLifeBalance', 'Gender'], dtype=object)"
      ]
     },
     "execution_count": 55,
     "metadata": {},
     "output_type": "execute_result"
    }
   ],
   "source": [
    "feature_vs_target[feature_vs_target['P<0.05']==False]['col'].values"
   ]
  },
  {
   "cell_type": "code",
   "execution_count": 202,
   "metadata": {},
   "outputs": [
    {
     "name": "stdout",
     "output_type": "stream",
     "text": [
      "\n",
      "交叉验证结果\n",
      "训练集： 0.7958(+/-0.0061)\n",
      "验证集： 0.7780(+/-0.0266)\n",
      "\n",
      "训练集得分: 0.7919\n",
      "测试集得分: 0.7576\n",
      "\n",
      "验证报告\n",
      "             precision    recall  f1-score   support\n",
      "\n",
      "          1       0.35      0.65      0.46        52\n",
      "          0       0.92      0.78      0.84       278\n",
      "\n",
      "avg / total       0.83      0.76      0.78       330\n",
      "\n"
     ]
    },
    {
     "data": {
      "text/plain": [
       "LogisticRegression(C=1.0, class_weight=None, dual=False, fit_intercept=True,\n",
       "          intercept_scaling=1, max_iter=100, multi_class='ovr', n_jobs=1,\n",
       "          penalty='l2', random_state=45, solver='liblinear', tol=0.0001,\n",
       "          verbose=0, warm_start=False)"
      ]
     },
     "execution_count": 202,
     "metadata": {},
     "output_type": "execute_result"
    },
    {
     "data": {
      "image/png": "[encoded data removed]",
      "text/plain": [
       "<matplotlib.figure.Figure at 0x206d59a5048>"
      ]
     },
     "metadata": {},
     "output_type": "display_data"
    }
   ],
   "source": [
    "new_train = X_train.copy()\n",
    "new_test = X_test.copy()\n",
    "\n",
    "\n",
    "new_train['Age_Bank'] = pd.cut(new_train['Age'], bins=[17, 24, 54, 100], labels=['Young', 'Middle', 'Old'])\n",
    "new_test['Age_Bank'] = pd.cut(new_test['Age'], bins=[17, 24, 54, 100], labels=['Young', 'Middle', 'Old'])\n",
    "# new_train.drop(['NumCompaniesWorked', 'PercentSalaryHike', 'Education',\n",
    "#        'PerformanceRating', 'RelationshipSatisfaction',\n",
    "#        'TrainingTimesLastYear', 'WorkLifeBalance'], axis=1, inplace=True)\n",
    "# new_test.drop(['NumCompaniesWorked', 'PercentSalaryHike', 'Education',\n",
    "#        'PerformanceRating', 'RelationshipSatisfaction',\n",
    "#        'TrainingTimesLastYear', 'WorkLifeBalance'], axis=1, inplace=True)\n",
    "\n",
    "new_train['TotlaSatisfaction'] = new_train.filter(regex='Satisfaction|JobInvolvement|WorkLifeBalance')\\\n",
    "                                          .sum(axis=1)\n",
    "new_test['TotlaSatisfaction'] = new_test.filter(regex='Satisfaction|JobInvolvement|WorkLifeBalance')\\\n",
    "                                          .sum(axis=1)\n",
    "\n",
    "new_train = pd.get_dummies(new_train, columns=['Age_Bank'])\n",
    "new_test = pd.get_dummies(new_test, columns=['Age_Bank'])\n",
    "\n",
    "from imblearn.over_sampling import SMOTE\n",
    "smote = SMOTE(random_state=45)\n",
    "smote_x, smote_y = smote.fit_sample(new_train, y_train)\n",
    " \n",
    "display_result(lr, smote_x, new_test, smote_y, y_test, kfold)"
   ]
  },
  {
   "cell_type": "markdown",
   "metadata": {},
   "source": [
    "### 随机森林"
   ]
  },
  {
   "cell_type": "code",
   "execution_count": 203,
   "metadata": {},
   "outputs": [
    {
     "name": "stdout",
     "output_type": "stream",
     "text": [
      "\n",
      "交叉验证结果\n",
      "训练集： 0.9947(+/-0.0017)\n",
      "验证集： 0.9120(+/-0.1108)\n",
      "\n",
      "训练集得分: 0.9946\n",
      "测试集得分: 0.8636\n",
      "\n",
      "验证报告\n",
      "             precision    recall  f1-score   support\n",
      "\n",
      "          1       0.62      0.35      0.44        52\n",
      "          0       0.89      0.96      0.92       278\n",
      "\n",
      "avg / total       0.85      0.86      0.85       330\n",
      "\n"
     ]
    },
    {
     "data": {
      "image/png": "[encoded data removed]",
      "text/plain": [
       "<matplotlib.figure.Figure at 0x206d66032b0>"
      ]
     },
     "metadata": {},
     "output_type": "display_data"
    }
   ],
   "source": [
    "\n",
    "rf = RandomForestClassifier(random_state=45)\n",
    "rf = display_result(rf, smote_x, new_test, smote_y, y_test, kfold)"
   ]
  },
  {
   "cell_type": "code",
   "execution_count": 209,
   "metadata": {},
   "outputs": [
    {
     "name": "stdout",
     "output_type": "stream",
     "text": [
      "\n",
      "交叉验证结果\n",
      "训练集： 1.0000(+/-0.0000)\n",
      "验证集： 0.9198(+/-0.1214)\n",
      "\n",
      "训练集得分: 1.0000\n",
      "测试集得分: 0.8576\n",
      "\n",
      "验证报告\n",
      "             precision    recall  f1-score   support\n",
      "\n",
      "          1       0.57      0.38      0.46        52\n",
      "          0       0.89      0.95      0.92       278\n",
      "\n",
      "avg / total       0.84      0.86      0.85       330\n",
      "\n"
     ]
    },
    {
     "data": {
      "text/plain": [
       "XGBClassifier(base_score=0.5, booster='gbtree', colsample_bylevel=1,\n",
       "       colsample_bytree=0.8, gamma=0, learning_rate=0.1, max_delta_step=0,\n",
       "       max_depth=3, min_child_weight=1, missing=None, n_estimators=1000,\n",
       "       n_jobs=1, nthread=4, objective='reg:logistic', random_state=0,\n",
       "       reg_alpha=0, reg_lambda=1, scale_pos_weight=1.8, seed=45,\n",
       "       silent=True, subsample=0.8)"
      ]
     },
     "execution_count": 209,
     "metadata": {},
     "output_type": "execute_result"
    },
    {
     "data": {
      "image/png": "[encoded data removed]",
      "text/plain": [
       "<matplotlib.figure.Figure at 0x206d1524ef0>"
      ]
     },
     "metadata": {},
     "output_type": "display_data"
    }
   ],
   "source": [
    "import xgboost as xgb\n",
    "gbm = xgb.XGBClassifier(\n",
    "    learning_rate =0.1,\n",
    "    n_estimators=1000,\n",
    "    max_depth=3,\n",
    "    min_child_weight=1,\n",
    "    gamma=0,\n",
    "    subsample=0.8,\n",
    "    colsample_bytree=0.8,\n",
    "    objective='reg:logistic',\n",
    "    nthread=4,\n",
    "    scale_pos_weight=1.8,\n",
    "    seed=45)\n",
    "\n",
    "display_result(gbm, smote_x, np.array(new_test), smote_y, y_test, kfold)"
   ]
  },
  {
   "cell_type": "markdown",
   "metadata": {},
   "source": [
    "随机森林的结果比Logistic回归的结果更差，和朴素分类器的结果差不多。\n",
    "### 特征重要性"
   ]
  },
  {
   "cell_type": "code",
   "execution_count": 69,
   "metadata": {},
   "outputs": [
    {
     "data": {
      "text/plain": [
       "['MonthlyIncome',\n",
       " 'Age',\n",
       " 'TotlaSatisfaction',\n",
       " 'TotalWorkingYears',\n",
       " 'DistanceFromHome',\n",
       " 'YearsAtCompany',\n",
       " 'YearsWithCurrManager',\n",
       " 'OverTime_Yes',\n",
       " 'OverTime_No',\n",
       " 'PercentSalaryHike',\n",
       " 'YearsInCurrentRole',\n",
       " 'StockOptionLevel',\n",
       " 'NumCompaniesWorked',\n",
       " 'JobSatisfaction',\n",
       " 'WorkLifeBalance',\n",
       " 'TrainingTimesLastYear',\n",
       " 'EnvironmentSatisfaction',\n",
       " 'JobLevel',\n",
       " 'YearsSinceLastPromotion',\n",
       " 'RelationshipSatisfaction',\n",
       " 'Education',\n",
       " 'JobInvolvement',\n",
       " 'MaritalStatus_Single',\n",
       " 'BusinessTravel_Travel_Frequently',\n",
       " 'EducationField_Medical',\n",
       " 'MaritalStatus_Married',\n",
       " 'Age_Bank_Young',\n",
       " 'Gender_Male',\n",
       " 'Gender_Female',\n",
       " 'EducationField_Life Sciences',\n",
       " 'BusinessTravel_Travel_Rarely',\n",
       " 'EducationField_Technical Degree',\n",
       " 'Age_Bank_Middle',\n",
       " 'Department_Sales',\n",
       " 'JobRole_Laboratory Technician',\n",
       " 'Department_Research & Development',\n",
       " 'EducationField_Marketing',\n",
       " 'MaritalStatus_Divorced',\n",
       " 'JobRole_Research Scientist',\n",
       " 'JobRole_Sales Executive',\n",
       " 'JobRole_Sales Representative',\n",
       " 'PerformanceRating',\n",
       " 'BusinessTravel_Non-Travel',\n",
       " 'JobRole_Manufacturing Director',\n",
       " 'JobRole_Healthcare Representative',\n",
       " 'JobRole_Manager',\n",
       " 'EducationField_Other',\n",
       " 'JobRole_Human Resources',\n",
       " 'Department_Human Resources',\n",
       " 'EducationField_Human Resources',\n",
       " 'JobRole_Research Director']"
      ]
     },
     "execution_count": 69,
     "metadata": {},
     "output_type": "execute_result"
    }
   ],
   "source": [
    "feature_importances.index.tolist()"
   ]
  },
  {
   "cell_type": "code",
   "execution_count": 67,
   "metadata": {},
   "outputs": [
    {
     "data": {
      "image/png": "[encoded data removed]",
      "text/plain": [
       "<matplotlib.figure.Figure at 0x206d0657e10>"
      ]
     },
     "metadata": {},
     "output_type": "display_data"
    }
   ],
   "source": [
    "feature_importances = pd.DataFrame({'importances':rf.feature_importances_},\n",
    "                                   index=new_train.columns)\\\n",
    "                                   .sort_values(by='importances', ascending=False)\n",
    "feature_importances = feature_importances / feature_importances.max() * 100\n",
    "_ = feature_importances.plot(kind='bar', figsize=(15,5))"
   ]
  },
  {
   "cell_type": "code",
   "execution_count": null,
   "metadata": {
    "collapsed": true
   },
   "outputs": [],
   "source": [
    "from scipy.stats import levene\n",
    "for x in num_col:\n",
    "    s1 = df_train.loc[df_train['Attrition']==1, x]\n",
    "    s2 = df_train.loc[df_train['Attrition']==0, x]\n",
    "    s, p = levene(s1, s2)\n",
    "    if p < 0.05:\n",
    "        print('%s方差不齐'%x)"
   ]
  },
  {
   "cell_type": "code",
   "execution_count": null,
   "metadata": {
    "collapsed": true
   },
   "outputs": [],
   "source": [
    "data = df_train.copy()\n",
    "data[num_col] = data[num_col].apply(lambda x: np.log1p(x))\n",
    "from scipy.stats import levene, boxcox\n",
    "for x in num_col:\n",
    "    values, lam = boxcox(data[x].values+1)\n",
    "    data[x] = values\n",
    "    s1 = data.loc[data['Attrition']==1, x]\n",
    "    s2 = data.loc[data['Attrition']==0, x]\n",
    "    s, p = levene(s1, s2)\n",
    "    if p < 0.05:\n",
    "        print('%s方差不齐'%x)"
   ]
  },
  {
   "cell_type": "markdown",
   "metadata": {},
   "source": [
    "## 变量间的关系\n",
    "总的来说，特征变量包括连续变量和分类变量。\n",
    "* 连续变量间使用person相关系数判断两者之间是否有关联\n",
    "* 分类变量间使用卡方检验判断两者之间是否有关联\n",
    "* 连续变量和分类变量间\n",
    "    * 如果分类变量包含两个特征值，使用Z检验或T检验\n",
    "    * 如果分类变量包含两个以上的特征值，使用ANOVA方法\n",
    "\n",
    "**在特征变量和目标变量间，需要两者存在关联，但是对于特征变量之间，需要他们不存在关联**。"
   ]
  },
  {
   "cell_type": "code",
   "execution_count": null,
   "metadata": {
    "collapsed": true,
    "scrolled": false
   },
   "outputs": [],
   "source": [
    "all_features = num_col+ord_col+cat_col\n",
    "n = len(all_features)\n",
    "result = pd.DataFrame(columns=['VS', 'value', 'True/False'])\n",
    "for x in range(n):\n",
    "    for y in range(n):\n",
    "        if x >= y:\n",
    "            continue\n",
    "        vs = '{}<-->{}'.format(all_features[x], all_features[y])\n",
    "        if all_features[x] in num_col and all_features[y] in num_col:\n",
    "            corr = df_train[all_features[x]].corr(df_train[all_features[y]]).round(4)\n",
    "            result.loc[len(result)] = [vs, corr, fabs(corr)>0.65]\n",
    "        elif all_features[x] in num_col and all_features[y] != num_col:\n",
    "            p = calc_p_value(df_train, all_features[x], all_features[y])\n",
    "            result.loc[len(result)] = [vs, p, p<0.05]\n",
    "        else:\n",
    "            p = get_chi2_value(df_train, all_features[x], all_features[y])\n",
    "            result.loc[len(result)] = [vs, p, p<0.05]"
   ]
  },
  {
   "cell_type": "code",
   "execution_count": null,
   "metadata": {
    "collapsed": true
   },
   "outputs": [],
   "source": [
    "result[result['True/False']==True]"
   ]
  },
  {
   "cell_type": "code",
   "execution_count": null,
   "metadata": {
    "collapsed": true
   },
   "outputs": [],
   "source": [
    "sns.pairplot(data=df_train[num_col+[target_var]], hue='Attrition')"
   ]
  },
  {
   "cell_type": "markdown",
   "metadata": {},
   "source": [
    "对照上面的两张图，可以看出：\n",
    "1. 和时间有关的特征，基本呈现一种正相关的关系。其中相关系数比较大的有：**Age和TotalWorkingYeas**，**TotalWorkingYears和YearsAtCompany**， **YearsAtCompnay和YearsInCurrRole、YearsWithCurrManager**；\n",
    "2. **MonthlyIncome和TotalWorkingYears**的相关系数比较大；\n",
    "3. **PercentSalaryHike**和其他变量都没有关系\n",
    "从上面的图上还可以看出，有些特征分布的非常广，存在长尾，比如MonthlyIncome。"
   ]
  },
  {
   "cell_type": "code",
   "execution_count": null,
   "metadata": {
    "collapsed": true
   },
   "outputs": [],
   "source": [
    "# 检查每个连续变量的偏度\n",
    "for col in num_col:\n",
    "    print('{}------{:.4f}'.format(col, df_train[col].skew()))"
   ]
  },
  {
   "cell_type": "markdown",
   "metadata": {},
   "source": [
    "MonthlyIncome,YearsAtCompany和YearsSinceLastPromotion的偏度还是非常大。考虑到有些连续特征的特征值可能为0，比如YearAtCompany，如果进行对数变换，某些取值就会为NA，因此采用开平方转换。"
   ]
  },
  {
   "cell_type": "code",
   "execution_count": null,
   "metadata": {
    "collapsed": true
   },
   "outputs": [],
   "source": [
    "sqrt_num_col = []\n",
    "for col in num_col:\n",
    "    name = col + '_sqrt'\n",
    "    sqrt_num_col.append(name)\n",
    "    df_train[name] = np.sqrt(df_train[col])\n",
    "    print('{}------{:.4f}'.format(name, df_train[name].skew()))\n",
    "sns.pairplot(data=df_train[sqrt_num_col+[target_var]], hue='Attrition')"
   ]
  },
  {
   "cell_type": "code",
   "execution_count": null,
   "metadata": {
    "collapsed": true
   },
   "outputs": [],
   "source": [
    "sns.heatmap(df_train[sqrt_num_col].corr(), annot=True)"
   ]
  },
  {
   "cell_type": "markdown",
   "metadata": {},
   "source": [
    "### 分类变量分析"
   ]
  },
  {
   "cell_type": "code",
   "execution_count": null,
   "metadata": {
    "collapsed": true,
    "scrolled": false
   },
   "outputs": [],
   "source": [
    "for col in cat_col:\n",
    "    fig, (ax1, ax2) = plt.subplots(nrows=1, ncols=2, figsize=(15,5))\n",
    "    sns.countplot(x=col, data=df_train, ax=ax1)\n",
    "    sns.barplot(x=col, y=target_var, data=df_train, ax=ax2)\n",
    "    ax1.set_title('Frequency')\n",
    "    ax2.set_title('Attrition')"
   ]
  },
  {
   "cell_type": "markdown",
   "metadata": {},
   "source": [
    "从上面的图可以看出，有些特征在样本中所在的比例非常小，比如在DepartMent和EducationField中，HumanResource在样本中所在的比例非常小，在特征处理中，可以考虑将这类特征值与其他特征值合并。\n",
    "\n",
    "在分类变量中，有Department，EducationField，我觉得这些变量似乎存在关系，比如学习human resource的不太可能去从事research的工作。用卡方检验检查这些变量之间的关系。"
   ]
  },
  {
   "cell_type": "code",
   "execution_count": null,
   "metadata": {
    "collapsed": true
   },
   "outputs": [],
   "source": [
    "contingency_table = df_train.pivot_table(index='Department', columns='EducationField', values='sum', aggfunc=sum).fillna(0)\n",
    "print(stats.chi2_contingency(contingency_table))\n",
    "contingency_table.plot(kind='bar', figsize=(15,5), rot=0)"
   ]
  },
  {
   "cell_type": "markdown",
   "metadata": {},
   "source": [
    "零假设是Department和EducationField相互独立，显著性水平是0.05。计算得到的p值远小于0.05，所以拒绝零假设，即两个变量之间不独立。<br>\n",
    "从图中也可以看出，学习human resource的员工，全部在human resource部门，学习life sciences和medical的大多从事research的工作，有些从事的是human resource工作。学习marketing几乎全在sales部门。<br>\n",
    "同样用卡方检验，分析其他变量之间的关系，直接筛选除P值小于0.05的变量组。"
   ]
  },
  {
   "cell_type": "code",
   "execution_count": null,
   "metadata": {
    "collapsed": true
   },
   "outputs": [],
   "source": [
    "for x in cat_col:\n",
    "    for y in cat_col:\n",
    "        if x != y:\n",
    "            contingency_table = df_train.pivot_table(index=x, columns=y, values='sum', aggfunc=sum).fillna(0)\n",
    "            _, p, _, _ = stats.chi2_contingency(contingency_table)\n",
    "            if p <= 0.05:\n",
    "                print('{}<----->{}, pvalue={:.4f}'.format(x, y, p))"
   ]
  },
  {
   "cell_type": "markdown",
   "metadata": {},
   "source": [
    "从上面的结果可以看出:\n",
    "1. Department, EducationField, JobRole三者之间不独立\n",
    "2. EducationField与MaritalStatus不独立\n",
    "\n",
    "所以，可以在分类变量中删除EducationField和JobRole。"
   ]
  },
  {
   "cell_type": "markdown",
   "metadata": {},
   "source": [
    "### 有序变量分析"
   ]
  },
  {
   "cell_type": "code",
   "execution_count": null,
   "metadata": {
    "collapsed": true
   },
   "outputs": [],
   "source": [
    "for col in ord_col:\n",
    "    fig, (ax1, ax2) = plt.subplots(nrows=1, ncols=2, figsize=(15,5))\n",
    "    sns.countplot(x=col, data=df_train, ax=ax1)\n",
    "    sns.barplot(x=col, y=target_var, data=df_train, ax=ax2)\n",
    "    ax1.set_title('Frequency')\n",
    "    ax2.set_title('Attrition')"
   ]
  },
  {
   "cell_type": "markdown",
   "metadata": {},
   "source": [
    "同样，对于有序变量来说，部分样本所在比例很低，可以考虑将它们和其他变量合并。\n",
    "\n",
    "对有序变量进行卡方检验。"
   ]
  },
  {
   "cell_type": "code",
   "execution_count": null,
   "metadata": {
    "collapsed": true
   },
   "outputs": [],
   "source": [
    "for x in ord_col:\n",
    "    for y in ord_col:\n",
    "        if x != y:\n",
    "            contingency_table = df_train.pivot_table(index=x, columns=y, values='sum', aggfunc=sum).fillna(0)\n",
    "            _, p, _, _ = stats.chi2_contingency(contingency_table)\n",
    "            if p<=0.05:\n",
    "                print('{}<----->{}, pvalue={:.4f}'.format(x, y, p))"
   ]
  },
  {
   "cell_type": "markdown",
   "metadata": {},
   "source": [
    "根据卡方检验的结果，可以得到结论：\n",
    "1. Education，JobLevel，StockOptionLevel三者之间存在关联关系\n",
    "2. 环境满意度和工作投入度不独立"
   ]
  },
  {
   "cell_type": "code",
   "execution_count": null,
   "metadata": {
    "collapsed": true
   },
   "outputs": [],
   "source": [
    "for x in ord_col+cat_col:\n",
    "    for y in ord_col+cat_col:\n",
    "        if x != y:\n",
    "            contingency_table = df_train.pivot_table(index=x, columns=y, values='sum', aggfunc=sum).fillna(0)\n",
    "            _, p, _, _ = stats.chi2_contingency(contingency_table)\n",
    "            if p<=0.05:\n",
    "                print('{}<----->{}, pvalue={:.4f}'.format(x, y, p))"
   ]
  },
  {
   "cell_type": "markdown",
   "metadata": {},
   "source": [
    "## 异常检测"
   ]
  },
  {
   "cell_type": "code",
   "execution_count": null,
   "metadata": {
    "collapsed": true
   },
   "outputs": [],
   "source": [
    "# 将分类变量转换为数值型\n",
    "label_enc = LabelEncoder()\n",
    "for col in cat_col:\n",
    "    df_train[col] = label_enc.fit_transform(df_train[col])"
   ]
  },
  {
   "cell_type": "code",
   "execution_count": null,
   "metadata": {
    "collapsed": true
   },
   "outputs": [],
   "source": [
    "from collections import Counter\n",
    "outliers_cnt = Counter()\n",
    "for col in sqrt_num_col+ord_col+cat_col:\n",
    "    Q1 = np.percentile(df_train[col], 25)\n",
    "    Q3 = np.percentile(df_train[col], 75)\n",
    "    step = 1.5 * (Q3 - Q1)\n",
    "    \n",
    "    print(\"Data points considered outliers for the feature '{}':\".format(col), end='')\n",
    "    outlets_df = df_train[~((df_train[col] >= Q1 - step) & (df_train[col] <= Q3 + step))]\n",
    "    outlets_num = len(outlets_df)\n",
    "    print('异常点个数:{}'.format(outlets_num))\n",
    "    for index in outlets_df.index:\n",
    "        outliers_cnt[index] += 1\n",
    "        \n",
    "outlet_sample = [x for x in outliers_cnt if outliers_cnt[x]>1]\n",
    "print('\\n在超过一个特征被视为异常点的样本一共有:{}个,占比{:.4f}，分别是：'.format(len(outlet_sample), len(outlet_sample)/1100))\n",
    "print(outlet_sample)"
   ]
  },
  {
   "cell_type": "markdown",
   "metadata": {},
   "source": [
    "## 保存数据"
   ]
  },
  {
   "cell_type": "code",
   "execution_count": null,
   "metadata": {
    "collapsed": true
   },
   "outputs": [],
   "source": [
    "# 连续变量开平方转换\n",
    "df_train[num_col] = np.sqrt(df_train[num_col])"
   ]
  },
  {
   "cell_type": "code",
   "execution_count": null,
   "metadata": {
    "collapsed": true
   },
   "outputs": [],
   "source": [
    "# 删除异常值\n",
    "df_train.drop(outlet_sample, axis=0, inplace=True)"
   ]
  },
  {
   "cell_type": "code",
   "execution_count": null,
   "metadata": {
    "collapsed": true
   },
   "outputs": [],
   "source": [
    "df_train.drop(['sum', 'Over18', 'EmployeeNumber', 'StandardHours'], axis=1, inplace=True)"
   ]
  },
  {
   "cell_type": "code",
   "execution_count": null,
   "metadata": {
    "collapsed": true
   },
   "outputs": [],
   "source": [
    "df_train.head()"
   ]
  },
  {
   "cell_type": "code",
   "execution_count": null,
   "metadata": {
    "collapsed": true
   },
   "outputs": [],
   "source": [
    "df_train.to_csv('../dataset/pfm_modified.csv', index=False)"
   ]
  },
  {
   "cell_type": "code",
   "execution_count": null,
   "metadata": {
    "collapsed": true
   },
   "outputs": [],
   "source": []
  }
 ],
 "metadata": {
  "kernelspec": {
   "display_name": "Python 3",
   "language": "python",
   "name": "python3"
  },
  "language_info": {
   "codemirror_mode": {
    "name": "ipython",
    "version": 3
   },
   "file_extension": ".py",
   "mimetype": "text/x-python",
   "name": "python",
   "nbconvert_exporter": "python",
   "pygments_lexer": "ipython3",
   "version": "3.6.2"
  }
 },
 "nbformat": 4,
 "nbformat_minor": 2
}
