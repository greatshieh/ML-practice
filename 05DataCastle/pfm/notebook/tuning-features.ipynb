{
 "cells": [
  {
   "cell_type": "code",
   "execution_count": 236,
   "metadata": {},
   "outputs": [],
   "source": [
    "import pandas as pd\n",
    "import numpy as np\n",
    "import pprint\n",
    "import xgboost as xgb\n",
    "import warnings\n",
    "warnings.filterwarnings('ignore')\n",
    "\n",
    "from sklearn.linear_model import LogisticRegression\n",
    "\n",
    "from sklearn.ensemble import RandomForestClassifier\n",
    "from sklearn.ensemble import GradientBoostingClassifier\n",
    "from sklearn.ensemble import AdaBoostClassifier\n",
    "from sklearn.ensemble import ExtraTreesClassifier\n",
    "from sklearn.ensemble import VotingClassifier\n",
    "\n",
    "from sklearn.model_selection import train_test_split\n",
    "from sklearn.model_selection import GridSearchCV\n",
    "from sklearn.model_selection import StratifiedKFold\n",
    "from sklearn.model_selection import cross_val_score\n",
    "\n",
    "from sklearn.discriminant_analysis import LinearDiscriminantAnalysis\n",
    "\n",
    "from sklearn.metrics import accuracy_score\n",
    "\n",
    "from sklearn.externals import joblib\n",
    "from sklearn.preprocessing import LabelEncoder\n",
    "\n",
    "import sys\n",
    "sys.path.append('../code')\n",
    "\n",
    "import discretization"
   ]
  },
  {
   "cell_type": "code",
   "execution_count": 237,
   "metadata": {},
   "outputs": [],
   "source": [
    "df_train = pd.read_csv('../dataset/pfm_train.csv')\n",
    "df_test = pd.read_csv('../dataset/pfm_test.csv')\n",
    "\n",
    "df_train['source'] = 'train'\n",
    "df_test['source'] = 'test'\n",
    "\n",
    "df = pd.concat([df_train, df_test], axis=0)\n",
    "\n",
    "df.drop(['Over18', 'StandardHours', 'EmployeeNumber'], axis=1, inplace=True)"
   ]
  },
  {
   "cell_type": "code",
   "execution_count": 238,
   "metadata": {},
   "outputs": [],
   "source": [
    "nan_number = [x for x in df.dtypes.index if df.dtypes[x] == 'object' and x != 'source']\n",
    "for col in nan_number:\n",
    "    encoder = LabelEncoder()\n",
    "    df[col] = encoder.fit_transform(df[col])"
   ]
  },
  {
   "cell_type": "code",
   "execution_count": 241,
   "metadata": {
    "collapsed": true
   },
   "outputs": [],
   "source": [
    "target_var = 'Attrition'\n",
    "predictor = [x for x in df.columns if x not in ['source'] ]"
   ]
  },
  {
   "cell_type": "code",
   "execution_count": 244,
   "metadata": {
    "collapsed": true
   },
   "outputs": [],
   "source": [
    "df_train = df[df['source']=='train'].copy()\n",
    "df_test = df[df['source']=='test'].copy()"
   ]
  },
  {
   "cell_type": "code",
   "execution_count": 245,
   "metadata": {},
   "outputs": [
    {
     "name": "stdout",
     "output_type": "stream",
     "text": [
      "基本信息增益是: 3.281446\n",
      "Age的最佳划分点是 33.500000, 最大信息增益是 2.671735。\n",
      "BusinessTravel的最佳划分点是 0.500000, 最大信息增益是 2.646939。\n",
      "Department的最佳划分点是 1.500000, 最大信息增益是 2.646455。\n",
      "DistanceFromHome的最佳划分点是 10.500000, 最大信息增益是 2.649758。\n",
      "Education的最佳划分点是 4.500000, 最大信息增益是 2.645389。\n",
      "EducationField的最佳划分点是 4.500000, 最大信息增益是 2.645434。\n",
      "EnvironmentSatisfaction的最佳划分点是 1.500000, 最大信息增益是 2.651310。\n",
      "Gender的最佳划分点是 0.500000, 最大信息增益是 2.643008。\n",
      "JobInvolvement的最佳划分点是 1.500000, 最大信息增益是 2.655163。\n",
      "JobLevel的最佳划分点是 1.500000, 最大信息增益是 2.672332。\n",
      "JobRole的最佳划分点是 7.500000, 最大信息增益是 2.656099。\n",
      "JobSatisfaction的最佳划分点是 1.500000, 最大信息增益是 2.650642。\n",
      "MaritalStatus的最佳划分点是 1.500000, 最大信息增益是 2.666477。\n",
      "MonthlyIncome的最佳划分点是 2487.500000, 最大信息增益是 2.672683。\n",
      "NumCompaniesWorked的最佳划分点是 4.500000, 最大信息增益是 2.645148。\n",
      "OverTime的最佳划分点是 0.500000, 最大信息增益是 2.689530。\n",
      "PercentSalaryHike的最佳划分点是 21.500000, 最大信息增益是 2.645870。\n",
      "PerformanceRating的最佳划分点是 3.500000, 最大信息增益是 2.644305。\n",
      "RelationshipSatisfaction的最佳划分点是 1.500000, 最大信息增益是 2.645120。\n",
      "StockOptionLevel的最佳划分点是 0.500000, 最大信息增益是 2.675017。\n",
      "TotalWorkingYears的最佳划分点是 2.500000, 最大信息增益是 2.674621。\n",
      "TrainingTimesLastYear的最佳划分点是 0.500000, 最大信息增益是 2.644339。\n",
      "WorkLifeBalance的最佳划分点是 1.500000, 最大信息增益是 2.646100。\n",
      "YearsAtCompany的最佳划分点是 2.500000, 最大信息增益是 2.668620。\n",
      "YearsInCurrentRole的最佳划分点是 2.500000, 最大信息增益是 2.662245。\n",
      "YearsSinceLastPromotion的最佳划分点是 7.500000, 最大信息增益是 2.649361。\n",
      "YearsWithCurrManager的最佳划分点是 0.500000, 最大信息增益是 2.667909。\n"
     ]
    }
   ],
   "source": [
    "df_Ent = discretization.discretization(df_train[predictor], 'Attrition')"
   ]
  },
  {
   "cell_type": "code",
   "execution_count": 248,
   "metadata": {},
   "outputs": [],
   "source": [
    "from sklearn.preprocessing import Binarizer\n",
    "for col in df_Ent.keys():\n",
    "    bin_encoder = Binarizer(df_Ent[col]['best_point'])\n",
    "    df[col] = bin_encoder.fit_transform(df[col].reshape(-1,1))"
   ]
  },
  {
   "cell_type": "code",
   "execution_count": 249,
   "metadata": {},
   "outputs": [
    {
     "data": {
      "text/html": [
       "<div>\n",
       "<style>\n",
       "    .dataframe thead tr:only-child th {\n",
       "        text-align: right;\n",
       "    }\n",
       "\n",
       "    .dataframe thead th {\n",
       "        text-align: left;\n",
       "    }\n",
       "\n",
       "    .dataframe tbody tr th {\n",
       "        vertical-align: top;\n",
       "    }\n",
       "</style>\n",
       "<table border=\"1\" class=\"dataframe\">\n",
       "  <thead>\n",
       "    <tr style=\"text-align: right;\">\n",
       "      <th></th>\n",
       "      <th>Age</th>\n",
       "      <th>Attrition</th>\n",
       "      <th>BusinessTravel</th>\n",
       "      <th>Department</th>\n",
       "      <th>DistanceFromHome</th>\n",
       "      <th>Education</th>\n",
       "      <th>EducationField</th>\n",
       "      <th>EnvironmentSatisfaction</th>\n",
       "      <th>Gender</th>\n",
       "      <th>JobInvolvement</th>\n",
       "      <th>...</th>\n",
       "      <th>RelationshipSatisfaction</th>\n",
       "      <th>StockOptionLevel</th>\n",
       "      <th>TotalWorkingYears</th>\n",
       "      <th>TrainingTimesLastYear</th>\n",
       "      <th>WorkLifeBalance</th>\n",
       "      <th>YearsAtCompany</th>\n",
       "      <th>YearsInCurrentRole</th>\n",
       "      <th>YearsSinceLastPromotion</th>\n",
       "      <th>YearsWithCurrManager</th>\n",
       "      <th>source</th>\n",
       "    </tr>\n",
       "  </thead>\n",
       "  <tbody>\n",
       "    <tr>\n",
       "      <th>0</th>\n",
       "      <td>1</td>\n",
       "      <td>0.0</td>\n",
       "      <td>1</td>\n",
       "      <td>0</td>\n",
       "      <td>0</td>\n",
       "      <td>0</td>\n",
       "      <td>0</td>\n",
       "      <td>0</td>\n",
       "      <td>1</td>\n",
       "      <td>1</td>\n",
       "      <td>...</td>\n",
       "      <td>1</td>\n",
       "      <td>1</td>\n",
       "      <td>1</td>\n",
       "      <td>1</td>\n",
       "      <td>1</td>\n",
       "      <td>1</td>\n",
       "      <td>1</td>\n",
       "      <td>0</td>\n",
       "      <td>1</td>\n",
       "      <td>train</td>\n",
       "    </tr>\n",
       "    <tr>\n",
       "      <th>1</th>\n",
       "      <td>1</td>\n",
       "      <td>0.0</td>\n",
       "      <td>1</td>\n",
       "      <td>0</td>\n",
       "      <td>0</td>\n",
       "      <td>0</td>\n",
       "      <td>0</td>\n",
       "      <td>1</td>\n",
       "      <td>0</td>\n",
       "      <td>1</td>\n",
       "      <td>...</td>\n",
       "      <td>0</td>\n",
       "      <td>1</td>\n",
       "      <td>1</td>\n",
       "      <td>1</td>\n",
       "      <td>0</td>\n",
       "      <td>1</td>\n",
       "      <td>1</td>\n",
       "      <td>0</td>\n",
       "      <td>1</td>\n",
       "      <td>train</td>\n",
       "    </tr>\n",
       "    <tr>\n",
       "      <th>2</th>\n",
       "      <td>1</td>\n",
       "      <td>1.0</td>\n",
       "      <td>1</td>\n",
       "      <td>0</td>\n",
       "      <td>0</td>\n",
       "      <td>0</td>\n",
       "      <td>0</td>\n",
       "      <td>0</td>\n",
       "      <td>1</td>\n",
       "      <td>0</td>\n",
       "      <td>...</td>\n",
       "      <td>1</td>\n",
       "      <td>0</td>\n",
       "      <td>1</td>\n",
       "      <td>1</td>\n",
       "      <td>1</td>\n",
       "      <td>1</td>\n",
       "      <td>1</td>\n",
       "      <td>0</td>\n",
       "      <td>1</td>\n",
       "      <td>train</td>\n",
       "    </tr>\n",
       "    <tr>\n",
       "      <th>3</th>\n",
       "      <td>1</td>\n",
       "      <td>0.0</td>\n",
       "      <td>1</td>\n",
       "      <td>0</td>\n",
       "      <td>0</td>\n",
       "      <td>0</td>\n",
       "      <td>0</td>\n",
       "      <td>1</td>\n",
       "      <td>0</td>\n",
       "      <td>1</td>\n",
       "      <td>...</td>\n",
       "      <td>1</td>\n",
       "      <td>1</td>\n",
       "      <td>1</td>\n",
       "      <td>1</td>\n",
       "      <td>1</td>\n",
       "      <td>1</td>\n",
       "      <td>1</td>\n",
       "      <td>1</td>\n",
       "      <td>1</td>\n",
       "      <td>train</td>\n",
       "    </tr>\n",
       "    <tr>\n",
       "      <th>4</th>\n",
       "      <td>0</td>\n",
       "      <td>1.0</td>\n",
       "      <td>1</td>\n",
       "      <td>0</td>\n",
       "      <td>0</td>\n",
       "      <td>0</td>\n",
       "      <td>0</td>\n",
       "      <td>0</td>\n",
       "      <td>1</td>\n",
       "      <td>1</td>\n",
       "      <td>...</td>\n",
       "      <td>0</td>\n",
       "      <td>1</td>\n",
       "      <td>0</td>\n",
       "      <td>1</td>\n",
       "      <td>1</td>\n",
       "      <td>0</td>\n",
       "      <td>0</td>\n",
       "      <td>0</td>\n",
       "      <td>0</td>\n",
       "      <td>train</td>\n",
       "    </tr>\n",
       "  </tbody>\n",
       "</table>\n",
       "<p>5 rows × 29 columns</p>\n",
       "</div>"
      ],
      "text/plain": [
       "   Age  Attrition  BusinessTravel  Department  DistanceFromHome  Education  \\\n",
       "0    1        0.0               1           0                 0          0   \n",
       "1    1        0.0               1           0                 0          0   \n",
       "2    1        1.0               1           0                 0          0   \n",
       "3    1        0.0               1           0                 0          0   \n",
       "4    0        1.0               1           0                 0          0   \n",
       "\n",
       "   EducationField  EnvironmentSatisfaction  Gender  JobInvolvement   ...    \\\n",
       "0               0                        0       1               1   ...     \n",
       "1               0                        1       0               1   ...     \n",
       "2               0                        0       1               0   ...     \n",
       "3               0                        1       0               1   ...     \n",
       "4               0                        0       1               1   ...     \n",
       "\n",
       "   RelationshipSatisfaction  StockOptionLevel  TotalWorkingYears  \\\n",
       "0                         1                 1                  1   \n",
       "1                         0                 1                  1   \n",
       "2                         1                 0                  1   \n",
       "3                         1                 1                  1   \n",
       "4                         0                 1                  0   \n",
       "\n",
       "   TrainingTimesLastYear  WorkLifeBalance  YearsAtCompany  YearsInCurrentRole  \\\n",
       "0                      1                1               1                   1   \n",
       "1                      1                0               1                   1   \n",
       "2                      1                1               1                   1   \n",
       "3                      1                1               1                   1   \n",
       "4                      1                1               0                   0   \n",
       "\n",
       "   YearsSinceLastPromotion  YearsWithCurrManager  source  \n",
       "0                        0                     1   train  \n",
       "1                        0                     1   train  \n",
       "2                        0                     1   train  \n",
       "3                        1                     1   train  \n",
       "4                        0                     0   train  \n",
       "\n",
       "[5 rows x 29 columns]"
      ]
     },
     "execution_count": 249,
     "metadata": {},
     "output_type": "execute_result"
    }
   ],
   "source": [
    "df_train = df[df['source']=='train'].copy()\n",
    "df_test = df[df['source']=='test'].copy()"
   ]
  },
  {
   "cell_type": "code",
   "execution_count": 250,
   "metadata": {
    "collapsed": true
   },
   "outputs": [],
   "source": [
    "predictor = [x for x in df.columns if x not in ['source', 'Attrition'] ]"
   ]
  },
  {
   "cell_type": "code",
   "execution_count": 251,
   "metadata": {
    "collapsed": true
   },
   "outputs": [],
   "source": [
    "kfold = StratifiedKFold(n_splits=10, random_state=7)\n",
    "\n",
    "X_train = df_train.loc[train_inx,predictor]\n",
    "y_train = df_train.loc[train_inx, target_var]\n",
    "X_test = df_train.loc[test_inx,predictor]\n",
    "y_test = df_train.loc[test_inx, target_var]"
   ]
  },
  {
   "cell_type": "code",
   "execution_count": 199,
   "metadata": {},
   "outputs": [],
   "source": [
    "validation_size = 0.3\n",
    "seed = 7\n",
    "scoring = 'accuracy'\n",
    "X_train, X_test, y_train, y_test = train_test_split(\n",
    "    df_train[predictor],\n",
    "    df_train[target_var],\n",
    "    test_size=validation_size,\n",
    "    random_state=seed)\n",
    "kfold = StratifiedKFold(n_splits=10, random_state=seed)"
   ]
  },
  {
   "cell_type": "code",
   "execution_count": 200,
   "metadata": {
    "collapsed": true
   },
   "outputs": [],
   "source": [
    "def cross_val(model, X_train, y_train, X_test, y_test, kfold):\n",
    "    cv_results = cross_val_score(\n",
    "        model, X_train, y_train, cv=kfold, scoring=scoring)\n",
    "    print('cv-mean: %.4f, cv-std: %.4f' % (cv_results.mean(),\n",
    "                                           cv_results.std()))\n",
    "    model.fit(X_train, y_train)\n",
    "    train_result = model.predict(X_train)\n",
    "    pred_result = model.predict(X_test)\n",
    "    train_score = accuracy_score(y_train, train_result)\n",
    "    pred_score = accuracy_score(y_test, pred_result)\n",
    "    print('训练集分数:  %.4f' % train_score)\n",
    "    print('测试集分数： %.4f' % pred_score)\n",
    "    return"
   ]
  },
  {
   "cell_type": "code",
   "execution_count": 201,
   "metadata": {},
   "outputs": [],
   "source": [
    "def tunning_params(model, params, scoring=scoring, kfold=kfold, X_train=X_train,\n",
    "                   y_train=y_train, X_test=X_test, y_test=y_test):\n",
    "    grid_search = GridSearchCV(\n",
    "    estimator=model, param_grid=params, scoring=scoring, cv=kfold).fit(\n",
    "        X_train, y_train)\n",
    "    print('优化后模型:')\n",
    "    print('最佳参数: %s' % str(grid_search.best_params_))\n",
    "    print('最佳得分: %.4f' % grid_search.best_score_)\n",
    "    model = model.set_params(**(grid_search.best_params_))\n",
    "    cross_val(model, X_train, y_train, X_test, y_test, kfold)\n",
    "    return model"
   ]
  },
  {
   "cell_type": "code",
   "execution_count": 262,
   "metadata": {},
   "outputs": [
    {
     "data": {
      "text/plain": [
       "0.86818181818181817"
      ]
     },
     "execution_count": 262,
     "metadata": {},
     "output_type": "execute_result"
    }
   ],
   "source": [
    "base_score = 0.8\n",
    "for i in range(0, 5000):\n",
    "    X_train, X_test, y_train, y_test = train_test_split(df_train[predictor]\n",
    "                                                        ,df_train[target_var], test_size=0.2)\n",
    "    lm = LogisticRegression()\n",
    "    lm.fit(X_train, y_train)\n",
    "    lmp = lm.predict(X_test)\n",
    "    xxx = lm.score(X_test, y_test)\n",
    "    if xxx > 0.94:\n",
    "        break\n",
    "xxx"
   ]
  },
  {
   "cell_type": "code",
   "execution_count": 261,
   "metadata": {
    "scrolled": true
   },
   "outputs": [
    {
     "name": "stdout",
     "output_type": "stream",
     "text": [
      "原始模型:\n",
      "cv-mean: 0.8768, cv-std: 0.0366\n",
      "训练集分数:  0.8870\n",
      "测试集分数： 0.8273\n",
      "优化后模型:\n",
      "最佳参数: {'C': 1, 'penalty': 'l2', 'tol': 1e-05}\n",
      "最佳得分: 0.8779\n",
      "cv-mean: 0.8781, cv-std: 0.0361\n",
      "训练集分数:  0.8870\n",
      "测试集分数： 0.8273\n"
     ]
    }
   ],
   "source": [
    "lrm = LogisticRegression()\n",
    "parameters = {\n",
    "    'penalty': ['l1', 'l2'],\n",
    "    'C': [0.01, 0.1, 1, 1.2, 1.5, 2],\n",
    "    'tol': [1e-6, 1e-5, 1e-4]\n",
    "}\n",
    "\n",
    "print('原始模型:')\n",
    "cross_val(lrm, X_train, y_train, X_test, y_test, kfold)\n",
    "\n",
    "lrm = tunning_params(lrm, parameters)"
   ]
  },
  {
   "cell_type": "markdown",
   "metadata": {},
   "source": [
    "## 随机森林的调参过程\n",
    "### 默认参数的模型性能"
   ]
  },
  {
   "cell_type": "code",
   "execution_count": 114,
   "metadata": {},
   "outputs": [
    {
     "name": "stdout",
     "output_type": "stream",
     "text": [
      "原始模型:\n",
      "cv-mean: 0.8387, cv-std: 0.0210\n",
      "训练集分数:  0.9807\n",
      "测试集分数： 0.9000\n"
     ]
    }
   ],
   "source": [
    "rfm = RandomForestClassifier(random_state=seed)\n",
    "print('原始模型:')\n",
    "cross_val(rfm, X_train, y_train, X_test, y_test, kfold)"
   ]
  },
  {
   "cell_type": "markdown",
   "metadata": {},
   "source": [
    "### 确定最佳的n_estimators"
   ]
  },
  {
   "cell_type": "code",
   "execution_count": 115,
   "metadata": {},
   "outputs": [
    {
     "name": "stdout",
     "output_type": "stream",
     "text": [
      "优化后模型:\n",
      "最佳参数: {'n_estimators': 30}\n",
      "最佳得分: 0.8675\n",
      "cv-mean: 0.8677, cv-std: 0.0167\n",
      "训练集分数:  0.9987\n",
      "测试集分数： 0.8394\n"
     ]
    }
   ],
   "source": [
    "parameters = {\n",
    "    'n_estimators': range(10, 110, 10)\n",
    "}\n",
    "\n",
    "rfm = tunning_params(rfm, parameters)"
   ]
  },
  {
   "cell_type": "markdown",
   "metadata": {},
   "source": [
    "### 确定最大深度max_depth和min_samples_split"
   ]
  },
  {
   "cell_type": "code",
   "execution_count": 116,
   "metadata": {},
   "outputs": [
    {
     "name": "stdout",
     "output_type": "stream",
     "text": [
      "优化后模型:\n",
      "最佳参数: {'max_depth': 13}\n",
      "最佳得分: 0.8636\n",
      "cv-mean: 0.8638, cv-std: 0.0247\n",
      "训练集分数:  0.9974\n",
      "测试集分数： 0.8212\n"
     ]
    }
   ],
   "source": [
    "parameters = {'max_depth':range(3,14,2)\n",
    "             }\n",
    "\n",
    "rfm = tunning_params(rfm, parameters)"
   ]
  },
  {
   "cell_type": "markdown",
   "metadata": {},
   "source": [
    "### 确定min_samples_split和min_samples_leaf"
   ]
  },
  {
   "cell_type": "code",
   "execution_count": 117,
   "metadata": {},
   "outputs": [
    {
     "name": "stdout",
     "output_type": "stream",
     "text": [
      "优化后模型:\n",
      "最佳参数: {'min_samples_leaf': 1, 'min_samples_split': 8}\n",
      "最佳得分: 0.8701\n",
      "cv-mean: 0.8703, cv-std: 0.0189\n",
      "训练集分数:  0.9325\n",
      "测试集分数： 0.8303\n"
     ]
    }
   ],
   "source": [
    "parameters = {'min_samples_split':range(2,20), 'min_samples_leaf':range(1,10)}\n",
    "\n",
    "rfm = tunning_params(rfm, parameters)"
   ]
  },
  {
   "cell_type": "markdown",
   "metadata": {},
   "source": [
    "### 确定max_features"
   ]
  },
  {
   "cell_type": "code",
   "execution_count": 118,
   "metadata": {
    "scrolled": true
   },
   "outputs": [
    {
     "name": "stdout",
     "output_type": "stream",
     "text": [
      "优化后模型:\n",
      "最佳参数: {'max_features': 9}\n",
      "最佳得分: 0.8701\n",
      "cv-mean: 0.8703, cv-std: 0.0189\n",
      "训练集分数:  0.9325\n",
      "测试集分数： 0.8303\n"
     ]
    }
   ],
   "source": [
    "parameters = {\n",
    "    'max_features': range(3, 10)\n",
    "}\n",
    "\n",
    "rfm = tunning_params(rfm, parameters)"
   ]
  },
  {
   "cell_type": "markdown",
   "metadata": {},
   "source": [
    "通过对随机森林的参数调节，其结果甚至没有最优的logistic回归性能好。"
   ]
  },
  {
   "cell_type": "markdown",
   "metadata": {},
   "source": [
    "## xgboost调参 "
   ]
  },
  {
   "cell_type": "markdown",
   "metadata": {},
   "source": [
    "### 设定基础参数"
   ]
  },
  {
   "cell_type": "code",
   "execution_count": 252,
   "metadata": {
    "scrolled": false
   },
   "outputs": [
    {
     "name": "stdout",
     "output_type": "stream",
     "text": [
      "xgboost基础模型:\n",
      "cv-mean: 0.8821, cv-std: 0.0317\n",
      "训练集分数:  1.0000\n",
      "测试集分数： 0.8333\n"
     ]
    }
   ],
   "source": [
    "gbm = xgb.XGBClassifier(\n",
    "    learning_rate =0.1,\n",
    "    n_estimators=1000,\n",
    "    max_depth=5,\n",
    "    min_child_weight=1,\n",
    "    gamma=0,\n",
    "    subsample=0.8,\n",
    "    colsample_bytree=0.8,\n",
    "    objective='reg:logistic',\n",
    "    nthread=4,\n",
    "    scale_pos_weight=1,\n",
    "    seed=seed)\n",
    "\n",
    "print('xgboost基础模型:')\n",
    "cross_val(gbm, X_train, y_train, X_test, y_test, kfold)"
   ]
  },
  {
   "cell_type": "markdown",
   "metadata": {},
   "source": [
    "### 确定学习率和对应的n_estimators"
   ]
  },
  {
   "cell_type": "code",
   "execution_count": 253,
   "metadata": {
    "scrolled": true
   },
   "outputs": [
    {
     "name": "stdout",
     "output_type": "stream",
     "text": [
      "优化后模型:\n",
      "最佳参数: {'n_estimators': 1000}\n",
      "最佳得分: 0.8818\n",
      "cv-mean: 0.8821, cv-std: 0.0317\n",
      "训练集分数:  1.0000\n",
      "测试集分数： 0.8333\n"
     ]
    }
   ],
   "source": [
    "parameters = {'n_estimators': [100,200,500,1000,1500]}\n",
    "gbm = tunning_params(gbm, parameters)"
   ]
  },
  {
   "cell_type": "markdown",
   "metadata": {},
   "source": [
    "### max_depth 和 min_weight 参数调优"
   ]
  },
  {
   "cell_type": "code",
   "execution_count": 254,
   "metadata": {},
   "outputs": [
    {
     "name": "stdout",
     "output_type": "stream",
     "text": [
      "优化后模型:\n",
      "最佳参数: {'max_depth': 3, 'min_child_weight': 1}\n",
      "最佳得分: 0.8831\n",
      "cv-mean: 0.8834, cv-std: 0.0335\n",
      "训练集分数:  1.0000\n",
      "测试集分数： 0.8303\n"
     ]
    }
   ],
   "source": [
    "parameters = {\n",
    " 'max_depth':range(1,15,2),\n",
    " 'min_child_weight':range(1,6,2)\n",
    "}\n",
    "\n",
    "gbm = tunning_params(gbm, parameters)"
   ]
  },
  {
   "cell_type": "markdown",
   "metadata": {},
   "source": [
    "### gamma调优"
   ]
  },
  {
   "cell_type": "code",
   "execution_count": 255,
   "metadata": {},
   "outputs": [
    {
     "name": "stdout",
     "output_type": "stream",
     "text": [
      "优化后模型:\n",
      "最佳参数: {'gamma': 0.3}\n",
      "最佳得分: 0.8844\n",
      "cv-mean: 0.8846, cv-std: 0.0372\n",
      "训练集分数:  1.0000\n",
      "测试集分数： 0.8394\n"
     ]
    }
   ],
   "source": [
    "parameters = {\n",
    " 'gamma':[i/10.0 for i in range(0,5)]\n",
    "}\n",
    "\n",
    "gbm = tunning_params(gbm, parameters)"
   ]
  },
  {
   "cell_type": "markdown",
   "metadata": {},
   "source": [
    "### subsample和colsample_bytree调优"
   ]
  },
  {
   "cell_type": "code",
   "execution_count": 256,
   "metadata": {
    "scrolled": true
   },
   "outputs": [
    {
     "name": "stdout",
     "output_type": "stream",
     "text": [
      "优化后模型:\n",
      "最佳参数: {'colsample_bytree': 0.8, 'subsample': 0.8}\n",
      "最佳得分: 0.8844\n",
      "cv-mean: 0.8846, cv-std: 0.0372\n",
      "训练集分数:  1.0000\n",
      "测试集分数： 0.8394\n"
     ]
    }
   ],
   "source": [
    "parameters = {\n",
    " 'subsample':[i/10.0 for i in range(6,11)],\n",
    " 'colsample_bytree':[i/10.0 for i in range(6,11)]\n",
    "}\n",
    "\n",
    "gbm = tunning_params(gbm, parameters)"
   ]
  },
  {
   "cell_type": "markdown",
   "metadata": {},
   "source": [
    "### 正则化调优"
   ]
  },
  {
   "cell_type": "code",
   "execution_count": 257,
   "metadata": {},
   "outputs": [
    {
     "name": "stdout",
     "output_type": "stream",
     "text": [
      "优化后模型:\n",
      "最佳参数: {'reg_alpha': 0.1, 'reg_lambda': 100}\n",
      "最佳得分: 0.8896\n",
      "cv-mean: 0.8898, cv-std: 0.0272\n",
      "训练集分数:  0.9299\n",
      "测试集分数： 0.8485\n"
     ]
    }
   ],
   "source": [
    "parameters = {\n",
    " 'reg_alpha':[0, 1e-5, 1e-2, 0.1, 1, 100], 'reg_lambda':[0, 1e-5, 1e-2, 0.1, 1, 100]\n",
    "}\n",
    "\n",
    "gbm = tunning_params(gbm, parameters)"
   ]
  },
  {
   "cell_type": "code",
   "execution_count": 259,
   "metadata": {},
   "outputs": [
    {
     "name": "stdout",
     "output_type": "stream",
     "text": [
      "优化后模型:\n",
      "最佳参数: {'reg_lambda': 70}\n",
      "最佳得分: 0.8909\n",
      "cv-mean: 0.8911, cv-std: 0.0269\n",
      "训练集分数:  0.9429\n",
      "测试集分数： 0.8545\n"
     ]
    }
   ],
   "source": [
    "parameters = {\n",
    " 'reg_lambda':[70, 60, 80]\n",
    "}\n",
    "\n",
    "gbm = tunning_params(gbm, parameters)"
   ]
  },
  {
   "cell_type": "code",
   "execution_count": 260,
   "metadata": {},
   "outputs": [],
   "source": [
    "gbm.fit(df_train[predictor], df_train[target_var])\n",
    "predictions = gbm.predict(df_test[predictor]).astype(np.int32)\n",
    "submission = pd.DataFrame({'result': predictions})\n",
    "submission.to_csv(\"submission.csv\", index=False)"
   ]
  },
  {
   "cell_type": "code",
   "execution_count": 234,
   "metadata": {},
   "outputs": [],
   "source": [
    "train_inx = X_train.index.tolist()\n",
    "test_inx = X_test.index.tolist()"
   ]
  },
  {
   "cell_type": "markdown",
   "metadata": {},
   "source": [
    "## GradientBoostingClassifier调优"
   ]
  },
  {
   "cell_type": "code",
   "execution_count": 126,
   "metadata": {},
   "outputs": [
    {
     "name": "stdout",
     "output_type": "stream",
     "text": [
      "cv-mean: 0.8500, cv-std: 0.0202\n",
      "训练集分数:  0.9489\n",
      "测试集分数： 0.9273\n"
     ]
    }
   ],
   "source": [
    "gbcm = GradientBoostingClassifier()\n",
    "cross_val(gbcm, X_train, y_train, X_test, y_test, kfold)"
   ]
  },
  {
   "cell_type": "code",
   "execution_count": 127,
   "metadata": {},
   "outputs": [
    {
     "name": "stdout",
     "output_type": "stream",
     "text": [
      "优化后模型:\n",
      "最佳参数: {'learning_rate': 0.1, 'max_depth': 3, 'n_estimators': 70, 'subsample': 0.6}\n",
      "最佳得分: 0.8831\n",
      "cv-mean: 0.8637, cv-std: 0.0281\n",
      "训练集分数:  0.9442\n",
      "测试集分数： 0.8242\n"
     ]
    }
   ],
   "source": [
    "parameters= [{'n_estimators':range(20,81,10),\n",
    "              'max_depth':range(3,14,2),\n",
    "              'learning_rate':[0.1, 0.5, 1.0],\n",
    "              'subsample':[0.6,0.7,0.75,0.8,0.85,0.9]\n",
    "            }]\n",
    "\n",
    "gbcm = tunning_params(gbcm, parameters)"
   ]
  },
  {
   "cell_type": "markdown",
   "metadata": {},
   "source": [
    "## AdaBoostClassifier调优"
   ]
  },
  {
   "cell_type": "code",
   "execution_count": 128,
   "metadata": {},
   "outputs": [
    {
     "name": "stdout",
     "output_type": "stream",
     "text": [
      "cv-mean: 0.8557, cv-std: 0.0304\n",
      "训练集分数:  0.8750\n",
      "测试集分数： 0.9273\n"
     ]
    }
   ],
   "source": [
    "adbm = AdaBoostClassifier(random_state=seed)\n",
    "cross_val(adbm, X_train, y_train, X_test, y_test, kfold)"
   ]
  },
  {
   "cell_type": "code",
   "execution_count": 129,
   "metadata": {},
   "outputs": [
    {
     "name": "stdout",
     "output_type": "stream",
     "text": [
      "优化后模型:\n",
      "最佳参数: {'learning_rate': 0.5, 'n_estimators': 80}\n",
      "最佳得分: 0.8766\n",
      "cv-mean: 0.8768, cv-std: 0.0311\n",
      "训练集分数:  0.8974\n",
      "测试集分数： 0.8273\n"
     ]
    }
   ],
   "source": [
    "parameters= [{'n_estimators':range(20,81,10),\n",
    "              'learning_rate':[0.1, 0.5, 1.0],\n",
    "            }]\n",
    "adbm = tunning_params(adbm, parameters)"
   ]
  },
  {
   "cell_type": "markdown",
   "metadata": {},
   "source": [
    "## ExtraTreesClassifier调优"
   ]
  },
  {
   "cell_type": "code",
   "execution_count": 130,
   "metadata": {},
   "outputs": [
    {
     "name": "stdout",
     "output_type": "stream",
     "text": [
      "cv-mean: 0.8342, cv-std: 0.0239\n",
      "训练集分数:  1.0000\n",
      "测试集分数： 0.9227\n"
     ]
    }
   ],
   "source": [
    "etcm = ExtraTreesClassifier(random_state=seed)\n",
    "cross_val(etcm, X_train, y_train, X_test, y_test, kfold)"
   ]
  },
  {
   "cell_type": "code",
   "execution_count": 131,
   "metadata": {},
   "outputs": [
    {
     "name": "stdout",
     "output_type": "stream",
     "text": [
      "优化后模型:\n",
      "最佳参数: {'max_depth': 7, 'max_features': 5, 'min_samples_leaf': 3, 'min_samples_split': 2, 'n_estimators': 10}\n",
      "最佳得分: 0.8610\n",
      "cv-mean: 0.8612, cv-std: 0.0142\n",
      "训练集分数:  0.8714\n",
      "测试集分数： 0.8152\n"
     ]
    }
   ],
   "source": [
    "parameters = {\n",
    "    'n_estimators': range(10, 50, 20),'max_depth':range(3,11,2),\n",
    "    'min_samples_split':range(2,10), 'min_samples_leaf':range(3,6),'max_features': range(3, 6)\n",
    "}\n",
    "etcm = tunning_params(etcm, parameters)"
   ]
  },
  {
   "cell_type": "code",
   "execution_count": 132,
   "metadata": {},
   "outputs": [
    {
     "name": "stdout",
     "output_type": "stream",
     "text": [
      "cv-mean: 0.8580, cv-std: 0.0152\n",
      "训练集分数:  0.8955\n",
      "测试集分数： 0.9273\n"
     ]
    }
   ],
   "source": [
    "models = []\n",
    "models.append(('lrm', lrm))\n",
    "models.append(('rfm', rfm))\n",
    "models.append(('gbm', gbm))\n",
    "models.append(('gbcm', gbcm))\n",
    "models.append(('etcm', etcm))\n",
    "models.append(('ad', adbm))\n",
    "ensemble = VotingClassifier(models)\n",
    "cross_val(ensemble, X_train, y_train, X_test, y_test, kfold)"
   ]
  },
  {
   "cell_type": "code",
   "execution_count": 140,
   "metadata": {},
   "outputs": [
    {
     "ename": "KeyError",
     "evalue": "\"['Age_0' 'Age_1' 'Age_2' 'Age_3' 'Age_4' 'DistanceFromHome_0'\\n 'DistanceFromHome_1' 'DistanceFromHome_2' 'DistanceFromHome_3'\\n 'DistanceFromHome_4' 'DistanceFromHome_5' 'MonthlyIncome_0'\\n 'MonthlyIncome_1' 'MonthlyIncome_2' 'MonthlyIncome_3' 'MonthlyIncome_4'\\n 'MonthlyIncome_5' 'NumCompaniesWorked_0' 'NumCompaniesWorked_1'\\n 'NumCompaniesWorked_2' 'PercentSalaryHike_0' 'PercentSalaryHike_1'\\n 'PercentSalaryHike_2' 'PercentSalaryHike_3' 'PercentSalaryHike_4'\\n 'PercentSalaryHike_5' 'PercentSalaryHike_6' 'PercentSalaryHike_7'\\n 'TotalWorkingYears_0' 'TotalWorkingYears_1' 'TotalWorkingYears_2'\\n 'TotalWorkingYears_3' 'TotalWorkingYears_4' 'TotalWorkingYears_5'\\n 'TotalWorkingYears_6' 'YearsAtCompany_0' 'YearsAtCompany_1'\\n 'YearsAtCompany_2' 'YearsAtCompany_3' 'YearsAtCompany_4'\\n 'YearsAtCompany_5' 'YearsAtCompany_6' 'YearsInCurrentRole_0'\\n 'YearsInCurrentRole_1' 'YearsInCurrentRole_2' 'YearsInCurrentRole_3'\\n 'YearsInCurrentRole_4' 'YearsSinceLastPromotion_0'\\n 'YearsSinceLastPromotion_1' 'YearsSinceLastPromotion_2'\\n 'YearsSinceLastPromotion_3' 'YearsWithCurrManager_0'\\n 'YearsWithCurrManager_1' 'YearsWithCurrManager_2' 'YearsWithCurrManager_3'\\n 'YearsWithCurrManager_4'] not in index\"",
     "output_type": "error",
     "traceback": [
      "\u001b[1;31m---------------------------------------------------------------------------\u001b[0m",
      "\u001b[1;31mKeyError\u001b[0m                                  Traceback (most recent call last)",
      "\u001b[1;32m<ipython-input-140-0fa27981173c>\u001b[0m in \u001b[0;36m<module>\u001b[1;34m()\u001b[0m\n\u001b[0;32m      1\u001b[0m \u001b[0mensemble\u001b[0m\u001b[1;33m.\u001b[0m\u001b[0mfit\u001b[0m\u001b[1;33m(\u001b[0m\u001b[0mdf_train\u001b[0m\u001b[1;33m[\u001b[0m\u001b[0mpredictor\u001b[0m\u001b[1;33m]\u001b[0m\u001b[1;33m,\u001b[0m \u001b[0mdf_train\u001b[0m\u001b[1;33m[\u001b[0m\u001b[0mtarget_var\u001b[0m\u001b[1;33m]\u001b[0m\u001b[1;33m)\u001b[0m\u001b[1;33m\u001b[0m\u001b[0m\n\u001b[1;32m----> 2\u001b[1;33m \u001b[0mpredictions\u001b[0m \u001b[1;33m=\u001b[0m \u001b[0mensemble\u001b[0m\u001b[1;33m.\u001b[0m\u001b[0mpredict\u001b[0m\u001b[1;33m(\u001b[0m\u001b[0mdf_test\u001b[0m\u001b[1;33m[\u001b[0m\u001b[0mpredictor\u001b[0m\u001b[1;33m]\u001b[0m\u001b[1;33m)\u001b[0m\u001b[1;33m\u001b[0m\u001b[0m\n\u001b[0m\u001b[0;32m      3\u001b[0m \u001b[0msubmission\u001b[0m \u001b[1;33m=\u001b[0m \u001b[0mpd\u001b[0m\u001b[1;33m.\u001b[0m\u001b[0mDataFrame\u001b[0m\u001b[1;33m(\u001b[0m\u001b[1;33m{\u001b[0m\u001b[1;34m'result'\u001b[0m\u001b[1;33m:\u001b[0m \u001b[0mpredictions\u001b[0m\u001b[1;33m}\u001b[0m\u001b[1;33m)\u001b[0m\u001b[1;33m\u001b[0m\u001b[0m\n\u001b[0;32m      4\u001b[0m \u001b[0msubmission\u001b[0m\u001b[1;33m.\u001b[0m\u001b[0mto_csv\u001b[0m\u001b[1;33m(\u001b[0m\u001b[1;34m\"submission.csv\"\u001b[0m\u001b[1;33m,\u001b[0m \u001b[0mindex\u001b[0m\u001b[1;33m=\u001b[0m\u001b[1;32mFalse\u001b[0m\u001b[1;33m)\u001b[0m\u001b[1;33m\u001b[0m\u001b[0m\n",
      "\u001b[1;32mC:\\Anaconda3\\lib\\site-packages\\pandas\\core\\frame.py\u001b[0m in \u001b[0;36m__getitem__\u001b[1;34m(self, key)\u001b[0m\n\u001b[0;32m   1956\u001b[0m         \u001b[1;32mif\u001b[0m \u001b[0misinstance\u001b[0m\u001b[1;33m(\u001b[0m\u001b[0mkey\u001b[0m\u001b[1;33m,\u001b[0m \u001b[1;33m(\u001b[0m\u001b[0mSeries\u001b[0m\u001b[1;33m,\u001b[0m \u001b[0mnp\u001b[0m\u001b[1;33m.\u001b[0m\u001b[0mndarray\u001b[0m\u001b[1;33m,\u001b[0m \u001b[0mIndex\u001b[0m\u001b[1;33m,\u001b[0m \u001b[0mlist\u001b[0m\u001b[1;33m)\u001b[0m\u001b[1;33m)\u001b[0m\u001b[1;33m:\u001b[0m\u001b[1;33m\u001b[0m\u001b[0m\n\u001b[0;32m   1957\u001b[0m             \u001b[1;31m# either boolean or fancy integer index\u001b[0m\u001b[1;33m\u001b[0m\u001b[1;33m\u001b[0m\u001b[0m\n\u001b[1;32m-> 1958\u001b[1;33m             \u001b[1;32mreturn\u001b[0m \u001b[0mself\u001b[0m\u001b[1;33m.\u001b[0m\u001b[0m_getitem_array\u001b[0m\u001b[1;33m(\u001b[0m\u001b[0mkey\u001b[0m\u001b[1;33m)\u001b[0m\u001b[1;33m\u001b[0m\u001b[0m\n\u001b[0m\u001b[0;32m   1959\u001b[0m         \u001b[1;32melif\u001b[0m \u001b[0misinstance\u001b[0m\u001b[1;33m(\u001b[0m\u001b[0mkey\u001b[0m\u001b[1;33m,\u001b[0m \u001b[0mDataFrame\u001b[0m\u001b[1;33m)\u001b[0m\u001b[1;33m:\u001b[0m\u001b[1;33m\u001b[0m\u001b[0m\n\u001b[0;32m   1960\u001b[0m             \u001b[1;32mreturn\u001b[0m \u001b[0mself\u001b[0m\u001b[1;33m.\u001b[0m\u001b[0m_getitem_frame\u001b[0m\u001b[1;33m(\u001b[0m\u001b[0mkey\u001b[0m\u001b[1;33m)\u001b[0m\u001b[1;33m\u001b[0m\u001b[0m\n",
      "\u001b[1;32mC:\\Anaconda3\\lib\\site-packages\\pandas\\core\\frame.py\u001b[0m in \u001b[0;36m_getitem_array\u001b[1;34m(self, key)\u001b[0m\n\u001b[0;32m   2000\u001b[0m             \u001b[1;32mreturn\u001b[0m \u001b[0mself\u001b[0m\u001b[1;33m.\u001b[0m\u001b[0mtake\u001b[0m\u001b[1;33m(\u001b[0m\u001b[0mindexer\u001b[0m\u001b[1;33m,\u001b[0m \u001b[0maxis\u001b[0m\u001b[1;33m=\u001b[0m\u001b[1;36m0\u001b[0m\u001b[1;33m,\u001b[0m \u001b[0mconvert\u001b[0m\u001b[1;33m=\u001b[0m\u001b[1;32mFalse\u001b[0m\u001b[1;33m)\u001b[0m\u001b[1;33m\u001b[0m\u001b[0m\n\u001b[0;32m   2001\u001b[0m         \u001b[1;32melse\u001b[0m\u001b[1;33m:\u001b[0m\u001b[1;33m\u001b[0m\u001b[0m\n\u001b[1;32m-> 2002\u001b[1;33m             \u001b[0mindexer\u001b[0m \u001b[1;33m=\u001b[0m \u001b[0mself\u001b[0m\u001b[1;33m.\u001b[0m\u001b[0mloc\u001b[0m\u001b[1;33m.\u001b[0m\u001b[0m_convert_to_indexer\u001b[0m\u001b[1;33m(\u001b[0m\u001b[0mkey\u001b[0m\u001b[1;33m,\u001b[0m \u001b[0maxis\u001b[0m\u001b[1;33m=\u001b[0m\u001b[1;36m1\u001b[0m\u001b[1;33m)\u001b[0m\u001b[1;33m\u001b[0m\u001b[0m\n\u001b[0m\u001b[0;32m   2003\u001b[0m             \u001b[1;32mreturn\u001b[0m \u001b[0mself\u001b[0m\u001b[1;33m.\u001b[0m\u001b[0mtake\u001b[0m\u001b[1;33m(\u001b[0m\u001b[0mindexer\u001b[0m\u001b[1;33m,\u001b[0m \u001b[0maxis\u001b[0m\u001b[1;33m=\u001b[0m\u001b[1;36m1\u001b[0m\u001b[1;33m,\u001b[0m \u001b[0mconvert\u001b[0m\u001b[1;33m=\u001b[0m\u001b[1;32mTrue\u001b[0m\u001b[1;33m)\u001b[0m\u001b[1;33m\u001b[0m\u001b[0m\n\u001b[0;32m   2004\u001b[0m \u001b[1;33m\u001b[0m\u001b[0m\n",
      "\u001b[1;32mC:\\Anaconda3\\lib\\site-packages\\pandas\\core\\indexing.py\u001b[0m in \u001b[0;36m_convert_to_indexer\u001b[1;34m(self, obj, axis, is_setter)\u001b[0m\n\u001b[0;32m   1229\u001b[0m                 \u001b[0mmask\u001b[0m \u001b[1;33m=\u001b[0m \u001b[0mcheck\u001b[0m \u001b[1;33m==\u001b[0m \u001b[1;33m-\u001b[0m\u001b[1;36m1\u001b[0m\u001b[1;33m\u001b[0m\u001b[0m\n\u001b[0;32m   1230\u001b[0m                 \u001b[1;32mif\u001b[0m \u001b[0mmask\u001b[0m\u001b[1;33m.\u001b[0m\u001b[0many\u001b[0m\u001b[1;33m(\u001b[0m\u001b[1;33m)\u001b[0m\u001b[1;33m:\u001b[0m\u001b[1;33m\u001b[0m\u001b[0m\n\u001b[1;32m-> 1231\u001b[1;33m                     \u001b[1;32mraise\u001b[0m \u001b[0mKeyError\u001b[0m\u001b[1;33m(\u001b[0m\u001b[1;34m'%s not in index'\u001b[0m \u001b[1;33m%\u001b[0m \u001b[0mobjarr\u001b[0m\u001b[1;33m[\u001b[0m\u001b[0mmask\u001b[0m\u001b[1;33m]\u001b[0m\u001b[1;33m)\u001b[0m\u001b[1;33m\u001b[0m\u001b[0m\n\u001b[0m\u001b[0;32m   1232\u001b[0m \u001b[1;33m\u001b[0m\u001b[0m\n\u001b[0;32m   1233\u001b[0m                 \u001b[1;32mreturn\u001b[0m \u001b[0m_values_from_object\u001b[0m\u001b[1;33m(\u001b[0m\u001b[0mindexer\u001b[0m\u001b[1;33m)\u001b[0m\u001b[1;33m\u001b[0m\u001b[0m\n",
      "\u001b[1;31mKeyError\u001b[0m: \"['Age_0' 'Age_1' 'Age_2' 'Age_3' 'Age_4' 'DistanceFromHome_0'\\n 'DistanceFromHome_1' 'DistanceFromHome_2' 'DistanceFromHome_3'\\n 'DistanceFromHome_4' 'DistanceFromHome_5' 'MonthlyIncome_0'\\n 'MonthlyIncome_1' 'MonthlyIncome_2' 'MonthlyIncome_3' 'MonthlyIncome_4'\\n 'MonthlyIncome_5' 'NumCompaniesWorked_0' 'NumCompaniesWorked_1'\\n 'NumCompaniesWorked_2' 'PercentSalaryHike_0' 'PercentSalaryHike_1'\\n 'PercentSalaryHike_2' 'PercentSalaryHike_3' 'PercentSalaryHike_4'\\n 'PercentSalaryHike_5' 'PercentSalaryHike_6' 'PercentSalaryHike_7'\\n 'TotalWorkingYears_0' 'TotalWorkingYears_1' 'TotalWorkingYears_2'\\n 'TotalWorkingYears_3' 'TotalWorkingYears_4' 'TotalWorkingYears_5'\\n 'TotalWorkingYears_6' 'YearsAtCompany_0' 'YearsAtCompany_1'\\n 'YearsAtCompany_2' 'YearsAtCompany_3' 'YearsAtCompany_4'\\n 'YearsAtCompany_5' 'YearsAtCompany_6' 'YearsInCurrentRole_0'\\n 'YearsInCurrentRole_1' 'YearsInCurrentRole_2' 'YearsInCurrentRole_3'\\n 'YearsInCurrentRole_4' 'YearsSinceLastPromotion_0'\\n 'YearsSinceLastPromotion_1' 'YearsSinceLastPromotion_2'\\n 'YearsSinceLastPromotion_3' 'YearsWithCurrManager_0'\\n 'YearsWithCurrManager_1' 'YearsWithCurrManager_2' 'YearsWithCurrManager_3'\\n 'YearsWithCurrManager_4'] not in index\""
     ]
    }
   ],
   "source": [
    "ensemble.fit(df_train[predictor], df_train[target_var])\n",
    "predictions = ensemble.predict(df_test[predictor])\n",
    "submission = pd.DataFrame({'result': predictions})\n",
    "submission.to_csv(\"submission.csv\", index=False)"
   ]
  },
  {
   "cell_type": "code",
   "execution_count": 133,
   "metadata": {},
   "outputs": [
    {
     "data": {
      "text/plain": [
       "Index(['Education', 'EnvironmentSatisfaction', 'JobInvolvement', 'JobLevel',\n",
       "       'JobSatisfaction', 'PerformanceRating', 'RelationshipSatisfaction',\n",
       "       'StockOptionLevel', 'TrainingTimesLastYear', 'WorkLifeBalance',\n",
       "       'BusinessTravel_Non-Travel', 'BusinessTravel_Travel_Frequently',\n",
       "       'BusinessTravel_Travel_Rarely', 'Department_Human Resources',\n",
       "       'Department_Research & Development', 'Department_Sales',\n",
       "       'EducationField_Human Resources', 'EducationField_Life Sciences',\n",
       "       'EducationField_Marketing', 'EducationField_Medical',\n",
       "       'EducationField_Other', 'EducationField_Technical Degree',\n",
       "       'Gender_Female', 'Gender_Male', 'JobRole_Healthcare Representative',\n",
       "       'JobRole_Human Resources', 'JobRole_Laboratory Technician',\n",
       "       'JobRole_Manager', 'JobRole_Manufacturing Director',\n",
       "       'JobRole_Research Director', 'JobRole_Research Scientist',\n",
       "       'JobRole_Sales Executive', 'JobRole_Sales Representative',\n",
       "       'MaritalStatus_Divorced', 'MaritalStatus_Married',\n",
       "       'MaritalStatus_Single', 'OverTime_No', 'OverTime_Yes', 'Age_0', 'Age_1',\n",
       "       'Age_2', 'Age_3', 'Age_4', 'DistanceFromHome_0', 'DistanceFromHome_1',\n",
       "       'DistanceFromHome_2', 'DistanceFromHome_3', 'DistanceFromHome_4',\n",
       "       'DistanceFromHome_5', 'MonthlyIncome_0', 'MonthlyIncome_1',\n",
       "       'MonthlyIncome_2', 'MonthlyIncome_3', 'MonthlyIncome_4',\n",
       "       'MonthlyIncome_5', 'NumCompaniesWorked_0', 'NumCompaniesWorked_1',\n",
       "       'NumCompaniesWorked_2', 'PercentSalaryHike_0', 'PercentSalaryHike_1',\n",
       "       'PercentSalaryHike_2', 'PercentSalaryHike_3', 'PercentSalaryHike_4',\n",
       "       'PercentSalaryHike_5', 'PercentSalaryHike_6', 'PercentSalaryHike_7',\n",
       "       'TotalWorkingYears_0', 'TotalWorkingYears_1', 'TotalWorkingYears_2',\n",
       "       'TotalWorkingYears_3', 'TotalWorkingYears_4', 'TotalWorkingYears_5',\n",
       "       'TotalWorkingYears_6', 'YearsAtCompany_0', 'YearsAtCompany_1',\n",
       "       'YearsAtCompany_2', 'YearsAtCompany_3', 'YearsAtCompany_4',\n",
       "       'YearsAtCompany_5', 'YearsAtCompany_6', 'YearsInCurrentRole_0',\n",
       "       'YearsInCurrentRole_1', 'YearsInCurrentRole_2', 'YearsInCurrentRole_3',\n",
       "       'YearsInCurrentRole_4', 'YearsSinceLastPromotion_0',\n",
       "       'YearsSinceLastPromotion_1', 'YearsSinceLastPromotion_2',\n",
       "       'YearsSinceLastPromotion_3', 'YearsWithCurrManager_0',\n",
       "       'YearsWithCurrManager_1', 'YearsWithCurrManager_2',\n",
       "       'YearsWithCurrManager_3', 'YearsWithCurrManager_4'],\n",
       "      dtype='object')"
      ]
     },
     "execution_count": 133,
     "metadata": {},
     "output_type": "execute_result"
    }
   ],
   "source": [
    "X_train.columns"
   ]
  },
  {
   "cell_type": "code",
   "execution_count": null,
   "metadata": {},
   "outputs": [],
   "source": [
    "joblib.dump(lrm, 'lr.pkl')\n",
    "joblib.dump(rfm, 'rf.pkl')\n",
    "joblib.dump(etcm, 'etcm.pkl')\n",
    "joblib.dump(adbm, 'adbm.pkl')\n",
    "joblib.dump(gbcm, 'gbcm.pkl')\n",
    "joblib.dump(adbm, 'adbm.pkl')"
   ]
  },
  {
   "cell_type": "code",
   "execution_count": null,
   "metadata": {
    "collapsed": true
   },
   "outputs": [],
   "source": []
  }
 ],
 "metadata": {
  "kernelspec": {
   "display_name": "Python 3",
   "language": "python",
   "name": "python3"
  },
  "language_info": {
   "codemirror_mode": {
    "name": "ipython",
    "version": 3
   },
   "file_extension": ".py",
   "mimetype": "text/x-python",
   "name": "python",
   "nbconvert_exporter": "python",
   "pygments_lexer": "ipython3",
   "version": "3.6.2"
  }
 },
 "nbformat": 4,
 "nbformat_minor": 2
}
