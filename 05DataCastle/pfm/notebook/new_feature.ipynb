{
 "cells": [
  {
   "cell_type": "code",
   "execution_count": 116,
   "metadata": {
    "collapsed": true
   },
   "outputs": [],
   "source": [
    "'''导入库'''\n",
    "import pandas as pd\n",
    "import pprint\n",
    "import warnings\n",
    "warnings.filterwarnings('ignore')\n",
    "\n",
    "from sklearn.model_selection import train_test_split\n",
    "from sklearn.linear_model import LogisticRegression\n",
    "\n",
    "from sklearn.model_selection import GridSearchCV\n",
    "\n",
    "from sklearn.ensemble import GradientBoostingClassifier\n",
    "\n",
    "from sklearn.model_selection import cross_val_score\n",
    "from sklearn.ensemble import VotingClassifier\n",
    "from sklearn.metrics import accuracy_score\n",
    "from sklearn.metrics import confusion_matrix\n",
    "\n",
    "from sklearn.model_selection import StratifiedKFold\n",
    "from sklearn.preprocessing import OneHotEncoder\n",
    "from sklearn.preprocessing import MinMaxScaler\n",
    "from sklearn.model_selection import learning_curve"
   ]
  },
  {
   "cell_type": "code",
   "execution_count": 49,
   "metadata": {},
   "outputs": [],
   "source": [
    "df_train = pd.read_csv('../dataset/pfm_train.csv')\n",
    "df_test = pd.read_csv('../dataset/pfm_test.csv')\n",
    "\n",
    "# 前文分析过，两个变量方差为0，可以删除。\n",
    "# EmployeeNumber是唯一识别号码，删除\n",
    "df_train.drop(\n",
    "    ['Over18', 'StandardHours', 'EmployeeNumber'], axis=1, inplace=True)\n",
    "df_test.drop(\n",
    "    ['Over18', 'StandardHours', 'EmployeeNumber'], axis=1, inplace=True)\n",
    "\n",
    "# 预测变量\n",
    "target_var = 'Attrition'\n",
    "\n",
    "# 字符型\n",
    "character_var = [\n",
    "    x for x in df_train.dtypes.index if df_train.dtypes[x] == 'object'\n",
    "]\n",
    "numeric_var = [\n",
    "    x for x in df_train.dtypes.index\n",
    "    if x != target_var and x not in character_var\n",
    "]"
   ]
  },
  {
   "cell_type": "code",
   "execution_count": 50,
   "metadata": {
    "collapsed": true
   },
   "outputs": [],
   "source": [
    "scaler = MinMaxScaler()\n",
    "pattern = scaler.fit(df_train[numeric_var])\n",
    "df_train[numeric_var] = scaler.transform(df_train[numeric_var])\n",
    "df_test[numeric_var] = scaler.transform(df_test[numeric_var])"
   ]
  },
  {
   "cell_type": "code",
   "execution_count": 51,
   "metadata": {
    "collapsed": true
   },
   "outputs": [],
   "source": [
    "df_train = pd.get_dummies(df_train)\n",
    "df_test = pd.get_dummies(df_test)\n",
    "\n",
    "predictor = [x for x in df_train.columns if x != target_var]"
   ]
  },
  {
   "cell_type": "code",
   "execution_count": 158,
   "metadata": {},
   "outputs": [],
   "source": [
    "validation_size = 0.3\n",
    "seed = 7\n",
    "scoring = 'accuracy'\n",
    "X_train, X_test, y_train, y_test = train_test_split(\n",
    "    df_train[predictor],\n",
    "    df_train[target_var],\n",
    "    test_size=validation_size,\n",
    "    random_state=seed)\n",
    "kfold = StratifiedKFold(n_splits=10, random_state=seed)"
   ]
  },
  {
   "cell_type": "code",
   "execution_count": 10,
   "metadata": {
    "collapsed": true
   },
   "outputs": [],
   "source": [
    "def find_param(estimator, param_grid, scoring, cv, X_train, X_test, y_train, y_test):\n",
    "    cv_results = cross_val_score(estimator, X_train, y_train, cv=cv, scoring=scoring)\n",
    "    msg = \"原始模型交叉验证分数: %f (%f)\" % (cv_results.mean(), cv_results.std())\n",
    "    print(msg)\n",
    "    grid_search = GridSearchCV(estimator=estimator, param_grid=param_grid, scoring=scoring, cv=cv).fit(X_train, y_train)\n",
    "    print(\"优化模型交叉验证分数: %f\" % (grid_search.best_score_))\n",
    "    pred_result = grid_search.best_estimator_.predict(X_test)\n",
    "    pred_score = accuracy_score(y_test, pred_result)\n",
    "    print('优化模型测试集分数： %.4f' % pred_score)\n",
    "    print(grid_search.best_params_)"
   ]
  },
  {
   "cell_type": "code",
   "execution_count": 11,
   "metadata": {},
   "outputs": [
    {
     "name": "stdout",
     "output_type": "stream",
     "text": [
      "原始模型交叉验证分数: 0.890958 (0.015047)\n",
      "优化模型交叉验证分数: 0.890909\n",
      "优化模型测试集分数： 0.8485\n",
      "{'C': 1, 'penalty': 'l2', 'random_state': 1, 'tol': 1e-06}\n"
     ]
    }
   ],
   "source": [
    "model = LogisticRegression()\n",
    "parameters = {\n",
    "    'penalty': ['l1', 'l2'],\n",
    "    'C': [0.01, 0.1, 1],\n",
    "    'tol': [1e-6, 1e-5, 1e-4],\n",
    "    'random_state': [1, 2, 3, 4, 5]\n",
    "}\n",
    "\n",
    "find_param(model, parameters, scoring, kfold, X_train, X_test, y_train, y_test)"
   ]
  },
  {
   "cell_type": "code",
   "execution_count": 12,
   "metadata": {},
   "outputs": [
    {
     "name": "stdout",
     "output_type": "stream",
     "text": [
      "原始模型交叉验证分数: 0.878205 (0.027314)\n",
      "优化模型交叉验证分数: 0.877922\n",
      "优化模型测试集分数： 0.8485\n",
      "{'n_estimators': 80}\n"
     ]
    }
   ],
   "source": [
    "gbdt_model = GradientBoostingClassifier(learning_rate=0.1,\n",
    "                           min_samples_split=500,\n",
    "                           min_samples_leaf=50,\n",
    "                           max_depth=8,\n",
    "                           max_features='sqrt',\n",
    "                           subsample=0.8,\n",
    "                           random_state=45)\n",
    "parameters = {'n_estimators':range(20,81,10)}\n",
    "find_param(gbdt_model, parameters, scoring, kfold, X_train, X_test, y_train, y_test)"
   ]
  },
  {
   "cell_type": "code",
   "execution_count": 13,
   "metadata": {},
   "outputs": [
    {
     "name": "stdout",
     "output_type": "stream",
     "text": [
      "原始模型交叉验证分数: 0.878205 (0.026016)\n",
      "优化模型交叉验证分数: 0.881818\n",
      "优化模型测试集分数： 0.8485\n",
      "{'max_depth': 5, 'min_samples_split': 200}\n"
     ]
    }
   ],
   "source": [
    "parameters =  {'max_depth':range(5,16,2), 'min_samples_split':range(200,1001,200)}\n",
    "gbdt_model = GradientBoostingClassifier(learning_rate=0.1, n_estimators=80,\n",
    "                           min_samples_split=500,\n",
    "                           min_samples_leaf=50,\n",
    "                           max_depth=8,\n",
    "                           max_features='sqrt',\n",
    "                           subsample=0.8,\n",
    "                           random_state=45)\n",
    "find_param(gbdt_model, parameters, scoring, kfold, X_train, X_test, y_train, y_test)"
   ]
  },
  {
   "cell_type": "code",
   "execution_count": 17,
   "metadata": {},
   "outputs": [
    {
     "name": "stdout",
     "output_type": "stream",
     "text": [
      "原始模型交叉验证分数: 0.878205 (0.026016)\n",
      "优化模型交叉验证分数: 0.884416\n",
      "优化模型测试集分数： 0.8576\n",
      "{'max_depth': 3, 'min_samples_split': 100}\n"
     ]
    }
   ],
   "source": [
    "parameters =  {'max_depth':range(1, 6), 'min_samples_split':[100, 200, 300]}\n",
    "find_param(gbdt_model, parameters, scoring, kfold, X_train, X_test, y_train, y_test)"
   ]
  },
  {
   "cell_type": "code",
   "execution_count": 18,
   "metadata": {},
   "outputs": [
    {
     "name": "stdout",
     "output_type": "stream",
     "text": [
      "原始模型交叉验证分数: 0.878205 (0.026016)\n",
      "优化模型交叉验证分数: 0.884416\n",
      "优化模型测试集分数： 0.8576\n",
      "{'max_depth': 3, 'min_samples_split': 80}\n"
     ]
    }
   ],
   "source": [
    "parameters =  {'max_depth':range(1, 6), 'min_samples_split':range(80, 101, 10)}\n",
    "find_param(gbdt_model, parameters, scoring, kfold, X_train, X_test, y_train, y_test)"
   ]
  },
  {
   "cell_type": "code",
   "execution_count": 19,
   "metadata": {},
   "outputs": [
    {
     "name": "stdout",
     "output_type": "stream",
     "text": [
      "原始模型交叉验证分数: 0.878205 (0.026016)\n",
      "优化模型交叉验证分数: 0.884416\n",
      "优化模型测试集分数： 0.8576\n",
      "{'max_depth': 3, 'min_samples_split': 10}\n"
     ]
    }
   ],
   "source": [
    "parameters =  {'max_depth':range(1, 6), 'min_samples_split':range(10, 81, 10)}\n",
    "find_param(gbdt_model, parameters, scoring, kfold, X_train, X_test, y_train, y_test)"
   ]
  },
  {
   "cell_type": "code",
   "execution_count": 21,
   "metadata": {},
   "outputs": [
    {
     "name": "stdout",
     "output_type": "stream",
     "text": [
      "原始模型交叉验证分数: 0.878205 (0.026016)\n",
      "优化模型交叉验证分数: 0.884416\n",
      "优化模型测试集分数： 0.8576\n",
      "{'max_depth': 3, 'min_samples_split': 2}\n"
     ]
    }
   ],
   "source": [
    "parameters =  {'max_depth':range(1, 6), 'min_samples_split':range(2, 11)}\n",
    "find_param(gbdt_model, parameters, scoring, kfold, X_train, X_test, y_train, y_test)"
   ]
  },
  {
   "cell_type": "code",
   "execution_count": 22,
   "metadata": {},
   "outputs": [
    {
     "name": "stdout",
     "output_type": "stream",
     "text": [
      "原始模型交叉验证分数: 0.878205 (0.026016)\n",
      "优化模型交叉验证分数: 0.889610\n",
      "优化模型测试集分数： 0.8364\n",
      "{'min_samples_leaf': 10, 'min_samples_split': 2}\n"
     ]
    }
   ],
   "source": [
    "parameters =  {'min_samples_leaf':range(10, 31,10), 'min_samples_split':range(2, 11)}\n",
    "gbdt_model = GradientBoostingClassifier(learning_rate=0.1, n_estimators=80,\n",
    "                           min_samples_split=500,\n",
    "                           min_samples_leaf=50,\n",
    "                           max_depth=3,\n",
    "                           max_features='sqrt',\n",
    "                           subsample=0.8,\n",
    "                           random_state=45)\n",
    "find_param(gbdt_model, parameters, scoring, kfold, X_train, X_test, y_train, y_test)"
   ]
  },
  {
   "cell_type": "code",
   "execution_count": 23,
   "metadata": {},
   "outputs": [
    {
     "name": "stdout",
     "output_type": "stream",
     "text": [
      "原始模型交叉验证分数: 0.878205 (0.026016)\n",
      "优化模型交叉验证分数: 0.890909\n",
      "优化模型测试集分数： 0.8424\n",
      "{'min_samples_leaf': 4, 'min_samples_split': 9}\n"
     ]
    }
   ],
   "source": [
    "parameters =  {'min_samples_leaf':range(1, 11), 'min_samples_split':range(2, 11)}\n",
    "find_param(gbdt_model, parameters, scoring, kfold, X_train, X_test, y_train, y_test)"
   ]
  },
  {
   "cell_type": "code",
   "execution_count": 29,
   "metadata": {},
   "outputs": [
    {
     "name": "stdout",
     "output_type": "stream",
     "text": [
      "原始模型交叉验证分数: 0.891093 (0.020985)\n",
      "优化模型交叉验证分数: 0.890909\n",
      "优化模型测试集分数： 0.8424\n",
      "{'max_features': 6}\n"
     ]
    }
   ],
   "source": [
    "parameters =  {'max_features':range(3, 9)}\n",
    "gbdt_model = GradientBoostingClassifier(learning_rate=0.1, n_estimators=80,\n",
    "                           min_samples_split=9,\n",
    "                           min_samples_leaf=4,\n",
    "                           max_depth=3,\n",
    "                           max_features='sqrt',\n",
    "                           subsample=0.8,\n",
    "                           random_state=45)\n",
    "find_param(gbdt_model, parameters, scoring, kfold, X_train, X_test, y_train, y_test)"
   ]
  },
  {
   "cell_type": "code",
   "execution_count": 30,
   "metadata": {},
   "outputs": [
    {
     "name": "stdout",
     "output_type": "stream",
     "text": [
      "原始模型交叉验证分数: 0.891093 (0.020985)\n",
      "优化模型交叉验证分数: 0.890909\n",
      "优化模型测试集分数： 0.8424\n",
      "{'subsample': 0.8}\n"
     ]
    }
   ],
   "source": [
    "parameters =  {'subsample':[0.6,0.7,0.75,0.8,0.85,0.9]}\n",
    "gbdt_model = GradientBoostingClassifier(learning_rate=0.1, n_estimators=80,\n",
    "                           min_samples_split=9,\n",
    "                           min_samples_leaf=4,\n",
    "                           max_depth=3,\n",
    "                           max_features=6,\n",
    "                           subsample=0.8,\n",
    "                           random_state=45)\n",
    "find_param(gbdt_model, parameters, scoring, kfold, X_train, X_test, y_train, y_test)"
   ]
  },
  {
   "cell_type": "code",
   "execution_count": 159,
   "metadata": {
    "collapsed": true
   },
   "outputs": [],
   "source": [
    "gbdt_model.fit(X_train, y_train)\n",
    "gbdt_enc = OneHotEncoder()\n",
    "gbdt_enc.fit(gbdt_model.apply(X_train)[:, :, 0])\n",
    "new_feature_train = gbdt_enc.transform(gbdt_model.apply(X_train)[:, :, 0]).toarray()"
   ]
  },
  {
   "cell_type": "code",
   "execution_count": 160,
   "metadata": {},
   "outputs": [],
   "source": [
    "X_train = np.concatenate([X_train, new_feature], axis=1)"
   ]
  },
  {
   "cell_type": "code",
   "execution_count": 162,
   "metadata": {},
   "outputs": [],
   "source": [
    "new_feature = gbdt_enc.transform(gbdt_model.apply(X_test)[:, :, 0]).toarray()\n",
    "X_test = np.concatenate([X_test, new_feature], axis=1)"
   ]
  },
  {
   "cell_type": "code",
   "execution_count": 164,
   "metadata": {},
   "outputs": [
    {
     "name": "stdout",
     "output_type": "stream",
     "text": [
      "原始模型交叉验证分数: 0.928745 (0.038001)\n",
      "优化模型交叉验证分数: 0.932468\n",
      "优化模型测试集分数： 0.8303\n",
      "{'C': 0.30000000000000004, 'penalty': 'l2', 'tol': 1e-06}\n"
     ]
    }
   ],
   "source": [
    "parameters = {\n",
    "    'penalty': ['l2'],\n",
    "    'C': np.linspace(0.1, 0.5, 5),\n",
    "    'tol': [1e-6,2*1e-6, 3*1e-6]\n",
    "}\n",
    "\n",
    "find_param(model, parameters, scoring, kfold, new_feature_train, new_feature_test, y_train, y_test)"
   ]
  },
  {
   "cell_type": "code",
   "execution_count": null,
   "metadata": {
    "collapsed": true
   },
   "outputs": [],
   "source": []
  }
 ],
 "metadata": {
  "kernelspec": {
   "display_name": "Python 3",
   "language": "python",
   "name": "python3"
  },
  "language_info": {
   "codemirror_mode": {
    "name": "ipython",
    "version": 3
   },
   "file_extension": ".py",
   "mimetype": "text/x-python",
   "name": "python",
   "nbconvert_exporter": "python",
   "pygments_lexer": "ipython3",
   "version": "3.6.2"
  }
 },
 "nbformat": 4,
 "nbformat_minor": 2
}
