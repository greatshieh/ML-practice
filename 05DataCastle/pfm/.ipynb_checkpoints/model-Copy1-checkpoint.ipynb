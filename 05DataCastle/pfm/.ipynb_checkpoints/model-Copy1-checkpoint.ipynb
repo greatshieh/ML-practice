{
 "cells": [
  {
   "cell_type": "code",
   "execution_count": 1,
   "metadata": {
    "collapsed": true
   },
   "outputs": [],
   "source": [
    "'''导入库'''\n",
    "import pandas as pd\n",
    "import sys\n",
    "sys.path.append('..')\n",
    "\n",
    "from sklearn.ensemble import RandomForestClassifier\n",
    "from sklearn.preprocessing import LabelEncoder\n",
    "from sklearn.preprocessing import MinMaxScaler\n",
    "from sklearn.model_selection import train_test_split\n",
    "from sklearn.linear_model import LogisticRegression\n",
    "from sklearn.feature_selection import SelectFromModel\n",
    "from sklearn.feature_selection import RFE\n",
    "from sklearn.feature_selection import chi2\n",
    "from sklearn.feature_selection import SelectKBest\n",
    "from sklearn.model_selection import GridSearchCV\n",
    "from sklearn.preprocessing import PolynomialFeatures\n",
    "from sklearn.pipeline import Pipeline\n",
    "from sklearn.discriminant_analysis import LinearDiscriminantAnalysis\n",
    "from sklearn.ensemble import GradientBoostingClassifier\n",
    "from sklearn.ensemble import AdaBoostClassifier\n",
    "from sklearn.model_selection import KFold\n",
    "from sklearn.model_selection import cross_val_score\n",
    "from sklearn.ensemble import VotingClassifier\n",
    "from sklearn.metrics import accuracy_score\n",
    "from sklearn.metrics import confusion_matrix\n",
    "from sklearn.metrics import classification_report\n",
    "from pfm.code.discretization import discretization\n",
    "from sklearn.svm import LinearSVC"
   ]
  },
  {
   "cell_type": "code",
   "execution_count": 2,
   "metadata": {
    "collapsed": true
   },
   "outputs": [],
   "source": [
    "df_train = pd.read_csv('./dataset/pfm_train.csv')\n",
    "df_test = pd.read_csv('./dataset/pfm_test.csv')"
   ]
  },
  {
   "cell_type": "code",
   "execution_count": 3,
   "metadata": {},
   "outputs": [
    {
     "name": "stdout",
     "output_type": "stream",
     "text": [
      "基本信息增益是: 0.638642\n",
      "Age的最佳划分点是 33.500000, 最大信息增益是 0.028930。\n",
      "MonthlyIncome的最佳划分点是 2487.500000, 最大信息增益是 0.029878。\n",
      "TotalWorkingYears的最佳划分点是 2.500000, 最大信息增益是 0.031816。\n",
      "YearsAtCompany的最佳划分点是 2.500000, 最大信息增益是 0.025815。\n",
      "YearsInCurrentRole的最佳划分点是 2.500000, 最大信息增益是 0.019440。\n",
      "YearsSinceLastPromotion的最佳划分点是 7.500000, 最大信息增益是 0.006556。\n",
      "YearsWithCurrManager的最佳划分点是 0.500000, 最大信息增益是 0.025104。\n"
     ]
    }
   ],
   "source": [
    "df_train.drop(\n",
    "    ['Over18', 'StandardHours', 'EmployeeNumber'], axis=1, inplace=True)\n",
    "df_test.drop(\n",
    "    ['Over18', 'StandardHours', 'EmployeeNumber'], axis=1, inplace=True)\n",
    "\n",
    "# 预测变量\n",
    "target_var = 'Attrition'\n",
    "\n",
    "# 连续变量\n",
    "continuous_var = [\n",
    "    'Age', 'MonthlyIncome', 'TotalWorkingYears', 'YearsAtCompany',\n",
    "    'YearsInCurrentRole', 'YearsSinceLastPromotion', 'YearsWithCurrManager'\n",
    "]\n",
    "# 分类变量\n",
    "categorical_var = [\n",
    "    x for x in df_train.columns if x not in continuous_var and x != target_var\n",
    "]\n",
    "df_train[continuous_var] = df_train[continuous_var].astype(float)\n",
    "df_test[continuous_var] = df_test[continuous_var].astype(float)\n",
    "# 数据类型\n",
    "# 数值型\n",
    "numeric_var = [\n",
    "    x for x in df_train.dtypes.index\n",
    "    if df_train.dtypes[x] != 'object' and x != target_var\n",
    "]\n",
    "# 字符型\n",
    "character_var = [\n",
    "    x for x in df_train.dtypes.index\n",
    "    if x not in numeric_var and x != target_var\n",
    "]\n",
    "\n",
    "\n",
    "# 将字符变量数值化\n",
    "le = LabelEncoder()\n",
    "for col in character_var:\n",
    "    df_train[col] = le.fit_transform(df_train[col])\n",
    "    df_test[col] = le.fit_transform(df_test[col])\n",
    "    \n",
    "# 将连续变量归一化\n",
    "#scaler = MinMaxScaler()\n",
    "#pattern = scaler.fit(df_train[continuous_var])\n",
    "#df_train[continuous_var] = scaler.fit_transform(df_train[continuous_var])\n",
    "\n",
    "#df_test[continuous_var] = scaler.transform(df_test[continuous_var])\n",
    "\n",
    "# 将连续变量离散化\n",
    "df_Ent = discretization(pd.concat([df_train[continuous_var], df_train[target_var]], axis=1),\n",
    "                        target_var)"
   ]
  },
  {
   "cell_type": "code",
   "execution_count": 4,
   "metadata": {
    "collapsed": true
   },
   "outputs": [],
   "source": [
    "from sklearn.preprocessing import Binarizer\n",
    "for key in df_Ent.keys():\n",
    "    bin_encoder = Binarizer(df_Ent[key]['best_point'])\n",
    "    df_train[key] = bin_encoder.fit_transform(df_train[key].values.reshape(-1, 1))\n",
    "    df_test[key] = bin_encoder.fit_transform(df_test[key].values.reshape(-1, 1))"
   ]
  },
  {
   "cell_type": "code",
   "execution_count": 5,
   "metadata": {
    "collapsed": true
   },
   "outputs": [],
   "source": [
    "# 创建哑变量\n",
    "predictor_var = [x for x in df_train.columns if x != target_var]\n",
    "for col in predictor_var:\n",
    "    dummy = pd.get_dummies(df_train[col], prefix=col)\n",
    "    df_train = pd.concat([df_train, dummy], axis=1)\n",
    "    df_train.drop([col], axis=1, inplace=True)\n",
    "    \n",
    "    dummy = pd.get_dummies(df_test[col], prefix=col)\n",
    "    df_test = pd.concat([df_test, dummy], axis=1)\n",
    "    df_test.drop([col], axis=1, inplace=True)"
   ]
  },
  {
   "cell_type": "code",
   "execution_count": 6,
   "metadata": {
    "collapsed": true
   },
   "outputs": [],
   "source": [
    "predictor_var = [x for x in df_train.columns if x != target_var]\n",
    "X_train, X_Test, Y_train, Y_Test = train_test_split(\n",
    "    df_train[predictor_var],\n",
    "    df_train[target_var],\n",
    "    test_size=0.3,\n",
    "    random_state=1)"
   ]
  },
  {
   "cell_type": "code",
   "execution_count": 16,
   "metadata": {
    "collapsed": true
   },
   "outputs": [],
   "source": [
    "predictor_var = [x for x in df_train.columns if x != target_var]\n",
    "def validation_func(clf, X_train, X_Test, Y_train, Y_Test):  \n",
    "    ensemble = clf.fit(X_train, Y_train)\n",
    "    print(\"Model Accuracy on training: \", accuracy_score(Y_train, ensemble.predict(X_train)), '\\n')\n",
    "    finalpred = ensemble.predict(X_Test)\n",
    "    print(\"Model Accuracy: \", accuracy_score(Y_Test, finalpred), '\\n')\n",
    "    print(confusion_matrix(Y_Test, finalpred), '\\n')\n",
    "    print(classification_report(Y_Test, finalpred))\n",
    "    return ensemble"
   ]
  },
  {
   "cell_type": "code",
   "execution_count": 17,
   "metadata": {
    "scrolled": false
   },
   "outputs": [
    {
     "name": "stdout",
     "output_type": "stream",
     "text": [
      "Model Accuracy on training:  0.918181818182 \n",
      "\n",
      "Model Accuracy:  0.881818181818 \n",
      "\n",
      "[[263   5]\n",
      " [ 34  28]] \n",
      "\n",
      "             precision    recall  f1-score   support\n",
      "\n",
      "          0       0.89      0.98      0.93       268\n",
      "          1       0.85      0.45      0.59        62\n",
      "\n",
      "avg / total       0.88      0.88      0.87       330\n",
      "\n"
     ]
    }
   ],
   "source": [
    "clf = LogisticRegression()\n",
    "model = validation_func(clf, X_train, X_Test, Y_train, Y_Test)"
   ]
  },
  {
   "cell_type": "code",
   "execution_count": 9,
   "metadata": {},
   "outputs": [
    {
     "name": "stdout",
     "output_type": "stream",
     "text": [
      "0.883116883117\n",
      "LogisticRegression(C=0.1, class_weight=None, dual=False, fit_intercept=True,\n",
      "          intercept_scaling=1, max_iter=100, multi_class='ovr', n_jobs=1,\n",
      "          penalty='l2', random_state=None, solver='liblinear', tol=1e-06,\n",
      "          verbose=0, warm_start=False)\n"
     ]
    }
   ],
   "source": [
    "parameters = {\n",
    "    'penalty': ['l1', 'l2'],\n",
    "    'C': [0.001, 0.01, 0.1],\n",
    "    'tol': [1e-6, 1e-5, 1e-4]\n",
    "}\n",
    "grid_search = GridSearchCV(clf, parameters, verbose=0, cv=10).fit(X_train, Y_train)\n",
    "print(grid_search.best_score_)\n",
    "print(grid_search.best_estimator_)"
   ]
  },
  {
   "cell_type": "code",
   "execution_count": 10,
   "metadata": {},
   "outputs": [
    {
     "name": "stdout",
     "output_type": "stream",
     "text": [
      "Model Accuracy on training:  0.9 \n",
      "\n",
      "Model Accuracy:  0.863636363636 \n",
      "\n",
      "[[268   0]\n",
      " [ 45  17]] \n",
      "\n",
      "             precision    recall  f1-score   support\n",
      "\n",
      "          0       0.86      1.00      0.92       268\n",
      "          1       1.00      0.27      0.43        62\n",
      "\n",
      "avg / total       0.88      0.86      0.83       330\n",
      "\n"
     ]
    }
   ],
   "source": [
    "validation_func(grid_search.best_estimator_, X_train, X_Test, Y_train, Y_Test)"
   ]
  },
  {
   "cell_type": "code",
   "execution_count": 11,
   "metadata": {
    "collapsed": true
   },
   "outputs": [],
   "source": [
    "selector = SelectFromModel(LogisticRegression(penalty='l1'))\n",
    "selector.fit_transform(X_train, Y_train)\n",
    "supported = pd.DataFrame({'support':selector.get_support(indices=False)}, index=predictor_var)"
   ]
  },
  {
   "cell_type": "code",
   "execution_count": 12,
   "metadata": {},
   "outputs": [
    {
     "name": "stdout",
     "output_type": "stream",
     "text": [
      "0.883116883117\n",
      "LogisticRegression(C=0.1, class_weight=None, dual=False, fit_intercept=True,\n",
      "          intercept_scaling=1, max_iter=100, multi_class='ovr', n_jobs=1,\n",
      "          penalty='l2', random_state=None, solver='liblinear', tol=1e-06,\n",
      "          verbose=0, warm_start=False)\n"
     ]
    }
   ],
   "source": [
    "grid_search = GridSearchCV(clf, parameters, verbose=0, cv=10)\\\n",
    "             .fit(X_train[supported[supported['support']==True].index.tolist()], Y_train)\n",
    "print(grid_search.best_score_)\n",
    "print(grid_search.best_estimator_)"
   ]
  },
  {
   "cell_type": "code",
   "execution_count": 13,
   "metadata": {},
   "outputs": [
    {
     "name": "stdout",
     "output_type": "stream",
     "text": [
      "Model Accuracy on training:  0.893506493506 \n",
      "\n",
      "Model Accuracy:  0.860606060606 \n",
      "\n",
      "[[267   1]\n",
      " [ 45  17]] \n",
      "\n",
      "             precision    recall  f1-score   support\n",
      "\n",
      "          0       0.86      1.00      0.92       268\n",
      "          1       0.94      0.27      0.42        62\n",
      "\n",
      "avg / total       0.87      0.86      0.83       330\n",
      "\n"
     ]
    }
   ],
   "source": [
    "validation_func(grid_search.best_estimator_,\n",
    "                X_train[supported[supported['support']==True].index.tolist()],\n",
    "                X_Test[supported[supported['support']==True].index.tolist()],\n",
    "                Y_train,\n",
    "                Y_Test)"
   ]
  },
  {
   "cell_type": "code",
   "execution_count": 22,
   "metadata": {},
   "outputs": [
    {
     "data": {
      "text/plain": [
       "BaggingClassifier(base_estimator=LogisticRegression(C=1.0, class_weight=None, dual=False, fit_intercept=True,\n",
       "          intercept_scaling=1, max_iter=100, multi_class='ovr', n_jobs=1,\n",
       "          penalty='l1', random_state=None, solver='liblinear', tol=1e-06,\n",
       "          verbose=0, warm_start=False),\n",
       "         bootstrap=True, bootstrap_features=False, max_features=1.0,\n",
       "         max_samples=0.8, n_estimators=20, n_jobs=-1, oob_score=False,\n",
       "         random_state=None, verbose=0, warm_start=False)"
      ]
     },
     "execution_count": 22,
     "metadata": {},
     "output_type": "execute_result"
    }
   ],
   "source": [
    "from sklearn.ensemble import BaggingClassifier\n",
    "\n",
    "# fit到BaggingRegressor之中\n",
    "clf = LogisticRegression(C=1.0, penalty='l1', tol=1e-6)\n",
    "bagging_clf = BaggingClassifier(clf, n_estimators=20, max_samples=0.8, max_features=1.0, bootstrap=True, bootstrap_features=False, n_jobs=-1)\n",
    "bagging_clf.fit(df_train[predictor_var], df_train[target_var])"
   ]
  },
  {
   "cell_type": "code",
   "execution_count": 23,
   "metadata": {},
   "outputs": [],
   "source": [
    "result = bagging_clf.predict(df_test[predictor_var])\n",
    "pd.DataFrame({'result': result}).to_csv('result.csv', index=False)"
   ]
  },
  {
   "cell_type": "code",
   "execution_count": null,
   "metadata": {
    "collapsed": true
   },
   "outputs": [],
   "source": []
  }
 ],
 "metadata": {
  "kernelspec": {
   "display_name": "Python 3",
   "language": "python",
   "name": "python3"
  },
  "language_info": {
   "codemirror_mode": {
    "name": "ipython",
    "version": 3
   },
   "file_extension": ".py",
   "mimetype": "text/x-python",
   "name": "python",
   "nbconvert_exporter": "python",
   "pygments_lexer": "ipython3",
   "version": "3.6.2"
  }
 },
 "nbformat": 4,
 "nbformat_minor": 2
}
