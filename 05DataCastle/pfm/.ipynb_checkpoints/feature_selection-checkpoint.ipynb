{
 "cells": [
  {
   "cell_type": "markdown",
   "metadata": {},
   "source": [
    "# 采用多种方式进行特征选择\n",
    "## 数据预处理\n",
    "### 连续变量归一化"
   ]
  },
  {
   "cell_type": "code",
   "execution_count": 51,
   "metadata": {},
   "outputs": [],
   "source": [
    "import pandas as pd\n",
    "import numpy as np\n",
    "import seaborn as sns\n",
    "import matplotlib.pyplot as plt\n",
    "%matplotlib inline\n",
    "\n",
    "from sklearn.ensemble import RandomForestClassifier\n",
    "from sklearn.feature_selection import chi2\n",
    "from sklearn.preprocessing import LabelEncoder\n",
    "from sklearn.preprocessing import MinMaxScaler\n",
    "from sklearn.model_selection import train_test_split\n",
    "from sklearn.linear_model import LogisticRegression\n",
    "from sklearn.preprocessing import MinMaxScaler\n",
    "from sklearn.feature_selection import RFE\n",
    "\n",
    "import validate as va"
   ]
  },
  {
   "cell_type": "code",
   "execution_count": 52,
   "metadata": {
    "collapsed": true
   },
   "outputs": [],
   "source": [
    "df_train = pd.read_csv('./dataset/pfm_train.csv')\n",
    "df_test = pd.read_csv('./dataset/pfm_test.csv')\n",
    "\n",
    "# 前文分析过，两个变量方差为0，可以删除。\n",
    "# EmployeeNumber是唯一识别号码，删除\n",
    "df_train.drop(['Over18', 'StandardHours', 'EmployeeNumber'],\n",
    "              axis=1, inplace=True)\n",
    "df_test.drop(['Over18', 'StandardHours', 'EmployeeNumber'],\n",
    "              axis=1, inplace=True)\n",
    "\n",
    "# 预测变量\n",
    "target_var = 'Attrition'\n",
    "\n",
    "# 连续变量\n",
    "continuous_var = ['Age', 'MonthlyIncome', 'TotalWorkingYears',\n",
    "                  'YearsAtCompany', 'YearsInCurrentRole', 'YearsSinceLastPromotion',\n",
    "                  'YearsWithCurrManager']\n",
    "# 分类变量\n",
    "categorical_var = [ x for x in df_train.columns if x not in continuous_var\n",
    "                                               and x != target_var]\n",
    "\n",
    "# 数据类型\n",
    "# 数值型\n",
    "numeric_var = [x for x in df_train.dtypes.index if df_train.dtypes[x] != 'object'\n",
    "                                               and x != target_var]\n",
    "# 字符型\n",
    "character_var = [ x for x in df_train.dtypes.index if x not in numeric_var\n",
    "                                                  and x != target_var]"
   ]
  },
  {
   "cell_type": "code",
   "execution_count": 53,
   "metadata": {},
   "outputs": [],
   "source": [
    "# 将连续变量标准化\n",
    "scaler = MinMaxScaler()\n",
    "df_train[continuous_var] = scaler.fit_transform(df_train[continuous_var])\n",
    "df_test[continuous_var] = scaler.fit_transform(df_test[continuous_var])\n",
    "\n",
    "# 将字符变量数值化\n",
    "le = LabelEncoder()\n",
    "for col in character_var:\n",
    "    df_train[col] = le.fit_transform(df_train[col])\n",
    "    df_test[col] = le.fit_transform(df_test[col])\n",
    "    \n",
    "# 为分类变量常见虚拟变量\n",
    "for col in categorical_var:\n",
    "    dummy = pd.get_dummies(df_train[col], prefix=col)\n",
    "    # 合并虚拟变量\n",
    "    df_train = pd.concat([df_train, dummy], axis=1)\n",
    "    # 删除原变量\n",
    "    df_train.drop([col], axis=1, inplace=True)\n",
    "    \n",
    "    # 测试集进行同样操作\n",
    "    dummy = pd.get_dummies(df_test[col], prefix=col)\n",
    "    df_test = pd.concat([df_test, dummy], axis=1)\n",
    "    df_test.drop([col], axis=1, inplace=True)"
   ]
  },
  {
   "cell_type": "code",
   "execution_count": 77,
   "metadata": {},
   "outputs": [],
   "source": [
    "predictor_var = [x for x in df_train.columns if x != target_var]\n",
    "\n",
    "clf = LogisticRegression()"
   ]
  },
  {
   "cell_type": "code",
   "execution_count": 78,
   "metadata": {},
   "outputs": [
    {
     "name": "stdout",
     "output_type": "stream",
     "text": [
      "n_feautres = 1, score = 0.8154\n",
      "n_feautres = 4, score = 0.8182\n",
      "n_feautres = 7, score = 0.8209\n",
      "n_feautres = 9, score = 0.8292\n",
      "n_feautres = 12, score = 0.8320\n",
      "n_features = 12, score = 0.8320\n"
     ]
    },
    {
     "data": {
      "text/plain": [
       "[<matplotlib.lines.Line2D at 0x2c524ecc0b8>]"
      ]
     },
     "execution_count": 78,
     "metadata": {},
     "output_type": "execute_result"
    },
    {
     "data": {
      "image/png": "[encoded data removed]",
      "text/plain": [
       "<matplotlib.figure.Figure at 0x2c523e85160>"
      ]
     },
     "metadata": {},
     "output_type": "display_data"
    }
   ],
   "source": [
    "# 使用递归消除法进行特征选择\n",
    "seed = 7\n",
    "size = 0.33\n",
    "X_train, X_test, y_train, y_test = train_test_split(df_train[predictor_var], df_train[target_var],\n",
    "                                                    test_size=size, random_state=seed)\n",
    "\n",
    "N = len(predictor_var)\n",
    "score_list = []\n",
    "score_temp = 0.5\n",
    "num_temp = 1\n",
    "\n",
    "for x in range(N):\n",
    "    n_features = x + 1\n",
    "    selector = RFE(clf, n_features_to_select=n_features)\n",
    "    feature = selector.fit_transform(X_train,y_train)\n",
    "\n",
    "    #clf.fit(X_train, y_train)\n",
    "    score = selector.score(X_test, y_test)\n",
    "    score_list.append(score)\n",
    "    if score > score_temp:\n",
    "        score_temp = score\n",
    "        num_temp = n_features\n",
    "        support = pd.DataFrame({'support':selector.support_,\n",
    "                                'feature':predictor_var})\n",
    "        print('n_feautres = %d, score = %.4f'%(num_temp, score_temp))\n",
    "        result = selector.predict(df_test[predictor_var])\n",
    "        pd.DataFrame({'result':result}).to_csv('result.csv')\n",
    "        \n",
    "print('n_features = %d, score = %.4f'%(num_temp, score_temp))\n",
    "    \n",
    "plt.plot(range(N), score_list)"
   ]
  },
  {
   "cell_type": "code",
   "execution_count": null,
   "metadata": {
    "collapsed": true
   },
   "outputs": [],
   "source": []
  }
 ],
 "metadata": {
  "kernelspec": {
   "display_name": "Python 3",
   "language": "python",
   "name": "python3"
  },
  "language_info": {
   "codemirror_mode": {
    "name": "ipython",
    "version": 3
   },
   "file_extension": ".py",
   "mimetype": "text/x-python",
   "name": "python",
   "nbconvert_exporter": "python",
   "pygments_lexer": "ipython3",
   "version": "3.6.2"
  }
 },
 "nbformat": 4,
 "nbformat_minor": 2
}
