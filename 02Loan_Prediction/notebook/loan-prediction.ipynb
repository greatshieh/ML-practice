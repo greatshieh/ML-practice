{
 "cells": [
  {
   "cell_type": "markdown",
   "metadata": {},
   "source": [
    "# 贷款预测之生成新特征"
   ]
  },
  {
   "cell_type": "code",
   "execution_count": 163,
   "metadata": {
    "scrolled": true
   },
   "outputs": [],
   "source": [
    "import pandas as pd\n",
    "import numpy as np\n",
    "\n",
    "import warnings\n",
    "warnings.filterwarnings('ignore')\n",
    "\n",
    "from matplotlib import pyplot as plt\n",
    "plt.style.use('ggplot')\n",
    "%matplotlib inline\n",
    "import seaborn as sns\n",
    "sns.set_style('whitegrid')\n",
    "\n",
    "from jupyterthemes import jtplot\n",
    "jtplot.style(theme='grade3')\n",
    "\n",
    "\n",
    "import pickle"
   ]
  },
  {
   "cell_type": "code",
   "execution_count": 144,
   "metadata": {},
   "outputs": [],
   "source": [
    "train = pd.read_csv('../dataset/train.csv', header=0, index_col='Loan_ID')\n",
    "test = pd.read_csv('../dataset/test.csv', header=0, index_col='Loan_ID')\n",
    "\n",
    "df = pd.concat([train ,test], axis=0)"
   ]
  },
  {
   "cell_type": "code",
   "execution_count": 145,
   "metadata": {},
   "outputs": [],
   "source": [
    "# 目标变量\n",
    "target_var = 'Loan_Status'\n",
    "\n",
    "# 分类变量\n",
    "cat_col = train.select_dtypes(include=['object']).columns.tolist()\n",
    "cat_col.remove(target_var)\n",
    "# 连续变量\n",
    "num_col = train.select_dtypes(exclude=['object']).columns.tolist()\n",
    "\n",
    "num_col.remove('Credit_History')\n",
    "cat_col.append('Credit_History')"
   ]
  },
  {
   "cell_type": "code",
   "execution_count": 147,
   "metadata": {},
   "outputs": [],
   "source": [
    "df.dropna(axis=0, inplace=True)"
   ]
  },
  {
   "cell_type": "markdown",
   "metadata": {},
   "source": [
    "### 连续变量之间的关系"
   ]
  },
  {
   "cell_type": "code",
   "execution_count": 148,
   "metadata": {},
   "outputs": [
    {
     "data": {
      "text/plain": [
       "<matplotlib.axes._subplots.AxesSubplot at 0x188f2ab1978>"
      ]
     },
     "execution_count": 148,
     "metadata": {},
     "output_type": "execute_result"
    },
    {
     "data": {
      "image/png": "[encoded data removed]",
      "text/plain": [
       "<matplotlib.figure.Figure at 0x188f2ae8550>"
      ]
     },
     "metadata": {},
     "output_type": "display_data"
    }
   ],
   "source": [
    "corr = df[num_col].corr()\n",
    "sns.heatmap(corr, annot=True)"
   ]
  },
  {
   "cell_type": "code",
   "execution_count": 150,
   "metadata": {},
   "outputs": [],
   "source": [
    "from scipy.stats import ttest_ind\n",
    "from statsmodels.stats.weightstats import ztest\n",
    "from scipy.stats import f_oneway\n",
    "def get_p_value(data, columns, target):\n",
    "    arg = []\n",
    "    for s in data[target].unique():\n",
    "        arg.append(data.loc[data[target]==s, columns])\n",
    "    if len(data[target].unique())<=2:\n",
    "        z, p = ztest(*arg)\n",
    "    else:\n",
    "        f, p = f_oneway(*arg)\n",
    "    return p"
   ]
  },
  {
   "cell_type": "code",
   "execution_count": 87,
   "metadata": {},
   "outputs": [
    {
     "data": {
      "text/html": [
       "<div>\n",
       "<style scoped>\n",
       "    .dataframe tbody tr th:only-of-type {\n",
       "        vertical-align: middle;\n",
       "    }\n",
       "\n",
       "    .dataframe tbody tr th {\n",
       "        vertical-align: top;\n",
       "    }\n",
       "\n",
       "    .dataframe thead th {\n",
       "        text-align: right;\n",
       "    }\n",
       "</style>\n",
       "<table border=\"1\" class=\"dataframe\">\n",
       "  <thead>\n",
       "    <tr style=\"text-align: right;\">\n",
       "      <th></th>\n",
       "      <th>pvalue</th>\n",
       "      <th>P&lt;0.05</th>\n",
       "      <th>col</th>\n",
       "    </tr>\n",
       "  </thead>\n",
       "  <tbody>\n",
       "    <tr>\n",
       "      <th>11</th>\n",
       "      <td>0.067871</td>\n",
       "      <td>False</td>\n",
       "      <td>Loan/TotalIncome</td>\n",
       "    </tr>\n",
       "    <tr>\n",
       "      <th>8</th>\n",
       "      <td>0.082022</td>\n",
       "      <td>False</td>\n",
       "      <td>Loan/Income</td>\n",
       "    </tr>\n",
       "    <tr>\n",
       "      <th>7</th>\n",
       "      <td>0.094299</td>\n",
       "      <td>False</td>\n",
       "      <td>Repayment</td>\n",
       "    </tr>\n",
       "    <tr>\n",
       "      <th>2</th>\n",
       "      <td>0.115766</td>\n",
       "      <td>False</td>\n",
       "      <td>LoanAmount</td>\n",
       "    </tr>\n",
       "    <tr>\n",
       "      <th>4</th>\n",
       "      <td>0.171201</td>\n",
       "      <td>False</td>\n",
       "      <td>TotalIncome</td>\n",
       "    </tr>\n",
       "    <tr>\n",
       "      <th>6</th>\n",
       "      <td>0.175019</td>\n",
       "      <td>False</td>\n",
       "      <td>AverageIncome</td>\n",
       "    </tr>\n",
       "    <tr>\n",
       "      <th>1</th>\n",
       "      <td>0.283265</td>\n",
       "      <td>False</td>\n",
       "      <td>CoapplicantIncome</td>\n",
       "    </tr>\n",
       "    <tr>\n",
       "      <th>0</th>\n",
       "      <td>0.345010</td>\n",
       "      <td>False</td>\n",
       "      <td>ApplicantIncome</td>\n",
       "    </tr>\n",
       "    <tr>\n",
       "      <th>9</th>\n",
       "      <td>0.412649</td>\n",
       "      <td>False</td>\n",
       "      <td>Income/Loan</td>\n",
       "    </tr>\n",
       "    <tr>\n",
       "      <th>5</th>\n",
       "      <td>0.438305</td>\n",
       "      <td>False</td>\n",
       "      <td>FamilySize</td>\n",
       "    </tr>\n",
       "    <tr>\n",
       "      <th>10</th>\n",
       "      <td>0.519525</td>\n",
       "      <td>False</td>\n",
       "      <td>TotalIncome/Loan</td>\n",
       "    </tr>\n",
       "    <tr>\n",
       "      <th>3</th>\n",
       "      <td>0.864628</td>\n",
       "      <td>False</td>\n",
       "      <td>Loan_Amount_Term</td>\n",
       "    </tr>\n",
       "  </tbody>\n",
       "</table>\n",
       "</div>"
      ],
      "text/plain": [
       "      pvalue P<0.05                col\n",
       "11  0.067871  False   Loan/TotalIncome\n",
       "8   0.082022  False        Loan/Income\n",
       "7   0.094299  False          Repayment\n",
       "2   0.115766  False         LoanAmount\n",
       "4   0.171201  False        TotalIncome\n",
       "6   0.175019  False      AverageIncome\n",
       "1   0.283265  False  CoapplicantIncome\n",
       "0   0.345010  False    ApplicantIncome\n",
       "9   0.412649  False        Income/Loan\n",
       "5   0.438305  False         FamilySize\n",
       "10  0.519525  False   TotalIncome/Loan\n",
       "3   0.864628  False   Loan_Amount_Term"
      ]
     },
     "execution_count": 87,
     "metadata": {},
     "output_type": "execute_result"
    }
   ],
   "source": [
    "stats_result = pd.DataFrame(columns=['pvalue', 'P<0.05', 'col'])\n",
    "for col in num_col:\n",
    "    p = get_p_value(train, col, target_var)\n",
    "    stats_result.loc[len(stats_result)] = [p, p<0.05, col]\n",
    "stats_result.sort_values(by='pvalue', ascending=True)"
   ]
  },
  {
   "cell_type": "code",
   "execution_count": 14,
   "metadata": {
    "collapsed": true
   },
   "outputs": [],
   "source": [
    "def plot_num(data, feature_name):\n",
    "    s1 = data.loc[data[target_var]==1, feature_name]\n",
    "    s2 = data.loc[data[target_var]==0, feature_name]\n",
    "    s1mean = s1.mean()\n",
    "    s1std = s1.std()\n",
    "    s2mean = s2.mean()\n",
    "    s2std = s2.std()\n",
    "    print('Loan_Status==Yes, the mean={:.2f}(+/-{:.2f})'.format(s1mean, s1std))\n",
    "    print('Loan_Status==No, the mean={:.2f}(+/-{:.2f})'.format(s2mean, s2std))\n",
    "    if s1mean>s2mean:\n",
    "        delta = s1mean-s2mean\n",
    "    else:\n",
    "        delta = s2mean-s1mean\n",
    "    print('Absolute Mean Diferrence Distance: {:.2f}'.format(delta))\n",
    "    print('p-value: {}'.format(stats_result.loc[stats_result['col']==feature_name, 'pvalue'].values[0]))\n",
    "    print('p<0.05: {}'.format(stats_result.loc[stats_result['col']==feature_name, 'P<0.05'].values[0]))\n",
    "    if feature_name in num_col:\n",
    "        plt.figure(figsize=(15,5))\n",
    "        _ = plt.subplot2grid((2,2),(0,0), rowspan=2)\n",
    "        sns.pointplot(x=target_var, y=feature_name, data=data)\n",
    "        \n",
    "        _ = plt.subplot(2,2,2)\n",
    "        sns.boxplot(y=feature_name, x=target_var, data=data)\n",
    "        \n",
    "        _ = plt.subplot(2,2,4)\n",
    "        sns.kdeplot(data=data.loc[data[target_var]==1, feature_name], label='Y', shade=True)\n",
    "        sns.kdeplot(data=data.loc[data[target_var]==0, feature_name], label='N', shade=True)\n",
    "    else:\n",
    "        plt.figure(figsize=(15,5))\n",
    "        _ = plt.subplot2grid((2,2),(0,0), rowspan=2)\n",
    "        sns.pointplot(x=target_var, y=feature_name, data=data)\n",
    "        \n",
    "        _ = plt.subplot(2,2,2)\n",
    "        sns.boxplot(y=feature_name, x=target_var, data=data)\n",
    "        \n",
    "        _ = plt.subplot(2,2,4)\n",
    "        sns.countplot(x=data.loc[data[target_var]==1, feature_name], data=df_train, color='darkgray')\n",
    "        sns.countplot(x=data.loc[data[target_var]==0, feature_name], data=df_train, color='yellow')"
   ]
  },
  {
   "cell_type": "markdown",
   "metadata": {},
   "source": [
    "### 分类变量分析"
   ]
  },
  {
   "cell_type": "code",
   "execution_count": 151,
   "metadata": {},
   "outputs": [],
   "source": [
    "def get_chi2_value(data, columns, target=target_var):\n",
    "    crosstable = pd.crosstab(data[columns], data[target])\n",
    "    chi2, p, dof, expected = chi2_contingency(crosstable)\n",
    "    return p"
   ]
  },
  {
   "cell_type": "code",
   "execution_count": 153,
   "metadata": {},
   "outputs": [
    {
     "data": {
      "text/html": [
       "<div>\n",
       "<style scoped>\n",
       "    .dataframe tbody tr th:only-of-type {\n",
       "        vertical-align: middle;\n",
       "    }\n",
       "\n",
       "    .dataframe tbody tr th {\n",
       "        vertical-align: top;\n",
       "    }\n",
       "\n",
       "    .dataframe thead th {\n",
       "        text-align: right;\n",
       "    }\n",
       "</style>\n",
       "<table border=\"1\" class=\"dataframe\">\n",
       "  <thead>\n",
       "    <tr style=\"text-align: right;\">\n",
       "      <th></th>\n",
       "      <th>pvalue</th>\n",
       "      <th>P&lt;0.05</th>\n",
       "      <th>col</th>\n",
       "    </tr>\n",
       "  </thead>\n",
       "  <tbody>\n",
       "    <tr>\n",
       "      <th>6</th>\n",
       "      <td>7.184760e-40</td>\n",
       "      <td>True</td>\n",
       "      <td>Credit_History</td>\n",
       "    </tr>\n",
       "    <tr>\n",
       "      <th>5</th>\n",
       "      <td>2.136019e-03</td>\n",
       "      <td>True</td>\n",
       "      <td>Property_Area</td>\n",
       "    </tr>\n",
       "    <tr>\n",
       "      <th>1</th>\n",
       "      <td>3.439381e-02</td>\n",
       "      <td>True</td>\n",
       "      <td>Married</td>\n",
       "    </tr>\n",
       "    <tr>\n",
       "      <th>3</th>\n",
       "      <td>4.309962e-02</td>\n",
       "      <td>True</td>\n",
       "      <td>Education</td>\n",
       "    </tr>\n",
       "    <tr>\n",
       "      <th>2</th>\n",
       "      <td>3.678507e-01</td>\n",
       "      <td>False</td>\n",
       "      <td>Dependents</td>\n",
       "    </tr>\n",
       "    <tr>\n",
       "      <th>0</th>\n",
       "      <td>7.086530e-01</td>\n",
       "      <td>False</td>\n",
       "      <td>Gender</td>\n",
       "    </tr>\n",
       "    <tr>\n",
       "      <th>4</th>\n",
       "      <td>9.420039e-01</td>\n",
       "      <td>False</td>\n",
       "      <td>Self_Employed</td>\n",
       "    </tr>\n",
       "  </tbody>\n",
       "</table>\n",
       "</div>"
      ],
      "text/plain": [
       "         pvalue P<0.05             col\n",
       "6  7.184760e-40   True  Credit_History\n",
       "5  2.136019e-03   True   Property_Area\n",
       "1  3.439381e-02   True         Married\n",
       "3  4.309962e-02   True       Education\n",
       "2  3.678507e-01  False      Dependents\n",
       "0  7.086530e-01  False          Gender\n",
       "4  9.420039e-01  False   Self_Employed"
      ]
     },
     "execution_count": 153,
     "metadata": {},
     "output_type": "execute_result"
    }
   ],
   "source": [
    "from scipy.stats import chi2_contingency\n",
    "chi2_result = pd.DataFrame(columns=['pvalue', 'P<0.05', 'col'])\n",
    "for col in cat_col:\n",
    "    crosstable = pd.crosstab(train[col], train[target_var])\n",
    "    chi2, p, dof, expected = chi2_contingency(crosstable)\n",
    "    chi2_result.loc[len(chi2_result)] = [p, p<0.05, col]\n",
    "chi2_result.sort_values(by='pvalue', ascending=True)"
   ]
  },
  {
   "cell_type": "code",
   "execution_count": 83,
   "metadata": {},
   "outputs": [],
   "source": [
    "def plot_cat(data, feature_name):\n",
    "    p = get_chi2_value(data, feature_name)\n",
    "    crosstable = pd.crosstab(data[feature_name], data[target_var])\n",
    "#     chi2, p, dof, expected = chi2_contingency(crosstable)\n",
    "    # 不同特征值间离职和未离职的比例\n",
    "    crosstable = crosstable.div(crosstable.sum(1), axis=0).round(4)\n",
    "    crosstable.columns = ['No', 'Yes']\n",
    "    print('\\n 分类比例')\n",
    "    print(crosstable)\n",
    "    \n",
    "    # 不同特征值在总体样本中所在比例\n",
    "    percentage = (data[feature_name].value_counts() / len(data)).round(4)\n",
    "    # 累计比例\n",
    "    cumsum = percentage.cumsum().round(4)\n",
    "    \n",
    "    \n",
    "    counttable = pd.DataFrame({'percentage': percentage, 'cumsum':cumsum},\n",
    "                              index=data[feature_name].value_counts().index,\n",
    "                              columns=['percentage', 'cumsum'])\n",
    "    print('\\n计数比例')\n",
    "    print(counttable)\n",
    "    \n",
    "    yes_table = data[data[target_var]==1].groupby(feature_name)[target_var].sum()\n",
    "    yes_percentage = (yes_table/yes_table.sum()).round(4)\n",
    "    yestable = pd.DataFrame({'percentage': yes_percentage},\n",
    "                            index=yes_table.index)\n",
    "    yestable2 = yestable.reindex(index=counttable.index)\n",
    "    yestable2['cumsum'] = yestable2['percentage'].cumsum()\n",
    "    print('\\n申请成功')\n",
    "    print(yestable2)\n",
    "    \n",
    "    plt.figure(figsize=(15,7))\n",
    "    ax1 = plt.subplot(2,2,1) # plt.subplot2grid((2,2),(0,0), rowspan=2)\n",
    "    crosstable.plot(kind='bar', stacked=True, ax=ax1, rot=0)\n",
    "    ax1.set_ylim([0,1.1])\n",
    "    \n",
    "    _ = plt.subplot(2,2,3)\n",
    "    sns.barplot(x=feature_name, y=target_var, data=data, errwidth=0)\n",
    "        \n",
    "    _ = plt.subplot(2,2,2)\n",
    "    sns.countplot(x=feature_name, data=data)\n",
    "\n",
    "    _ = plt.subplot(2,2,4)\n",
    "    sns.countplot(x=feature_name, data=data, hue=target_var)"
   ]
  },
  {
   "cell_type": "markdown",
   "metadata": {},
   "source": [
    "## 分类变量间的关系"
   ]
  },
  {
   "cell_type": "code",
   "execution_count": 155,
   "metadata": {},
   "outputs": [
    {
     "name": "stdout",
     "output_type": "stream",
     "text": [
      "Gender<-->Married, p=0.000000\n",
      "Gender<-->Dependents, p=0.000026\n",
      "Gender<-->Education, p=0.250231\n",
      "Gender<-->Self_Employed, p=0.910566\n",
      "Gender<-->Property_Area, p=0.059060\n",
      "Gender<-->Credit_History, p=0.746561\n",
      "Married<-->Dependents, p=0.000000\n",
      "Married<-->Education, p=0.934011\n",
      "Married<-->Self_Employed, p=0.837840\n",
      "Married<-->Property_Area, p=0.674738\n",
      "Married<-->Credit_History, p=0.615633\n",
      "Dependents<-->Education, p=0.886722\n",
      "Dependents<-->Self_Employed, p=0.201808\n",
      "Dependents<-->Property_Area, p=0.053520\n",
      "Dependents<-->Credit_History, p=0.499816\n",
      "Education<-->Self_Employed, p=0.957225\n",
      "Education<-->Property_Area, p=0.332869\n",
      "Education<-->Credit_History, p=0.280035\n",
      "Self_Employed<-->Property_Area, p=0.502958\n",
      "Self_Employed<-->Credit_History, p=0.742464\n",
      "Property_Area<-->Credit_History, p=0.594904\n"
     ]
    }
   ],
   "source": [
    "n = len(cat_col)\n",
    "for x in range(n):\n",
    "    for y in range(x, n):\n",
    "        if x>= y:\n",
    "            continue\n",
    "        crosstable = pd.crosstab(df[cat_col[x]], df[cat_col[y]])\n",
    "        chi2, p, dof, expected = chi2_contingency(crosstable)\n",
    "        print('%s<-->%s, p=%f'%(cat_col[x], cat_col[y], p))\n"
   ]
  },
  {
   "cell_type": "markdown",
   "metadata": {
    "collapsed": true
   },
   "source": [
    "## 连续变量与分类变量的关系"
   ]
  },
  {
   "cell_type": "code",
   "execution_count": 156,
   "metadata": {},
   "outputs": [
    {
     "name": "stdout",
     "output_type": "stream",
     "text": [
      "ApplicantIncome<-->Gender, p=0.475176\n",
      "ApplicantIncome<-->Married, p=0.421801\n",
      "ApplicantIncome<-->Dependents, p=0.002453\n",
      "ApplicantIncome<-->Education, p=0.003818\n",
      "ApplicantIncome<-->Self_Employed, p=0.000151\n",
      "ApplicantIncome<-->Property_Area, p=0.509118\n",
      "ApplicantIncome<-->Credit_History, p=0.218843\n",
      "CoapplicantIncome<-->Gender, p=0.000547\n",
      "CoapplicantIncome<-->Married, p=0.023645\n",
      "CoapplicantIncome<-->Dependents, p=0.902559\n",
      "CoapplicantIncome<-->Education, p=0.102402\n",
      "CoapplicantIncome<-->Self_Employed, p=0.973685\n",
      "CoapplicantIncome<-->Property_Area, p=0.974227\n",
      "CoapplicantIncome<-->Credit_History, p=0.849281\n",
      "LoanAmount<-->Gender, p=0.029661\n",
      "LoanAmount<-->Married, p=0.000045\n",
      "LoanAmount<-->Dependents, p=0.000657\n",
      "LoanAmount<-->Education, p=0.000125\n",
      "LoanAmount<-->Self_Employed, p=0.008017\n",
      "LoanAmount<-->Property_Area, p=0.054227\n",
      "LoanAmount<-->Credit_History, p=0.372302\n",
      "Loan_Amount_Term<-->Gender, p=0.051531\n",
      "Loan_Amount_Term<-->Married, p=0.018075\n",
      "Loan_Amount_Term<-->Dependents, p=0.029453\n",
      "Loan_Amount_Term<-->Education, p=0.024738\n",
      "Loan_Amount_Term<-->Self_Employed, p=0.445796\n",
      "Loan_Amount_Term<-->Property_Area, p=0.359671\n",
      "Loan_Amount_Term<-->Credit_History, p=0.471215\n"
     ]
    }
   ],
   "source": [
    "for x in num_col:\n",
    "    for y in cat_col:\n",
    "        p = get_p_value(df, x, y)\n",
    "        print('%s<-->%s, p=%f'%(x, y, p))"
   ]
  },
  {
   "cell_type": "code",
   "execution_count": 164,
   "metadata": {},
   "outputs": [
    {
     "data": {
      "text/plain": [
       "<matplotlib.axes._subplots.AxesSubplot at 0x188f2e34dd8>"
      ]
     },
     "execution_count": 164,
     "metadata": {},
     "output_type": "execute_result"
    },
    {
     "data": {
      "image/png": "[encoded data removed]",
      "text/plain": [
       "<matplotlib.figure.Figure at 0x188f2d3beb8>"
      ]
     },
     "metadata": {},
     "output_type": "display_data"
    }
   ],
   "source": [
    "sns.boxplot(x='Dependents', y='ApplicantIncome', data=df, order=['0', '1', '2', '3+'])"
   ]
  },
  {
   "cell_type": "code",
   "execution_count": 166,
   "metadata": {},
   "outputs": [
    {
     "data": {
      "text/plain": [
       "<matplotlib.axes._subplots.AxesSubplot at 0x188f2e1aef0>"
      ]
     },
     "execution_count": 166,
     "metadata": {},
     "output_type": "execute_result"
    },
    {
     "data": {
      "image/png": "[encoded data removed]",
      "text/plain": [
       "<matplotlib.figure.Figure at 0x188f2e3ada0>"
      ]
     },
     "metadata": {},
     "output_type": "display_data"
    }
   ],
   "source": [
    "sns.boxplot(x='Education', y='ApplicantIncome', data=df)"
   ]
  },
  {
   "cell_type": "code",
   "execution_count": 179,
   "metadata": {},
   "outputs": [
    {
     "ename": "TypeError",
     "evalue": "Cannot pass values for both `x` and `y`",
     "output_type": "error",
     "traceback": [
      "\u001b[1;31m---------------------------------------------------------------------------\u001b[0m",
      "\u001b[1;31mTypeError\u001b[0m                                 Traceback (most recent call last)",
      "\u001b[1;32m<ipython-input-179-871dd4ee3d9b>\u001b[0m in \u001b[0;36m<module>\u001b[1;34m()\u001b[0m\n\u001b[1;32m----> 1\u001b[1;33m \u001b[0msns\u001b[0m\u001b[1;33m.\u001b[0m\u001b[0mcountplot\u001b[0m\u001b[1;33m(\u001b[0m\u001b[0mx\u001b[0m\u001b[1;33m=\u001b[0m\u001b[1;34m'Married'\u001b[0m\u001b[1;33m,\u001b[0m \u001b[0my\u001b[0m\u001b[1;33m=\u001b[0m\u001b[1;34m'Loan_Amount_Term'\u001b[0m\u001b[1;33m,\u001b[0m \u001b[0mdata\u001b[0m\u001b[1;33m=\u001b[0m\u001b[0mdf\u001b[0m\u001b[1;33m,\u001b[0m \u001b[0mhue\u001b[0m\u001b[1;33m=\u001b[0m\u001b[1;34m'Education'\u001b[0m\u001b[1;33m)\u001b[0m\u001b[1;33m\u001b[0m\u001b[0m\n\u001b[0m",
      "\u001b[1;32mC:\\Anaconda3\\lib\\site-packages\\seaborn\\categorical.py\u001b[0m in \u001b[0;36mcountplot\u001b[1;34m(x, y, hue, data, order, hue_order, orient, color, palette, saturation, dodge, ax, **kwargs)\u001b[0m\n\u001b[0;32m   3350\u001b[0m         \u001b[0my\u001b[0m \u001b[1;33m=\u001b[0m \u001b[0mx\u001b[0m\u001b[1;33m\u001b[0m\u001b[0m\n\u001b[0;32m   3351\u001b[0m     \u001b[1;32melif\u001b[0m \u001b[0mx\u001b[0m \u001b[1;32mis\u001b[0m \u001b[1;32mnot\u001b[0m \u001b[1;32mNone\u001b[0m \u001b[1;32mand\u001b[0m \u001b[0my\u001b[0m \u001b[1;32mis\u001b[0m \u001b[1;32mnot\u001b[0m \u001b[1;32mNone\u001b[0m\u001b[1;33m:\u001b[0m\u001b[1;33m\u001b[0m\u001b[0m\n\u001b[1;32m-> 3352\u001b[1;33m         \u001b[1;32mraise\u001b[0m \u001b[0mTypeError\u001b[0m\u001b[1;33m(\u001b[0m\u001b[1;34m\"Cannot pass values for both `x` and `y`\"\u001b[0m\u001b[1;33m)\u001b[0m\u001b[1;33m\u001b[0m\u001b[0m\n\u001b[0m\u001b[0;32m   3353\u001b[0m     \u001b[1;32melse\u001b[0m\u001b[1;33m:\u001b[0m\u001b[1;33m\u001b[0m\u001b[0m\n\u001b[0;32m   3354\u001b[0m         \u001b[1;32mraise\u001b[0m \u001b[0mTypeError\u001b[0m\u001b[1;33m(\u001b[0m\u001b[1;34m\"Must pass values for either `x` or `y`\"\u001b[0m\u001b[1;33m)\u001b[0m\u001b[1;33m\u001b[0m\u001b[0m\n",
      "\u001b[1;31mTypeError\u001b[0m: Cannot pass values for both `x` and `y`"
     ]
    }
   ],
   "source": [
    "sns.countplot(x='Married', y='Loan_Amount_Term', data=df, hue='Education')"
   ]
  },
  {
   "cell_type": "code",
   "execution_count": 181,
   "metadata": {},
   "outputs": [
    {
     "data": {
      "text/plain": [
       "Married  Education   \n",
       "No       Graduate        354.795181\n",
       "         Not Graduate    336.571429\n",
       "Yes      Graduate        338.970297\n",
       "         Not Graduate    330.000000\n",
       "Name: Loan_Amount_Term, dtype: float64"
      ]
     },
     "execution_count": 181,
     "metadata": {},
     "output_type": "execute_result"
    }
   ],
   "source": [
    "train.groupby(['Married', 'Education'])['Loan_Amount_Term'].mean()"
   ]
  },
  {
   "cell_type": "code",
   "execution_count": 173,
   "metadata": {},
   "outputs": [
    {
     "data": {
      "text/html": [
       "<div>\n",
       "<style scoped>\n",
       "    .dataframe tbody tr th:only-of-type {\n",
       "        vertical-align: middle;\n",
       "    }\n",
       "\n",
       "    .dataframe tbody tr th {\n",
       "        vertical-align: top;\n",
       "    }\n",
       "\n",
       "    .dataframe thead th {\n",
       "        text-align: right;\n",
       "    }\n",
       "</style>\n",
       "<table border=\"1\" class=\"dataframe\">\n",
       "  <thead>\n",
       "    <tr style=\"text-align: right;\">\n",
       "      <th>Education</th>\n",
       "      <th>Graduate</th>\n",
       "      <th>Not Graduate</th>\n",
       "    </tr>\n",
       "    <tr>\n",
       "      <th>Self_Employed</th>\n",
       "      <th></th>\n",
       "      <th></th>\n",
       "    </tr>\n",
       "  </thead>\n",
       "  <tbody>\n",
       "    <tr>\n",
       "      <th>No</th>\n",
       "      <td>3859</td>\n",
       "      <td>3273</td>\n",
       "    </tr>\n",
       "    <tr>\n",
       "      <th>Yes</th>\n",
       "      <td>6250</td>\n",
       "      <td>4695</td>\n",
       "    </tr>\n",
       "  </tbody>\n",
       "</table>\n",
       "</div>"
      ],
      "text/plain": [
       "Education      Graduate  Not Graduate\n",
       "Self_Employed                        \n",
       "No                 3859          3273\n",
       "Yes                6250          4695"
      ]
     },
     "execution_count": 173,
     "metadata": {},
     "output_type": "execute_result"
    }
   ],
   "source": [
    "table"
   ]
  },
  {
   "cell_type": "code",
   "execution_count": null,
   "metadata": {},
   "outputs": [],
   "source": []
  }
 ],
 "metadata": {
  "kernelspec": {
   "display_name": "Python 3",
   "language": "python",
   "name": "python3"
  },
  "language_info": {
   "codemirror_mode": {
    "name": "ipython",
    "version": 3
   },
   "file_extension": ".py",
   "mimetype": "text/x-python",
   "name": "python",
   "nbconvert_exporter": "python",
   "pygments_lexer": "ipython3",
   "version": "3.6.3"
  }
 },
 "nbformat": 4,
 "nbformat_minor": 2
}
