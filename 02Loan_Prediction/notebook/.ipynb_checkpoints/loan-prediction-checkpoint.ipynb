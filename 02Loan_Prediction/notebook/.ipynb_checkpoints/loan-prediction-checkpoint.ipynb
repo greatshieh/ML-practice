{
 "cells": [
  {
   "cell_type": "markdown",
   "metadata": {},
   "source": [
    "# 贷款预测之EDA\n",
    "\n",
    "## 数据探索"
   ]
  },
  {
   "cell_type": "code",
   "execution_count": 1,
   "metadata": {
    "scrolled": true
   },
   "outputs": [
    {
     "name": "stdout",
     "output_type": "stream",
     "text": [
      "Populating the interactive namespace from numpy and matplotlib\n"
     ]
    }
   ],
   "source": [
    "import pandas as pd\n",
    "from pandas import DataFrame,Series\n",
    "import matplotlib\n",
    "import matplotlib.pyplot as plt\n",
    "import numpy as np\n",
    "import seaborn as sns\n",
    "sns.set_style('darkgrid')\n",
    "from jupyterthemes import jtplot\n",
    "jtplot.style(theme='grade3')\n",
    "%pylab inline"
   ]
  },
  {
   "cell_type": "code",
   "execution_count": 3,
   "metadata": {},
   "outputs": [],
   "source": [
    "train = pd.read_csv('../dataset/train.csv', header=0, index_col='Loan_ID')\n",
    "test = pd.read_csv('../dataset/test.csv', header=0, index_col='Loan_ID')"
   ]
  },
  {
   "cell_type": "code",
   "execution_count": 4,
   "metadata": {},
   "outputs": [
    {
     "name": "stdout",
     "output_type": "stream",
     "text": [
      "<class 'pandas.core.frame.DataFrame'>\n",
      "Index: 614 entries, LP001002 to LP002990\n",
      "Data columns (total 12 columns):\n",
      "Gender               601 non-null object\n",
      "Married              611 non-null object\n",
      "Dependents           599 non-null object\n",
      "Education            614 non-null object\n",
      "Self_Employed        582 non-null object\n",
      "ApplicantIncome      614 non-null int64\n",
      "CoapplicantIncome    614 non-null float64\n",
      "LoanAmount           592 non-null float64\n",
      "Loan_Amount_Term     600 non-null float64\n",
      "Credit_History       564 non-null float64\n",
      "Property_Area        614 non-null object\n",
      "Loan_Status          614 non-null object\n",
      "dtypes: float64(4), int64(1), object(7)\n",
      "memory usage: 62.4+ KB\n"
     ]
    }
   ],
   "source": [
    "train.info()"
   ]
  },
  {
   "cell_type": "code",
   "execution_count": 8,
   "metadata": {
    "collapsed": true
   },
   "outputs": [],
   "source": [
    "# 目标变量\n",
    "target_var = 'Loan_Status'\n",
    "\n",
    "# 分类变量\n",
    "cat_cal = train.select_dtypes(include=['object']).columns.tolist()\n",
    "\n",
    "# 连续变量\n",
    "num_col = train.select_dtypes(exclude=['object']).columns.tolist()"
   ]
  },
  {
   "cell_type": "markdown",
   "metadata": {},
   "source": [
    "从info中可以看出，数据类型存在字符型和数值型。其中Loan_Status也被设为了字符型，为了后面的分析方便，将Loan_Status设为数值型。"
   ]
  },
  {
   "cell_type": "code",
   "execution_count": 13,
   "metadata": {
    "collapsed": true
   },
   "outputs": [],
   "source": [
    "train['Loan_Status'] = train['Loan_Status'].map({'Y':1, 'N':0})"
   ]
  },
  {
   "cell_type": "code",
   "execution_count": 10,
   "metadata": {},
   "outputs": [
    {
     "data": {
      "text/html": [
       "<div>\n",
       "<style>\n",
       "    .dataframe thead tr:only-child th {\n",
       "        text-align: right;\n",
       "    }\n",
       "\n",
       "    .dataframe thead th {\n",
       "        text-align: left;\n",
       "    }\n",
       "\n",
       "    .dataframe tbody tr th {\n",
       "        vertical-align: top;\n",
       "    }\n",
       "</style>\n",
       "<table border=\"1\" class=\"dataframe\">\n",
       "  <thead>\n",
       "    <tr style=\"text-align: right;\">\n",
       "      <th></th>\n",
       "      <th>ApplicantIncome</th>\n",
       "      <th>CoapplicantIncome</th>\n",
       "      <th>Credit_History</th>\n",
       "      <th>LoanAmount</th>\n",
       "      <th>Loan_Amount_Term</th>\n",
       "    </tr>\n",
       "  </thead>\n",
       "  <tbody>\n",
       "    <tr>\n",
       "      <th>count</th>\n",
       "      <td>981.000000</td>\n",
       "      <td>981.000000</td>\n",
       "      <td>902.000000</td>\n",
       "      <td>954.000000</td>\n",
       "      <td>961.000000</td>\n",
       "    </tr>\n",
       "    <tr>\n",
       "      <th>mean</th>\n",
       "      <td>5179.795107</td>\n",
       "      <td>1601.916330</td>\n",
       "      <td>0.835920</td>\n",
       "      <td>142.511530</td>\n",
       "      <td>342.201873</td>\n",
       "    </tr>\n",
       "    <tr>\n",
       "      <th>std</th>\n",
       "      <td>5695.104533</td>\n",
       "      <td>2718.772806</td>\n",
       "      <td>0.370553</td>\n",
       "      <td>77.421743</td>\n",
       "      <td>65.100602</td>\n",
       "    </tr>\n",
       "    <tr>\n",
       "      <th>min</th>\n",
       "      <td>0.000000</td>\n",
       "      <td>0.000000</td>\n",
       "      <td>0.000000</td>\n",
       "      <td>9.000000</td>\n",
       "      <td>6.000000</td>\n",
       "    </tr>\n",
       "    <tr>\n",
       "      <th>25%</th>\n",
       "      <td>2875.000000</td>\n",
       "      <td>0.000000</td>\n",
       "      <td>1.000000</td>\n",
       "      <td>100.000000</td>\n",
       "      <td>360.000000</td>\n",
       "    </tr>\n",
       "    <tr>\n",
       "      <th>50%</th>\n",
       "      <td>3800.000000</td>\n",
       "      <td>1110.000000</td>\n",
       "      <td>1.000000</td>\n",
       "      <td>126.000000</td>\n",
       "      <td>360.000000</td>\n",
       "    </tr>\n",
       "    <tr>\n",
       "      <th>75%</th>\n",
       "      <td>5516.000000</td>\n",
       "      <td>2365.000000</td>\n",
       "      <td>1.000000</td>\n",
       "      <td>162.000000</td>\n",
       "      <td>360.000000</td>\n",
       "    </tr>\n",
       "    <tr>\n",
       "      <th>max</th>\n",
       "      <td>81000.000000</td>\n",
       "      <td>41667.000000</td>\n",
       "      <td>1.000000</td>\n",
       "      <td>700.000000</td>\n",
       "      <td>480.000000</td>\n",
       "    </tr>\n",
       "  </tbody>\n",
       "</table>\n",
       "</div>"
      ],
      "text/plain": [
       "       ApplicantIncome  CoapplicantIncome  Credit_History  LoanAmount  \\\n",
       "count       981.000000         981.000000      902.000000  954.000000   \n",
       "mean       5179.795107        1601.916330        0.835920  142.511530   \n",
       "std        5695.104533        2718.772806        0.370553   77.421743   \n",
       "min           0.000000           0.000000        0.000000    9.000000   \n",
       "25%        2875.000000           0.000000        1.000000  100.000000   \n",
       "50%        3800.000000        1110.000000        1.000000  126.000000   \n",
       "75%        5516.000000        2365.000000        1.000000  162.000000   \n",
       "max       81000.000000       41667.000000        1.000000  700.000000   \n",
       "\n",
       "       Loan_Amount_Term  \n",
       "count        961.000000  \n",
       "mean         342.201873  \n",
       "std           65.100602  \n",
       "min            6.000000  \n",
       "25%          360.000000  \n",
       "50%          360.000000  \n",
       "75%          360.000000  \n",
       "max          480.000000  "
      ]
     },
     "execution_count": 10,
     "metadata": {},
     "output_type": "execute_result"
    }
   ],
   "source": [
    "df.describe()"
   ]
  },
  {
   "cell_type": "markdown",
   "metadata": {},
   "source": [
    "1. ApplicantIncome和CoapplicantIncome的方差都很大，说明它们分布很广，可能存在离群值;<br>\n",
    "2. 大部分的借款时长都在360;<br>\n",
    "3. 84%的人有借款记录，68%的人贷款申请成功"
   ]
  },
  {
   "cell_type": "code",
   "execution_count": 11,
   "metadata": {},
   "outputs": [
    {
     "data": {
      "text/html": [
       "<div>\n",
       "<style>\n",
       "    .dataframe thead tr:only-child th {\n",
       "        text-align: right;\n",
       "    }\n",
       "\n",
       "    .dataframe thead th {\n",
       "        text-align: left;\n",
       "    }\n",
       "\n",
       "    .dataframe tbody tr th {\n",
       "        vertical-align: top;\n",
       "    }\n",
       "</style>\n",
       "<table border=\"1\" class=\"dataframe\">\n",
       "  <thead>\n",
       "    <tr style=\"text-align: right;\">\n",
       "      <th></th>\n",
       "      <th>Gender</th>\n",
       "      <th>Married</th>\n",
       "      <th>Dependents</th>\n",
       "      <th>Education</th>\n",
       "      <th>Self_Employed</th>\n",
       "      <th>Property_Area</th>\n",
       "      <th>Loan_Status</th>\n",
       "      <th>source</th>\n",
       "    </tr>\n",
       "  </thead>\n",
       "  <tbody>\n",
       "    <tr>\n",
       "      <th>count</th>\n",
       "      <td>601</td>\n",
       "      <td>611</td>\n",
       "      <td>599</td>\n",
       "      <td>614</td>\n",
       "      <td>582</td>\n",
       "      <td>614</td>\n",
       "      <td>614</td>\n",
       "      <td>614</td>\n",
       "    </tr>\n",
       "    <tr>\n",
       "      <th>unique</th>\n",
       "      <td>2</td>\n",
       "      <td>2</td>\n",
       "      <td>4</td>\n",
       "      <td>2</td>\n",
       "      <td>2</td>\n",
       "      <td>3</td>\n",
       "      <td>2</td>\n",
       "      <td>1</td>\n",
       "    </tr>\n",
       "    <tr>\n",
       "      <th>top</th>\n",
       "      <td>Male</td>\n",
       "      <td>Yes</td>\n",
       "      <td>0</td>\n",
       "      <td>Graduate</td>\n",
       "      <td>No</td>\n",
       "      <td>Semiurban</td>\n",
       "      <td>Y</td>\n",
       "      <td>train</td>\n",
       "    </tr>\n",
       "    <tr>\n",
       "      <th>freq</th>\n",
       "      <td>489</td>\n",
       "      <td>398</td>\n",
       "      <td>345</td>\n",
       "      <td>480</td>\n",
       "      <td>500</td>\n",
       "      <td>233</td>\n",
       "      <td>422</td>\n",
       "      <td>614</td>\n",
       "    </tr>\n",
       "  </tbody>\n",
       "</table>\n",
       "</div>"
      ],
      "text/plain": [
       "       Gender Married Dependents Education Self_Employed Property_Area  \\\n",
       "count     601     611        599       614           582           614   \n",
       "unique      2       2          4         2             2             3   \n",
       "top      Male     Yes          0  Graduate            No     Semiurban   \n",
       "freq      489     398        345       480           500           233   \n",
       "\n",
       "       Loan_Status source  \n",
       "count          614    614  \n",
       "unique           2      1  \n",
       "top              Y  train  \n",
       "freq           422    614  "
      ]
     },
     "execution_count": 11,
     "metadata": {},
     "output_type": "execute_result"
    }
   ],
   "source": [
    "train.describe(include=[object])"
   ]
  },
  {
   "cell_type": "markdown",
   "metadata": {},
   "source": [
    "从上表，大概可以看出每个分类变量的值有几种，最多的是哪类。<br><br>\n",
    "\n",
    "\n",
    "### 单变量分析\n",
    "<br>\n",
    "#### ApplicantIncome"
   ]
  },
  {
   "cell_type": "code",
   "execution_count": 14,
   "metadata": {},
   "outputs": [
    {
     "data": {
      "text/plain": [
       "<matplotlib.axes._subplots.AxesSubplot at 0x151b375d358>"
      ]
     },
     "execution_count": 14,
     "metadata": {},
     "output_type": "execute_result"
    },
    {
     "data": {
      "image/png": "[encoded data removed]",
      "text/plain": [
       "<matplotlib.figure.Figure at 0x151b34bb9e8>"
      ]
     },
     "metadata": {},
     "output_type": "display_data"
    }
   ],
   "source": [
    "fig, (ax1, ax2) = plt.subplots(1,2,figsize=(15,5))\n",
    "sns.kdeplot(train.loc[train['Loan_Status']==1,'ApplicantIncome'],\n",
    "            shade=True, label='Y', ax=ax1)\n",
    "sns.kdeplot(train.loc[train['Loan_Status']==0,'ApplicantIncome'],\n",
    "            shade=True, label='N', ax=ax1)\n",
    "\n",
    "sns.boxplot(x='Loan_Status', y='ApplicantIncome', data=train, ax=ax2)"
   ]
  },
  {
   "cell_type": "code",
   "execution_count": 16,
   "metadata": {},
   "outputs": [
    {
     "name": "stdout",
     "output_type": "stream",
     "text": [
      "6.53951311399\n"
     ]
    },
    {
     "data": {
      "image/png": "[encoded data removed]",
      "text/plain": [
       "<matplotlib.figure.Figure at 0x151b3366eb8>"
      ]
     },
     "metadata": {},
     "output_type": "display_data"
    }
   ],
   "source": [
    "from scipy import stats\n",
    "res = stats.probplot(train['ApplicantIncome'], plot=plt)\n",
    "print(train['ApplicantIncome'].skew())"
   ]
  },
  {
   "cell_type": "markdown",
   "metadata": {},
   "source": [
    "无论贷款是否申请成功，申请者的ApplicantIncome分布大致相同。两者的右侧尾部都很长，偏度达到6.5。\n",
    "\n",
    "#### CoapplicantIncome"
   ]
  },
  {
   "cell_type": "code",
   "execution_count": 17,
   "metadata": {
    "scrolled": true
   },
   "outputs": [
    {
     "data": {
      "text/plain": [
       "<matplotlib.axes._subplots.AxesSubplot at 0x151b3921240>"
      ]
     },
     "execution_count": 17,
     "metadata": {},
     "output_type": "execute_result"
    },
    {
     "data": {
      "image/png": "[encoded data removed]",
      "text/plain": [
       "<matplotlib.figure.Figure at 0x151b3803c88>"
      ]
     },
     "metadata": {},
     "output_type": "display_data"
    }
   ],
   "source": [
    "fig, (ax1, ax2) = plt.subplots(1,2,figsize=(15,5))\n",
    "sns.kdeplot(train.loc[train['Loan_Status']==1,'CoapplicantIncome'],\n",
    "            shade=True, label='Y', ax=ax1)\n",
    "sns.kdeplot(train.loc[train['Loan_Status']==0,'CoapplicantIncome'],\n",
    "            shade=True, label='N', ax=ax1)\n",
    "\n",
    "sns.boxplot(x='Loan_Status', y='CoapplicantIncome', data=train, ax=ax2)"
   ]
  },
  {
   "cell_type": "code",
   "execution_count": 18,
   "metadata": {},
   "outputs": [
    {
     "name": "stdout",
     "output_type": "stream",
     "text": [
      "7.49153121666\n"
     ]
    },
    {
     "data": {
      "image/png": "[encoded data removed]",
      "text/plain": [
       "<matplotlib.figure.Figure at 0x151b332eda0>"
      ]
     },
     "metadata": {},
     "output_type": "display_data"
    }
   ],
   "source": [
    "res = stats.probplot(train['CoapplicantIncome'], plot=plt)\n",
    "print(train['CoapplicantIncome'].skew())"
   ]
  },
  {
   "cell_type": "markdown",
   "metadata": {},
   "source": [
    "CoapplicantIncome的情况和ApplicantIncome类似，但是申请成功者的中位数更高一些。<br>\n",
    "\n",
    "### ApplicantIncome + CoapplicantIncome"
   ]
  },
  {
   "cell_type": "code",
   "execution_count": 19,
   "metadata": {},
   "outputs": [
    {
     "data": {
      "text/plain": [
       "<matplotlib.axes._subplots.AxesSubplot at 0x151b3f40470>"
      ]
     },
     "execution_count": 19,
     "metadata": {},
     "output_type": "execute_result"
    },
    {
     "data": {
      "image/png": "[encoded data removed]",
      "text/plain": [
       "<matplotlib.figure.Figure at 0x151b3f73518>"
      ]
     },
     "metadata": {},
     "output_type": "display_data"
    }
   ],
   "source": [
    "train['TotalIncome'] = train['ApplicantIncome'] + train['CoapplicantIncome']\n",
    "fig, (ax1, ax2) = plt.subplots(1,2,figsize=(15,5))\n",
    "sns.kdeplot(train.loc[train['Loan_Status']==1,'TotalIncome'],\n",
    "            shade=True, label='Y', ax=ax1)\n",
    "sns.kdeplot(train.loc[train['Loan_Status']==0,'TotalIncome'],\n",
    "            shade=True, label='N', ax=ax1)\n",
    "\n",
    "sns.boxplot(x='Loan_Status', y='TotalIncome', data=train, ax=ax2)"
   ]
  },
  {
   "cell_type": "code",
   "execution_count": 20,
   "metadata": {},
   "outputs": [
    {
     "name": "stdout",
     "output_type": "stream",
     "text": [
      "5.63344851488\n"
     ]
    },
    {
     "data": {
      "image/png": "[encoded data removed]",
      "text/plain": [
       "<matplotlib.figure.Figure at 0x151b39b7128>"
      ]
     },
     "metadata": {},
     "output_type": "display_data"
    }
   ],
   "source": [
    "res = stats.probplot(train['TotalIncome'], plot=plt)\n",
    "print(train['TotalIncome'].skew())"
   ]
  },
  {
   "cell_type": "markdown",
   "metadata": {},
   "source": [
    "#### LoanAmount"
   ]
  },
  {
   "cell_type": "code",
   "execution_count": 21,
   "metadata": {},
   "outputs": [
    {
     "name": "stderr",
     "output_type": "stream",
     "text": [
      "C:\\Anaconda3\\lib\\site-packages\\statsmodels\\nonparametric\\kde.py:454: RuntimeWarning: invalid value encountered in greater\n",
      "  X = X[np.logical_and(X>clip[0], X<clip[1])] # won't work for two columns.\n",
      "C:\\Anaconda3\\lib\\site-packages\\statsmodels\\nonparametric\\kde.py:454: RuntimeWarning: invalid value encountered in less\n",
      "  X = X[np.logical_and(X>clip[0], X<clip[1])] # won't work for two columns.\n"
     ]
    },
    {
     "data": {
      "text/plain": [
       "<matplotlib.axes._subplots.AxesSubplot at 0x151b3f18b00>"
      ]
     },
     "execution_count": 21,
     "metadata": {},
     "output_type": "execute_result"
    },
    {
     "data": {
      "image/png": "[encoded data removed]",
      "text/plain": [
       "<matplotlib.figure.Figure at 0x151b3dc3d68>"
      ]
     },
     "metadata": {},
     "output_type": "display_data"
    }
   ],
   "source": [
    "fig, (ax1, ax2) = plt.subplots(1,2,figsize=(15,5))\n",
    "sns.kdeplot(train.loc[train['Loan_Status']==1,'LoanAmount'],\n",
    "            shade=True, label='Y', ax=ax1)\n",
    "sns.kdeplot(train.loc[train['Loan_Status']==0,'LoanAmount'],\n",
    "            shade=True, label='N', ax=ax1)\n",
    "\n",
    "sns.boxplot(x='Loan_Status', y='LoanAmount', data=train, ax=ax2)"
   ]
  },
  {
   "cell_type": "code",
   "execution_count": 22,
   "metadata": {},
   "outputs": [
    {
     "name": "stderr",
     "output_type": "stream",
     "text": [
      "C:\\Anaconda3\\lib\\site-packages\\scipy\\stats\\_distn_infrastructure.py:879: RuntimeWarning: invalid value encountered in greater\n",
      "  return (self.a < x) & (x < self.b)\n",
      "C:\\Anaconda3\\lib\\site-packages\\scipy\\stats\\_distn_infrastructure.py:879: RuntimeWarning: invalid value encountered in less\n",
      "  return (self.a < x) & (x < self.b)\n",
      "C:\\Anaconda3\\lib\\site-packages\\scipy\\stats\\_distn_infrastructure.py:1818: RuntimeWarning: invalid value encountered in less_equal\n",
      "  cond2 = cond0 & (x <= self.a)\n"
     ]
    },
    {
     "name": "stdout",
     "output_type": "stream",
     "text": [
      "2.67755167926\n"
     ]
    },
    {
     "data": {
      "image/png": "[encoded data removed]",
      "text/plain": [
       "<matplotlib.figure.Figure at 0x151b3e91cc0>"
      ]
     },
     "metadata": {},
     "output_type": "display_data"
    }
   ],
   "source": [
    "res = stats.probplot(train['LoanAmount'], plot=plt)\n",
    "print(train['LoanAmount'].skew())"
   ]
  },
  {
   "cell_type": "markdown",
   "metadata": {},
   "source": [
    "下面进行分类变量的分析。"
   ]
  },
  {
   "cell_type": "code",
   "execution_count": 25,
   "metadata": {},
   "outputs": [
    {
     "name": "stdout",
     "output_type": "stream",
     "text": [
      "Gender\n",
      "====================\n",
      "分类变量缺失值个数：13\n",
      "        Loan_Status\n",
      "Gender             \n",
      "Female     0.669643\n",
      "Male       0.693252\n",
      "\n",
      "\n",
      "Married\n",
      "====================\n",
      "分类变量缺失值个数：3\n",
      "         Loan_Status\n",
      "Married             \n",
      "No          0.629108\n",
      "Yes         0.716080\n",
      "\n",
      "\n",
      "Dependents\n",
      "====================\n",
      "分类变量缺失值个数：15\n",
      "            Loan_Status\n",
      "Dependents             \n",
      "0              0.689855\n",
      "1              0.647059\n",
      "2              0.752475\n",
      "3+             0.647059\n",
      "\n",
      "\n",
      "Education\n",
      "====================\n",
      "分类变量缺失值个数：0\n",
      "              Loan_Status\n",
      "Education                \n",
      "Graduate         0.708333\n",
      "Not Graduate     0.611940\n",
      "\n",
      "\n",
      "Self_Employed\n",
      "====================\n",
      "分类变量缺失值个数：32\n",
      "               Loan_Status\n",
      "Self_Employed             \n",
      "No                0.686000\n",
      "Yes               0.682927\n",
      "\n",
      "\n",
      "Credit_History\n",
      "====================\n",
      "分类变量缺失值个数：50\n",
      "                Loan_Status\n",
      "Credit_History             \n",
      "0.0                0.078652\n",
      "1.0                0.795789\n",
      "\n",
      "\n",
      "Property_Area\n",
      "====================\n",
      "分类变量缺失值个数：0\n",
      "               Loan_Status\n",
      "Property_Area             \n",
      "Rural             0.614525\n",
      "Semiurban         0.768240\n",
      "Urban             0.658416\n",
      "\n",
      "\n"
     ]
    }
   ],
   "source": [
    "for col in cat_cal:\n",
    "    print('%s'%col)\n",
    "    print('='*20)\n",
    "    print('分类变量缺失值个数：%d'%sum(train[col].isnull()))\n",
    "    print(train.pivot_table(index=col,values='Loan_Status',aggfunc=np.mean))\n",
    "    print('\\n')"
   ]
  },
  {
   "cell_type": "markdown",
   "metadata": {},
   "source": [
    "观察上面的输出：\n",
    "1. Credit_History对申请是否成功的影响最大。Credit_History=1的成功率是Credit_History=0的10倍；\n",
    "2. Loan_Amount_Term的影响也不小，部分周期内，成功率是100%，但是部分周期完全没有成功。"
   ]
  },
  {
   "cell_type": "markdown",
   "metadata": {},
   "source": [
    "## 缺失值的处理"
   ]
  },
  {
   "cell_type": "code",
   "execution_count": 26,
   "metadata": {
    "collapsed": true
   },
   "outputs": [],
   "source": [
    "# 将字符变量转化为数值型\n",
    "le = LabelEncoder()\n",
    "not_missing_var = [x for x in cat_cal+num_col if sum(df[x].isnull())==0\\\n",
    "                                         and x in cat_cal]\n",
    "for col in not_missing_var:\n",
    "    df[col] = le.fit_transform(df[col])"
   ]
  },
  {
   "cell_type": "markdown",
   "metadata": {},
   "source": [
    "用随机森林对缺失值进行填充。"
   ]
  },
  {
   "cell_type": "code",
   "execution_count": 28,
   "metadata": {
    "collapsed": true
   },
   "outputs": [],
   "source": [
    "from sklearn.ensemble import RandomForestClassifier\n",
    "import time\n",
    "def fill_miss_var(df):\n",
    "    predictors = [x for x in cat_cal+num_col if sum(df[x].isnull())==0]\n",
    "    \n",
    "    missing_var = [x for x in cat_cal+num_col if sum(df[x].isnull())!=0]\n",
    "    \n",
    "    for outcome in missing_var:\n",
    "        #Fit the model:\n",
    "        clf = RandomForestClassifier(random_state=45, n_estimators=50, n_jobs=-1)\n",
    "        \n",
    "        train_df = df[df[outcome].notnull()]\n",
    "        test_df = df[df[outcome].isnull()]\n",
    "    \n",
    "        clf.fit(train_df[predictors],train_df[outcome])\n",
    "    \n",
    "        #Make predictions on training set:\n",
    "        predictions = clf.predict(test_df[predictors]) \n",
    "        df.loc[df[outcome].isnull(),outcome]=predictions\n",
    "    \n",
    "    return df\n",
    "\n",
    "df = fill_miss_var(df)"
   ]
  },
  {
   "cell_type": "code",
   "execution_count": 29,
   "metadata": {},
   "outputs": [
    {
     "data": {
      "text/html": [
       "<div>\n",
       "<style>\n",
       "    .dataframe thead tr:only-child th {\n",
       "        text-align: right;\n",
       "    }\n",
       "\n",
       "    .dataframe thead th {\n",
       "        text-align: left;\n",
       "    }\n",
       "\n",
       "    .dataframe tbody tr th {\n",
       "        vertical-align: top;\n",
       "    }\n",
       "</style>\n",
       "<table border=\"1\" class=\"dataframe\">\n",
       "  <thead>\n",
       "    <tr style=\"text-align: right;\">\n",
       "      <th></th>\n",
       "      <th>ApplicantIncome</th>\n",
       "      <th>CoapplicantIncome</th>\n",
       "      <th>Credit_History</th>\n",
       "      <th>Dependents</th>\n",
       "      <th>Education</th>\n",
       "      <th>Gender</th>\n",
       "      <th>LoanAmount</th>\n",
       "      <th>Loan_Amount_Term</th>\n",
       "      <th>Loan_Status</th>\n",
       "      <th>Married</th>\n",
       "      <th>Property_Area</th>\n",
       "      <th>Self_Employed</th>\n",
       "      <th>source</th>\n",
       "    </tr>\n",
       "    <tr>\n",
       "      <th>Loan_ID</th>\n",
       "      <th></th>\n",
       "      <th></th>\n",
       "      <th></th>\n",
       "      <th></th>\n",
       "      <th></th>\n",
       "      <th></th>\n",
       "      <th></th>\n",
       "      <th></th>\n",
       "      <th></th>\n",
       "      <th></th>\n",
       "      <th></th>\n",
       "      <th></th>\n",
       "      <th></th>\n",
       "    </tr>\n",
       "  </thead>\n",
       "  <tbody>\n",
       "    <tr>\n",
       "      <th>LP001002</th>\n",
       "      <td>5849</td>\n",
       "      <td>0.0</td>\n",
       "      <td>1.0</td>\n",
       "      <td>0</td>\n",
       "      <td>0</td>\n",
       "      <td>Male</td>\n",
       "      <td>116.0</td>\n",
       "      <td>360.0</td>\n",
       "      <td>Y</td>\n",
       "      <td>No</td>\n",
       "      <td>2</td>\n",
       "      <td>No</td>\n",
       "      <td>train</td>\n",
       "    </tr>\n",
       "    <tr>\n",
       "      <th>LP001003</th>\n",
       "      <td>4583</td>\n",
       "      <td>1508.0</td>\n",
       "      <td>1.0</td>\n",
       "      <td>1</td>\n",
       "      <td>0</td>\n",
       "      <td>Male</td>\n",
       "      <td>128.0</td>\n",
       "      <td>360.0</td>\n",
       "      <td>N</td>\n",
       "      <td>Yes</td>\n",
       "      <td>0</td>\n",
       "      <td>No</td>\n",
       "      <td>train</td>\n",
       "    </tr>\n",
       "    <tr>\n",
       "      <th>LP001005</th>\n",
       "      <td>3000</td>\n",
       "      <td>0.0</td>\n",
       "      <td>1.0</td>\n",
       "      <td>0</td>\n",
       "      <td>0</td>\n",
       "      <td>Male</td>\n",
       "      <td>66.0</td>\n",
       "      <td>360.0</td>\n",
       "      <td>Y</td>\n",
       "      <td>Yes</td>\n",
       "      <td>2</td>\n",
       "      <td>Yes</td>\n",
       "      <td>train</td>\n",
       "    </tr>\n",
       "    <tr>\n",
       "      <th>LP001006</th>\n",
       "      <td>2583</td>\n",
       "      <td>2358.0</td>\n",
       "      <td>1.0</td>\n",
       "      <td>0</td>\n",
       "      <td>1</td>\n",
       "      <td>Male</td>\n",
       "      <td>120.0</td>\n",
       "      <td>360.0</td>\n",
       "      <td>Y</td>\n",
       "      <td>Yes</td>\n",
       "      <td>2</td>\n",
       "      <td>No</td>\n",
       "      <td>train</td>\n",
       "    </tr>\n",
       "    <tr>\n",
       "      <th>LP001008</th>\n",
       "      <td>6000</td>\n",
       "      <td>0.0</td>\n",
       "      <td>1.0</td>\n",
       "      <td>0</td>\n",
       "      <td>0</td>\n",
       "      <td>Male</td>\n",
       "      <td>141.0</td>\n",
       "      <td>360.0</td>\n",
       "      <td>Y</td>\n",
       "      <td>No</td>\n",
       "      <td>2</td>\n",
       "      <td>No</td>\n",
       "      <td>train</td>\n",
       "    </tr>\n",
       "  </tbody>\n",
       "</table>\n",
       "</div>"
      ],
      "text/plain": [
       "          ApplicantIncome  CoapplicantIncome  Credit_History Dependents  \\\n",
       "Loan_ID                                                                   \n",
       "LP001002             5849                0.0             1.0          0   \n",
       "LP001003             4583             1508.0             1.0          1   \n",
       "LP001005             3000                0.0             1.0          0   \n",
       "LP001006             2583             2358.0             1.0          0   \n",
       "LP001008             6000                0.0             1.0          0   \n",
       "\n",
       "          Education Gender  LoanAmount  Loan_Amount_Term Loan_Status Married  \\\n",
       "Loan_ID                                                                        \n",
       "LP001002          0   Male       116.0             360.0           Y      No   \n",
       "LP001003          0   Male       128.0             360.0           N     Yes   \n",
       "LP001005          0   Male        66.0             360.0           Y     Yes   \n",
       "LP001006          1   Male       120.0             360.0           Y     Yes   \n",
       "LP001008          0   Male       141.0             360.0           Y      No   \n",
       "\n",
       "          Property_Area Self_Employed source  \n",
       "Loan_ID                                       \n",
       "LP001002              2            No  train  \n",
       "LP001003              0            No  train  \n",
       "LP001005              2           Yes  train  \n",
       "LP001006              2            No  train  \n",
       "LP001008              2            No  train  "
      ]
     },
     "execution_count": 29,
     "metadata": {},
     "output_type": "execute_result"
    }
   ],
   "source": [
    "df.head()"
   ]
  },
  {
   "cell_type": "code",
   "execution_count": null,
   "metadata": {
    "collapsed": true,
    "scrolled": false
   },
   "outputs": [],
   "source": [
    "# 为分类变量创建虚拟变量\n",
    "for col in categories_var:\n",
    "    dummies = pd.get_dummies(data=df[col],prefix=col)\n",
    "    dummies.drop([dummies.iloc[:,0].name], axis=1, inplace=True)\n",
    "    df = pd.concat([df,dummies],axis=1)\n",
    "    df.drop([col],axis=1,inplace=True)\n",
    "    \n",
    "# 将连续变量标准化\n",
    "stand_enc = StandardScaler()\n",
    "\n",
    "for col in continuities_var:\n",
    "    df[col] = stand_enc.fit_transform(np.array(df[col]).reshape(-1,1).astype(float64))"
   ]
  },
  {
   "cell_type": "markdown",
   "metadata": {},
   "source": [
    "## 建立模型\n",
    "用Skicit-Learn（sklearn）建立机器学习模型。\n",
    "sklearn要求所有的输入都是数值型，所以首先需要对数据集进行编码。"
   ]
  },
  {
   "cell_type": "code",
   "execution_count": null,
   "metadata": {
    "collapsed": true
   },
   "outputs": [],
   "source": [
    "# 定义预测和验证函数\n",
    "def classification_model(model,df,predictor,outcome):\n",
    "    X_train, X_test, y_train, y_test = train_test_split(df[predictor], df[outcome], test_size=0.3)\n",
    "    \n",
    "    model.fit(X_train, y_train)\n",
    "    result = model.predict(X_test)\n",
    "    score = model.score(X_test, y_test)\n",
    "    print('预测准确率是:%.4f'%score)\n",
    "    report = metrics.classification_report(y_test, result)\n",
    "    print('='*50)\n",
    "    print('验证报告')\n",
    "    print(report)\n",
    "    matrix = metrics.confusion_matrix(y_test, result)\n",
    "    print('='*50)\n",
    "    print('混淆矩阵:')\n",
    "    print(matrix)\n",
    "    \n",
    "    # 输出预测错的样本\n",
    "    df = pd.read_csv('./dataset/train_set.csv', header=0, index_col='Loan_ID')\n",
    "    bad_index = y_test.loc[result != y_test].index.tolist()\n",
    "    bad_cases = df.loc[bad_index, :]\n",
    "    return model, bad_cases\n",
    "\n",
    "def predictor_result(clf,df,predictors):\n",
    "    target = clf.predict(df[predictors])\n",
    "    result = DataFrame({'Loan_Status':target}, index=df.index)\n",
    "    result.to_csv('Submissions.csv')"
   ]
  },
  {
   "cell_type": "code",
   "execution_count": null,
   "metadata": {
    "collapsed": true,
    "scrolled": true
   },
   "outputs": [],
   "source": [
    "train_df = df.loc[df['source']=='train'].copy()\n",
    "test_df = df.loc[df['source']=='test'].copy()\n",
    "\n",
    "train_df.drop(['source'], axis=1, inplace=True)\n",
    "test_df.drop(['source'], axis=1, inplace=True)"
   ]
  },
  {
   "cell_type": "markdown",
   "metadata": {},
   "source": [
    "### Logistic回归"
   ]
  },
  {
   "cell_type": "code",
   "execution_count": null,
   "metadata": {
    "collapsed": true
   },
   "outputs": [],
   "source": [
    "predictor_var=[x for x in train_df.columns if x !=target_var]\n",
    "model = LogisticRegression(C=1, penalty='l1', tol=1e-6)\n",
    "clf, badbases = classification_model(model, train_df, predictor_var, target_var)\n",
    "#pd.DataFrame({\"columns\":predictor_var, \"coef\":list(clf.coef_.T)})"
   ]
  },
  {
   "cell_type": "code",
   "execution_count": null,
   "metadata": {
    "collapsed": true,
    "scrolled": false
   },
   "outputs": [],
   "source": [
    "predictor_result(clf, test_df, predictor_var)"
   ]
  },
  {
   "cell_type": "markdown",
   "metadata": {},
   "source": [
    "上传结果，得分是** <font color='red'>0.7847</font> **，不算很差。<br>\n",
    "这个只是没有做任何特征提取和特征工程的baseline，看看其他人的结果，应该还有提升的空间。<br>\n",
    "现在分析baseline模型拟合情况，绘制学习曲线。"
   ]
  },
  {
   "cell_type": "code",
   "execution_count": null,
   "metadata": {
    "collapsed": true,
    "scrolled": true
   },
   "outputs": [],
   "source": [
    "va.plot_learning_curve(model, 'lr', train_df[predictor_var], train_df[target_var])"
   ]
  },
  {
   "cell_type": "markdown",
   "metadata": {},
   "source": [
    "从学习曲线上看，baseline模型没有处于过拟合的状态，还可以在做一些特征提取和特征工程，添加新的特征到模型中。<br>\n",
    "观察模型得到的各个特征的系数，因为系数能够展现特征与预测结果的关系及关系强弱。"
   ]
  },
  {
   "cell_type": "code",
   "execution_count": null,
   "metadata": {
    "collapsed": true
   },
   "outputs": [],
   "source": [
    "coef = pd.DataFrame({\"columns\":predictor_var, \"coef\":list(clf.coef_[0])})\n",
    "coef.to_csv('coef.csv')"
   ]
  },
  {
   "cell_type": "markdown",
   "metadata": {},
   "source": [
    "从系数的绝对值大小依次分析，\n",
    "1. Credit_History_0.0对结果的影响最大，并且是负相关，也就是说，如果Credit_History = 0， 预测结果更可能是0；\n",
    "2. 其次是Property_Area,房产的位置也会影响到贷款申请，可能是因为不同区域的房产，价格不一样，能够提供的担保不一样，这个变量也可以再挖掘；\n",
    "3. Married与否和结果分别是正负相关，因此这个结果结论也可以深挖；\n",
    "4. Dependents_1与结果是负相关，其他值对结果没有影响，但是在单变量分析的时候，没有发现各个值之间有很大的变化，也许是挖掘不够；\n",
    "5. Education与Married一样，分别是正负相关；\n",
    "6. 三个连续特征对结果的影响不大；\n",
    "7. 只有Self_Employed_Yes对结果有影响，应该也需要和其他特征结合，生成新变量；\n",
    "8. 性别对结果完全没有影响，这个和前面的变量分析是一致的；\n",
    "9. 只有Loan_Amount_Term_180.0和Loan_Amount_Term_480.0对结果有影响。\n",
    "\n",
    "结合系数的分析，可以尝试：\n",
    "1. 将ApplicantIncome和CoapplicantIncome相加，求总的收入；\n",
    "2. "
   ]
  },
  {
   "cell_type": "code",
   "execution_count": null,
   "metadata": {
    "collapsed": true
   },
   "outputs": [],
   "source": [
    "train_df = pd.read_csv('./dataset/train_set.csv', header=0, index_col='Loan_ID')\n",
    "test_df = pd.read_csv('./dataset/test_set.csv', header=0, index_col='Loan_ID')\n",
    "\n",
    "train_df['source'] = 'train'\n",
    "test_df['source'] = 'test'\n",
    "\n",
    "df = pd.concat([train_df, test_df],axis=0)\n",
    "\n",
    "train_df['Loan_Status'] = train_df['Loan_Status'].map({'Y':1,'N':0}).astype('int32')"
   ]
  },
  {
   "cell_type": "code",
   "execution_count": null,
   "metadata": {
    "collapsed": true
   },
   "outputs": [],
   "source": [
    "df.dropna(inplace=True)\n",
    "for col in categories_var:\n",
    "    df[col] = le.fit_transform(df[col])\n",
    "\n",
    "fig = plt.figure(figsize=(8,8))\n",
    "sns.heatmap(df[continuities_var].corr(), annot=True)"
   ]
  },
  {
   "cell_type": "markdown",
   "metadata": {},
   "source": [
    "从上图看出，ApplicantIncome和LoanAmount的相关系数是0.5，说明两者存在一定的正相关。"
   ]
  },
  {
   "cell_type": "code",
   "execution_count": null,
   "metadata": {
    "collapsed": true
   },
   "outputs": [],
   "source": [
    "g = sns.FacetGrid(df, size=5)\n",
    "g.map(plt.scatter, 'ApplicantIncome', 'LoanAmount', alpha=0.7)"
   ]
  },
  {
   "cell_type": "markdown",
   "metadata": {},
   "source": [
    "从上图可以看出，ApplicantIncome和LoanAmount呈线性关系，并且ApplicantIncome没有缺失值，可以用ApplicantIncome来预测LoanAmount的值。<br>\n",
    "申请贷款时，如果是综合收入也许和贷款金额有一些关系，因此考虑ApplicantIncome+CoapplicantIncome的情况。在上面的单变量分析中，ApplicantIncome，CoapplicantIncome和LoanAmount都不是正态分布，而且有离群值存在，因此作对数变换。"
   ]
  },
  {
   "cell_type": "code",
   "execution_count": null,
   "metadata": {
    "collapsed": true
   },
   "outputs": [],
   "source": [
    "df['TotalIncome'] = np.log(df['ApplicantIncome'] + df['CoapplicantIncome'])\n",
    "df['LoanAmount'] = np.log(df['LoanAmount']*1000)\n",
    "g = sns.FacetGrid(df, size=5)\n",
    "(g.map(plt.scatter, 'TotalIncome', 'LoanAmount', alpha=0.7)).add_legend()"
   ]
  },
  {
   "cell_type": "code",
   "execution_count": null,
   "metadata": {
    "collapsed": true,
    "scrolled": false
   },
   "outputs": [],
   "source": [
    "# 用线性回归方式填充LoanAmount\n",
    "from sklearn.linear_model import LinearRegression\n",
    "clf = LinearRegression()\n",
    "X_train = np.array(df.loc[df['LoanAmount'].isnull()==False, 'TotalIncome']).reshape(-1,1)\n",
    "y_train = np.array(df.loc[df['LoanAmount'].isnull()==False, 'LoanAmount']).reshape(-1,1)\n",
    "X_test = np.array(df.loc[df['LoanAmount'].isnull()==True, 'TotalIncome']).reshape(-1,1)\n",
    "clf.fit(X_train, y_train)\n",
    "df.loc[df['LoanAmount'].isnull()==True, 'LoanAmount'] = clf.predict(X_test)"
   ]
  },
  {
   "cell_type": "code",
   "execution_count": null,
   "metadata": {
    "collapsed": true
   },
   "outputs": [],
   "source": []
  },
  {
   "cell_type": "code",
   "execution_count": null,
   "metadata": {
    "collapsed": true,
    "scrolled": false
   },
   "outputs": [],
   "source": [
    "df['Credit_History'].fillna(df['Credit_History'].mode()[0], inplace=True)\n",
    "df['Dependents'].fillna(df['Dependents'].mode()[0], inplace=True)\n",
    "df['Gender'].fillna(df['Gender'].mode()[0], inplace=True)\n",
    "df['LoanAmount'].fillna(df['LoanAmount'].mean(), inplace=True)\n",
    "df['Loan_Amount_Term'].fillna(df['Loan_Amount_Term'].mode()[0], inplace=True)\n",
    "df['Married'].fillna(df['Married'].mode()[0], inplace=True)\n",
    "df['Self_Employed'].fillna(df['Self_Employed'].mode()[0], inplace=True)\n",
    "\n",
    "df['Dependents'] = le.fit_transform(df['Dependents'])\n",
    "df['Dependents'] = df['Dependents']+1\n",
    "df['Property_Area'] = le.fit_transform(df['Property_Area'])\n",
    "df['Property_Area'] = df['Property_Area'] + 1\n",
    "df['TotalIncome'] = (df['ApplicantIncome'] + df['CoapplicantIncome'])*df['Property_Area']\n",
    "df['return']=df['LoanAmount']*1000/df['Loan_Amount_Term']\n",
    "df['temp']=df['TotalIncome']/df['Dependents']\n",
    "df['radio']=df['temp']/df['return']\n",
    "#df[['return', 'temp', 'radio', 'Loan_Amount_Term', 'Loan_Status','Dependents']]"
   ]
  },
  {
   "cell_type": "code",
   "execution_count": null,
   "metadata": {
    "collapsed": true
   },
   "outputs": [],
   "source": [
    "train_df = df.loc[df['source']=='train'].copy()\n",
    "#train_df['Dependents'] = le.fit_transform(train_df['Dependents'])\n",
    "g = sns.FacetGrid(train_df, hue='Loan_Status', size=8)\n",
    "(g.map(plt.scatter, 'temp', 'return', alpha=0.3)).add_legend()\n",
    "#sns.violinplot(x='Property_Area', y='radio', hue='Loan_Status', data=train_df, split=True)"
   ]
  },
  {
   "cell_type": "code",
   "execution_count": null,
   "metadata": {
    "collapsed": true,
    "scrolled": false
   },
   "outputs": [],
   "source": [
    "df['Credit_History'].fillna(df['Credit_History'].mode(), inplace=True)\n",
    "df['Dependents'].fillna(df['Dependents'].mode(), inplace=True)\n",
    "df['Gender'].fillna(df['Gender'].mode(), inplace=True)\n",
    "df['LoanAmount'].fillna(df['LoanAmount'].mean(), inplace=True)\n",
    "df['Loan_Amount_Term'].fillna(df['Loan_Amount_Term'].mode(), inplace=True)\n",
    "df['Married'].fillna(df['Married'].mode(), inplace=True)\n",
    "df['Self_Employed'].fillna(df['Self_Employed'].mode(), inplace=True)\n",
    "\n",
    "# 总收入\n",
    "df['TotalIncome'] = df['ApplicantIncome'] + df['CoapplicantIncome']\n",
    "df['IncomeBand'] = pd.qcut(df['TotalIncome'], q=[.25,.5,.75,1])\n",
    "\n",
    "df['AmountBand'] = pd.qcut(df['LoanAmount'], q=[.25,.5,.75,1])\n",
    "\n",
    "df['radio'] = df['TotalIncome']/(df['LoanAmount'] * 1000.0 / df['Loan_Amount_Term'])\n",
    "\n",
    "#continuities_var.append('TotalIncome')\n",
    "#continuities_var.append('radio')\n",
    "#for col in continuities_var:\n",
    "#    df[col] = stand_enc.fit_transform(np.array(df[col]).reshape(-1,1).astype(float64))\n",
    "\n",
    "\n",
    "df.drop(['ApplicantIncome', 'CoapplicantIncome', 'LoanAmount', 'TotalIncome'], axis=1, inplace=True)\n",
    "\n",
    "\n",
    "columns = [x for x in df.columns if x not in [target_var, 'source']]\n",
    "for col in columns:\n",
    "    dummies = pd.get_dummies(data=df[col],prefix=col)\n",
    "    df = pd.concat([df,dummies],axis=1)\n",
    "    df.drop([col],axis=1,inplace=True)\n",
    "#\n",
    "#df.drop(['Credit_History_1.0'],axis=1,inplace=True)\n",
    "#df.drop(['Gender_Female'], axis=1, inplace=True)\n",
    "#df.drop(['Married_Yes'], axis=1, inplace=True)\n",
    "#df.drop(['Dependents_3+'], axis=1, inplace=True)\n",
    "#df.drop(['Education_Graduate'], axis=1, inplace=True)\n",
    "#df.drop(['Self_Employed_No'], axis=1, inplace=True)\n",
    "#df.drop(['Property_Area_Semiurban'], axis=1, inplace=True)\n",
    "#df.drop(['Loan_Amount_Term_6.0'], axis=1, inplace=True)"
   ]
  },
  {
   "cell_type": "code",
   "execution_count": null,
   "metadata": {
    "collapsed": true
   },
   "outputs": [],
   "source": [
    "df.head(2)"
   ]
  },
  {
   "cell_type": "code",
   "execution_count": null,
   "metadata": {
    "collapsed": true
   },
   "outputs": [],
   "source": [
    "train_df = df.loc[df['source']=='train'].copy()\n",
    "test_df = df.loc[df['source']=='test'].copy()\n",
    "\n",
    "train_df.drop(['source'], axis=1, inplace=True)\n",
    "test_df.drop(['source'], axis=1, inplace=True)"
   ]
  },
  {
   "cell_type": "code",
   "execution_count": null,
   "metadata": {
    "collapsed": true
   },
   "outputs": [],
   "source": [
    "predictor_var=[x for x in train_df.columns if x !=target_var]\n",
    "model = LogisticRegression(C=0.1, penalty='l1', tol=1e-6)\n",
    "clf, badbases = classification_model(model, train_df, predictor_var, target_var)"
   ]
  },
  {
   "cell_type": "code",
   "execution_count": null,
   "metadata": {
    "collapsed": true
   },
   "outputs": [],
   "source": [
    "def urban(area):\n",
    "    a, b = area\n",
    "    return 0 if a == 1 and b == 1 else 1\n",
    "df['Urban'] = df[['Credit_History_0.0','Property_Area_2']].apply(urban, axis=1)"
   ]
  },
  {
   "cell_type": "code",
   "execution_count": null,
   "metadata": {
    "collapsed": true
   },
   "outputs": [],
   "source": [
    "train_df = df[df['source']=='train']\n",
    "test_df = df[df['source']=='test']\n",
    "\n",
    "train_df.drop(['source'], axis=1, inplace=True)\n",
    "test_df.drop(['source'], axis=1, inplace=True)"
   ]
  },
  {
   "cell_type": "code",
   "execution_count": null,
   "metadata": {
    "collapsed": true
   },
   "outputs": [],
   "source": [
    "predictor_var=[x for x in train_df.columns if x !=target_var]\n",
    "model = LogisticRegression(C=1,penalty='l1', tol=1e-6)\n",
    "clf = classification_model(model,train_df,predictor_var,target_var)"
   ]
  },
  {
   "cell_type": "markdown",
   "metadata": {},
   "source": [
    "根据不同特征的权重值，在模型上：\n",
    "* Credit_History 与结果是强正相关，即有贷款历史的申请者更容易申请到贷款。\n",
    "* LoanAmount和Loan_Amount_Term与结果是负相关，即贷款量越小，贷款期限越短，越容易申请到贷款。Loan_Amount_Term的影响比LoanAmount更小。\n",
    "* 学历高对贷款状态的影响不明显，但是低学历会影响到贷款状态。\n",
    "* 居住在Semiurban更容易获得贷款，Rural和Urban对和状态是负相关。\n",
    "* Dependents=1时不容易获得贷款。\n",
    "* 性别和结果都是负相关，因此性别对结果的影响不大。\n",
    "* 未婚申请者的申请成功概率更低。\n",
    "* Self_Employed对结果没有影响。\n",
    "* TotalIncome和结果是正相关。"
   ]
  },
  {
   "cell_type": "code",
   "execution_count": null,
   "metadata": {
    "collapsed": true
   },
   "outputs": [],
   "source": [
    "param_test1 = {'C':[0.1,0.5,1,5,10]}\n",
    "gsearch1 = GridSearchCV(estimator = \\\n",
    "                        LogisticRegression(penalty='l1',tol=1e-6),param_grid=param_test1,cv=5)\n",
    "gsearch1.fit(train_df[predictor_var],train_df[outcome_var])\n",
    "gsearch1.grid_scores_, gsearch1.best_params_, gsearch1.best_score_"
   ]
  },
  {
   "cell_type": "code",
   "execution_count": null,
   "metadata": {
    "collapsed": true
   },
   "outputs": [],
   "source": [
    "param_test1 = {'verbose':range(0,5,1),'tol':[1e-2,1e-3,1e-4,1e-5,1e-6,1e-7,1e-8],'C':[0.1,0.5,1,5,10],\n",
    "              'random_state':range(0,20,2)}\n",
    "gsearch1 = GridSearchCV(estimator = LogisticRegression(penalty='l1'),\n",
    "                        param_grid=param_test1,\n",
    "                        cv=5)\n",
    "gsearch1.fit(train_df[predictor_var],train_df[outcome_var])\n",
    "gsearch1.grid_scores_, gsearch1.best_params_, gsearch1.best_score_"
   ]
  },
  {
   "cell_type": "code",
   "execution_count": null,
   "metadata": {
    "collapsed": true
   },
   "outputs": [],
   "source": [
    "model = LogisticRegression(C=10,penalty='l1',tol=1e-6,random_state=10)"
   ]
  },
  {
   "cell_type": "code",
   "execution_count": null,
   "metadata": {
    "collapsed": true
   },
   "outputs": [],
   "source": [
    "from sklearn.svm import LinearSVC\n",
    "model = LinearSVC(random_state=0)"
   ]
  },
  {
   "cell_type": "code",
   "execution_count": null,
   "metadata": {
    "collapsed": true
   },
   "outputs": [],
   "source": []
  }
 ],
 "metadata": {
  "kernelspec": {
   "display_name": "Python 3",
   "language": "python",
   "name": "python3"
  },
  "language_info": {
   "codemirror_mode": {
    "name": "ipython",
    "version": 3
   },
   "file_extension": ".py",
   "mimetype": "text/x-python",
   "name": "python",
   "nbconvert_exporter": "python",
   "pygments_lexer": "ipython3",
   "version": "3.6.2"
  }
 },
 "nbformat": 4,
 "nbformat_minor": 2
}
