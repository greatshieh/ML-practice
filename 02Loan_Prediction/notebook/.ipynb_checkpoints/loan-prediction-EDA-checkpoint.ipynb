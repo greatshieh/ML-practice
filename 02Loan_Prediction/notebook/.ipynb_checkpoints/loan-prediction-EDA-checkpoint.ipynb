{
 "cells": [
  {
   "cell_type": "markdown",
   "metadata": {},
   "source": [
    "# 用Logstic回归应用之贷款预测\n",
    "\n",
    "## 数据探索"
   ]
  },
  {
   "cell_type": "code",
   "execution_count": 1,
   "metadata": {
    "scrolled": true
   },
   "outputs": [
    {
     "name": "stdout",
     "output_type": "stream",
     "text": [
      "Populating the interactive namespace from numpy and matplotlib\n"
     ]
    }
   ],
   "source": [
    "import pandas as pd\n",
    "from pandas import DataFrame,Series\n",
    "import matplotlib\n",
    "import matplotlib.pyplot as plt\n",
    "import numpy as np\n",
    "import warnings\n",
    "warnings.filterwarnings('ignore')\n",
    "import seaborn as sns\n",
    "sns.set_style('darkgrid')\n",
    "from jupyterthemes import jtplot\n",
    "jtplot.style(theme='grade3')\n",
    "%pylab inline"
   ]
  },
  {
   "cell_type": "code",
   "execution_count": 2,
   "metadata": {
    "collapsed": true
   },
   "outputs": [],
   "source": [
    "import time\n",
    "from sklearn.feature_selection import chi2\n",
    "from sklearn.feature_selection import SelectKBest\n",
    "from sklearn.preprocessing import LabelEncoder\n",
    "from sklearn.preprocessing import StandardScaler\n",
    "from sklearn.preprocessing import OneHotEncoder\n",
    "from sklearn.linear_model import LogisticRegression\n",
    "from sklearn.model_selection import cross_val_score\n",
    "from sklearn.model_selection import train_test_split\n",
    "from sklearn import metrics\n",
    "from sklearn.model_selection import GridSearchCV\n",
    "from sklearn.ensemble import RandomForestClassifier\n",
    "from sklearn.ensemble import AdaBoostClassifier\n",
    "from sklearn.tree import DecisionTreeClassifier\n",
    "from sklearn.ensemble import GradientBoostingClassifier\n",
    "from sklearn.model_selection import StratifiedKFold\n",
    "# import validate as va"
   ]
  },
  {
   "cell_type": "code",
   "execution_count": 3,
   "metadata": {},
   "outputs": [],
   "source": [
    "train = pd.read_csv('../dataset/train.csv', header=0, index_col='Loan_ID')\n",
    "test = pd.read_csv('../dataset/test.csv', header=0, index_col='Loan_ID')\n",
    "\n",
    "train['source'] = 'train'\n",
    "test['source'] = 'test'\n",
    "\n",
    "df = pd.concat([train, test],axis=0)"
   ]
  },
  {
   "cell_type": "code",
   "execution_count": 4,
   "metadata": {
    "collapsed": true
   },
   "outputs": [],
   "source": [
    "# 目标变量\n",
    "target_var = 'Loan_Status'\n",
    "\n",
    "# 分类变量\n",
    "cat_col = ['Gender', 'Married', 'Dependents', 'Education',\n",
    "           'Self_Employed', 'Credit_History', 'Property_Area', 'Loan_Amount_Term']\n",
    "\n",
    "# 连续变量\n",
    "num_col = ['ApplicantIncome', 'CoapplicantIncome', 'LoanAmount', 'Loan_Amount_Term']"
   ]
  },
  {
   "cell_type": "code",
   "execution_count": 5,
   "metadata": {
    "collapsed": true
   },
   "outputs": [],
   "source": [
    "train['Loan_Status'] = train['Loan_Status'].map({'Y':1, 'N':0})"
   ]
  },
  {
   "cell_type": "code",
   "execution_count": 6,
   "metadata": {
    "collapsed": true
   },
   "outputs": [],
   "source": [
    "# 提取所有非空值\n",
    "non_null = df.dropna(axis=0).copy()"
   ]
  },
  {
   "cell_type": "code",
   "execution_count": 7,
   "metadata": {},
   "outputs": [
    {
     "data": {
      "text/plain": [
       "ApplicantIncome      0\n",
       "CoapplicantIncome    0\n",
       "Credit_History       0\n",
       "Dependents           0\n",
       "Education            0\n",
       "Gender               0\n",
       "LoanAmount           0\n",
       "Loan_Amount_Term     0\n",
       "Loan_Status          0\n",
       "Married              0\n",
       "Property_Area        0\n",
       "Self_Employed        0\n",
       "source               0\n",
       "dtype: int64"
      ]
     },
     "execution_count": 7,
     "metadata": {},
     "output_type": "execute_result"
    }
   ],
   "source": [
    "non_null.isnull().sum()"
   ]
  },
  {
   "cell_type": "markdown",
   "metadata": {},
   "source": [
    "## 连续变量间的关系"
   ]
  },
  {
   "cell_type": "code",
   "execution_count": 8,
   "metadata": {},
   "outputs": [
    {
     "data": {
      "text/plain": [
       "<matplotlib.axes._subplots.AxesSubplot at 0x183c719a588>"
      ]
     },
     "execution_count": 8,
     "metadata": {},
     "output_type": "execute_result"
    },
    {
     "data": {
      "image/png": "[encoded data removed]",
      "text/plain": [
       "<matplotlib.figure.Figure at 0x183c7151fd0>"
      ]
     },
     "metadata": {},
     "output_type": "display_data"
    }
   ],
   "source": [
    "sns.heatmap(non_null[num_col].corr(), annot=True)"
   ]
  },
  {
   "cell_type": "code",
   "execution_count": 11,
   "metadata": {},
   "outputs": [
    {
     "ename": "ValueError",
     "evalue": "could not convert string to float: 'test'",
     "output_type": "error",
     "traceback": [
      "\u001b[1;31m---------------------------------------------------------------------------\u001b[0m",
      "\u001b[1;31mValueError\u001b[0m                                Traceback (most recent call last)",
      "\u001b[1;32m<ipython-input-11-9fa79e0297fc>\u001b[0m in \u001b[0;36m<module>\u001b[1;34m()\u001b[0m\n\u001b[0;32m     13\u001b[0m \u001b[1;31m# TODO：创建一个DecisionTreeRegressor（决策树回归器）并在训练集上训练它\u001b[0m\u001b[1;33m\u001b[0m\u001b[1;33m\u001b[0m\u001b[0m\n\u001b[0;32m     14\u001b[0m     \u001b[0mregressor\u001b[0m \u001b[1;33m=\u001b[0m \u001b[0mDecisionTreeRegressor\u001b[0m\u001b[1;33m(\u001b[0m\u001b[0mrandom_state\u001b[0m\u001b[1;33m=\u001b[0m\u001b[1;36m45\u001b[0m\u001b[1;33m)\u001b[0m\u001b[1;33m\u001b[0m\u001b[0m\n\u001b[1;32m---> 15\u001b[1;33m     \u001b[0mregressor\u001b[0m\u001b[1;33m.\u001b[0m\u001b[0mfit\u001b[0m\u001b[1;33m(\u001b[0m\u001b[0mX_train\u001b[0m\u001b[1;33m,\u001b[0m \u001b[0my_train\u001b[0m\u001b[1;33m)\u001b[0m\u001b[1;33m\u001b[0m\u001b[0m\n\u001b[0m\u001b[0;32m     16\u001b[0m \u001b[1;33m\u001b[0m\u001b[0m\n\u001b[0;32m     17\u001b[0m \u001b[1;31m# TODO：输出在测试集上的预测得分\u001b[0m\u001b[1;33m\u001b[0m\u001b[1;33m\u001b[0m\u001b[0m\n",
      "\u001b[1;32mC:\\Anaconda3\\lib\\site-packages\\sklearn\\tree\\tree.py\u001b[0m in \u001b[0;36mfit\u001b[1;34m(self, X, y, sample_weight, check_input, X_idx_sorted)\u001b[0m\n\u001b[0;32m   1122\u001b[0m             \u001b[0msample_weight\u001b[0m\u001b[1;33m=\u001b[0m\u001b[0msample_weight\u001b[0m\u001b[1;33m,\u001b[0m\u001b[1;33m\u001b[0m\u001b[0m\n\u001b[0;32m   1123\u001b[0m             \u001b[0mcheck_input\u001b[0m\u001b[1;33m=\u001b[0m\u001b[0mcheck_input\u001b[0m\u001b[1;33m,\u001b[0m\u001b[1;33m\u001b[0m\u001b[0m\n\u001b[1;32m-> 1124\u001b[1;33m             X_idx_sorted=X_idx_sorted)\n\u001b[0m\u001b[0;32m   1125\u001b[0m         \u001b[1;32mreturn\u001b[0m \u001b[0mself\u001b[0m\u001b[1;33m\u001b[0m\u001b[0m\n\u001b[0;32m   1126\u001b[0m \u001b[1;33m\u001b[0m\u001b[0m\n",
      "\u001b[1;32mC:\\Anaconda3\\lib\\site-packages\\sklearn\\tree\\tree.py\u001b[0m in \u001b[0;36mfit\u001b[1;34m(self, X, y, sample_weight, check_input, X_idx_sorted)\u001b[0m\n\u001b[0;32m    114\u001b[0m         \u001b[0mrandom_state\u001b[0m \u001b[1;33m=\u001b[0m \u001b[0mcheck_random_state\u001b[0m\u001b[1;33m(\u001b[0m\u001b[0mself\u001b[0m\u001b[1;33m.\u001b[0m\u001b[0mrandom_state\u001b[0m\u001b[1;33m)\u001b[0m\u001b[1;33m\u001b[0m\u001b[0m\n\u001b[0;32m    115\u001b[0m         \u001b[1;32mif\u001b[0m \u001b[0mcheck_input\u001b[0m\u001b[1;33m:\u001b[0m\u001b[1;33m\u001b[0m\u001b[0m\n\u001b[1;32m--> 116\u001b[1;33m             \u001b[0mX\u001b[0m \u001b[1;33m=\u001b[0m \u001b[0mcheck_array\u001b[0m\u001b[1;33m(\u001b[0m\u001b[0mX\u001b[0m\u001b[1;33m,\u001b[0m \u001b[0mdtype\u001b[0m\u001b[1;33m=\u001b[0m\u001b[0mDTYPE\u001b[0m\u001b[1;33m,\u001b[0m \u001b[0maccept_sparse\u001b[0m\u001b[1;33m=\u001b[0m\u001b[1;34m\"csc\"\u001b[0m\u001b[1;33m)\u001b[0m\u001b[1;33m\u001b[0m\u001b[0m\n\u001b[0m\u001b[0;32m    117\u001b[0m             \u001b[0my\u001b[0m \u001b[1;33m=\u001b[0m \u001b[0mcheck_array\u001b[0m\u001b[1;33m(\u001b[0m\u001b[0my\u001b[0m\u001b[1;33m,\u001b[0m \u001b[0mensure_2d\u001b[0m\u001b[1;33m=\u001b[0m\u001b[1;32mFalse\u001b[0m\u001b[1;33m,\u001b[0m \u001b[0mdtype\u001b[0m\u001b[1;33m=\u001b[0m\u001b[1;32mNone\u001b[0m\u001b[1;33m)\u001b[0m\u001b[1;33m\u001b[0m\u001b[0m\n\u001b[0;32m    118\u001b[0m             \u001b[1;32mif\u001b[0m \u001b[0missparse\u001b[0m\u001b[1;33m(\u001b[0m\u001b[0mX\u001b[0m\u001b[1;33m)\u001b[0m\u001b[1;33m:\u001b[0m\u001b[1;33m\u001b[0m\u001b[0m\n",
      "\u001b[1;32mC:\\Anaconda3\\lib\\site-packages\\sklearn\\utils\\validation.py\u001b[0m in \u001b[0;36mcheck_array\u001b[1;34m(array, accept_sparse, dtype, order, copy, force_all_finite, ensure_2d, allow_nd, ensure_min_samples, ensure_min_features, warn_on_dtype, estimator)\u001b[0m\n\u001b[0;32m    400\u001b[0m                                       force_all_finite)\n\u001b[0;32m    401\u001b[0m     \u001b[1;32melse\u001b[0m\u001b[1;33m:\u001b[0m\u001b[1;33m\u001b[0m\u001b[0m\n\u001b[1;32m--> 402\u001b[1;33m         \u001b[0marray\u001b[0m \u001b[1;33m=\u001b[0m \u001b[0mnp\u001b[0m\u001b[1;33m.\u001b[0m\u001b[0marray\u001b[0m\u001b[1;33m(\u001b[0m\u001b[0marray\u001b[0m\u001b[1;33m,\u001b[0m \u001b[0mdtype\u001b[0m\u001b[1;33m=\u001b[0m\u001b[0mdtype\u001b[0m\u001b[1;33m,\u001b[0m \u001b[0morder\u001b[0m\u001b[1;33m=\u001b[0m\u001b[0morder\u001b[0m\u001b[1;33m,\u001b[0m \u001b[0mcopy\u001b[0m\u001b[1;33m=\u001b[0m\u001b[0mcopy\u001b[0m\u001b[1;33m)\u001b[0m\u001b[1;33m\u001b[0m\u001b[0m\n\u001b[0m\u001b[0;32m    403\u001b[0m \u001b[1;33m\u001b[0m\u001b[0m\n\u001b[0;32m    404\u001b[0m         \u001b[1;32mif\u001b[0m \u001b[0mensure_2d\u001b[0m\u001b[1;33m:\u001b[0m\u001b[1;33m\u001b[0m\u001b[0m\n",
      "\u001b[1;31mValueError\u001b[0m: could not convert string to float: 'test'"
     ]
    }
   ],
   "source": [
    "from sklearn.model_selection import train_test_split\n",
    "from sklearn.tree import DecisionTreeRegressor\n",
    "\n",
    "score = []\n",
    "for col in num_col:\n",
    "    new_data = df.drop([col], axis=1)\n",
    "\n",
    "    X_train, X_test, y_train, y_test = train_test_split(new_data, df[col],\n",
    "                                                        test_size=0.25, random_state=45)\n",
    "\n",
    "    regressor = DecisionTreeRegressor(random_state=45)\n",
    "    regressor.fit(X_train, y_train)\n",
    "\n",
    "    score.append((new_data.columns.tolist(), col, regressor.score(X_test, y_test), regressor))\n",
    "sorted_score = sorted(score, key=(lambda x: x[2]), reverse=True)\n",
    "for features, col, score, regressor in sorted_score:\n",
    "    #print 'the {} as the target, the value of R^2 = {:.4f}'.format(col, score)\n",
    "    print('\\n{} -> {}, the value of R^2 = {:.4f}'.format(features, col, score))\n",
    "    print('the features importances is {}'.format(regressor.feature_importances_))"
   ]
  },
  {
   "cell_type": "markdown",
   "metadata": {},
   "source": [
    "## 缺失值的处理"
   ]
  },
  {
   "cell_type": "code",
   "execution_count": 247,
   "metadata": {
    "collapsed": true
   },
   "outputs": [],
   "source": [
    "# Credit_History用众数填充\n",
    "df['Credit_History'].fillna(df['Credit_History'].mode()[0], inplace=True)\n",
    "\n",
    "#Dependents\n",
    "df['Dependents'].fillna(df['Dependents'].mode()[0], inplace=True)\n",
    "\n",
    "#Gender\n",
    "df['Gender'].fillna(df['Gender'].mode()[0], inplace=True)\n",
    "\n",
    "#LoanAmount\n",
    "df['LoanAmount'].fillna(df['LoanAmount'].median(), inplace=True)\n",
    "\n",
    "#Loan_Amount_Term\n",
    "df['Loan_Amount_Term'].fillna(df['Loan_Amount_Term'].mode()[0], inplace=True)\n",
    "\n",
    "#Married\n",
    "df['Married'].fillna(df['Married'].mode()[0], inplace=True)\n",
    "\n",
    "#Self_Employed\n",
    "df['Self_Employed'].fillna(df['Self_Employed'].mode()[0], inplace=True)"
   ]
  },
  {
   "cell_type": "code",
   "execution_count": 36,
   "metadata": {
    "collapsed": true
   },
   "outputs": [],
   "source": [
    "# 将字符变量转化为数值型\n",
    "train['Gender'] = train['Gender'].map({'Male':1, 'Female':0})\n",
    "train['Married'] = train['Married'].map({'Yes':1, 'No':0})\n",
    "train['Dependents'] = train['Dependents'].map({0:0, 1:1, 2:2, '3+':3})\n",
    "train['Education'] = train['Education'].map({'Not Graduate':0, 'Graduate':1})\n",
    "train['Self_Employed'] = train['Self_Employed'].map({'No':0, 'Yes':1})\n",
    "train['Property_Area'] = train['Property_Area'].map({'Urban':0, 'Rural':1, 'Semiurban':2})\n",
    "\n",
    "test['Gender'] = test['Gender'].map({'Male':1, 'Female':0})\n",
    "test['Married'] = test['Married'].map({'Yes':1, 'No':0})\n",
    "test['Dependents'] = test['Dependents'].map({0:0, 1:1, 2:2, '3+':3})\n",
    "test['Education'] = test['Education'].map({'Not Graduate':0, 'Graduate':1})\n",
    "test['Self_Employed'] = test['Self_Employed'].map({'No':0, 'Yes':1})\n",
    "test['Property_Area'] = test['Property_Area'].map({'Urban':0, 'Rural':1, 'Semiurban':2})"
   ]
  },
  {
   "cell_type": "code",
   "execution_count": 37,
   "metadata": {
    "collapsed": true
   },
   "outputs": [],
   "source": [
    "train.fillna(0, inplace=True)\n",
    "test.fillna(0, inplace=True)"
   ]
  },
  {
   "cell_type": "code",
   "execution_count": 150,
   "metadata": {
    "collapsed": true
   },
   "outputs": [],
   "source": [
    "# 总收入\n",
    "df['TotalIncome'] = df['ApplicantIncome'] + df['CoapplicantIncome']\n",
    "\n",
    "# 家庭大小\n",
    "df['FamilySize'] = df['Dependents'] + 1\n",
    "\n",
    "# 人均收入\n",
    "df['AverageIncome'] = df['TotalIncome'] / df['FamilySize']\n",
    "\n",
    "# 借款周期， 换算为年\n",
    "df['Loan_Amount_Term'] = df['Loan_Amount_Term'] / 12\n",
    "\n",
    "#df['TotalIncome'], _ = stats.boxcox(df['TotalIncome'], )\n",
    "#res = stats.probplot(x=df['TotalIncome'], plot=plt)\n",
    "#print(df['TotalIncome'].skew())"
   ]
  },
  {
   "cell_type": "code",
   "execution_count": 151,
   "metadata": {
    "collapsed": true
   },
   "outputs": [],
   "source": [
    "df.drop(['ApplicantIncome', 'CoapplicantIncome'], axis=1, inplace=True)"
   ]
  },
  {
   "cell_type": "code",
   "execution_count": 152,
   "metadata": {
    "collapsed": true
   },
   "outputs": [],
   "source": [
    "cat_cal.append('FamilySize')\n",
    "num_col = [x for x in df.columns if x not in cat_cal and x not in ['source', target_var]]\n",
    "cat_cal.remove('Dependents')"
   ]
  },
  {
   "cell_type": "code",
   "execution_count": 136,
   "metadata": {},
   "outputs": [
    {
     "name": "stdout",
     "output_type": "stream",
     "text": [
      "LoanAmount\n",
      "TotalIncome\n",
      "AverageIncome\n"
     ]
    },
    {
     "name": "stderr",
     "output_type": "stream",
     "text": [
      "C:\\Anaconda3\\lib\\site-packages\\scipy\\stats\\morestats.py:901: RuntimeWarning: divide by zero encountered in log\n",
      "  llf -= N / 2.0 * np.log(np.sum((y - y_mean)**2. / N, axis=0))\n",
      "C:\\Anaconda3\\lib\\site-packages\\scipy\\optimize\\optimize.py:2189: RuntimeWarning: invalid value encountered in double_scalars\n",
      "  w = xb - ((xb - xc) * tmp2 - (xb - xa) * tmp1) / denom\n",
      "C:\\Anaconda3\\lib\\site-packages\\scipy\\optimize\\optimize.py:1849: RuntimeWarning: invalid value encountered in double_scalars\n",
      "  tmp1 = (x - w) * (fx - fv)\n",
      "C:\\Anaconda3\\lib\\site-packages\\scipy\\optimize\\optimize.py:1850: RuntimeWarning: invalid value encountered in double_scalars\n",
      "  tmp2 = (x - v) * (fx - fw)\n"
     ]
    }
   ],
   "source": [
    "for x in num_col:\n",
    "    print(x)\n",
    "    df[x], _ = stats.boxcox(df[x])"
   ]
  },
  {
   "cell_type": "code",
   "execution_count": 38,
   "metadata": {
    "collapsed": true
   },
   "outputs": [],
   "source": [
    "#train = df[df['source']=='train'].copy()\n",
    "#test = df[df['source']=='test'].copy()\n",
    "\n",
    "#train.drop(['source'], axis=1, inplace=True)\n",
    "#test.drop(['source', 'Loan_Status'], axis=1, inplace=True)\n",
    "\n",
    "y = train[target_var]\n",
    "train.drop([target_var], axis=1, inplace=True)"
   ]
  },
  {
   "cell_type": "code",
   "execution_count": 285,
   "metadata": {
    "collapsed": true
   },
   "outputs": [],
   "source": [
    "predictor = [x for x in train.columns if x != target_var]"
   ]
  },
  {
   "cell_type": "code",
   "execution_count": 82,
   "metadata": {
    "collapsed": true
   },
   "outputs": [],
   "source": [
    "validation_size = 0.3\n",
    "seed = 7\n",
    "scoring = 'accuracy'\n",
    "X_train, X_test, y_train, y_test = train_test_split(\n",
    "    train,\n",
    "    y,\n",
    "    test_size=validation_size,\n",
    "    random_state=seed)"
   ]
  },
  {
   "cell_type": "code",
   "execution_count": 68,
   "metadata": {},
   "outputs": [
    {
     "name": "stdout",
     "output_type": "stream",
     "text": [
      "\n",
      "Logistic:\n",
      "交叉验证score:0.7686, 验证集:0.7730\n",
      "\n",
      "RandomForestClassifier:\n",
      "交叉验证score:0.7018, 验证集:0.7568\n",
      "\n",
      "AdaBoostClassifier:\n",
      "交叉验证score:0.7295, 验证集:0.7405\n",
      "\n",
      "DecisionTreeClassifier:\n",
      "交叉验证score:0.6741, 验证集:0.7189\n",
      "\n",
      "GradientBoostingClassifier:\n",
      "交叉验证score:0.7182, 验证集:0.7135\n"
     ]
    }
   ],
   "source": [
    "kfold = StratifiedKFold(n_splits=10, random_state=45)\n",
    "\n",
    "models = []\n",
    "models.append(('Logistic', LogisticRegression(random_state=45)))\n",
    "models.append(('RandomForestClassifier', RandomForestClassifier(random_state=45)))\n",
    "models.append(('AdaBoostClassifier', AdaBoostClassifier(random_state=45)))\n",
    "models.append(('DecisionTreeClassifier', DecisionTreeClassifier(random_state=45)))\n",
    "models.append(('GradientBoostingClassifier', GradientBoostingClassifier(random_state=45)))\n",
    "\n",
    "for name, clf in models:\n",
    "    cv_result=cross_val_score(cv=kfold, estimator=clf, X=train, y=y).mean()\n",
    "    _ = clf.fit(X_train, y_train)\n",
    "    score = clf.score(X_test, y_test)\n",
    "    print('\\n{}:'.format(name))\n",
    "    print('交叉验证score:{:.4f}, 验证集:{:.4f}'.format(cv_result, score))"
   ]
  },
  {
   "cell_type": "code",
   "execution_count": 88,
   "metadata": {},
   "outputs": [
    {
     "data": {
      "text/plain": [
       "0.74054054054054053"
      ]
     },
     "execution_count": 88,
     "metadata": {},
     "output_type": "execute_result"
    }
   ],
   "source": [
    "from sklearn.pipeline import make_pipeline\n",
    "#from sklearn.linear_model import LogisticRegression\n",
    "from sklearn.ensemble import RandomTreesEmbedding\n",
    "rf = RandomTreesEmbedding(random_state=45, max_depth=3, n_estimators=10)\n",
    "lr = LogisticRegression(random_state=45)\n",
    "pipeline = make_pipeline(rf, lr)\n",
    "pipeline.fit(X_train, y_train)\n",
    "y_pred_rt = pipeline.score(X_test, y_test)\n",
    "#fpr_rt_lm, tpr_rt_lm, _ = roc_curve(y_test, y_pred_rt)\n",
    "y_pred_rt"
   ]
  },
  {
   "cell_type": "code",
   "execution_count": 97,
   "metadata": {
    "collapsed": true
   },
   "outputs": [],
   "source": [
    "from sklearn.feature_selection import chi2\n",
    "from sklearn.feature_selection import SelectKBest"
   ]
  },
  {
   "cell_type": "code",
   "execution_count": 99,
   "metadata": {
    "collapsed": true
   },
   "outputs": [
    {
     "name": "stdout",
     "output_type": "stream",
     "text": [
      "1--->交叉验证score:0.7167, 训练集:0.7110, 验证集:0.7297\n",
      "2--->交叉验证score:0.7314, 训练集:0.7273, 验证集:0.7405\n",
      "3--->交叉验证score:0.7524, 训练集:0.7483, 验证集:0.7622\n",
      "4--->交叉验证score:0.7524, 训练集:0.7483, 验证集:0.7622\n",
      "5--->交叉验证score:0.7654, 训练集:0.7599, 验证集:0.7784\n",
      "6--->交叉验证score:0.7866, 训练集:0.7855, 验证集:0.7892\n",
      "7--->交叉验证score:0.7882, 训练集:0.7855, 验证集:0.7892\n",
      "8--->交叉验证score:0.7882, 训练集:0.7855, 验证集:0.7892\n",
      "9--->交叉验证score:0.7882, 训练集:0.7855, 验证集:0.7892\n",
      "10--->交叉验证score:0.7948, 训练集:0.7855, 验证集:0.7946\n",
      "11--->交叉验证score:0.7980, 训练集:0.7902, 验证集:0.7946\n",
      "12--->交叉验证score:0.8012, 训练集:0.7902, 验证集:0.7946\n",
      "13--->交叉验证score:0.8012, 训练集:0.7902, 验证集:0.7946\n",
      "14--->交叉验证score:0.8012, 训练集:0.7902, 验证集:0.7946\n",
      "15--->交叉验证score:0.8012, 训练集:0.7902, 验证集:0.7946\n",
      "16--->交叉验证score:0.8012, 训练集:0.7925, 验证集:0.8000\n",
      "17--->交叉验证score:0.8012, 训练集:0.7925, 验证集:0.8000\n",
      "18--->交叉验证score:0.8012, 训练集:0.7925, 验证集:0.8000\n",
      "19--->交叉验证score:0.8029, 训练集:0.8019, 验证集:0.8000\n",
      "20--->交叉验证score:0.8029, 训练集:0.8019, 验证集:0.8000\n",
      "21--->交叉验证score:0.8045, 训练集:0.8065, 验证集:0.7946\n",
      "22--->交叉验证score:0.8045, 训练集:0.8065, 验证集:0.7946\n",
      "23--->交叉验证score:0.8045, 训练集:0.8089, 验证集:0.7946\n",
      "24--->交叉验证score:0.8045, 训练集:0.8089, 验证集:0.7946\n",
      "25--->交叉验证score:0.8143, 训练集:0.8205, 验证集:0.8000\n",
      "26--->交叉验证score:0.8143, 训练集:0.8205, 验证集:0.8000\n",
      "27--->交叉验证score:0.8143, 训练集:0.8182, 验证集:0.8054\n",
      "28--->交叉验证score:0.8143, 训练集:0.8182, 验证集:0.8054\n",
      "29--->交叉验证score:0.8143, 训练集:0.8182, 验证集:0.8054\n",
      "30--->交叉验证score:0.8143, 训练集:0.8182, 验证集:0.8054\n",
      "31--->交叉验证score:0.8143, 训练集:0.8205, 验证集:0.8054\n",
      "32--->交叉验证score:0.8143, 训练集:0.8205, 验证集:0.8054\n",
      "33--->交叉验证score:0.8143, 训练集:0.8205, 验证集:0.8054\n",
      "34--->交叉验证score:0.8127, 训练集:0.8205, 验证集:0.8108\n",
      "35--->交叉验证score:0.8127, 训练集:0.8205, 验证集:0.8108\n",
      "36--->交叉验证score:0.8208, 训练集:0.8298, 验证集:0.8162\n",
      "37--->交叉验证score:0.8223, 训练集:0.8322, 验证集:0.8162\n",
      "38--->交叉验证score:0.8207, 训练集:0.8322, 验证集:0.8162\n",
      "39--->交叉验证score:0.8256, 训练集:0.8368, 验证集:0.8216\n",
      "40--->交叉验证score:0.8256, 训练集:0.8368, 验证集:0.8216\n",
      "41--->交叉验证score:0.8239, 训练集:0.8368, 验证集:0.8216\n",
      "42--->交叉验证score:0.8256, 训练集:0.8368, 验证集:0.8270\n",
      "43--->交叉验证score:0.8256, 训练集:0.8368, 验证集:0.8270\n",
      "44--->交叉验证score:0.8321, 训练集:0.8462, 验证集:0.8270\n",
      "45--->交叉验证score:0.8321, 训练集:0.8462, 验证集:0.8270\n",
      "46--->交叉验证score:0.8386, 训练集:0.8462, 验证集:0.8270\n",
      "47--->交叉验证score:0.8386, 训练集:0.8462, 验证集:0.8270\n",
      "48--->交叉验证score:0.8402, 训练集:0.8462, 验证集:0.8270\n",
      "49--->交叉验证score:0.8402, 训练集:0.8462, 验证集:0.8270\n",
      "50--->交叉验证score:0.8402, 训练集:0.8462, 验证集:0.8270\n",
      "51--->交叉验证score:0.8386, 训练集:0.8462, 验证集:0.8270\n",
      "52--->交叉验证score:0.8386, 训练集:0.8462, 验证集:0.8270\n",
      "53--->交叉验证score:0.8386, 训练集:0.8462, 验证集:0.8270\n",
      "54--->交叉验证score:0.8386, 训练集:0.8462, 验证集:0.8270\n",
      "55--->交叉验证score:0.8386, 训练集:0.8462, 验证集:0.8270\n",
      "56--->交叉验证score:0.8386, 训练集:0.8462, 验证集:0.8270\n",
      "57--->交叉验证score:0.8402, 训练集:0.8462, 验证集:0.8270\n",
      "58--->交叉验证score:0.8370, 训练集:0.8438, 验证集:0.8324\n",
      "59--->交叉验证score:0.8386, 训练集:0.8438, 验证集:0.8324\n",
      "60--->交叉验证score:0.8402, 训练集:0.8438, 验证集:0.8324\n",
      "61--->交叉验证score:0.8402, 训练集:0.8438, 验证集:0.8324\n",
      "62--->交叉验证score:0.8419, 训练集:0.8485, 验证集:0.8486\n",
      "63--->交叉验证score:0.8435, 训练集:0.8485, 验证集:0.8541\n",
      "64--->交叉验证score:0.8451, 训练集:0.8578, 验证集:0.8486\n",
      "65--->交叉验证score:0.8435, 训练集:0.8555, 验证集:0.8486\n",
      "66--->交叉验证score:0.8435, 训练集:0.8555, 验证集:0.8486\n",
      "67--->交叉验证score:0.8452, 训练集:0.8578, 验证集:0.8378\n",
      "68--->交叉验证score:0.8484, 训练集:0.8601, 验证集:0.8432\n",
      "69--->交叉验证score:0.8468, 训练集:0.8601, 验证集:0.8486\n",
      "70--->交叉验证score:0.8532, 训练集:0.8671, 验证集:0.8486\n",
      "71--->交叉验证score:0.8532, 训练集:0.8671, 验证集:0.8486\n",
      "72--->交叉验证score:0.8565, 训练集:0.8718, 验证集:0.8541\n",
      "73--->交叉验证score:0.8548, 训练集:0.8718, 验证集:0.8541\n",
      "74--->交叉验证score:0.8565, 训练集:0.8718, 验证集:0.8541\n",
      "75--->交叉验证score:0.8581, 训练集:0.8788, 验证集:0.8541\n",
      "76--->交叉验证score:0.8581, 训练集:0.8788, 验证集:0.8541\n",
      "77--->交叉验证score:0.8581, 训练集:0.8788, 验证集:0.8541\n",
      "78--->交叉验证score:0.8581, 训练集:0.8788, 验证集:0.8541\n",
      "79--->交叉验证score:0.8581, 训练集:0.8788, 验证集:0.8541\n",
      "80--->交叉验证score:0.8581, 训练集:0.8788, 验证集:0.8541\n",
      "81--->交叉验证score:0.8647, 训练集:0.8788, 验证集:0.8541\n",
      "82--->交叉验证score:0.8647, 训练集:0.8788, 验证集:0.8541\n",
      "83--->交叉验证score:0.8614, 训练集:0.8788, 验证集:0.8541\n",
      "84--->交叉验证score:0.8614, 训练集:0.8788, 验证集:0.8541\n",
      "85--->交叉验证score:0.8663, 训练集:0.8858, 验证集:0.8541\n",
      "86--->交叉验证score:0.8647, 训练集:0.8858, 验证集:0.8541\n",
      "87--->交叉验证score:0.8647, 训练集:0.8904, 验证集:0.8541\n",
      "88--->交叉验证score:0.8647, 训练集:0.8904, 验证集:0.8541\n",
      "89--->交叉验证score:0.8647, 训练集:0.8904, 验证集:0.8541\n",
      "90--->交叉验证score:0.8664, 训练集:0.8928, 验证集:0.8486\n",
      "91--->交叉验证score:0.8680, 训练集:0.8928, 验证集:0.8486\n",
      "92--->交叉验证score:0.8729, 训练集:0.8928, 验证集:0.8541\n",
      "93--->交叉验证score:0.8696, 训练集:0.8951, 验证集:0.8541\n",
      "94--->交叉验证score:0.8680, 训练集:0.8998, 验证集:0.8486\n",
      "95--->交叉验证score:0.8647, 训练集:0.8998, 验证集:0.8432\n",
      "96--->交叉验证score:0.8664, 训练集:0.8998, 验证集:0.8432\n",
      "97--->交叉验证score:0.8680, 训练集:0.8998, 验证集:0.8432\n",
      "98--->交叉验证score:0.8680, 训练集:0.8998, 验证集:0.8432\n",
      "99--->交叉验证score:0.8696, 训练集:0.8998, 验证集:0.8432\n",
      "100--->交叉验证score:0.8696, 训练集:0.8998, 验证集:0.8432\n",
      "101--->交叉验证score:0.8696, 训练集:0.8998, 验证集:0.8486\n",
      "102--->交叉验证score:0.8696, 训练集:0.8998, 验证集:0.8486\n",
      "103--->交叉验证score:0.8664, 训练集:0.9044, 验证集:0.8486\n",
      "104--->交叉验证score:0.8663, 训练集:0.9044, 验证集:0.8486\n",
      "105--->交叉验证score:0.8712, 训练集:0.9044, 验证集:0.8541\n",
      "106--->交叉验证score:0.8712, 训练集:0.9068, 验证集:0.8541\n",
      "107--->交叉验证score:0.8712, 训练集:0.9068, 验证集:0.8541\n",
      "108--->交叉验证score:0.8712, 训练集:0.9068, 验证集:0.8541\n",
      "109--->交叉验证score:0.8696, 训练集:0.9068, 验证集:0.8541\n",
      "110--->交叉验证score:0.8712, 训练集:0.9068, 验证集:0.8541\n",
      "111--->交叉验证score:0.8729, 训练集:0.9091, 验证集:0.8541\n",
      "112--->交叉验证score:0.8729, 训练集:0.9091, 验证集:0.8541\n",
      "113--->交叉验证score:0.8729, 训练集:0.9091, 验证集:0.8541\n",
      "114--->交叉验证score:0.8729, 训练集:0.9091, 验证集:0.8541\n",
      "115--->交叉验证score:0.8729, 训练集:0.9091, 验证集:0.8541\n",
      "116--->交叉验证score:0.8712, 训练集:0.9091, 验证集:0.8541\n",
      "117--->交叉验证score:0.8728, 训练集:0.9091, 验证集:0.8541\n",
      "118--->交叉验证score:0.8744, 训练集:0.9091, 验证集:0.8541\n",
      "119--->交叉验证score:0.8744, 训练集:0.9091, 验证集:0.8595\n",
      "120--->交叉验证score:0.8744, 训练集:0.9091, 验证集:0.8595\n",
      "121--->交叉验证score:0.8744, 训练集:0.9091, 验证集:0.8595\n",
      "122--->交叉验证score:0.8761, 训练集:0.9091, 验证集:0.8595\n",
      "123--->交叉验证score:0.8777, 训练集:0.9091, 验证集:0.8595\n",
      "124--->交叉验证score:0.8794, 训练集:0.9138, 验证集:0.8595\n",
      "125--->交叉验证score:0.8794, 训练集:0.9114, 验证集:0.8595\n",
      "126--->交叉验证score:0.8794, 训练集:0.9114, 验证集:0.8595\n",
      "127--->交叉验证score:0.8794, 训练集:0.9114, 验证集:0.8649\n",
      "128--->交叉验证score:0.8794, 训练集:0.9114, 验证集:0.8649\n",
      "129--->交叉验证score:0.8794, 训练集:0.9114, 验证集:0.8649\n",
      "130--->交叉验证score:0.8794, 训练集:0.9138, 验证集:0.8649\n",
      "131--->交叉验证score:0.8810, 训练集:0.9138, 验证集:0.8649\n",
      "132--->交叉验证score:0.8810, 训练集:0.9161, 验证集:0.8649\n",
      "133--->交叉验证score:0.8810, 训练集:0.9161, 验证集:0.8649\n",
      "134--->交叉验证score:0.8794, 训练集:0.9207, 验证集:0.8649\n",
      "135--->交叉验证score:0.8810, 训练集:0.9207, 验证集:0.8703\n",
      "136--->交叉验证score:0.8794, 训练集:0.9207, 验证集:0.8757\n",
      "137--->交叉验证score:0.8777, 训练集:0.9207, 验证集:0.8757\n",
      "138--->交叉验证score:0.8794, 训练集:0.9231, 验证集:0.8757\n",
      "139--->交叉验证score:0.8794, 训练集:0.9277, 验证集:0.8757\n",
      "140--->交叉验证score:0.8794, 训练集:0.9277, 验证集:0.8757\n",
      "141--->交叉验证score:0.8794, 训练集:0.9277, 验证集:0.8757\n",
      "142--->交叉验证score:0.8810, 训练集:0.9277, 验证集:0.8757\n",
      "143--->交叉验证score:0.8826, 训练集:0.9277, 验证集:0.8811\n",
      "144--->交叉验证score:0.8810, 训练集:0.9254, 验证集:0.8757\n",
      "145--->交叉验证score:0.8810, 训练集:0.9254, 验证集:0.8757\n",
      "146--->交叉验证score:0.8793, 训练集:0.9254, 验证集:0.8757\n",
      "147--->交叉验证score:0.8810, 训练集:0.9254, 验证集:0.8757\n",
      "148--->交叉验证score:0.8810, 训练集:0.9254, 验证集:0.8757\n",
      "149--->交叉验证score:0.8810, 训练集:0.9254, 验证集:0.8757\n",
      "150--->交叉验证score:0.8826, 训练集:0.9254, 验证集:0.8757\n",
      "151--->交叉验证score:0.8826, 训练集:0.9254, 验证集:0.8757\n",
      "152--->交叉验证score:0.8842, 训练集:0.9254, 验证集:0.8811\n",
      "153--->交叉验证score:0.8842, 训练集:0.9254, 验证集:0.8811\n",
      "154--->交叉验证score:0.8842, 训练集:0.9231, 验证集:0.8811\n",
      "155--->交叉验证score:0.8842, 训练集:0.9231, 验证集:0.8811\n",
      "156--->交叉验证score:0.8842, 训练集:0.9231, 验证集:0.8811\n",
      "157--->交叉验证score:0.8842, 训练集:0.9231, 验证集:0.8811\n",
      "158--->交叉验证score:0.8842, 训练集:0.9231, 验证集:0.8811\n",
      "159--->交叉验证score:0.8826, 训练集:0.9231, 验证集:0.8811\n",
      "160--->交叉验证score:0.8826, 训练集:0.9231, 验证集:0.8811\n",
      "161--->交叉验证score:0.8826, 训练集:0.9231, 验证集:0.8811\n",
      "162--->交叉验证score:0.8826, 训练集:0.9231, 验证集:0.8811\n",
      "163--->交叉验证score:0.8826, 训练集:0.9231, 验证集:0.8811\n",
      "164--->交叉验证score:0.8810, 训练集:0.9254, 验证集:0.8811\n",
      "165--->交叉验证score:0.8826, 训练集:0.9231, 验证集:0.8757\n",
      "166--->交叉验证score:0.8842, 训练集:0.9207, 验证集:0.8811\n",
      "167--->交叉验证score:0.8842, 训练集:0.9231, 验证集:0.8757\n",
      "168--->交叉验证score:0.8825, 训练集:0.9231, 验证集:0.8811\n",
      "169--->交叉验证score:0.8858, 训练集:0.9254, 验证集:0.8865\n",
      "170--->交叉验证score:0.8841, 训练集:0.9254, 验证集:0.8865\n",
      "171--->交叉验证score:0.8858, 训练集:0.9254, 验证集:0.8811\n",
      "172--->交叉验证score:0.8841, 训练集:0.9254, 验证集:0.8865\n",
      "173--->交叉验证score:0.8841, 训练集:0.9254, 验证集:0.8811\n",
      "174--->交叉验证score:0.8858, 训练集:0.9254, 验证集:0.8811\n",
      "175--->交叉验证score:0.8825, 训练集:0.9254, 验证集:0.8865\n"
     ]
    },
    {
     "name": "stdout",
     "output_type": "stream",
     "text": [
      "176--->交叉验证score:0.8825, 训练集:0.9254, 验证集:0.8865\n",
      "177--->交叉验证score:0.8841, 训练集:0.9254, 验证集:0.8919\n",
      "178--->交叉验证score:0.8841, 训练集:0.9254, 验证集:0.8919\n",
      "179--->交叉验证score:0.8825, 训练集:0.9254, 验证集:0.8919\n",
      "180--->交叉验证score:0.8841, 训练集:0.9254, 验证集:0.8919\n",
      "181--->交叉验证score:0.8841, 训练集:0.9254, 验证集:0.8919\n",
      "182--->交叉验证score:0.8841, 训练集:0.9277, 验证集:0.8919\n",
      "183--->交叉验证score:0.8825, 训练集:0.9277, 验证集:0.8919\n",
      "184--->交叉验证score:0.8825, 训练集:0.9277, 验证集:0.8919\n",
      "185--->交叉验证score:0.8825, 训练集:0.9301, 验证集:0.8919\n",
      "186--->交叉验证score:0.8825, 训练集:0.9301, 验证集:0.8919\n",
      "187--->交叉验证score:0.8825, 训练集:0.9301, 验证集:0.8919\n",
      "188--->交叉验证score:0.8841, 训练集:0.9324, 验证集:0.8919\n",
      "189--->交叉验证score:0.8858, 训练集:0.9347, 验证集:0.8919\n",
      "190--->交叉验证score:0.8874, 训练集:0.9347, 验证集:0.8919\n",
      "191--->交叉验证score:0.8874, 训练集:0.9347, 验证集:0.8919\n",
      "192--->交叉验证score:0.8874, 训练集:0.9347, 验证集:0.8919\n",
      "193--->交叉验证score:0.8874, 训练集:0.9347, 验证集:0.8919\n",
      "194--->交叉验证score:0.8874, 训练集:0.9347, 验证集:0.8919\n",
      "195--->交叉验证score:0.8858, 训练集:0.9347, 验证集:0.8919\n",
      "196--->交叉验证score:0.8858, 训练集:0.9347, 验证集:0.8919\n",
      "197--->交叉验证score:0.8842, 训练集:0.9347, 验证集:0.8919\n",
      "198--->交叉验证score:0.8858, 训练集:0.9324, 验证集:0.8919\n",
      "199--->交叉验证score:0.8842, 训练集:0.9324, 验证集:0.8919\n",
      "200--->交叉验证score:0.8842, 训练集:0.9324, 验证集:0.8919\n",
      "201--->交叉验证score:0.8842, 训练集:0.9347, 验证集:0.8919\n",
      "202--->交叉验证score:0.8842, 训练集:0.9347, 验证集:0.8919\n",
      "203--->交叉验证score:0.8842, 训练集:0.9371, 验证集:0.8919\n",
      "204--->交叉验证score:0.8842, 训练集:0.9347, 验证集:0.8919\n",
      "205--->交叉验证score:0.8842, 训练集:0.9347, 验证集:0.8919\n",
      "206--->交叉验证score:0.8842, 训练集:0.9347, 验证集:0.8919\n",
      "207--->交叉验证score:0.8842, 训练集:0.9347, 验证集:0.8919\n",
      "208--->交叉验证score:0.8858, 训练集:0.9324, 验证集:0.8919\n",
      "209--->交叉验证score:0.8858, 训练集:0.9324, 验证集:0.8919\n",
      "210--->交叉验证score:0.8858, 训练集:0.9324, 验证集:0.8919\n",
      "211--->交叉验证score:0.8858, 训练集:0.9324, 验证集:0.8919\n",
      "212--->交叉验证score:0.8858, 训练集:0.9324, 验证集:0.8919\n",
      "213--->交叉验证score:0.8858, 训练集:0.9324, 验证集:0.8919\n",
      "214--->交叉验证score:0.8858, 训练集:0.9347, 验证集:0.8919\n",
      "215--->交叉验证score:0.8858, 训练集:0.9347, 验证集:0.8919\n",
      "216--->交叉验证score:0.8858, 训练集:0.9347, 验证集:0.8919\n",
      "217--->交叉验证score:0.8858, 训练集:0.9347, 验证集:0.8919\n",
      "218--->交叉验证score:0.8858, 训练集:0.9347, 验证集:0.8919\n",
      "219--->交叉验证score:0.8842, 训练集:0.9347, 验证集:0.8919\n",
      "220--->交叉验证score:0.8842, 训练集:0.9347, 验证集:0.8919\n",
      "221--->交叉验证score:0.8842, 训练集:0.9347, 验证集:0.8919\n",
      "222--->交叉验证score:0.8842, 训练集:0.9347, 验证集:0.8919\n",
      "223--->交叉验证score:0.8842, 训练集:0.9371, 验证集:0.8919\n",
      "224--->交叉验证score:0.8842, 训练集:0.9371, 验证集:0.8919\n",
      "225--->交叉验证score:0.8842, 训练集:0.9371, 验证集:0.8919\n",
      "226--->交叉验证score:0.8842, 训练集:0.9371, 验证集:0.8919\n",
      "227--->交叉验证score:0.8842, 训练集:0.9371, 验证集:0.8919\n",
      "228--->交叉验证score:0.8842, 训练集:0.9347, 验证集:0.8919\n",
      "229--->交叉验证score:0.8842, 训练集:0.9347, 验证集:0.8919\n",
      "230--->交叉验证score:0.8842, 训练集:0.9371, 验证集:0.8919\n",
      "231--->交叉验证score:0.8842, 训练集:0.9371, 验证集:0.8919\n",
      "232--->交叉验证score:0.8825, 训练集:0.9394, 验证集:0.8919\n",
      "233--->交叉验证score:0.8842, 训练集:0.9371, 验证集:0.8919\n",
      "234--->交叉验证score:0.8842, 训练集:0.9371, 验证集:0.8919\n",
      "235--->交叉验证score:0.8842, 训练集:0.9371, 验证集:0.8919\n",
      "236--->交叉验证score:0.8858, 训练集:0.9371, 验证集:0.8919\n",
      "237--->交叉验证score:0.8858, 训练集:0.9371, 验证集:0.8919\n",
      "238--->交叉验证score:0.8858, 训练集:0.9371, 验证集:0.8919\n",
      "239--->交叉验证score:0.8858, 训练集:0.9371, 验证集:0.8919\n",
      "240--->交叉验证score:0.8858, 训练集:0.9371, 验证集:0.8919\n",
      "241--->交叉验证score:0.8842, 训练集:0.9371, 验证集:0.8919\n",
      "242--->交叉验证score:0.8842, 训练集:0.9371, 验证集:0.8919\n",
      "243--->交叉验证score:0.8842, 训练集:0.9371, 验证集:0.8919\n",
      "244--->交叉验证score:0.8842, 训练集:0.9371, 验证集:0.8919\n",
      "245--->交叉验证score:0.8842, 训练集:0.9394, 验证集:0.8919\n",
      "246--->交叉验证score:0.8842, 训练集:0.9394, 验证集:0.8919\n",
      "247--->交叉验证score:0.8842, 训练集:0.9417, 验证集:0.8919\n",
      "248--->交叉验证score:0.8842, 训练集:0.9417, 验证集:0.8919\n",
      "249--->交叉验证score:0.8842, 训练集:0.9441, 验证集:0.8919\n",
      "250--->交叉验证score:0.8842, 训练集:0.9441, 验证集:0.8919\n",
      "251--->交叉验证score:0.8842, 训练集:0.9441, 验证集:0.8919\n",
      "252--->交叉验证score:0.8842, 训练集:0.9464, 验证集:0.8865\n",
      "253--->交叉验证score:0.8842, 训练集:0.9464, 验证集:0.8865\n",
      "254--->交叉验证score:0.8842, 训练集:0.9464, 验证集:0.8865\n",
      "255--->交叉验证score:0.8842, 训练集:0.9464, 验证集:0.8865\n",
      "256--->交叉验证score:0.8842, 训练集:0.9464, 验证集:0.8865\n",
      "257--->交叉验证score:0.8842, 训练集:0.9464, 验证集:0.8865\n",
      "258--->交叉验证score:0.8842, 训练集:0.9487, 验证集:0.8865\n",
      "259--->交叉验证score:0.8825, 训练集:0.9510, 验证集:0.8865\n",
      "260--->交叉验证score:0.8825, 训练集:0.9510, 验证集:0.8865\n",
      "261--->交叉验证score:0.8825, 训练集:0.9510, 验证集:0.8865\n",
      "262--->交叉验证score:0.8825, 训练集:0.9510, 验证集:0.8865\n",
      "263--->交叉验证score:0.8825, 训练集:0.9510, 验证集:0.8865\n",
      "264--->交叉验证score:0.8825, 训练集:0.9510, 验证集:0.8865\n",
      "265--->交叉验证score:0.8825, 训练集:0.9510, 验证集:0.8865\n",
      "266--->交叉验证score:0.8825, 训练集:0.9510, 验证集:0.8865\n",
      "267--->交叉验证score:0.8825, 训练集:0.9510, 验证集:0.8865\n",
      "268--->交叉验证score:0.8825, 训练集:0.9534, 验证集:0.8865\n",
      "269--->交叉验证score:0.8825, 训练集:0.9534, 验证集:0.8865\n",
      "270--->交叉验证score:0.8825, 训练集:0.9534, 验证集:0.8865\n",
      "271--->交叉验证score:0.8809, 训练集:0.9534, 验证集:0.8865\n",
      "272--->交叉验证score:0.8825, 训练集:0.9534, 验证集:0.8865\n",
      "273--->交叉验证score:0.8825, 训练集:0.9534, 验证集:0.8865\n",
      "274--->交叉验证score:0.8825, 训练集:0.9534, 验证集:0.8811\n",
      "275--->交叉验证score:0.8825, 训练集:0.9534, 验证集:0.8811\n",
      "276--->交叉验证score:0.8825, 训练集:0.9534, 验证集:0.8811\n",
      "277--->交叉验证score:0.8825, 训练集:0.9534, 验证集:0.8811\n",
      "278--->交叉验证score:0.8825, 训练集:0.9534, 验证集:0.8811\n",
      "279--->交叉验证score:0.8825, 训练集:0.9534, 验证集:0.8811\n",
      "280--->交叉验证score:0.8825, 训练集:0.9534, 验证集:0.8811\n",
      "281--->交叉验证score:0.8825, 训练集:0.9534, 验证集:0.8811\n",
      "282--->交叉验证score:0.8825, 训练集:0.9534, 验证集:0.8811\n",
      "283--->交叉验证score:0.8825, 训练集:0.9534, 验证集:0.8757\n",
      "284--->交叉验证score:0.8825, 训练集:0.9534, 验证集:0.8811\n",
      "285--->交叉验证score:0.8825, 训练集:0.9534, 验证集:0.8811\n",
      "286--->交叉验证score:0.8825, 训练集:0.9534, 验证集:0.8811\n",
      "287--->交叉验证score:0.8825, 训练集:0.9534, 验证集:0.8811\n",
      "288--->交叉验证score:0.8842, 训练集:0.9557, 验证集:0.8811\n",
      "289--->交叉验证score:0.8842, 训练集:0.9557, 验证集:0.8811\n",
      "290--->交叉验证score:0.8842, 训练集:0.9580, 验证集:0.8811\n",
      "291--->交叉验证score:0.8842, 训练集:0.9580, 验证集:0.8811\n",
      "292--->交叉验证score:0.8842, 训练集:0.9580, 验证集:0.8811\n",
      "293--->交叉验证score:0.8842, 训练集:0.9580, 验证集:0.8811\n",
      "294--->交叉验证score:0.8842, 训练集:0.9580, 验证集:0.8811\n",
      "295--->交叉验证score:0.8842, 训练集:0.9580, 验证集:0.8811\n",
      "296--->交叉验证score:0.8825, 训练集:0.9580, 验证集:0.8811\n",
      "297--->交叉验证score:0.8809, 训练集:0.9580, 验证集:0.8811\n",
      "298--->交叉验证score:0.8809, 训练集:0.9580, 验证集:0.8757\n",
      "299--->交叉验证score:0.8809, 训练集:0.9604, 验证集:0.8757\n",
      "300--->交叉验证score:0.8809, 训练集:0.9604, 验证集:0.8757\n",
      "301--->交叉验证score:0.8809, 训练集:0.9604, 验证集:0.8757\n",
      "302--->交叉验证score:0.8809, 训练集:0.9604, 验证集:0.8757\n",
      "303--->交叉验证score:0.8809, 训练集:0.9604, 验证集:0.8757\n",
      "304--->交叉验证score:0.8793, 训练集:0.9604, 验证集:0.8757\n",
      "305--->交叉验证score:0.8793, 训练集:0.9604, 验证集:0.8757\n",
      "306--->交叉验证score:0.8793, 训练集:0.9604, 验证集:0.8757\n",
      "307--->交叉验证score:0.8793, 训练集:0.9604, 验证集:0.8811\n",
      "308--->交叉验证score:0.8793, 训练集:0.9604, 验证集:0.8865\n",
      "309--->交叉验证score:0.8793, 训练集:0.9604, 验证集:0.8865\n",
      "310--->交叉验证score:0.8793, 训练集:0.9604, 验证集:0.8865\n",
      "311--->交叉验证score:0.8793, 训练集:0.9604, 验证集:0.8865\n",
      "312--->交叉验证score:0.8793, 训练集:0.9604, 验证集:0.8865\n",
      "313--->交叉验证score:0.8793, 训练集:0.9604, 验证集:0.8865\n",
      "314--->交叉验证score:0.8793, 训练集:0.9604, 验证集:0.8865\n",
      "315--->交叉验证score:0.8793, 训练集:0.9604, 验证集:0.8919\n",
      "316--->交叉验证score:0.8793, 训练集:0.9604, 验证集:0.8811\n",
      "317--->交叉验证score:0.8793, 训练集:0.9604, 验证集:0.8811\n",
      "318--->交叉验证score:0.8776, 训练集:0.9604, 验证集:0.8811\n",
      "319--->交叉验证score:0.8776, 训练集:0.9604, 验证集:0.8757\n",
      "320--->交叉验证score:0.8793, 训练集:0.9604, 验证集:0.8757\n",
      "321--->交叉验证score:0.8793, 训练集:0.9604, 验证集:0.8757\n",
      "322--->交叉验证score:0.8809, 训练集:0.9604, 验证集:0.8757\n",
      "323--->交叉验证score:0.8809, 训练集:0.9604, 验证集:0.8757\n",
      "324--->交叉验证score:0.8825, 训练集:0.9604, 验证集:0.8757\n",
      "325--->交叉验证score:0.8825, 训练集:0.9604, 验证集:0.8757\n",
      "326--->交叉验证score:0.8809, 训练集:0.9604, 验证集:0.8757\n",
      "327--->交叉验证score:0.8809, 训练集:0.9604, 验证集:0.8757\n",
      "328--->交叉验证score:0.8776, 训练集:0.9604, 验证集:0.8757\n",
      "329--->交叉验证score:0.8793, 训练集:0.9580, 验证集:0.8757\n",
      "330--->交叉验证score:0.8793, 训练集:0.9580, 验证集:0.8757\n",
      "331--->交叉验证score:0.8793, 训练集:0.9580, 验证集:0.8757\n",
      "332--->交叉验证score:0.8793, 训练集:0.9580, 验证集:0.8757\n",
      "333--->交叉验证score:0.8776, 训练集:0.9580, 验证集:0.8757\n",
      "334--->交叉验证score:0.8776, 训练集:0.9580, 验证集:0.8757\n",
      "335--->交叉验证score:0.8808, 训练集:0.9580, 验证集:0.8757\n",
      "336--->交叉验证score:0.8792, 训练集:0.9604, 验证集:0.8757\n",
      "337--->交叉验证score:0.8808, 训练集:0.9580, 验证集:0.8811\n",
      "338--->交叉验证score:0.8808, 训练集:0.9580, 验证集:0.8811\n",
      "339--->交叉验证score:0.8808, 训练集:0.9580, 验证集:0.8811\n",
      "340--->交叉验证score:0.8792, 训练集:0.9604, 验证集:0.8811\n",
      "341--->交叉验证score:0.8808, 训练集:0.9604, 验证集:0.8919\n",
      "342--->交叉验证score:0.8808, 训练集:0.9627, 验证集:0.8919\n",
      "343--->交叉验证score:0.8808, 训练集:0.9627, 验证集:0.8919\n",
      "344--->交叉验证score:0.8825, 训练集:0.9627, 验证集:0.8919\n",
      "345--->交叉验证score:0.8825, 训练集:0.9627, 验证集:0.8919\n",
      "346--->交叉验证score:0.8825, 训练集:0.9627, 验证集:0.8919\n",
      "347--->交叉验证score:0.8841, 训练集:0.9627, 验证集:0.8973\n"
     ]
    },
    {
     "name": "stdout",
     "output_type": "stream",
     "text": [
      "348--->交叉验证score:0.8841, 训练集:0.9627, 验证集:0.8973\n",
      "349--->交叉验证score:0.8841, 训练集:0.9627, 验证集:0.8973\n",
      "350--->交叉验证score:0.8825, 训练集:0.9627, 验证集:0.8973\n",
      "351--->交叉验证score:0.8825, 训练集:0.9627, 验证集:0.8973\n",
      "352--->交叉验证score:0.8825, 训练集:0.9627, 验证集:0.8973\n",
      "353--->交叉验证score:0.8825, 训练集:0.9627, 验证集:0.8973\n",
      "354--->交叉验证score:0.8825, 训练集:0.9627, 验证集:0.8973\n",
      "355--->交叉验证score:0.8825, 训练集:0.9627, 验证集:0.8973\n",
      "356--->交叉验证score:0.8825, 训练集:0.9627, 验证集:0.8973\n",
      "357--->交叉验证score:0.8825, 训练集:0.9627, 验证集:0.8973\n",
      "358--->交叉验证score:0.8825, 训练集:0.9627, 验证集:0.8973\n",
      "359--->交叉验证score:0.8858, 训练集:0.9627, 验证集:0.9027\n",
      "360--->交叉验证score:0.8874, 训练集:0.9627, 验证集:0.9027\n",
      "361--->交叉验证score:0.8874, 训练集:0.9627, 验证集:0.9027\n",
      "362--->交叉验证score:0.8874, 训练集:0.9627, 验证集:0.9027\n",
      "363--->交叉验证score:0.8890, 训练集:0.9604, 验证集:0.9027\n",
      "364--->交叉验证score:0.8907, 训练集:0.9604, 验证集:0.9027\n",
      "365--->交叉验证score:0.8907, 训练集:0.9604, 验证集:0.9027\n",
      "366--->交叉验证score:0.8907, 训练集:0.9604, 验证集:0.9027\n",
      "367--->交叉验证score:0.8923, 训练集:0.9604, 验证集:0.9027\n",
      "368--->交叉验证score:0.8907, 训练集:0.9604, 验证集:0.8973\n",
      "369--->交叉验证score:0.8890, 训练集:0.9604, 验证集:0.8919\n",
      "370--->交叉验证score:0.8874, 训练集:0.9604, 验证集:0.8919\n",
      "371--->交叉验证score:0.8874, 训练集:0.9604, 验证集:0.8919\n",
      "372--->交叉验证score:0.8875, 训练集:0.9627, 验证集:0.8973\n",
      "373--->交叉验证score:0.8875, 训练集:0.9627, 验证集:0.8973\n",
      "374--->交叉验证score:0.8875, 训练集:0.9627, 验证集:0.8973\n",
      "375--->交叉验证score:0.8890, 训练集:0.9697, 验证集:0.8973\n",
      "376--->交叉验证score:0.8890, 训练集:0.9697, 验证集:0.8973\n",
      "377--->交叉验证score:0.8890, 训练集:0.9697, 验证集:0.8973\n",
      "378--->交叉验证score:0.8890, 训练集:0.9697, 验证集:0.8973\n",
      "379--->交叉验证score:0.8907, 训练集:0.9697, 验证集:0.8973\n",
      "380--->交叉验证score:0.8907, 训练集:0.9697, 验证集:0.8973\n",
      "381--->交叉验证score:0.8907, 训练集:0.9697, 验证集:0.8973\n",
      "382--->交叉验证score:0.8907, 训练集:0.9697, 验证集:0.8973\n",
      "383--->交叉验证score:0.8907, 训练集:0.9697, 验证集:0.8973\n",
      "384--->交叉验证score:0.8923, 训练集:0.9697, 验证集:0.8973\n",
      "385--->交叉验证score:0.8923, 训练集:0.9697, 验证集:0.8973\n",
      "386--->交叉验证score:0.8923, 训练集:0.9697, 验证集:0.8973\n",
      "387--->交叉验证score:0.8923, 训练集:0.9697, 验证集:0.8973\n",
      "388--->交叉验证score:0.8907, 训练集:0.9697, 验证集:0.8973\n",
      "389--->交叉验证score:0.8907, 训练集:0.9697, 验证集:0.8973\n",
      "390--->交叉验证score:0.8907, 训练集:0.9697, 验证集:0.8973\n",
      "391--->交叉验证score:0.8907, 训练集:0.9697, 验证集:0.8973\n",
      "392--->交叉验证score:0.8907, 训练集:0.9697, 验证集:0.8973\n",
      "393--->交叉验证score:0.8907, 训练集:0.9697, 验证集:0.8973\n",
      "394--->交叉验证score:0.8907, 训练集:0.9697, 验证集:0.8973\n",
      "395--->交叉验证score:0.8907, 训练集:0.9697, 验证集:0.8973\n",
      "396--->交叉验证score:0.8907, 训练集:0.9697, 验证集:0.8973\n",
      "397--->交叉验证score:0.8923, 训练集:0.9720, 验证集:0.8973\n",
      "398--->交叉验证score:0.8923, 训练集:0.9720, 验证集:0.8973\n",
      "399--->交叉验证score:0.8923, 训练集:0.9720, 验证集:0.8973\n",
      "400--->交叉验证score:0.8923, 训练集:0.9720, 验证集:0.8973\n",
      "401--->交叉验证score:0.8923, 训练集:0.9720, 验证集:0.8973\n",
      "402--->交叉验证score:0.8923, 训练集:0.9720, 验证集:0.8973\n",
      "403--->交叉验证score:0.8923, 训练集:0.9720, 验证集:0.8973\n",
      "404--->交叉验证score:0.8923, 训练集:0.9720, 验证集:0.8973\n",
      "405--->交叉验证score:0.8940, 训练集:0.9720, 验证集:0.8919\n",
      "406--->交叉验证score:0.8940, 训练集:0.9720, 验证集:0.8919\n",
      "407--->交叉验证score:0.8956, 训练集:0.9720, 验证集:0.8919\n",
      "408--->交叉验证score:0.8988, 训练集:0.9720, 验证集:0.8919\n",
      "409--->交叉验证score:0.8988, 训练集:0.9720, 验证集:0.8919\n",
      "410--->交叉验证score:0.8988, 训练集:0.9720, 验证集:0.8919\n",
      "411--->交叉验证score:0.8988, 训练集:0.9720, 验证集:0.8919\n",
      "412--->交叉验证score:0.8988, 训练集:0.9720, 验证集:0.8919\n",
      "413--->交叉验证score:0.8988, 训练集:0.9720, 验证集:0.8919\n",
      "414--->交叉验证score:0.8988, 训练集:0.9720, 验证集:0.8919\n",
      "415--->交叉验证score:0.8988, 训练集:0.9720, 验证集:0.8973\n",
      "416--->交叉验证score:0.8988, 训练集:0.9720, 验证集:0.8973\n",
      "417--->交叉验证score:0.8988, 训练集:0.9720, 验证集:0.8973\n",
      "418--->交叉验证score:0.8956, 训练集:0.9720, 验证集:0.8973\n",
      "419--->交叉验证score:0.8956, 训练集:0.9720, 验证集:0.8973\n",
      "420--->交叉验证score:0.8956, 训练集:0.9720, 验证集:0.8973\n",
      "421--->交叉验证score:0.8940, 训练集:0.9720, 验证集:0.8973\n",
      "422--->交叉验证score:0.8940, 训练集:0.9744, 验证集:0.8973\n",
      "423--->交叉验证score:0.8940, 训练集:0.9744, 验证集:0.9027\n",
      "424--->交叉验证score:0.8940, 训练集:0.9744, 验证集:0.9027\n",
      "425--->交叉验证score:0.8940, 训练集:0.9744, 验证集:0.9027\n",
      "426--->交叉验证score:0.8940, 训练集:0.9744, 验证集:0.9027\n",
      "427--->交叉验证score:0.8956, 训练集:0.9744, 验证集:0.9027\n",
      "428--->交叉验证score:0.8940, 训练集:0.9744, 验证集:0.9027\n",
      "429--->交叉验证score:0.8940, 训练集:0.9744, 验证集:0.9027\n",
      "430--->交叉验证score:0.8940, 训练集:0.9744, 验证集:0.9027\n",
      "431--->交叉验证score:0.8940, 训练集:0.9744, 验证集:0.8973\n",
      "432--->交叉验证score:0.8940, 训练集:0.9744, 验证集:0.8973\n",
      "433--->交叉验证score:0.8924, 训练集:0.9744, 验证集:0.8973\n",
      "434--->交叉验证score:0.8924, 训练集:0.9744, 验证集:0.8973\n",
      "435--->交叉验证score:0.8907, 训练集:0.9744, 验证集:0.9027\n",
      "436--->交叉验证score:0.8907, 训练集:0.9744, 验证集:0.9027\n",
      "437--->交叉验证score:0.8907, 训练集:0.9744, 验证集:0.9027\n",
      "438--->交叉验证score:0.8907, 训练集:0.9744, 验证集:0.9027\n",
      "439--->交叉验证score:0.8907, 训练集:0.9744, 验证集:0.9027\n",
      "440--->交叉验证score:0.8907, 训练集:0.9744, 验证集:0.9027\n",
      "441--->交叉验证score:0.8907, 训练集:0.9744, 验证集:0.9027\n",
      "442--->交叉验证score:0.8907, 训练集:0.9744, 验证集:0.9027\n",
      "443--->交叉验证score:0.8907, 训练集:0.9744, 验证集:0.9027\n",
      "444--->交叉验证score:0.8907, 训练集:0.9744, 验证集:0.9027\n",
      "445--->交叉验证score:0.8907, 训练集:0.9744, 验证集:0.9027\n",
      "446--->交叉验证score:0.8907, 训练集:0.9744, 验证集:0.9027\n",
      "447--->交叉验证score:0.8907, 训练集:0.9744, 验证集:0.9027\n",
      "448--->交叉验证score:0.8907, 训练集:0.9744, 验证集:0.9027\n",
      "449--->交叉验证score:0.8907, 训练集:0.9744, 验证集:0.9027\n",
      "450--->交叉验证score:0.8907, 训练集:0.9744, 验证集:0.9027\n",
      "451--->交叉验证score:0.8907, 训练集:0.9744, 验证集:0.9027\n",
      "452--->交叉验证score:0.8907, 训练集:0.9744, 验证集:0.9027\n",
      "453--->交叉验证score:0.8907, 训练集:0.9744, 验证集:0.9027\n",
      "454--->交叉验证score:0.8907, 训练集:0.9744, 验证集:0.9027\n",
      "455--->交叉验证score:0.8924, 训练集:0.9744, 验证集:0.9027\n",
      "456--->交叉验证score:0.8924, 训练集:0.9744, 验证集:0.9027\n",
      "457--->交叉验证score:0.8924, 训练集:0.9744, 验证集:0.9027\n",
      "458--->交叉验证score:0.8924, 训练集:0.9744, 验证集:0.9027\n",
      "459--->交叉验证score:0.8924, 训练集:0.9744, 验证集:0.9027\n",
      "460--->交叉验证score:0.8924, 训练集:0.9744, 验证集:0.9027\n",
      "461--->交叉验证score:0.8924, 训练集:0.9744, 验证集:0.9027\n",
      "462--->交叉验证score:0.8924, 训练集:0.9744, 验证集:0.9027\n",
      "463--->交叉验证score:0.8924, 训练集:0.9744, 验证集:0.9027\n",
      "464--->交叉验证score:0.8924, 训练集:0.9744, 验证集:0.9027\n",
      "465--->交叉验证score:0.8924, 训练集:0.9744, 验证集:0.9027\n",
      "466--->交叉验证score:0.8924, 训练集:0.9744, 验证集:0.9027\n",
      "467--->交叉验证score:0.8924, 训练集:0.9744, 验证集:0.9027\n",
      "468--->交叉验证score:0.8924, 训练集:0.9767, 验证集:0.9027\n",
      "469--->交叉验证score:0.8924, 训练集:0.9767, 验证集:0.9027\n",
      "470--->交叉验证score:0.8924, 训练集:0.9767, 验证集:0.9027\n",
      "471--->交叉验证score:0.8924, 训练集:0.9767, 验证集:0.9027\n",
      "472--->交叉验证score:0.8924, 训练集:0.9767, 验证集:0.9027\n",
      "473--->交叉验证score:0.8908, 训练集:0.9767, 验证集:0.9027\n",
      "474--->交叉验证score:0.8908, 训练集:0.9767, 验证集:0.9027\n",
      "475--->交叉验证score:0.8908, 训练集:0.9767, 验证集:0.9027\n",
      "476--->交叉验证score:0.8908, 训练集:0.9767, 验证集:0.9027\n",
      "477--->交叉验证score:0.8908, 训练集:0.9767, 验证集:0.9027\n",
      "478--->交叉验证score:0.8908, 训练集:0.9767, 验证集:0.9027\n",
      "479--->交叉验证score:0.8908, 训练集:0.9767, 验证集:0.9027\n",
      "480--->交叉验证score:0.8908, 训练集:0.9767, 验证集:0.9027\n",
      "481--->交叉验证score:0.8908, 训练集:0.9767, 验证集:0.9027\n",
      "482--->交叉验证score:0.8908, 训练集:0.9767, 验证集:0.9027\n",
      "483--->交叉验证score:0.8908, 训练集:0.9767, 验证集:0.9027\n",
      "484--->交叉验证score:0.8908, 训练集:0.9767, 验证集:0.9027\n",
      "485--->交叉验证score:0.8908, 训练集:0.9767, 验证集:0.9027\n",
      "486--->交叉验证score:0.8908, 训练集:0.9767, 验证集:0.9027\n",
      "487--->交叉验证score:0.8908, 训练集:0.9767, 验证集:0.9027\n",
      "488--->交叉验证score:0.8924, 训练集:0.9767, 验证集:0.9027\n",
      "489--->交叉验证score:0.8908, 训练集:0.9767, 验证集:0.9027\n",
      "490--->交叉验证score:0.8924, 训练集:0.9767, 验证集:0.9027\n",
      "491--->交叉验证score:0.8924, 训练集:0.9767, 验证集:0.9027\n",
      "492--->交叉验证score:0.8924, 训练集:0.9767, 验证集:0.9027\n",
      "493--->交叉验证score:0.8924, 训练集:0.9767, 验证集:0.9027\n",
      "494--->交叉验证score:0.8924, 训练集:0.9767, 验证集:0.9027\n",
      "495--->交叉验证score:0.8924, 训练集:0.9767, 验证集:0.9027\n",
      "496--->交叉验证score:0.8940, 训练集:0.9767, 验证集:0.9027\n",
      "497--->交叉验证score:0.8940, 训练集:0.9767, 验证集:0.9027\n",
      "498--->交叉验证score:0.8940, 训练集:0.9767, 验证集:0.9027\n",
      "499--->交叉验证score:0.8940, 训练集:0.9767, 验证集:0.9027\n",
      "500--->交叉验证score:0.8940, 训练集:0.9767, 验证集:0.9027\n",
      "501--->交叉验证score:0.8940, 训练集:0.9767, 验证集:0.9027\n",
      "502--->交叉验证score:0.8940, 训练集:0.9767, 验证集:0.9027\n",
      "503--->交叉验证score:0.8940, 训练集:0.9767, 验证集:0.9027\n",
      "504--->交叉验证score:0.8940, 训练集:0.9767, 验证集:0.9027\n",
      "505--->交叉验证score:0.8940, 训练集:0.9767, 验证集:0.9027\n",
      "506--->交叉验证score:0.8940, 训练集:0.9767, 验证集:0.9027\n",
      "507--->交叉验证score:0.8940, 训练集:0.9767, 验证集:0.9027\n",
      "508--->交叉验证score:0.8940, 训练集:0.9767, 验证集:0.9027\n",
      "509--->交叉验证score:0.8940, 训练集:0.9767, 验证集:0.9027\n",
      "510--->交叉验证score:0.8940, 训练集:0.9767, 验证集:0.9027\n",
      "511--->交叉验证score:0.8940, 训练集:0.9767, 验证集:0.9027\n",
      "512--->交叉验证score:0.8940, 训练集:0.9767, 验证集:0.9027\n",
      "513--->交叉验证score:0.8940, 训练集:0.9767, 验证集:0.9027\n",
      "514--->交叉验证score:0.8940, 训练集:0.9767, 验证集:0.9027\n",
      "515--->交叉验证score:0.8940, 训练集:0.9767, 验证集:0.9027\n",
      "516--->交叉验证score:0.8940, 训练集:0.9767, 验证集:0.9027\n",
      "517--->交叉验证score:0.8940, 训练集:0.9767, 验证集:0.9027\n",
      "518--->交叉验证score:0.8940, 训练集:0.9767, 验证集:0.9027\n"
     ]
    },
    {
     "name": "stdout",
     "output_type": "stream",
     "text": [
      "519--->交叉验证score:0.8940, 训练集:0.9767, 验证集:0.9027\n",
      "520--->交叉验证score:0.8940, 训练集:0.9767, 验证集:0.9027\n",
      "521--->交叉验证score:0.8940, 训练集:0.9767, 验证集:0.9027\n",
      "522--->交叉验证score:0.8940, 训练集:0.9767, 验证集:0.9027\n",
      "523--->交叉验证score:0.8940, 训练集:0.9767, 验证集:0.9027\n",
      "524--->交叉验证score:0.8940, 训练集:0.9767, 验证集:0.9027\n",
      "525--->交叉验证score:0.8940, 训练集:0.9767, 验证集:0.9027\n",
      "526--->交叉验证score:0.8940, 训练集:0.9767, 验证集:0.9027\n",
      "527--->交叉验证score:0.8940, 训练集:0.9767, 验证集:0.9027\n",
      "528--->交叉验证score:0.8940, 训练集:0.9767, 验证集:0.9027\n",
      "529--->交叉验证score:0.8940, 训练集:0.9767, 验证集:0.9027\n",
      "530--->交叉验证score:0.8940, 训练集:0.9767, 验证集:0.9027\n",
      "531--->交叉验证score:0.8940, 训练集:0.9767, 验证集:0.9027\n",
      "532--->交叉验证score:0.8940, 训练集:0.9790, 验证集:0.9027\n",
      "533--->交叉验证score:0.8940, 训练集:0.9814, 验证集:0.9027\n",
      "534--->交叉验证score:0.8940, 训练集:0.9814, 验证集:0.9027\n",
      "535--->交叉验证score:0.8940, 训练集:0.9814, 验证集:0.9027\n",
      "536--->交叉验证score:0.8940, 训练集:0.9814, 验证集:0.9027\n",
      "537--->交叉验证score:0.8940, 训练集:0.9814, 验证集:0.9027\n",
      "538--->交叉验证score:0.8940, 训练集:0.9814, 验证集:0.9027\n",
      "539--->交叉验证score:0.8940, 训练集:0.9814, 验证集:0.9027\n",
      "540--->交叉验证score:0.8940, 训练集:0.9790, 验证集:0.9027\n",
      "541--->交叉验证score:0.8940, 训练集:0.9790, 验证集:0.9027\n",
      "542--->交叉验证score:0.8940, 训练集:0.9790, 验证集:0.9027\n",
      "543--->交叉验证score:0.8940, 训练集:0.9790, 验证集:0.8973\n",
      "544--->交叉验证score:0.8940, 训练集:0.9790, 验证集:0.8973\n",
      "545--->交叉验证score:0.8940, 训练集:0.9790, 验证集:0.8973\n",
      "546--->交叉验证score:0.8940, 训练集:0.9790, 验证集:0.8973\n",
      "547--->交叉验证score:0.8940, 训练集:0.9790, 验证集:0.8973\n",
      "548--->交叉验证score:0.8940, 训练集:0.9790, 验证集:0.8973\n",
      "549--->交叉验证score:0.8940, 训练集:0.9790, 验证集:0.8973\n",
      "550--->交叉验证score:0.8940, 训练集:0.9790, 验证集:0.8973\n",
      "551--->交叉验证score:0.8907, 训练集:0.9790, 验证集:0.8973\n",
      "552--->交叉验证score:0.8907, 训练集:0.9790, 验证集:0.8973\n",
      "553--->交叉验证score:0.8907, 训练集:0.9814, 验证集:0.8973\n",
      "554--->交叉验证score:0.8923, 训练集:0.9814, 验证集:0.8973\n",
      "555--->交叉验证score:0.8923, 训练集:0.9814, 验证集:0.8973\n",
      "556--->交叉验证score:0.8923, 训练集:0.9814, 验证集:0.8973\n",
      "557--->交叉验证score:0.8923, 训练集:0.9814, 验证集:0.8973\n",
      "558--->交叉验证score:0.8907, 训练集:0.9814, 验证集:0.8973\n",
      "559--->交叉验证score:0.8875, 训练集:0.9814, 验证集:0.8973\n",
      "560--->交叉验证score:0.8891, 训练集:0.9814, 验证集:0.8919\n",
      "561--->交叉验证score:0.8924, 训练集:0.9814, 验证集:0.8973\n",
      "562--->交叉验证score:0.8907, 训练集:0.9837, 验证集:0.8973\n",
      "563--->交叉验证score:0.8907, 训练集:0.9837, 验证集:0.8973\n",
      "564--->交叉验证score:0.8907, 训练集:0.9837, 验证集:0.8973\n",
      "565--->交叉验证score:0.8891, 训练集:0.9837, 验证集:0.8973\n",
      "566--->交叉验证score:0.8891, 训练集:0.9837, 验证集:0.8973\n",
      "567--->交叉验证score:0.8891, 训练集:0.9837, 验证集:0.8973\n",
      "568--->交叉验证score:0.8890, 训练集:0.9837, 验证集:0.8973\n",
      "569--->交叉验证score:0.8890, 训练集:0.9837, 验证集:0.8973\n",
      "570--->交叉验证score:0.8890, 训练集:0.9837, 验证集:0.8919\n",
      "571--->交叉验证score:0.8858, 训练集:0.9837, 验证集:0.8919\n",
      "572--->交叉验证score:0.8858, 训练集:0.9837, 验证集:0.8919\n",
      "573--->交叉验证score:0.8842, 训练集:0.9837, 验证集:0.8865\n",
      "574--->交叉验证score:0.8842, 训练集:0.9837, 验证集:0.8865\n",
      "575--->交叉验证score:0.8842, 训练集:0.9860, 验证集:0.8865\n",
      "576--->交叉验证score:0.8858, 训练集:0.9860, 验证集:0.8865\n",
      "577--->交叉验证score:0.8858, 训练集:0.9860, 验证集:0.8865\n",
      "578--->交叉验证score:0.8858, 训练集:0.9860, 验证集:0.8865\n",
      "579--->交叉验证score:0.8858, 训练集:0.9860, 验证集:0.8865\n",
      "580--->交叉验证score:0.8858, 训练集:0.9860, 验证集:0.8865\n",
      "581--->交叉验证score:0.8858, 训练集:0.9860, 验证集:0.8865\n",
      "582--->交叉验证score:0.8858, 训练集:0.9860, 验证集:0.8865\n",
      "583--->交叉验证score:0.8842, 训练集:0.9860, 验证集:0.8919\n",
      "584--->交叉验证score:0.8826, 训练集:0.9860, 验证集:0.8919\n",
      "585--->交叉验证score:0.8826, 训练集:0.9860, 验证集:0.8919\n",
      "586--->交叉验证score:0.8842, 训练集:0.9860, 验证集:0.8973\n",
      "587--->交叉验证score:0.8842, 训练集:0.9860, 验证集:0.8973\n",
      "588--->交叉验证score:0.8826, 训练集:0.9860, 验证集:0.8973\n",
      "589--->交叉验证score:0.8826, 训练集:0.9860, 验证集:0.8973\n",
      "590--->交叉验证score:0.8842, 训练集:0.9860, 验证集:0.8973\n",
      "591--->交叉验证score:0.8826, 训练集:0.9860, 验证集:0.8973\n",
      "592--->交叉验证score:0.8826, 训练集:0.9860, 验证集:0.8973\n",
      "593--->交叉验证score:0.8842, 训练集:0.9860, 验证集:0.8973\n",
      "594--->交叉验证score:0.8859, 训练集:0.9860, 验证集:0.8973\n",
      "595--->交叉验证score:0.8842, 训练集:0.9860, 验证集:0.8973\n",
      "596--->交叉验证score:0.8842, 训练集:0.9860, 验证集:0.8973\n",
      "597--->交叉验证score:0.8842, 训练集:0.9860, 验证集:0.8973\n",
      "598--->交叉验证score:0.8842, 训练集:0.9860, 验证集:0.8973\n",
      "599--->交叉验证score:0.8859, 训练集:0.9860, 验证集:0.8973\n",
      "600--->交叉验证score:0.8859, 训练集:0.9860, 验证集:0.8973\n",
      "601--->交叉验证score:0.8859, 训练集:0.9860, 验证集:0.8973\n",
      "602--->交叉验证score:0.8859, 训练集:0.9860, 验证集:0.8973\n",
      "603--->交叉验证score:0.8859, 训练集:0.9860, 验证集:0.8973\n",
      "604--->交叉验证score:0.8859, 训练集:0.9860, 验证集:0.8973\n",
      "605--->交叉验证score:0.8859, 训练集:0.9860, 验证集:0.8973\n",
      "606--->交叉验证score:0.8859, 训练集:0.9860, 验证集:0.8973\n",
      "607--->交叉验证score:0.8859, 训练集:0.9860, 验证集:0.8973\n",
      "608--->交叉验证score:0.8859, 训练集:0.9860, 验证集:0.8973\n"
     ]
    }
   ],
   "source": [
    "onehot_enc = OneHotEncoder()\n",
    "for i in range(5, 6):\n",
    "    gbdt = RandomForestClassifier(random_state=45, max_features=5, n_estimators=i)\n",
    "    lr = LogisticRegression(random_state=45)\n",
    "    _ = gbdt.fit(train, y)\n",
    "    onehot_enc.fit(gbdt.apply(train))\n",
    "    #new_feature = onehot_enc.fit_transform(x_feature)\n",
    "    for n in range(1, onehot_enc.transform(gbdt.apply(train)).shape[1]+1):\n",
    "        selecter = SelectKBest(chi2, k=n)\n",
    "        X_new = selecter.fit_transform(onehot_enc.transform(gbdt.apply(train)), y)\n",
    "        cv_result=cross_val_score(cv=kfold, estimator=lr, X=X_new, y=y).mean()\n",
    "        _ = lr.fit(selecter.transform(onehot_enc.transform(gbdt.apply(X_train))), y_train)\n",
    "        train_score = lr.score(selecter.transform(onehot_enc.transform(gbdt.apply(X_train))), y_train)\n",
    "        score = lr.score(selecter.transform(onehot_enc.transform(gbdt.apply(X_test))), y_test)\n",
    "        print('{}--->交叉验证score:{:.4f}, 训练集:{:.4f}, 验证集:{:.4f}'.format(n, cv_result, train_score, score))"
   ]
  },
  {
   "cell_type": "code",
   "execution_count": 96,
   "metadata": {
    "collapsed": true
   },
   "outputs": [],
   "source": [
    "#test_feature = onehot_enc.transform(gbdt.apply(test))\n",
    "lr.fit(onehot_enc.transform(gbdt.apply(train)), y)\n",
    "predictions = lr.predict(onehot_enc.transform(gbdt.apply(test)))\n",
    "submission = pd.DataFrame({'Loan_Status': predictions, 'Loan_ID':test.index.tolist()}, columns=['Loan_ID', 'Loan_Status'])\n",
    "submission['Loan_Status'] = submission['Loan_Status'].map({1:'Y', 0:'N'})\n",
    "submission.to_csv(\"submission.csv\", index=False)"
   ]
  },
  {
   "cell_type": "code",
   "execution_count": 287,
   "metadata": {
    "collapsed": true
   },
   "outputs": [],
   "source": [
    "validation_size = 0.3\n",
    "seed = 7\n",
    "scoring = 'accuracy'\n",
    "X_train, X_test, y_train, y_test = train_test_split(\n",
    "    train[predictor],\n",
    "    train[target_var],\n",
    "    test_size=validation_size,\n",
    "    random_state=seed)"
   ]
  },
  {
   "cell_type": "code",
   "execution_count": 288,
   "metadata": {
    "collapsed": true
   },
   "outputs": [],
   "source": [
    "def cross_val(model, X_train, y_train, X_test, y_test, kfold):\n",
    "    cv_results = cross_val_score(\n",
    "        model, X_train, y_train, cv=kfold, scoring='accuracy')\n",
    "    print('cv-mean: %.4f, cv-std: %.4f' % (cv_results.mean(),\n",
    "                                           cv_results.std()))\n",
    "    model.fit(X_train, y_train)\n",
    "    train_result = model.predict(X_train)\n",
    "    pred_result = model.predict(X_test)\n",
    "    train_score = accuracy_score(y_train, train_result)\n",
    "    pred_score = accuracy_score(y_test, pred_result)\n",
    "    print('训练集分数:  %.4f' % train_score)\n",
    "    print('测试集分数： %.4f' % pred_score)\n",
    "    return"
   ]
  },
  {
   "cell_type": "code",
   "execution_count": 289,
   "metadata": {
    "collapsed": true
   },
   "outputs": [],
   "source": [
    "def tunning_params(model, params, scoring=scoring, kfold=kfold, X_train=X_train,\n",
    "                   y_train=y_train, X_test=X_test, y_test=y_test):\n",
    "    grid_search = GridSearchCV(\n",
    "    estimator=model, param_grid=params, scoring=scoring, cv=kfold).fit(\n",
    "        X_train, y_train)\n",
    "    print('优化后模型:')\n",
    "    print('最佳参数: %s' % str(grid_search.best_params_))\n",
    "    print('最佳得分: %.4f' % grid_search.best_score_)\n",
    "    model = model.set_params(**(grid_search.best_params_))\n",
    "    cross_val(model, X_train, y_train, X_test, y_test, kfold)\n",
    "    return model"
   ]
  },
  {
   "cell_type": "code",
   "execution_count": 290,
   "metadata": {
    "collapsed": true
   },
   "outputs": [],
   "source": [
    "from sklearn.metrics import accuracy_score"
   ]
  },
  {
   "cell_type": "code",
   "execution_count": 42,
   "metadata": {},
   "outputs": [
    {
     "ename": "NameError",
     "evalue": "name 'cross_val' is not defined",
     "output_type": "error",
     "traceback": [
      "\u001b[1;31m---------------------------------------------------------------------------\u001b[0m",
      "\u001b[1;31mNameError\u001b[0m                                 Traceback (most recent call last)",
      "\u001b[1;32m<ipython-input-42-9aa3a1febb90>\u001b[0m in \u001b[0;36m<module>\u001b[1;34m()\u001b[0m\n\u001b[0;32m     13\u001b[0m     seed=45)\n\u001b[0;32m     14\u001b[0m \u001b[1;33m\u001b[0m\u001b[0m\n\u001b[1;32m---> 15\u001b[1;33m \u001b[0mcross_val\u001b[0m\u001b[1;33m(\u001b[0m\u001b[0mgbm\u001b[0m\u001b[1;33m,\u001b[0m \u001b[0mX_train\u001b[0m\u001b[1;33m,\u001b[0m \u001b[0my_train\u001b[0m\u001b[1;33m,\u001b[0m \u001b[0mX_test\u001b[0m\u001b[1;33m,\u001b[0m \u001b[0my_test\u001b[0m\u001b[1;33m,\u001b[0m \u001b[0mkfold\u001b[0m\u001b[1;33m)\u001b[0m\u001b[1;33m\u001b[0m\u001b[0m\n\u001b[0m",
      "\u001b[1;31mNameError\u001b[0m: name 'cross_val' is not defined"
     ]
    }
   ],
   "source": [
    "import xgboost as xgb\n",
    "gbm = xgb.XGBClassifier(\n",
    "    learning_rate =0.1,\n",
    "    n_estimators=12,\n",
    "    max_depth=5,\n",
    "    min_child_weight=4,\n",
    "    gamma=1,\n",
    "    subsample=0.8,\n",
    "    colsample_bytree=0.8,\n",
    "    objective='binary:logistic',\n",
    "    nthread=4,\n",
    "    scale_pos_weight=1,\n",
    "    seed=45)\n",
    "#cross_val(gbm, X_train, y_train, X_test, y_test, kfold)"
   ]
  },
  {
   "cell_type": "code",
   "execution_count": 297,
   "metadata": {
    "collapsed": true
   },
   "outputs": [],
   "source": [
    "xg_train = xgb.DMatrix(train[predictor],label=train[target_var])\n",
    "xg_test = xgb.DMatrix(test[predictor])\n",
    "\n",
    "param = {}\n",
    "param['objective'] = 'binary:logistic'\n",
    "param['eta'] = 0.1\n",
    "param['gamma'] = 1\n",
    "#param['n_estimators'] = 500\n",
    "param['min_child_weight'] = 4\n",
    "param['max_depth'] = 5\n",
    "param['subsample'] = 0.85\n",
    "param['colsample_bytree'] = 0.5\n",
    "param['max_delta_step'] = 20\n",
    "#param['lambda'] = 10\n",
    "num_round = 800\n",
    "\n",
    "gbm = xgb.train(param,xg_train,num_round)\n",
    "predictions = gbm.predict(xg_test, output_margin = True)\n",
    "submission = pd.DataFrame({'Loan_Status': predictions, 'Loan_ID':test.index.tolist()}, columns=['Loan_ID', 'Loan_Status'])\n",
    "submission['Loan_Status'] = submission['Loan_Status'].map(lambda x: 'Y' if x>=0 else 'N')\n",
    "submission.to_csv(\"submission.csv\", index=False)"
   ]
  },
  {
   "cell_type": "code",
   "execution_count": 299,
   "metadata": {},
   "outputs": [
    {
     "name": "stdout",
     "output_type": "stream",
     "text": [
      "优化后模型:\n",
      "最佳参数: {'n_estimators': 100}\n",
      "最佳得分: 0.7133\n",
      "cv-mean: 0.7132, cv-std: 0.0493\n",
      "训练集分数:  0.8438\n",
      "测试集分数： 0.7622\n"
     ]
    }
   ],
   "source": [
    "parameters = {'n_estimators': [100,200,500,1000,1500]}\n",
    "gbm = tunning_params(gbm, parameters)"
   ]
  },
  {
   "cell_type": "code",
   "execution_count": 300,
   "metadata": {},
   "outputs": [
    {
     "name": "stdout",
     "output_type": "stream",
     "text": [
      "优化后模型:\n",
      "最佳参数: {'n_estimators': 10}\n",
      "最佳得分: 0.7343\n",
      "cv-mean: 0.7342, cv-std: 0.0304\n",
      "训练集分数:  0.7692\n",
      "测试集分数： 0.7135\n"
     ]
    }
   ],
   "source": [
    "parameters = {'n_estimators': range(10, 101, 10)}\n",
    "gbm = tunning_params(gbm, parameters)"
   ]
  },
  {
   "cell_type": "code",
   "execution_count": 303,
   "metadata": {},
   "outputs": [
    {
     "name": "stdout",
     "output_type": "stream",
     "text": [
      "优化后模型:\n",
      "最佳参数: {'max_depth': 1, 'min_child_weight': 1}\n",
      "最佳得分: 0.7366\n",
      "cv-mean: 0.7366, cv-std: 0.0376\n",
      "训练集分数:  0.7529\n",
      "测试集分数： 0.7405\n"
     ]
    }
   ],
   "source": [
    "parameters = {\n",
    " 'max_depth':range(1,15,2),\n",
    " 'min_child_weight':range(1,6,2)\n",
    "}\n",
    "gbm = gbm.set_params(**{'n_estimators':10})\n",
    "gbm = tunning_params(gbm, parameters)"
   ]
  },
  {
   "cell_type": "code",
   "execution_count": 304,
   "metadata": {},
   "outputs": [
    {
     "name": "stdout",
     "output_type": "stream",
     "text": [
      "优化后模型:\n",
      "最佳参数: {'max_depth': 2, 'min_child_weight': 4}\n",
      "最佳得分: 0.7413\n",
      "cv-mean: 0.7411, cv-std: 0.0304\n",
      "训练集分数:  0.7599\n",
      "测试集分数： 0.7135\n"
     ]
    }
   ],
   "source": [
    "parameters = {\n",
    " 'max_depth':[1,2],\n",
    " 'min_child_weight':[2,3,4]\n",
    "}\n",
    "\n",
    "gbm = tunning_params(gbm, parameters)"
   ]
  },
  {
   "cell_type": "code",
   "execution_count": 305,
   "metadata": {},
   "outputs": [
    {
     "name": "stdout",
     "output_type": "stream",
     "text": [
      "优化后模型:\n",
      "最佳参数: {'gamma': 0.3}\n",
      "最佳得分: 0.7273\n",
      "cv-mean: 0.7271, cv-std: 0.0344\n",
      "训练集分数:  0.7552\n",
      "测试集分数： 0.7297\n"
     ]
    }
   ],
   "source": [
    "parameters = {\n",
    " 'gamma':[i/10.0 for i in range(0,5)]\n",
    "}\n",
    "\n",
    "gbm = tunning_params(gbm, parameters)"
   ]
  },
  {
   "cell_type": "code",
   "execution_count": 306,
   "metadata": {},
   "outputs": [
    {
     "name": "stdout",
     "output_type": "stream",
     "text": [
      "优化后模型:\n",
      "最佳参数: {'colsample_bytree': 0.6, 'subsample': 1.0}\n",
      "最佳得分: 0.7622\n",
      "cv-mean: 0.7623, cv-std: 0.0305\n",
      "训练集分数:  0.7622\n",
      "测试集分数： 0.7892\n"
     ]
    }
   ],
   "source": [
    "parameters = {\n",
    " 'subsample':[i/10.0 for i in range(6,11)],\n",
    " 'colsample_bytree':[i/10.0 for i in range(6,11)]\n",
    "}\n",
    "\n",
    "gbm = tunning_params(gbm, parameters)"
   ]
  },
  {
   "cell_type": "code",
   "execution_count": 309,
   "metadata": {},
   "outputs": [
    {
     "name": "stdout",
     "output_type": "stream",
     "text": [
      "优化后模型:\n",
      "最佳参数: {'colsample_bytree': 1, 'subsample': 0.4}\n",
      "最佳得分: 0.7622\n",
      "cv-mean: 0.7622, cv-std: 0.0309\n",
      "训练集分数:  0.7622\n",
      "测试集分数： 0.7892\n"
     ]
    }
   ],
   "source": [
    "parameters = {\n",
    " 'subsample':[0.3, 0.3, 0.4, 0.1],\n",
    " 'colsample_bytree':[0.9, 1]\n",
    "}\n",
    "\n",
    "gbm = tunning_params(gbm, parameters)"
   ]
  },
  {
   "cell_type": "code",
   "execution_count": 310,
   "metadata": {},
   "outputs": [
    {
     "name": "stdout",
     "output_type": "stream",
     "text": [
      "优化后模型:\n",
      "最佳参数: {'reg_alpha': 0, 'reg_lambda': 0}\n",
      "最佳得分: 0.7622\n",
      "cv-mean: 0.7622, cv-std: 0.0229\n",
      "训练集分数:  0.7622\n",
      "测试集分数： 0.7892\n"
     ]
    }
   ],
   "source": [
    "parameters = {\n",
    " 'reg_alpha':[0, 1e-5, 1e-2, 0.1, 1, 100], 'reg_lambda':[0, 1e-5, 1e-2, 0.1, 1, 100]\n",
    "}\n",
    "\n",
    "gbm = tunning_params(gbm, parameters)"
   ]
  },
  {
   "cell_type": "code",
   "execution_count": 200,
   "metadata": {},
   "outputs": [
    {
     "name": "stdout",
     "output_type": "stream",
     "text": [
      "优化后模型:\n",
      "最佳参数: {'reg_alpha': 0, 'reg_lambda': 0.5}\n",
      "最佳得分: 0.8089\n",
      "cv-mean: 0.8091, cv-std: 0.0330\n",
      "训练集分数:  0.8089\n",
      "测试集分数： 0.8108\n"
     ]
    }
   ],
   "source": [
    "parameters = {\n",
    " 'reg_alpha':[0, 0.5], 'reg_lambda':[0.5, 1, 1.5]\n",
    "}\n",
    "\n",
    "gbm = tunning_params(gbm, parameters)"
   ]
  },
  {
   "cell_type": "code",
   "execution_count": 311,
   "metadata": {},
   "outputs": [
    {
     "name": "stdout",
     "output_type": "stream",
     "text": [
      "cv-mean: 0.7622, cv-std: 0.0229\n",
      "训练集分数:  0.7622\n",
      "测试集分数： 0.7892\n"
     ]
    }
   ],
   "source": [
    "cross_val(gbm, X_train, y_train, X_test, y_test, kfold)"
   ]
  },
  {
   "cell_type": "code",
   "execution_count": 312,
   "metadata": {},
   "outputs": [
    {
     "name": "stdout",
     "output_type": "stream",
     "text": [
      "[ 1.  1.  1.  0.  1.  1.  1.  0.  1.  1.  1.  1.  0.  0.  1.  1.  1.  1.\n",
      "  1.  1.  1.  1.  1.  1.  1.  0.  0.  1.  0.  1.  1.  1.  1.  1.  1.  0.\n",
      "  1.  1.  1.  1.  1.  1.  1.  1.  1.  0.  1.  1.  1.  1.  1.  1.  1.  1.\n",
      "  1.  0.  1.  1.  0.  1.  1.  1.  1.  0.  1.  1.  0.  0.  1.  0.  1.  1.\n",
      "  1.  1.  1.  1.  1.  1.  1.  1.  0.  1.  0.  1.  0.  1.  1.  1.  1.  1.\n",
      "  0.  1.  1.  1.  0.  1.  1.  1.  1.  0.  1.  0.  1.  1.  0.  1.  0.  1.\n",
      "  1.  1.  1.  1.  1.  1.  1.  0.  1.  0.  0.  0.  1.  1.  1.  0.  0.  1.\n",
      "  0.  1.  1.  1.  1.  1.  1.  1.  1.  1.  1.  1.  1.  0.  0.  1.  0.  0.\n",
      "  1.  1.  1.  0.  1.  1.  1.  1.  1.  0.  1.  1.  1.  1.  1.  1.  1.  0.\n",
      "  1.  1.  0.  0.  0.  1.  0.  1.  1.  1.  1.  0.  0.  1.  1.  0.  1.  0.\n",
      "  1.  1.  1.  1.  1.  0.  1.  1.  1.  1.  1.  1.  0.  0.  1.  1.  0.  1.\n",
      "  0.  1.  1.  1.  0.  1.  1.  1.  1.  1.  1.  1.  1.  0.  1.  1.  1.  1.\n",
      "  1.  1.  1.  1.  0.  1.  1.  1.  0.  1.  1.  1.  1.  0.  1.  1.  1.  1.\n",
      "  1.  0.  0.  1.  1.  1.  1.  0.  1.  0.  1.  0.  1.  1.  1.  1.  0.  1.\n",
      "  1.  1.  1.  0.  1.  1.  1.  0.  1.  1.  0.  1.  1.  0.  0.  1.  0.  1.\n",
      "  1.  1.  1.  0.  0.  1.  1.  1.  0.  1.  1.  1.  0.  1.  1.  1.  0.  1.\n",
      "  1.  1.  1.  1.  1.  0.  1.  1.  1.  1.  1.  1.  1.  0.  1.  1.  1.  0.\n",
      "  1.  1.  1.  1.  1.  0.  1.  1.  1.  1.  1.  0.  1.  1.  1.  1.  1.  1.\n",
      "  1.  0.  1.  1.  1.  0.  1.  1.  1.  1.  1.  1.  0.  1.  1.  0.  1.  1.\n",
      "  1.  1.  1.  1.  0.  1.  1.  1.  1.  0.  1.  1.  0.  1.  1.  1.  0.  1.\n",
      "  0.  1.  1.  1.  0.  1.  1.]\n"
     ]
    }
   ],
   "source": [
    "gbm.fit(train[predictor], train[target_var])\n",
    "predictions = gbm.predict(test[predictor])#.astype(np.int32)\n",
    "submission = pd.DataFrame({'Loan_Status': predictions, 'Loan_ID':test.index.tolist()}, columns=['Loan_ID', 'Loan_Status'])\n",
    "submission['Loan_Status'] = submission['Loan_Status'].map({1:'Y', 0:'N'})\n",
    "submission.to_csv(\"submission.csv\", index=False)"
   ]
  },
  {
   "cell_type": "code",
   "execution_count": null,
   "metadata": {
    "collapsed": true,
    "scrolled": false
   },
   "outputs": [],
   "source": [
    "# 为分类变量创建虚拟变量\n",
    "for col in cat_cal:\n",
    "    dummies = pd.get_dummies(data=df[col],prefix=col)\n",
    "    dummies.drop([dummies.iloc[:,0].name], axis=1, inplace=True)\n",
    "    df = pd.concat([df,dummies],axis=1)\n",
    "    df.drop([col],axis=1,inplace=True)\n",
    "    \n",
    "# 将连续变量标准化\n",
    "stand_enc = StandardScaler()\n",
    "\n",
    "for col in num_col:\n",
    "    df[col] = stand_enc.fit_transform(np.array(df[col]).reshape(-1,1).astype(float64))"
   ]
  },
  {
   "cell_type": "markdown",
   "metadata": {},
   "source": [
    "## 建立模型\n",
    "用Skicit-Learn（sklearn）建立机器学习模型。\n",
    "sklearn要求所有的输入都是数值型，所以首先需要对数据集进行编码。"
   ]
  },
  {
   "cell_type": "code",
   "execution_count": null,
   "metadata": {
    "collapsed": true
   },
   "outputs": [],
   "source": [
    "# 定义预测和验证函数\n",
    "def classification_model(model,df,predictor,outcome):\n",
    "    X_train, X_test, y_train, y_test = train_test_split(df[predictor], df[outcome], test_size=0.3)\n",
    "    \n",
    "    model.fit(X_train, y_train)\n",
    "    result = model.predict(X_test)\n",
    "    score = model.score(X_test, y_test)\n",
    "    print('预测准确率是:%.4f'%score)\n",
    "    report = metrics.classification_report(y_test, result)\n",
    "    print('='*50)\n",
    "    print('验证报告')\n",
    "    print(report)\n",
    "    matrix = metrics.confusion_matrix(y_test, result)\n",
    "    print('='*50)\n",
    "    print('混淆矩阵:')\n",
    "    print(matrix)\n",
    "    \n",
    "    # 输出预测错的样本\n",
    "    df = pd.read_csv('./dataset/train_set.csv', header=0, index_col='Loan_ID')\n",
    "    bad_index = y_test.loc[result != y_test].index.tolist()\n",
    "    bad_cases = df.loc[bad_index, :]\n",
    "    return model, bad_cases\n",
    "\n",
    "def predictor_result(clf,df,predictors):\n",
    "    target = clf.predict(df[predictors])\n",
    "    result = DataFrame({'Loan_Status':target}, index=df.index)\n",
    "    result.to_csv('Submissions.csv')"
   ]
  },
  {
   "cell_type": "code",
   "execution_count": null,
   "metadata": {
    "collapsed": true,
    "scrolled": true
   },
   "outputs": [],
   "source": [
    "train_df = df.loc[df['source']=='train'].copy()\n",
    "test_df = df.loc[df['source']=='test'].copy()\n",
    "\n",
    "train_df.drop(['source'], axis=1, inplace=True)\n",
    "test_df.drop(['source'], axis=1, inplace=True)"
   ]
  },
  {
   "cell_type": "markdown",
   "metadata": {},
   "source": [
    "### Logistic回归"
   ]
  },
  {
   "cell_type": "code",
   "execution_count": null,
   "metadata": {
    "collapsed": true
   },
   "outputs": [],
   "source": [
    "predictor_var=[x for x in train_df.columns if x !=target_var]\n",
    "model = LogisticRegression(C=1, penalty='l1', tol=1e-6)\n",
    "clf, badbases = classification_model(model, train_df, predictor_var, target_var)\n",
    "#pd.DataFrame({\"columns\":predictor_var, \"coef\":list(clf.coef_.T)})"
   ]
  },
  {
   "cell_type": "code",
   "execution_count": null,
   "metadata": {
    "collapsed": true,
    "scrolled": false
   },
   "outputs": [],
   "source": [
    "predictor_result(clf, test_df, predictor_var)"
   ]
  },
  {
   "cell_type": "markdown",
   "metadata": {},
   "source": [
    "上传结果，得分是** <font color='red'>0.7847</font> **，不算很差。<br>\n",
    "这个只是没有做任何特征提取和特征工程的baseline，看看其他人的结果，应该还有提升的空间。<br>\n",
    "现在分析baseline模型拟合情况，绘制学习曲线。"
   ]
  },
  {
   "cell_type": "code",
   "execution_count": null,
   "metadata": {
    "collapsed": true,
    "scrolled": true
   },
   "outputs": [],
   "source": [
    "va.plot_learning_curve(model, 'lr', train_df[predictor_var], train_df[target_var])"
   ]
  },
  {
   "cell_type": "markdown",
   "metadata": {},
   "source": [
    "从学习曲线上看，baseline模型没有处于过拟合的状态，还可以在做一些特征提取和特征工程，添加新的特征到模型中。<br>\n",
    "观察模型得到的各个特征的系数，因为系数能够展现特征与预测结果的关系及关系强弱。"
   ]
  },
  {
   "cell_type": "code",
   "execution_count": null,
   "metadata": {
    "collapsed": true
   },
   "outputs": [],
   "source": [
    "coef = pd.DataFrame({\"columns\":predictor_var, \"coef\":list(clf.coef_[0])})\n",
    "coef.to_csv('coef.csv')"
   ]
  },
  {
   "cell_type": "markdown",
   "metadata": {},
   "source": [
    "从系数的绝对值大小依次分析，\n",
    "1. Credit_History_0.0对结果的影响最大，并且是负相关，也就是说，如果Credit_History = 0， 预测结果更可能是0；\n",
    "2. 其次是Property_Area,房产的位置也会影响到贷款申请，可能是因为不同区域的房产，价格不一样，能够提供的担保不一样，这个变量也可以再挖掘；\n",
    "3. Married与否和结果分别是正负相关，因此这个结果结论也可以深挖；\n",
    "4. Dependents_1与结果是负相关，其他值对结果没有影响，但是在单变量分析的时候，没有发现各个值之间有很大的变化，也许是挖掘不够；\n",
    "5. Education与Married一样，分别是正负相关；\n",
    "6. 三个连续特征对结果的影响不大；\n",
    "7. 只有Self_Employed_Yes对结果有影响，应该也需要和其他特征结合，生成新变量；\n",
    "8. 性别对结果完全没有影响，这个和前面的变量分析是一致的；\n",
    "9. 只有Loan_Amount_Term_180.0和Loan_Amount_Term_480.0对结果有影响。\n",
    "\n",
    "结合系数的分析，可以尝试：\n",
    "1. 将ApplicantIncome和CoapplicantIncome相加，求总的收入；\n",
    "2. "
   ]
  },
  {
   "cell_type": "code",
   "execution_count": null,
   "metadata": {
    "collapsed": true
   },
   "outputs": [],
   "source": [
    "train_df = pd.read_csv('./dataset/train_set.csv', header=0, index_col='Loan_ID')\n",
    "test_df = pd.read_csv('./dataset/test_set.csv', header=0, index_col='Loan_ID')\n",
    "\n",
    "train_df['source'] = 'train'\n",
    "test_df['source'] = 'test'\n",
    "\n",
    "df = pd.concat([train_df, test_df],axis=0)\n",
    "\n",
    "train_df['Loan_Status'] = train_df['Loan_Status'].map({'Y':1,'N':0}).astype('int32')"
   ]
  },
  {
   "cell_type": "code",
   "execution_count": null,
   "metadata": {
    "collapsed": true
   },
   "outputs": [],
   "source": [
    "df.dropna(inplace=True)\n",
    "for col in categories_var:\n",
    "    df[col] = le.fit_transform(df[col])\n",
    "\n",
    "fig = plt.figure(figsize=(8,8))\n",
    "sns.heatmap(df[continuities_var].corr(), annot=True)"
   ]
  },
  {
   "cell_type": "markdown",
   "metadata": {},
   "source": [
    "从上图看出，ApplicantIncome和LoanAmount的相关系数是0.5，说明两者存在一定的正相关。"
   ]
  },
  {
   "cell_type": "code",
   "execution_count": 56,
   "metadata": {},
   "outputs": [
    {
     "data": {
      "text/plain": [
       "<seaborn.axisgrid.FacetGrid at 0x21cb7ae17f0>"
      ]
     },
     "execution_count": 56,
     "metadata": {},
     "output_type": "execute_result"
    },
    {
     "data": {
      "image/png": "[encoded data removed]",
      "text/plain": [
       "<matplotlib.figure.Figure at 0x21cb7ae1a20>"
      ]
     },
     "metadata": {},
     "output_type": "display_data"
    }
   ],
   "source": [
    "g = sns.FacetGrid(df, size=5)\n",
    "g.map(plt.scatter, 'ApplicantIncome', 'LoanAmount', alpha=0.7)"
   ]
  },
  {
   "cell_type": "markdown",
   "metadata": {},
   "source": [
    "从上图可以看出，ApplicantIncome和LoanAmount呈线性关系，并且ApplicantIncome没有缺失值，可以用ApplicantIncome来预测LoanAmount的值。<br>\n",
    "申请贷款时，如果是综合收入也许和贷款金额有一些关系，因此考虑ApplicantIncome+CoapplicantIncome的情况。在上面的单变量分析中，ApplicantIncome，CoapplicantIncome和LoanAmount都不是正态分布，而且有离群值存在，因此作对数变换。"
   ]
  },
  {
   "cell_type": "code",
   "execution_count": 57,
   "metadata": {},
   "outputs": [
    {
     "data": {
      "text/plain": [
       "<seaborn.axisgrid.FacetGrid at 0x21cb7aa6cf8>"
      ]
     },
     "execution_count": 57,
     "metadata": {},
     "output_type": "execute_result"
    },
    {
     "data": {
      "image/png": "[encoded data removed]",
      "text/plain": [
       "<matplotlib.figure.Figure at 0x21cb7ad9dd8>"
      ]
     },
     "metadata": {},
     "output_type": "display_data"
    }
   ],
   "source": [
    "df['TotalIncome'] = np.log(df['ApplicantIncome'] + df['CoapplicantIncome'])\n",
    "df['LoanAmount'] = np.log(df['LoanAmount']*1000)\n",
    "g = sns.FacetGrid(df, size=5)\n",
    "(g.map(plt.scatter, 'TotalIncome', 'LoanAmount', alpha=0.7)).add_legend()"
   ]
  },
  {
   "cell_type": "code",
   "execution_count": null,
   "metadata": {
    "collapsed": true,
    "scrolled": false
   },
   "outputs": [],
   "source": [
    "# 用线性回归方式填充LoanAmount\n",
    "from sklearn.linear_model import LinearRegression\n",
    "clf = LinearRegression()\n",
    "X_train = np.array(df.loc[df['LoanAmount'].isnull()==False, 'TotalIncome']).reshape(-1,1)\n",
    "y_train = np.array(df.loc[df['LoanAmount'].isnull()==False, 'LoanAmount']).reshape(-1,1)\n",
    "X_test = np.array(df.loc[df['LoanAmount'].isnull()==True, 'TotalIncome']).reshape(-1,1)\n",
    "clf.fit(X_train, y_train)\n",
    "df.loc[df['LoanAmount'].isnull()==True, 'LoanAmount'] = clf.predict(X_test)"
   ]
  },
  {
   "cell_type": "code",
   "execution_count": null,
   "metadata": {
    "collapsed": true
   },
   "outputs": [],
   "source": []
  },
  {
   "cell_type": "code",
   "execution_count": 68,
   "metadata": {
    "scrolled": false
   },
   "outputs": [
    {
     "ename": "IndexError",
     "evalue": "index out of bounds",
     "output_type": "error",
     "traceback": [
      "\u001b[1;31m---------------------------------------------------------------------------\u001b[0m",
      "\u001b[1;31mKeyError\u001b[0m                                  Traceback (most recent call last)",
      "\u001b[1;32mC:\\Anaconda3\\lib\\site-packages\\pandas\\core\\indexes\\base.py\u001b[0m in \u001b[0;36mget_value\u001b[1;34m(self, series, key)\u001b[0m\n\u001b[0;32m   2476\u001b[0m             return self._engine.get_value(s, k,\n\u001b[1;32m-> 2477\u001b[1;33m                                           tz=getattr(series.dtype, 'tz', None))\n\u001b[0m\u001b[0;32m   2478\u001b[0m         \u001b[1;32mexcept\u001b[0m \u001b[0mKeyError\u001b[0m \u001b[1;32mas\u001b[0m \u001b[0me1\u001b[0m\u001b[1;33m:\u001b[0m\u001b[1;33m\u001b[0m\u001b[0m\n",
      "\u001b[1;32mpandas\\_libs\\index.pyx\u001b[0m in \u001b[0;36mpandas._libs.index.IndexEngine.get_value (pandas\\_libs\\index.c:4404)\u001b[1;34m()\u001b[0m\n",
      "\u001b[1;32mpandas\\_libs\\index.pyx\u001b[0m in \u001b[0;36mpandas._libs.index.IndexEngine.get_value (pandas\\_libs\\index.c:4087)\u001b[1;34m()\u001b[0m\n",
      "\u001b[1;32mpandas\\_libs\\index.pyx\u001b[0m in \u001b[0;36mpandas._libs.index.IndexEngine.get_loc (pandas\\_libs\\index.c:5126)\u001b[1;34m()\u001b[0m\n",
      "\u001b[1;32mpandas\\_libs\\hashtable_class_helper.pxi\u001b[0m in \u001b[0;36mpandas._libs.hashtable.Int64HashTable.get_item (pandas\\_libs\\hashtable.c:14031)\u001b[1;34m()\u001b[0m\n",
      "\u001b[1;32mpandas\\_libs\\hashtable_class_helper.pxi\u001b[0m in \u001b[0;36mpandas._libs.hashtable.Int64HashTable.get_item (pandas\\_libs\\hashtable.c:13975)\u001b[1;34m()\u001b[0m\n",
      "\u001b[1;31mKeyError\u001b[0m: 0",
      "\nDuring handling of the above exception, another exception occurred:\n",
      "\u001b[1;31mIndexError\u001b[0m                                Traceback (most recent call last)",
      "\u001b[1;32m<ipython-input-68-ea5c6c3a0056>\u001b[0m in \u001b[0;36m<module>\u001b[1;34m()\u001b[0m\n\u001b[1;32m----> 1\u001b[1;33m \u001b[0mdf\u001b[0m\u001b[1;33m[\u001b[0m\u001b[1;34m'Credit_History'\u001b[0m\u001b[1;33m]\u001b[0m\u001b[1;33m.\u001b[0m\u001b[0mfillna\u001b[0m\u001b[1;33m(\u001b[0m\u001b[0mdf\u001b[0m\u001b[1;33m[\u001b[0m\u001b[1;34m'Credit_History'\u001b[0m\u001b[1;33m]\u001b[0m\u001b[1;33m.\u001b[0m\u001b[0mmode\u001b[0m\u001b[1;33m(\u001b[0m\u001b[1;33m)\u001b[0m\u001b[1;33m[\u001b[0m\u001b[1;36m0\u001b[0m\u001b[1;33m]\u001b[0m\u001b[1;33m,\u001b[0m \u001b[0minplace\u001b[0m\u001b[1;33m=\u001b[0m\u001b[1;32mTrue\u001b[0m\u001b[1;33m)\u001b[0m\u001b[1;33m\u001b[0m\u001b[0m\n\u001b[0m\u001b[0;32m      2\u001b[0m \u001b[0mdf\u001b[0m\u001b[1;33m[\u001b[0m\u001b[1;34m'Dependents'\u001b[0m\u001b[1;33m]\u001b[0m\u001b[1;33m.\u001b[0m\u001b[0mfillna\u001b[0m\u001b[1;33m(\u001b[0m\u001b[0mdf\u001b[0m\u001b[1;33m[\u001b[0m\u001b[1;34m'Dependents'\u001b[0m\u001b[1;33m]\u001b[0m\u001b[1;33m.\u001b[0m\u001b[0mmode\u001b[0m\u001b[1;33m(\u001b[0m\u001b[1;33m)\u001b[0m\u001b[1;33m[\u001b[0m\u001b[1;36m0\u001b[0m\u001b[1;33m]\u001b[0m\u001b[1;33m,\u001b[0m \u001b[0minplace\u001b[0m\u001b[1;33m=\u001b[0m\u001b[1;32mTrue\u001b[0m\u001b[1;33m)\u001b[0m\u001b[1;33m\u001b[0m\u001b[0m\n\u001b[0;32m      3\u001b[0m \u001b[0mdf\u001b[0m\u001b[1;33m[\u001b[0m\u001b[1;34m'Gender'\u001b[0m\u001b[1;33m]\u001b[0m\u001b[1;33m.\u001b[0m\u001b[0mfillna\u001b[0m\u001b[1;33m(\u001b[0m\u001b[0mdf\u001b[0m\u001b[1;33m[\u001b[0m\u001b[1;34m'Gender'\u001b[0m\u001b[1;33m]\u001b[0m\u001b[1;33m.\u001b[0m\u001b[0mmode\u001b[0m\u001b[1;33m(\u001b[0m\u001b[1;33m)\u001b[0m\u001b[1;33m[\u001b[0m\u001b[1;36m0\u001b[0m\u001b[1;33m]\u001b[0m\u001b[1;33m,\u001b[0m \u001b[0minplace\u001b[0m\u001b[1;33m=\u001b[0m\u001b[1;32mTrue\u001b[0m\u001b[1;33m)\u001b[0m\u001b[1;33m\u001b[0m\u001b[0m\n\u001b[0;32m      4\u001b[0m \u001b[0mdf\u001b[0m\u001b[1;33m[\u001b[0m\u001b[1;34m'LoanAmount'\u001b[0m\u001b[1;33m]\u001b[0m\u001b[1;33m.\u001b[0m\u001b[0mfillna\u001b[0m\u001b[1;33m(\u001b[0m\u001b[0mdf\u001b[0m\u001b[1;33m[\u001b[0m\u001b[1;34m'LoanAmount'\u001b[0m\u001b[1;33m]\u001b[0m\u001b[1;33m.\u001b[0m\u001b[0mmean\u001b[0m\u001b[1;33m(\u001b[0m\u001b[1;33m)\u001b[0m\u001b[1;33m,\u001b[0m \u001b[0minplace\u001b[0m\u001b[1;33m=\u001b[0m\u001b[1;32mTrue\u001b[0m\u001b[1;33m)\u001b[0m\u001b[1;33m\u001b[0m\u001b[0m\n\u001b[0;32m      5\u001b[0m \u001b[0mdf\u001b[0m\u001b[1;33m[\u001b[0m\u001b[1;34m'Loan_Amount_Term'\u001b[0m\u001b[1;33m]\u001b[0m\u001b[1;33m.\u001b[0m\u001b[0mfillna\u001b[0m\u001b[1;33m(\u001b[0m\u001b[0mdf\u001b[0m\u001b[1;33m[\u001b[0m\u001b[1;34m'Loan_Amount_Term'\u001b[0m\u001b[1;33m]\u001b[0m\u001b[1;33m.\u001b[0m\u001b[0mmode\u001b[0m\u001b[1;33m(\u001b[0m\u001b[1;33m)\u001b[0m\u001b[1;33m[\u001b[0m\u001b[1;36m0\u001b[0m\u001b[1;33m]\u001b[0m\u001b[1;33m,\u001b[0m \u001b[0minplace\u001b[0m\u001b[1;33m=\u001b[0m\u001b[1;32mTrue\u001b[0m\u001b[1;33m)\u001b[0m\u001b[1;33m\u001b[0m\u001b[0m\n",
      "\u001b[1;32mC:\\Anaconda3\\lib\\site-packages\\pandas\\core\\series.py\u001b[0m in \u001b[0;36m__getitem__\u001b[1;34m(self, key)\u001b[0m\n\u001b[0;32m    599\u001b[0m         \u001b[0mkey\u001b[0m \u001b[1;33m=\u001b[0m \u001b[0mcom\u001b[0m\u001b[1;33m.\u001b[0m\u001b[0m_apply_if_callable\u001b[0m\u001b[1;33m(\u001b[0m\u001b[0mkey\u001b[0m\u001b[1;33m,\u001b[0m \u001b[0mself\u001b[0m\u001b[1;33m)\u001b[0m\u001b[1;33m\u001b[0m\u001b[0m\n\u001b[0;32m    600\u001b[0m         \u001b[1;32mtry\u001b[0m\u001b[1;33m:\u001b[0m\u001b[1;33m\u001b[0m\u001b[0m\n\u001b[1;32m--> 601\u001b[1;33m             \u001b[0mresult\u001b[0m \u001b[1;33m=\u001b[0m \u001b[0mself\u001b[0m\u001b[1;33m.\u001b[0m\u001b[0mindex\u001b[0m\u001b[1;33m.\u001b[0m\u001b[0mget_value\u001b[0m\u001b[1;33m(\u001b[0m\u001b[0mself\u001b[0m\u001b[1;33m,\u001b[0m \u001b[0mkey\u001b[0m\u001b[1;33m)\u001b[0m\u001b[1;33m\u001b[0m\u001b[0m\n\u001b[0m\u001b[0;32m    602\u001b[0m \u001b[1;33m\u001b[0m\u001b[0m\n\u001b[0;32m    603\u001b[0m             \u001b[1;32mif\u001b[0m \u001b[1;32mnot\u001b[0m \u001b[0mis_scalar\u001b[0m\u001b[1;33m(\u001b[0m\u001b[0mresult\u001b[0m\u001b[1;33m)\u001b[0m\u001b[1;33m:\u001b[0m\u001b[1;33m\u001b[0m\u001b[0m\n",
      "\u001b[1;32mC:\\Anaconda3\\lib\\site-packages\\pandas\\core\\indexes\\base.py\u001b[0m in \u001b[0;36mget_value\u001b[1;34m(self, series, key)\u001b[0m\n\u001b[0;32m   2481\u001b[0m \u001b[1;33m\u001b[0m\u001b[0m\n\u001b[0;32m   2482\u001b[0m             \u001b[1;32mtry\u001b[0m\u001b[1;33m:\u001b[0m\u001b[1;33m\u001b[0m\u001b[0m\n\u001b[1;32m-> 2483\u001b[1;33m                 \u001b[1;32mreturn\u001b[0m \u001b[0mlibts\u001b[0m\u001b[1;33m.\u001b[0m\u001b[0mget_value_box\u001b[0m\u001b[1;33m(\u001b[0m\u001b[0ms\u001b[0m\u001b[1;33m,\u001b[0m \u001b[0mkey\u001b[0m\u001b[1;33m)\u001b[0m\u001b[1;33m\u001b[0m\u001b[0m\n\u001b[0m\u001b[0;32m   2484\u001b[0m             \u001b[1;32mexcept\u001b[0m \u001b[0mIndexError\u001b[0m\u001b[1;33m:\u001b[0m\u001b[1;33m\u001b[0m\u001b[0m\n\u001b[0;32m   2485\u001b[0m                 \u001b[1;32mraise\u001b[0m\u001b[1;33m\u001b[0m\u001b[0m\n",
      "\u001b[1;32mpandas\\_libs\\tslib.pyx\u001b[0m in \u001b[0;36mpandas._libs.tslib.get_value_box (pandas\\_libs\\tslib.c:18843)\u001b[1;34m()\u001b[0m\n",
      "\u001b[1;32mpandas\\_libs\\tslib.pyx\u001b[0m in \u001b[0;36mpandas._libs.tslib.get_value_box (pandas\\_libs\\tslib.c:18560)\u001b[1;34m()\u001b[0m\n",
      "\u001b[1;31mIndexError\u001b[0m: index out of bounds"
     ]
    }
   ],
   "source": [
    "df['Credit_History'].fillna(df['Credit_History'].mode()[0], inplace=True)\n",
    "df['Dependents'].fillna(df['Dependents'].mode()[0], inplace=True)\n",
    "df['Gender'].fillna(df['Gender'].mode()[0], inplace=True)\n",
    "df['LoanAmount'].fillna(df['LoanAmount'].mean(), inplace=True)\n",
    "df['Loan_Amount_Term'].fillna(df['Loan_Amount_Term'].mode()[0], inplace=True)\n",
    "df['Married'].fillna(df['Married'].mode()[0], inplace=True)\n",
    "df['Self_Employed'].fillna(df['Self_Employed'].mode()[0], inplace=True)\n",
    "\n",
    "df['Dependents'] = le.fit_transform(df['Dependents'])\n",
    "df['Dependents'] = df['Dependents']+1\n",
    "df['Property_Area'] = le.fit_transform(df['Property_Area'])\n",
    "df['Property_Area'] = df['Property_Area'] + 1\n",
    "df['TotalIncome'] = (df['ApplicantIncome'] + df['CoapplicantIncome'])*df['Property_Area']\n",
    "df['return']=df['LoanAmount']*1000/df['Loan_Amount_Term']\n",
    "df['temp']=df['TotalIncome']/df['Dependents']\n",
    "df['radio']=df['temp']/df['return']\n",
    "#df[['return', 'temp', 'radio', 'Loan_Amount_Term', 'Loan_Status','Dependents']]"
   ]
  },
  {
   "cell_type": "code",
   "execution_count": null,
   "metadata": {
    "collapsed": true
   },
   "outputs": [],
   "source": [
    "train_df = df.loc[df['source']=='train'].copy()\n",
    "#train_df['Dependents'] = le.fit_transform(train_df['Dependents'])\n",
    "g = sns.FacetGrid(train_df, hue='Loan_Status', size=8)\n",
    "(g.map(plt.scatter, 'temp', 'return', alpha=0.3)).add_legend()\n",
    "#sns.violinplot(x='Property_Area', y='radio', hue='Loan_Status', data=train_df, split=True)"
   ]
  },
  {
   "cell_type": "code",
   "execution_count": 69,
   "metadata": {
    "scrolled": false
   },
   "outputs": [
    {
     "ename": "ValueError",
     "evalue": "Bin edges must be unique: array([ nan,  nan,  nan,  nan]).\nYou can drop duplicate edges by setting the 'duplicates' kwarg",
     "output_type": "error",
     "traceback": [
      "\u001b[1;31m---------------------------------------------------------------------------\u001b[0m",
      "\u001b[1;31mValueError\u001b[0m                                Traceback (most recent call last)",
      "\u001b[1;32m<ipython-input-69-4c8683071a97>\u001b[0m in \u001b[0;36m<module>\u001b[1;34m()\u001b[0m\n\u001b[0;32m     11\u001b[0m \u001b[0mdf\u001b[0m\u001b[1;33m[\u001b[0m\u001b[1;34m'IncomeBand'\u001b[0m\u001b[1;33m]\u001b[0m \u001b[1;33m=\u001b[0m \u001b[0mpd\u001b[0m\u001b[1;33m.\u001b[0m\u001b[0mqcut\u001b[0m\u001b[1;33m(\u001b[0m\u001b[0mdf\u001b[0m\u001b[1;33m[\u001b[0m\u001b[1;34m'TotalIncome'\u001b[0m\u001b[1;33m]\u001b[0m\u001b[1;33m,\u001b[0m \u001b[0mq\u001b[0m\u001b[1;33m=\u001b[0m\u001b[1;33m[\u001b[0m\u001b[1;36m.25\u001b[0m\u001b[1;33m,\u001b[0m\u001b[1;36m.5\u001b[0m\u001b[1;33m,\u001b[0m\u001b[1;36m.75\u001b[0m\u001b[1;33m,\u001b[0m\u001b[1;36m1\u001b[0m\u001b[1;33m]\u001b[0m\u001b[1;33m)\u001b[0m\u001b[1;33m\u001b[0m\u001b[0m\n\u001b[0;32m     12\u001b[0m \u001b[1;33m\u001b[0m\u001b[0m\n\u001b[1;32m---> 13\u001b[1;33m \u001b[0mdf\u001b[0m\u001b[1;33m[\u001b[0m\u001b[1;34m'AmountBand'\u001b[0m\u001b[1;33m]\u001b[0m \u001b[1;33m=\u001b[0m \u001b[0mpd\u001b[0m\u001b[1;33m.\u001b[0m\u001b[0mqcut\u001b[0m\u001b[1;33m(\u001b[0m\u001b[0mdf\u001b[0m\u001b[1;33m[\u001b[0m\u001b[1;34m'LoanAmount'\u001b[0m\u001b[1;33m]\u001b[0m\u001b[1;33m,\u001b[0m \u001b[0mq\u001b[0m\u001b[1;33m=\u001b[0m\u001b[1;33m[\u001b[0m\u001b[1;36m.25\u001b[0m\u001b[1;33m,\u001b[0m\u001b[1;36m.5\u001b[0m\u001b[1;33m,\u001b[0m\u001b[1;36m.75\u001b[0m\u001b[1;33m,\u001b[0m\u001b[1;36m1\u001b[0m\u001b[1;33m]\u001b[0m\u001b[1;33m)\u001b[0m\u001b[1;33m\u001b[0m\u001b[0m\n\u001b[0m\u001b[0;32m     14\u001b[0m \u001b[1;33m\u001b[0m\u001b[0m\n\u001b[0;32m     15\u001b[0m \u001b[0mdf\u001b[0m\u001b[1;33m[\u001b[0m\u001b[1;34m'radio'\u001b[0m\u001b[1;33m]\u001b[0m \u001b[1;33m=\u001b[0m \u001b[0mdf\u001b[0m\u001b[1;33m[\u001b[0m\u001b[1;34m'TotalIncome'\u001b[0m\u001b[1;33m]\u001b[0m\u001b[1;33m/\u001b[0m\u001b[1;33m(\u001b[0m\u001b[0mdf\u001b[0m\u001b[1;33m[\u001b[0m\u001b[1;34m'LoanAmount'\u001b[0m\u001b[1;33m]\u001b[0m \u001b[1;33m*\u001b[0m \u001b[1;36m1000.0\u001b[0m \u001b[1;33m/\u001b[0m \u001b[0mdf\u001b[0m\u001b[1;33m[\u001b[0m\u001b[1;34m'Loan_Amount_Term'\u001b[0m\u001b[1;33m]\u001b[0m\u001b[1;33m)\u001b[0m\u001b[1;33m\u001b[0m\u001b[0m\n",
      "\u001b[1;32mC:\\Anaconda3\\lib\\site-packages\\pandas\\core\\reshape\\tile.py\u001b[0m in \u001b[0;36mqcut\u001b[1;34m(x, q, labels, retbins, precision, duplicates)\u001b[0m\n\u001b[0;32m    204\u001b[0m     fac, bins = _bins_to_cuts(x, bins, labels=labels,\n\u001b[0;32m    205\u001b[0m                               \u001b[0mprecision\u001b[0m\u001b[1;33m=\u001b[0m\u001b[0mprecision\u001b[0m\u001b[1;33m,\u001b[0m \u001b[0minclude_lowest\u001b[0m\u001b[1;33m=\u001b[0m\u001b[1;32mTrue\u001b[0m\u001b[1;33m,\u001b[0m\u001b[1;33m\u001b[0m\u001b[0m\n\u001b[1;32m--> 206\u001b[1;33m                               dtype=dtype, duplicates=duplicates)\n\u001b[0m\u001b[0;32m    207\u001b[0m \u001b[1;33m\u001b[0m\u001b[0m\n\u001b[0;32m    208\u001b[0m     return _postprocess_for_cut(fac, bins, retbins, x_is_series,\n",
      "\u001b[1;32mC:\\Anaconda3\\lib\\site-packages\\pandas\\core\\reshape\\tile.py\u001b[0m in \u001b[0;36m_bins_to_cuts\u001b[1;34m(x, bins, right, labels, precision, include_lowest, dtype, duplicates)\u001b[0m\n\u001b[0;32m    230\u001b[0m             raise ValueError(\"Bin edges must be unique: {}.\\nYou \"\n\u001b[0;32m    231\u001b[0m                              \u001b[1;34m\"can drop duplicate edges by setting \"\u001b[0m\u001b[1;33m\u001b[0m\u001b[0m\n\u001b[1;32m--> 232\u001b[1;33m                              \"the 'duplicates' kwarg\".format(repr(bins)))\n\u001b[0m\u001b[0;32m    233\u001b[0m         \u001b[1;32melse\u001b[0m\u001b[1;33m:\u001b[0m\u001b[1;33m\u001b[0m\u001b[0m\n\u001b[0;32m    234\u001b[0m             \u001b[0mbins\u001b[0m \u001b[1;33m=\u001b[0m \u001b[0munique_bins\u001b[0m\u001b[1;33m\u001b[0m\u001b[0m\n",
      "\u001b[1;31mValueError\u001b[0m: Bin edges must be unique: array([ nan,  nan,  nan,  nan]).\nYou can drop duplicate edges by setting the 'duplicates' kwarg"
     ]
    }
   ],
   "source": [
    "df['Credit_History'].fillna(df['Credit_History'].mode(), inplace=True)\n",
    "df['Dependents'].fillna(df['Dependents'].mode(), inplace=True)\n",
    "df['Gender'].fillna(df['Gender'].mode(), inplace=True)\n",
    "df['LoanAmount'].fillna(df['LoanAmount'].mean(), inplace=True)\n",
    "df['Loan_Amount_Term'].fillna(df['Loan_Amount_Term'].mode(), inplace=True)\n",
    "df['Married'].fillna(df['Married'].mode(), inplace=True)\n",
    "df['Self_Employed'].fillna(df['Self_Employed'].mode(), inplace=True)\n",
    "\n",
    "# 总收入\n",
    "df['TotalIncome'] = df['ApplicantIncome'] + df['CoapplicantIncome']\n",
    "df['IncomeBand'] = pd.qcut(df['TotalIncome'], q=[.25,.5,.75,1])\n",
    "\n",
    "df['AmountBand'] = pd.qcut(df['LoanAmount'], q=[.25,.5,.75,1])\n",
    "\n",
    "df['radio'] = df['TotalIncome']/(df['LoanAmount'] * 1000.0 / df['Loan_Amount_Term'])\n",
    "\n",
    "#continuities_var.append('TotalIncome')\n",
    "#continuities_var.append('radio')\n",
    "#for col in continuities_var:\n",
    "#    df[col] = stand_enc.fit_transform(np.array(df[col]).reshape(-1,1).astype(float64))\n",
    "\n",
    "\n",
    "df.drop(['ApplicantIncome', 'CoapplicantIncome', 'LoanAmount', 'TotalIncome'], axis=1, inplace=True)\n",
    "\n",
    "\n",
    "columns = [x for x in df.columns if x not in [target_var, 'source']]\n",
    "for col in columns:\n",
    "    dummies = pd.get_dummies(data=df[col],prefix=col)\n",
    "    df = pd.concat([df,dummies],axis=1)\n",
    "    df.drop([col],axis=1,inplace=True)\n",
    "#\n",
    "#df.drop(['Credit_History_1.0'],axis=1,inplace=True)\n",
    "#df.drop(['Gender_Female'], axis=1, inplace=True)\n",
    "#df.drop(['Married_Yes'], axis=1, inplace=True)\n",
    "#df.drop(['Dependents_3+'], axis=1, inplace=True)\n",
    "#df.drop(['Education_Graduate'], axis=1, inplace=True)\n",
    "#df.drop(['Self_Employed_No'], axis=1, inplace=True)\n",
    "#df.drop(['Property_Area_Semiurban'], axis=1, inplace=True)\n",
    "#df.drop(['Loan_Amount_Term_6.0'], axis=1, inplace=True)"
   ]
  },
  {
   "cell_type": "code",
   "execution_count": null,
   "metadata": {
    "collapsed": true
   },
   "outputs": [],
   "source": [
    "df.head(2)"
   ]
  },
  {
   "cell_type": "code",
   "execution_count": null,
   "metadata": {
    "collapsed": true
   },
   "outputs": [],
   "source": [
    "train_df = df.loc[df['source']=='train'].copy()\n",
    "test_df = df.loc[df['source']=='test'].copy()\n",
    "\n",
    "train_df.drop(['source'], axis=1, inplace=True)\n",
    "test_df.drop(['source'], axis=1, inplace=True)"
   ]
  },
  {
   "cell_type": "code",
   "execution_count": null,
   "metadata": {
    "collapsed": true
   },
   "outputs": [],
   "source": [
    "predictor_var=[x for x in train_df.columns if x !=target_var]\n",
    "model = LogisticRegression(C=0.1, penalty='l1', tol=1e-6)\n",
    "clf, badbases = classification_model(model, train_df, predictor_var, target_var)"
   ]
  },
  {
   "cell_type": "code",
   "execution_count": null,
   "metadata": {
    "collapsed": true
   },
   "outputs": [],
   "source": [
    "def urban(area):\n",
    "    a, b = area\n",
    "    return 0 if a == 1 and b == 1 else 1\n",
    "df['Urban'] = df[['Credit_History_0.0','Property_Area_2']].apply(urban, axis=1)"
   ]
  },
  {
   "cell_type": "code",
   "execution_count": null,
   "metadata": {
    "collapsed": true
   },
   "outputs": [],
   "source": [
    "train_df = df[df['source']=='train']\n",
    "test_df = df[df['source']=='test']\n",
    "\n",
    "train_df.drop(['source'], axis=1, inplace=True)\n",
    "test_df.drop(['source'], axis=1, inplace=True)"
   ]
  },
  {
   "cell_type": "code",
   "execution_count": null,
   "metadata": {
    "collapsed": true
   },
   "outputs": [],
   "source": [
    "predictor_var=[x for x in train_df.columns if x !=target_var]\n",
    "model = LogisticRegression(C=1,penalty='l1', tol=1e-6)\n",
    "clf = classification_model(model,train_df,predictor_var,target_var)"
   ]
  },
  {
   "cell_type": "markdown",
   "metadata": {},
   "source": [
    "根据不同特征的权重值，在模型上：\n",
    "* Credit_History 与结果是强正相关，即有贷款历史的申请者更容易申请到贷款。\n",
    "* LoanAmount和Loan_Amount_Term与结果是负相关，即贷款量越小，贷款期限越短，越容易申请到贷款。Loan_Amount_Term的影响比LoanAmount更小。\n",
    "* 学历高对贷款状态的影响不明显，但是低学历会影响到贷款状态。\n",
    "* 居住在Semiurban更容易获得贷款，Rural和Urban对和状态是负相关。\n",
    "* Dependents=1时不容易获得贷款。\n",
    "* 性别和结果都是负相关，因此性别对结果的影响不大。\n",
    "* 未婚申请者的申请成功概率更低。\n",
    "* Self_Employed对结果没有影响。\n",
    "* TotalIncome和结果是正相关。"
   ]
  },
  {
   "cell_type": "code",
   "execution_count": null,
   "metadata": {
    "collapsed": true
   },
   "outputs": [],
   "source": [
    "param_test1 = {'C':[0.1,0.5,1,5,10]}\n",
    "gsearch1 = GridSearchCV(estimator = \\\n",
    "                        LogisticRegression(penalty='l1',tol=1e-6),param_grid=param_test1,cv=5)\n",
    "gsearch1.fit(train_df[predictor_var],train_df[outcome_var])\n",
    "gsearch1.grid_scores_, gsearch1.best_params_, gsearch1.best_score_"
   ]
  },
  {
   "cell_type": "code",
   "execution_count": null,
   "metadata": {
    "collapsed": true
   },
   "outputs": [],
   "source": [
    "param_test1 = {'verbose':range(0,5,1),'tol':[1e-2,1e-3,1e-4,1e-5,1e-6,1e-7,1e-8],'C':[0.1,0.5,1,5,10],\n",
    "              'random_state':range(0,20,2)}\n",
    "gsearch1 = GridSearchCV(estimator = LogisticRegression(penalty='l1'),\n",
    "                        param_grid=param_test1,\n",
    "                        cv=5)\n",
    "gsearch1.fit(train_df[predictor_var],train_df[outcome_var])\n",
    "gsearch1.grid_scores_, gsearch1.best_params_, gsearch1.best_score_"
   ]
  },
  {
   "cell_type": "code",
   "execution_count": null,
   "metadata": {
    "collapsed": true
   },
   "outputs": [],
   "source": [
    "model = LogisticRegression(C=10,penalty='l1',tol=1e-6,random_state=10)"
   ]
  },
  {
   "cell_type": "code",
   "execution_count": null,
   "metadata": {
    "collapsed": true
   },
   "outputs": [],
   "source": [
    "from sklearn.svm import LinearSVC\n",
    "model = LinearSVC(random_state=0)"
   ]
  },
  {
   "cell_type": "code",
   "execution_count": null,
   "metadata": {
    "collapsed": true
   },
   "outputs": [],
   "source": []
  }
 ],
 "metadata": {
  "kernelspec": {
   "display_name": "Python 3",
   "language": "python",
   "name": "python3"
  },
  "language_info": {
   "codemirror_mode": {
    "name": "ipython",
    "version": 3
   },
   "file_extension": ".py",
   "mimetype": "text/x-python",
   "name": "python",
   "nbconvert_exporter": "python",
   "pygments_lexer": "ipython3",
   "version": "3.6.2"
  }
 },
 "nbformat": 4,
 "nbformat_minor": 2
}
